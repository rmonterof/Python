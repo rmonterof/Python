{
  "cells": [
    {
      "cell_type": "markdown",
      "metadata": {
        "id": "view-in-github",
        "colab_type": "text"
      },
      "source": [
        "<a href=\"https://colab.research.google.com/github/rmonterof/Python/blob/main/1_3_Numpy_stats_ejemplo.ipynb\" target=\"_parent\"><img src=\"https://colab.research.google.com/assets/colab-badge.svg\" alt=\"Open In Colab\"/></a>"
      ]
    },
    {
      "cell_type": "code",
      "execution_count": null,
      "metadata": {
        "collapsed": true,
        "id": "kdJVUn_Z4aGk"
      },
      "outputs": [],
      "source": [
        "import numpy as np"
      ]
    },
    {
      "cell_type": "code",
      "execution_count": null,
      "outputs": [
        {
          "data": {
            "text/plain": "array([1700.  ,  600.  ,   11.95,  149.99,   11.95,    3.84,   11.95,\n         11.95,   99.99,    2.99,   11.95,  999.99,    3.84,    2.99,\n         11.95,   14.95,  600.  ,   11.95,   99.99,   11.99])"
          },
          "execution_count": 3,
          "metadata": {},
          "output_type": "execute_result"
        }
      ],
      "source": [
        "prices = np.genfromtxt('../data/prices/prices_clean.csv', dtype=float)\n",
        "prices[:20]"
      ],
      "metadata": {
        "id": "swkj5N4p4aGn",
        "outputId": "a8180330-081a-44c8-895d-85c189bb66a7"
      }
    },
    {
      "cell_type": "code",
      "execution_count": null,
      "outputs": [
        {
          "data": {
            "text/plain": "(24989,)"
          },
          "execution_count": 4,
          "metadata": {},
          "output_type": "execute_result"
        }
      ],
      "source": [
        "prices.shape"
      ],
      "metadata": {
        "id": "sF8-l9hC4aGo",
        "outputId": "9621ddba-502f-4713-fceb-398565ac2f42"
      }
    },
    {
      "cell_type": "code",
      "execution_count": null,
      "outputs": [
        {
          "name": "stdout",
          "output_type": "stream",
          "text": [
            "La moda es: 11.95\n"
          ]
        }
      ],
      "source": [
        "def moda(array):\n",
        "    values, counts = np.unique(array, return_counts=True)\n",
        "    return values[np.argmax(counts)]\n",
        "\n",
        "print(\"La moda es:\", moda(prices))"
      ],
      "metadata": {
        "id": "Ut5tLeGP4aGp",
        "outputId": "b3b8b80a-7d27-4428-dc51-82d79c75f4cb"
      }
    },
    {
      "cell_type": "code",
      "execution_count": null,
      "outputs": [
        {
          "data": {
            "text/plain": "183.84565008603784"
          },
          "execution_count": 7,
          "metadata": {},
          "output_type": "execute_result"
        }
      ],
      "source": [
        "np.mean(prices)"
      ],
      "metadata": {
        "id": "GMBBrt1a4aGp",
        "outputId": "2a64bdb8-d567-48c9-f67f-25203cb6de1c"
      }
    },
    {
      "cell_type": "code",
      "execution_count": null,
      "outputs": [
        {
          "data": {
            "text/plain": "14.95"
          },
          "execution_count": 8,
          "metadata": {},
          "output_type": "execute_result"
        }
      ],
      "source": [
        "np.median(prices)"
      ],
      "metadata": {
        "id": "IdnGPQao4aGq",
        "outputId": "99aec289-16d4-408d-c85b-b00c64ce71b6"
      }
    },
    {
      "cell_type": "code",
      "execution_count": null,
      "outputs": [
        {
          "data": {
            "text/plain": "1700.0"
          },
          "execution_count": 9,
          "metadata": {},
          "output_type": "execute_result"
        }
      ],
      "source": [
        "np.max(prices)"
      ],
      "metadata": {
        "id": "BLbOLF7p4aGq",
        "outputId": "5bf76abf-4c1c-4939-9100-a5ae2f004789"
      }
    },
    {
      "cell_type": "code",
      "execution_count": null,
      "outputs": [
        {
          "data": {
            "text/plain": "2.99"
          },
          "execution_count": 10,
          "metadata": {},
          "output_type": "execute_result"
        }
      ],
      "source": [
        "np.min(prices)"
      ],
      "metadata": {
        "id": "IZf-eeSH4aGr",
        "outputId": "32fb3f5b-42f2-4e8a-f6cd-607a2ee143fa"
      }
    },
    {
      "cell_type": "code",
      "execution_count": null,
      "outputs": [
        {
          "data": {
            "text/plain": "333.07037231823807"
          },
          "execution_count": 11,
          "metadata": {},
          "output_type": "execute_result"
        }
      ],
      "source": [
        "np.std(prices)"
      ],
      "metadata": {
        "id": "HUlbE73y4aGs",
        "outputId": "5998c9eb-e42e-4935-b93f-97583b583e76"
      }
    },
    {
      "cell_type": "code",
      "execution_count": null,
      "outputs": [
        {
          "name": "stdout",
          "output_type": "stream",
          "text": [
            "[  2.99  11.95  14.95 150.   300.   600.  ]\n"
          ]
        }
      ],
      "source": [
        "percentiles = [10, 25, 50, 75, 80, 90]\n",
        "print(np.percentile(prices, percentiles))"
      ],
      "metadata": {
        "id": "zsPVZ7_24aGu",
        "outputId": "03ab6945-1e66-4785-bcbc-8c752944a06b"
      }
    },
    {
      "cell_type": "code",
      "execution_count": null,
      "outputs": [
        {
          "name": "stdout",
          "output_type": "stream",
          "text": [
            "[  2.99  11.95  14.95 150.   300.   600.  ]\n"
          ]
        }
      ],
      "source": [
        "quantiles = [0.10, 0.25, 0.50, 0.75, 0.80, 0.90]\n",
        "print(np.quantile(prices, quantiles))"
      ],
      "metadata": {
        "id": "Wca2r6yJ4aGv",
        "outputId": "b8e93a85-40c3-4435-c342-f17464f949ad"
      }
    },
    {
      "cell_type": "code",
      "execution_count": null,
      "outputs": [
        {
          "name": "stdout",
          "output_type": "stream",
          "text": [
            "IQR: 138.05\n"
          ]
        }
      ],
      "source": [
        "Q1 = np.percentile(prices, 25)\n",
        "Q3 = np.percentile(prices, 75)\n",
        "IQR = Q3 - Q1\n",
        "print(\"IQR:\", IQR)"
      ],
      "metadata": {
        "id": "205nqc6M4aGw",
        "outputId": "162a7194-e916-41fa-9bb4-6784624ccbb3"
      }
    },
    {
      "cell_type": "code",
      "execution_count": null,
      "outputs": [
        {
          "name": "stdout",
          "output_type": "stream",
          "text": [
            "11.95\n",
            "12.0\n"
          ]
        }
      ],
      "source": [
        "# redondear\n",
        "print(prices[2])\n",
        "print(np.around(prices[2], decimals=1))"
      ],
      "metadata": {
        "id": "qgBlGWZQ4aGw",
        "outputId": "c49ab81e-97f7-4ec4-b80c-dadf3b14e171"
      }
    },
    {
      "cell_type": "code",
      "execution_count": null,
      "outputs": [
        {
          "data": {
            "text/plain": "(array([19362.,   662.,  1991.,   881.,   908.,   541.,     0.,     0.,\n            0.,   644.]),\n array([   2.99 ,  172.691,  342.392,  512.093,  681.794,  851.495,\n        1021.196, 1190.897, 1360.598, 1530.299, 1700.   ]),\n <BarContainer object of 10 artists>)"
          },
          "execution_count": 44,
          "metadata": {},
          "output_type": "execute_result"
        },
        {
          "data": {
            "text/plain": "<Figure size 640x480 with 1 Axes>",
            "image/png": "[encoded data removed]"
          },
          "metadata": {},
          "output_type": "display_data"
        }
      ],
      "source": [
        "import matplotlib.pyplot as plt\n",
        "plt.hist(prices)"
      ],
      "metadata": {
        "id": "5F-WXYJj4aGx",
        "outputId": "be97d5cd-029b-438f-95fc-be7bd78763da"
      }
    },
    {
      "cell_type": "code",
      "execution_count": null,
      "outputs": [
        {
          "data": {
            "text/plain": "(array([5548.,    0., 8417.,    0.,    0., 2376., 3021., 2653., 1789.,\n        1185.]),\n array([1.09527339, 1.7295844 , 2.36389542, 2.99820643, 3.63251744,\n        4.26682846, 4.90113947, 5.53545049, 6.1697615 , 6.80407252,\n        7.43838353]),\n <BarContainer object of 10 artists>)"
          },
          "execution_count": 30,
          "metadata": {},
          "output_type": "execute_result"
        },
        {
          "data": {
            "text/plain": "<Figure size 640x480 with 1 Axes>",
            "image/png": "[encoded data removed]"
          },
          "metadata": {},
          "output_type": "display_data"
        }
      ],
      "source": [
        "plt.hist(np.log(prices))"
      ],
      "metadata": {
        "id": "fBb_STUf4aGx",
        "outputId": "8929c905-e5d8-4958-ebba-84835452ec5c"
      }
    },
    {
      "cell_type": "code",
      "execution_count": null,
      "outputs": [
        {
          "data": {
            "text/plain": "(array([13965.,     0.,  5397.,   662.,  1991.,   881.,   908.,   541.,\n            0.,   644.]),\n array([ 1.72916165,  5.67935111,  9.62954057, 13.57973003, 17.52991949,\n        21.48010895, 25.43029841, 29.38048787, 33.33067733, 37.2808668 ,\n        41.23105626]),\n <BarContainer object of 10 artists>)"
          },
          "execution_count": 31,
          "metadata": {},
          "output_type": "execute_result"
        },
        {
          "data": {
            "text/plain": "<Figure size 640x480 with 1 Axes>",
            "image/png": "[encoded data removed]"
          },
          "metadata": {},
          "output_type": "display_data"
        }
      ],
      "source": [
        "plt.hist(np.sqrt(prices))"
      ],
      "metadata": {
        "id": "HSZc27qN4aGy",
        "outputId": "b504ba37-df7a-4a98-e662-5aff16a824a8"
      }
    },
    {
      "cell_type": "code",
      "execution_count": null,
      "outputs": [
        {
          "data": {
            "text/plain": "(array([[0.000e+00, 0.000e+00, 5.548e+03, 0.000e+00, 8.417e+03, 0.000e+00,\n         0.000e+00, 5.397e+03, 2.653e+03, 2.974e+03],\n        [1.000e+00, 0.000e+00, 0.000e+00, 0.000e+00, 0.000e+00, 0.000e+00,\n         0.000e+00, 0.000e+00, 0.000e+00, 0.000e+00]]),\n array([-0.11003968,  0.40888548,  0.92781063,  1.44673579,  1.96566095,\n         2.48458611,  3.00351126,  3.52243642,  4.04136158,  4.56028673,\n         5.07921189]),\n <a list of 2 BarContainer objects>)"
          },
          "execution_count": 43,
          "metadata": {},
          "output_type": "execute_result"
        },
        {
          "data": {
            "text/plain": "<Figure size 640x480 with 1 Axes>",
            "image/png": "[encoded data removed]"
          },
          "metadata": {},
          "output_type": "display_data"
        }
      ],
      "source": [
        "from scipy import stats\n",
        "plt.hist(stats.boxcox(prices))"
      ],
      "metadata": {
        "id": "FG_b7_R_4aGy",
        "outputId": "a1235b01-fb8d-4e8a-8b1e-f61553c0e6ba"
      }
    },
    {
      "cell_type": "code",
      "execution_count": null,
      "outputs": [],
      "source": [
        "\n",
        "# Crear un array con valores desiguales\n",
        "data = np.array([1, 10, 100, 1000, 10000, 100000, 1000000])\n",
        "\n",
        "# Aplicar transformación logarítmica al array\n",
        "log_data = np.log(data)\n",
        "\n",
        "# Graficar los datos originales y la transformación logarítmica\n",
        "plt.plot(data, label='Datos originales')\n",
        "plt.plot(log_data, label='Transformación logarítmica')\n",
        "plt.legend()\n",
        "plt.show()"
      ],
      "metadata": {
        "id": "u-ikIZji4aGy"
      }
    }
  ],
  "metadata": {
    "kernelspec": {
      "display_name": "Python 3",
      "language": "python",
      "name": "python3"
    },
    "language_info": {
      "codemirror_mode": {
        "name": "ipython",
        "version": 2
      },
      "file_extension": ".py",
      "mimetype": "text/x-python",
      "name": "python",
      "nbconvert_exporter": "python",
      "pygments_lexer": "ipython2",
      "version": "2.7.6"
    },
    "colab": {
      "provenance": [],
      "include_colab_link": true
    }
  },
  "nbformat": 4,
  "nbformat_minor": 0
}