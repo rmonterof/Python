{
  "cells": [
    {
      "cell_type": "markdown",
      "metadata": {
        "id": "view-in-github",
        "colab_type": "text"
      },
      "source": [
        "<a href=\"https://colab.research.google.com/github/rmonterof/Python/blob/main/1_3_Numpy_stats_ejemplo.ipynb\" target=\"_parent\"><img src=\"https://colab.research.google.com/assets/colab-badge.svg\" alt=\"Open In Colab\"/></a>"
      ]
    },
    {
      "cell_type": "code",
      "execution_count": 21,
      "metadata": {
        "collapsed": true,
        "id": "kdJVUn_Z4aGk"
      },
      "outputs": [],
      "source": [
        "import numpy as np"
      ]
    },
    {
      "cell_type": "code",
      "execution_count": 22,
      "outputs": [
        {
          "output_type": "execute_result",
          "data": {
            "text/plain": [
              "array([1700.  ,  600.  ,   11.95,  149.99,   11.95,    3.84,   11.95,\n",
              "         11.95,   99.99,    2.99,   11.95,  999.99,    3.84,    2.99,\n",
              "         11.95,   14.95,  600.  ,   11.95,   99.99,   11.99])"
            ]
          },
          "metadata": {},
          "execution_count": 22
        }
      ],
      "source": [
        "prices = np.genfromtxt('/content/prices_clean.csv', dtype=float)\n",
        "prices[:20]"
      ],
      "metadata": {
        "id": "swkj5N4p4aGn",
        "outputId": "3e8942b3-a700-47dd-8a20-bfc633b4eb14",
        "colab": {
          "base_uri": "https://localhost:8080/"
        }
      }
    },
    {
      "cell_type": "code",
      "execution_count": 23,
      "outputs": [
        {
          "output_type": "execute_result",
          "data": {
            "text/plain": [
              "(24989,)"
            ]
          },
          "metadata": {},
          "execution_count": 23
        }
      ],
      "source": [
        "prices.shape"
      ],
      "metadata": {
        "id": "sF8-l9hC4aGo",
        "outputId": "9fdf513f-1a4b-4e11-8a9c-d14b44ebefee",
        "colab": {
          "base_uri": "https://localhost:8080/"
        }
      }
    },
    {
      "cell_type": "code",
      "execution_count": 24,
      "outputs": [
        {
          "output_type": "stream",
          "name": "stdout",
          "text": [
            "La moda es: 11.95\n"
          ]
        }
      ],
      "source": [
        "def moda(array):\n",
        "    values, counts = np.unique(array, return_counts=True)\n",
        "    return values[np.argmax(counts)]\n",
        "\n",
        "print(\"La moda es:\", moda(prices))"
      ],
      "metadata": {
        "id": "Ut5tLeGP4aGp",
        "outputId": "a5ca0e77-f530-4715-f6db-619151689af0",
        "colab": {
          "base_uri": "https://localhost:8080/"
        }
      }
    },
    {
      "cell_type": "code",
      "execution_count": 25,
      "outputs": [
        {
          "output_type": "execute_result",
          "data": {
            "text/plain": [
              "np.float64(183.84565008603784)"
            ]
          },
          "metadata": {},
          "execution_count": 25
        }
      ],
      "source": [
        "np.mean(prices)"
      ],
      "metadata": {
        "id": "GMBBrt1a4aGp",
        "outputId": "5be6a4aa-7e7c-4a96-cee1-44aa13088dbf",
        "colab": {
          "base_uri": "https://localhost:8080/"
        }
      }
    },
    {
      "cell_type": "code",
      "execution_count": 26,
      "outputs": [
        {
          "output_type": "execute_result",
          "data": {
            "text/plain": [
              "np.float64(14.95)"
            ]
          },
          "metadata": {},
          "execution_count": 26
        }
      ],
      "source": [
        "np.median(prices)"
      ],
      "metadata": {
        "id": "IdnGPQao4aGq",
        "outputId": "70c363d1-478d-45ac-86ca-2e9778a81a55",
        "colab": {
          "base_uri": "https://localhost:8080/"
        }
      }
    },
    {
      "cell_type": "code",
      "execution_count": 27,
      "outputs": [
        {
          "output_type": "execute_result",
          "data": {
            "text/plain": [
              "np.float64(1700.0)"
            ]
          },
          "metadata": {},
          "execution_count": 27
        }
      ],
      "source": [
        "np.max(prices)"
      ],
      "metadata": {
        "id": "BLbOLF7p4aGq",
        "outputId": "3565b0a3-2e6e-4551-ca36-7851c53c1768",
        "colab": {
          "base_uri": "https://localhost:8080/"
        }
      }
    },
    {
      "cell_type": "code",
      "execution_count": 28,
      "outputs": [
        {
          "output_type": "execute_result",
          "data": {
            "text/plain": [
              "np.float64(2.99)"
            ]
          },
          "metadata": {},
          "execution_count": 28
        }
      ],
      "source": [
        "np.min(prices)"
      ],
      "metadata": {
        "id": "IZf-eeSH4aGr",
        "outputId": "ea254dfa-1565-43a7-bc64-c6808e2c2573",
        "colab": {
          "base_uri": "https://localhost:8080/"
        }
      }
    },
    {
      "cell_type": "code",
      "execution_count": 29,
      "outputs": [
        {
          "output_type": "execute_result",
          "data": {
            "text/plain": [
              "np.float64(333.07037231823807)"
            ]
          },
          "metadata": {},
          "execution_count": 29
        }
      ],
      "source": [
        "np.std(prices)"
      ],
      "metadata": {
        "id": "HUlbE73y4aGs",
        "outputId": "f140c353-4df4-4d64-9fbb-e493aae70b41",
        "colab": {
          "base_uri": "https://localhost:8080/"
        }
      }
    },
    {
      "cell_type": "code",
      "execution_count": 30,
      "outputs": [
        {
          "output_type": "stream",
          "name": "stdout",
          "text": [
            "[  2.99  11.95  14.95 150.   300.   600.  ]\n"
          ]
        }
      ],
      "source": [
        "percentiles = [10, 25, 50, 75, 80, 90]\n",
        "print(np.percentile(prices, percentiles))"
      ],
      "metadata": {
        "id": "zsPVZ7_24aGu",
        "outputId": "252060ad-d735-4e7d-deb4-424f1211ced2",
        "colab": {
          "base_uri": "https://localhost:8080/"
        }
      }
    },
    {
      "cell_type": "code",
      "execution_count": 31,
      "outputs": [
        {
          "output_type": "stream",
          "name": "stdout",
          "text": [
            "[  2.99  11.95  14.95 150.   300.   600.  ]\n"
          ]
        }
      ],
      "source": [
        "quantiles = [0.10, 0.25, 0.50, 0.75, 0.80, 0.90]\n",
        "print(np.quantile(prices, quantiles))"
      ],
      "metadata": {
        "id": "Wca2r6yJ4aGv",
        "outputId": "3e2b24ea-e3da-4171-db16-8ad3a28bb812",
        "colab": {
          "base_uri": "https://localhost:8080/"
        }
      }
    },
    {
      "cell_type": "code",
      "execution_count": 32,
      "outputs": [
        {
          "output_type": "stream",
          "name": "stdout",
          "text": [
            "IQR: 138.05\n"
          ]
        }
      ],
      "source": [
        "Q1 = np.percentile(prices, 25)\n",
        "Q3 = np.percentile(prices, 75)\n",
        "IQR = Q3 - Q1\n",
        "print(\"IQR:\", IQR)"
      ],
      "metadata": {
        "id": "205nqc6M4aGw",
        "outputId": "74e51f34-e4e1-4519-e936-ba444001e9fd",
        "colab": {
          "base_uri": "https://localhost:8080/"
        }
      }
    },
    {
      "cell_type": "code",
      "execution_count": 33,
      "outputs": [
        {
          "output_type": "stream",
          "name": "stdout",
          "text": [
            "11.95\n",
            "12.0\n"
          ]
        }
      ],
      "source": [
        "# redondear\n",
        "print(prices[2])\n",
        "print(np.around(prices[2], decimals=1))"
      ],
      "metadata": {
        "id": "qgBlGWZQ4aGw",
        "outputId": "65a99e1f-0b12-42f1-e323-d7640aad21ed",
        "colab": {
          "base_uri": "https://localhost:8080/"
        }
      }
    },
    {
      "cell_type": "code",
      "execution_count": 34,
      "outputs": [
        {
          "output_type": "execute_result",
          "data": {
            "text/plain": [
              "(array([19362.,   662.,  1991.,   881.,   908.,   541.,     0.,     0.,\n",
              "            0.,   644.]),\n",
              " array([   2.99 ,  172.691,  342.392,  512.093,  681.794,  851.495,\n",
              "        1021.196, 1190.897, 1360.598, 1530.299, 1700.   ]),\n",
              " <BarContainer object of 10 artists>)"
            ]
          },
          "metadata": {},
          "execution_count": 34
        },
        {
          "output_type": "display_data",
          "data": {
            "text/plain": [
              "<Figure size 640x480 with 1 Axes>"
            ],
            "image/png": "[encoded data removed]"
          },
          "metadata": {}
        }
      ],
      "source": [
        "import matplotlib.pyplot as plt\n",
        "plt.hist(prices)"
      ],
      "metadata": {
        "id": "5F-WXYJj4aGx",
        "outputId": "bc55b252-d7c5-4c50-cfc1-e267ecfcd302",
        "colab": {
          "base_uri": "https://localhost:8080/",
          "height": 517
        }
      }
    },
    {
      "cell_type": "code",
      "execution_count": 35,
      "outputs": [
        {
          "output_type": "execute_result",
          "data": {
            "text/plain": [
              "(array([5548.,    0., 8417.,    0.,    0., 2376., 3021., 2653., 1789.,\n",
              "        1185.]),\n",
              " array([1.09527339, 1.7295844 , 2.36389542, 2.99820643, 3.63251744,\n",
              "        4.26682846, 4.90113947, 5.53545049, 6.1697615 , 6.80407252,\n",
              "        7.43838353]),\n",
              " <BarContainer object of 10 artists>)"
            ]
          },
          "metadata": {},
          "execution_count": 35
        },
        {
          "output_type": "display_data",
          "data": {
            "text/plain": [
              "<Figure size 640x480 with 1 Axes>"
            ],
            "image/png": "[encoded data removed]"
          },
          "metadata": {}
        }
      ],
      "source": [
        "plt.hist(np.log(prices))"
      ],
      "metadata": {
        "id": "fBb_STUf4aGx",
        "outputId": "07248f8a-ac9b-45b0-80e0-a68123290d3c",
        "colab": {
          "base_uri": "https://localhost:8080/",
          "height": 534
        }
      }
    },
    {
      "cell_type": "code",
      "execution_count": 36,
      "outputs": [
        {
          "output_type": "execute_result",
          "data": {
            "text/plain": [
              "(array([13965.,     0.,  5397.,   662.,  1991.,   881.,   908.,   541.,\n",
              "            0.,   644.]),\n",
              " array([ 1.72916165,  5.67935111,  9.62954057, 13.57973003, 17.52991949,\n",
              "        21.48010895, 25.43029841, 29.38048787, 33.33067733, 37.2808668 ,\n",
              "        41.23105626]),\n",
              " <BarContainer object of 10 artists>)"
            ]
          },
          "metadata": {},
          "execution_count": 36
        },
        {
          "output_type": "display_data",
          "data": {
            "text/plain": [
              "<Figure size 640x480 with 1 Axes>"
            ],
            "image/png": "[encoded data removed]"
          },
          "metadata": {}
        }
      ],
      "source": [
        "plt.hist(np.sqrt(prices))"
      ],
      "metadata": {
        "id": "HSZc27qN4aGy",
        "outputId": "b2b28893-1362-47bc-afdf-acbaa8fe59b0",
        "colab": {
          "base_uri": "https://localhost:8080/",
          "height": 534
        }
      }
    },
    {
      "cell_type": "code",
      "execution_count": 37,
      "outputs": [
        {
          "output_type": "execute_result",
          "data": {
            "text/plain": [
              "(array([[0.000e+00, 0.000e+00, 5.548e+03, 0.000e+00, 8.417e+03, 0.000e+00,\n",
              "         0.000e+00, 5.397e+03, 2.653e+03, 2.974e+03],\n",
              "        [1.000e+00, 0.000e+00, 0.000e+00, 0.000e+00, 0.000e+00, 0.000e+00,\n",
              "         0.000e+00, 0.000e+00, 0.000e+00, 0.000e+00]]),\n",
              " array([-0.11003969,  0.40888544,  0.92781058,  1.44673571,  1.96566085,\n",
              "         2.48458599,  3.00351112,  3.52243626,  4.0413614 ,  4.56028653,\n",
              "         5.07921167]),\n",
              " <a list of 2 BarContainer objects>)"
            ]
          },
          "metadata": {},
          "execution_count": 37
        },
        {
          "output_type": "display_data",
          "data": {
            "text/plain": [
              "<Figure size 640x480 with 1 Axes>"
            ],
            "image/png": "[encoded data removed]"
          },
          "metadata": {}
        }
      ],
      "source": [
        "from scipy import stats\n",
        "plt.hist(stats.boxcox(prices))"
      ],
      "metadata": {
        "id": "FG_b7_R_4aGy",
        "outputId": "dae4875f-e49c-48da-d682-6cab8bc105ef",
        "colab": {
          "base_uri": "https://localhost:8080/",
          "height": 569
        }
      }
    },
    {
      "cell_type": "code",
      "execution_count": 38,
      "outputs": [
        {
          "output_type": "display_data",
          "data": {
            "text/plain": [
              "<Figure size 640x480 with 1 Axes>"
            ],
            "image/png": "[encoded data removed]"
          },
          "metadata": {}
        }
      ],
      "source": [
        "\n",
        "# Crear un array con valores desiguales\n",
        "data = np.array([1, 10, 100, 1000, 10000, 100000, 1000000])\n",
        "\n",
        "# Aplicar transformación logarítmica al array\n",
        "log_data = np.log(data)\n",
        "\n",
        "# Graficar los datos originales y la transformación logarítmica\n",
        "plt.plot(data, label='Datos originales')\n",
        "plt.plot(log_data, label='Transformación logarítmica')\n",
        "plt.legend()\n",
        "plt.show()"
      ],
      "metadata": {
        "id": "u-ikIZji4aGy",
        "outputId": "32dda177-e561-4622-fa67-1bf6a7dcbd83",
        "colab": {
          "base_uri": "https://localhost:8080/",
          "height": 445
        }
      }
    }
  ],
  "metadata": {
    "kernelspec": {
      "display_name": "Python 3",
      "language": "python",
      "name": "python3"
    },
    "language_info": {
      "codemirror_mode": {
        "name": "ipython",
        "version": 2
      },
      "file_extension": ".py",
      "mimetype": "text/x-python",
      "name": "python",
      "nbconvert_exporter": "python",
      "pygments_lexer": "ipython2",
      "version": "2.7.6"
    },
    "colab": {
      "provenance": [],
      "include_colab_link": true
    }
  },
  "nbformat": 4,
  "nbformat_minor": 0
}