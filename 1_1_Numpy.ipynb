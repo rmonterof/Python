{
  "cells": [
    {
      "cell_type": "markdown",
      "metadata": {
        "id": "view-in-github",
        "colab_type": "text"
      },
      "source": [
        "<a href=\"https://colab.research.google.com/github/rmonterof/Python/blob/main/1_1_Numpy.ipynb\" target=\"_parent\"><img src=\"https://colab.research.google.com/assets/colab-badge.svg\" alt=\"Open In Colab\"/></a>"
      ]
    },
    {
      "cell_type": "markdown",
      "metadata": {
        "id": "qM4WpoUB3zaU"
      },
      "source": [
        "# Numpy\n",
        "\n",
        "https://numpy.org/doc/stable/\n",
        "\n",
        "https://numpy.org/doc/stable/user/absolute_beginners.html"
      ]
    },
    {
      "cell_type": "code",
      "execution_count": 411,
      "metadata": {
        "scrolled": true,
        "id": "RHB8pmnL3zaY"
      },
      "outputs": [],
      "source": [
        "# !pip install numpy"
      ]
    },
    {
      "cell_type": "code",
      "execution_count": 412,
      "metadata": {
        "id": "70dWRrxs3zaa"
      },
      "outputs": [],
      "source": [
        "import numpy as np"
      ]
    },
    {
      "cell_type": "code",
      "execution_count": 413,
      "metadata": {
        "colab": {
          "base_uri": "https://localhost:8080/",
          "height": 35
        },
        "id": "aMMJnnjS3zab",
        "outputId": "b41cae38-e72b-446b-a54e-4f8f8ecd8a7d"
      },
      "outputs": [
        {
          "output_type": "execute_result",
          "data": {
            "text/plain": [
              "'2.0.2'"
            ],
            "application/vnd.google.colaboratory.intrinsic+json": {
              "type": "string"
            }
          },
          "metadata": {},
          "execution_count": 413
        }
      ],
      "source": [
        "np.__version__"
      ]
    },
    {
      "cell_type": "markdown",
      "metadata": {
        "id": "eb_6z_Vd3zac"
      },
      "source": [
        "## 1. Crear arrays"
      ]
    },
    {
      "cell_type": "markdown",
      "source": [
        "### np.array"
      ],
      "metadata": {
        "collapsed": false,
        "id": "pRKTu2f53zad"
      }
    },
    {
      "cell_type": "code",
      "execution_count": 414,
      "metadata": {
        "colab": {
          "base_uri": "https://localhost:8080/"
        },
        "id": "mcVnAaKJ3zad",
        "outputId": "a1fe95c5-2fbd-4539-e186-9c22ea808d30"
      },
      "outputs": [
        {
          "output_type": "execute_result",
          "data": {
            "text/plain": [
              "[1, 2, 3, 4]"
            ]
          },
          "metadata": {},
          "execution_count": 414
        }
      ],
      "source": [
        "numbers = [1, 2, 3, 4]\n",
        "numbers"
      ]
    },
    {
      "cell_type": "code",
      "execution_count": 415,
      "outputs": [
        {
          "output_type": "execute_result",
          "data": {
            "text/plain": [
              "array([1, 4, 2, 5, 3])"
            ]
          },
          "metadata": {},
          "execution_count": 415
        }
      ],
      "source": [
        "arr = np.array([1, 4, 2, 5, 3])\n",
        "arr"
      ],
      "metadata": {
        "colab": {
          "base_uri": "https://localhost:8080/"
        },
        "id": "iVxM-eNX3zad",
        "outputId": "a3fcea8d-a431-4b51-e521-9a445273af20"
      }
    },
    {
      "cell_type": "code",
      "execution_count": 416,
      "outputs": [
        {
          "output_type": "execute_result",
          "data": {
            "text/plain": [
              "numpy.ndarray"
            ]
          },
          "metadata": {},
          "execution_count": 416
        }
      ],
      "source": [
        "type(arr)"
      ],
      "metadata": {
        "colab": {
          "base_uri": "https://localhost:8080/"
        },
        "id": "v7mT6sYQ3zae",
        "outputId": "ffc0b793-2b48-41e1-8bf3-94e48568b526"
      }
    },
    {
      "cell_type": "code",
      "execution_count": 417,
      "outputs": [
        {
          "output_type": "execute_result",
          "data": {
            "text/plain": [
              "array([3.14, 4.  , 2.  , 3.  ])"
            ]
          },
          "metadata": {},
          "execution_count": 417
        }
      ],
      "source": [
        "np.array([3.14, 4, 2, 3])"
      ],
      "metadata": {
        "colab": {
          "base_uri": "https://localhost:8080/"
        },
        "id": "N2zTSdaw3zaf",
        "outputId": "ab6709d2-1917-4505-94c7-cae1f3b29be7"
      }
    },
    {
      "cell_type": "code",
      "execution_count": 418,
      "metadata": {
        "colab": {
          "base_uri": "https://localhost:8080/"
        },
        "id": "bJYW2cD83zaf",
        "outputId": "d67fc86c-e3ce-4c6d-f98a-634fe247afbc"
      },
      "outputs": [
        {
          "output_type": "execute_result",
          "data": {
            "text/plain": [
              "[1, 2, 3, 4]"
            ]
          },
          "metadata": {},
          "execution_count": 418
        }
      ],
      "source": [
        "numbers_tuple = (1,2,3)\n",
        "numbers_list = list(numbers_tuple)\n",
        "numbers"
      ]
    },
    {
      "cell_type": "code",
      "execution_count": 419,
      "metadata": {
        "colab": {
          "base_uri": "https://localhost:8080/"
        },
        "id": "JoLWMRm53zag",
        "outputId": "7b2aaecf-668a-46da-ef53-e71e3baa1ca8"
      },
      "outputs": [
        {
          "output_type": "execute_result",
          "data": {
            "text/plain": [
              "list"
            ]
          },
          "metadata": {},
          "execution_count": 419
        }
      ],
      "source": [
        "type(numbers)"
      ]
    },
    {
      "cell_type": "code",
      "execution_count": 420,
      "metadata": {
        "colab": {
          "base_uri": "https://localhost:8080/"
        },
        "id": "jJhb9CNc3zag",
        "outputId": "79e808da-642b-49f2-e055-ea867ece3cfd"
      },
      "outputs": [
        {
          "output_type": "execute_result",
          "data": {
            "text/plain": [
              "array([1, 2])"
            ]
          },
          "metadata": {},
          "execution_count": 420
        }
      ],
      "source": [
        "np.array((1,2))"
      ]
    },
    {
      "cell_type": "code",
      "execution_count": 421,
      "metadata": {
        "colab": {
          "base_uri": "https://localhost:8080/"
        },
        "id": "1ugESBz73zah",
        "outputId": "5246478d-472d-4b6f-89b5-8a41abfb955b"
      },
      "outputs": [
        {
          "output_type": "execute_result",
          "data": {
            "text/plain": [
              "array([1., 2., 3., 4.], dtype=float16)"
            ]
          },
          "metadata": {},
          "execution_count": 421
        }
      ],
      "source": [
        "np.array([1, 2, 3, 4], dtype='float16')"
      ]
    },
    {
      "cell_type": "markdown",
      "metadata": {
        "id": "-PfsdP6D3zai"
      },
      "source": [
        "### np.zeros"
      ]
    },
    {
      "cell_type": "code",
      "execution_count": 422,
      "metadata": {
        "colab": {
          "base_uri": "https://localhost:8080/"
        },
        "id": "AJrbrOxo3zaj",
        "outputId": "b52e1018-1cdd-4a83-bc26-bb1aac94184d"
      },
      "outputs": [
        {
          "output_type": "execute_result",
          "data": {
            "text/plain": [
              "array([0, 0, 0, 0, 0, 0, 0, 0, 0, 0])"
            ]
          },
          "metadata": {},
          "execution_count": 422
        }
      ],
      "source": [
        "np.zeros(10, dtype=int)"
      ]
    },
    {
      "cell_type": "markdown",
      "source": [
        "### np.ones"
      ],
      "metadata": {
        "collapsed": false,
        "id": "yylFH64A3zaj"
      }
    },
    {
      "cell_type": "code",
      "execution_count": 423,
      "metadata": {
        "scrolled": true,
        "colab": {
          "base_uri": "https://localhost:8080/"
        },
        "id": "-_dKW_w73zak",
        "outputId": "5d7efee7-b835-451a-e80f-bd8854a2005a"
      },
      "outputs": [
        {
          "output_type": "execute_result",
          "data": {
            "text/plain": [
              "array([[1., 1., 1., 1., 1.],\n",
              "       [1., 1., 1., 1., 1.],\n",
              "       [1., 1., 1., 1., 1.]])"
            ]
          },
          "metadata": {},
          "execution_count": 423
        }
      ],
      "source": [
        "np.ones((3, 5), dtype=float)"
      ]
    },
    {
      "cell_type": "markdown",
      "source": [
        "### np.full"
      ],
      "metadata": {
        "collapsed": false,
        "id": "gIQeLH483zal"
      }
    },
    {
      "cell_type": "code",
      "execution_count": 424,
      "metadata": {
        "colab": {
          "base_uri": "https://localhost:8080/"
        },
        "id": "5nE-c6563zal",
        "outputId": "71054280-9734-401b-82b9-cdef7f82a1fa"
      },
      "outputs": [
        {
          "output_type": "execute_result",
          "data": {
            "text/plain": [
              "array([[15, 15, 15, 15, 15],\n",
              "       [15, 15, 15, 15, 15],\n",
              "       [15, 15, 15, 15, 15]])"
            ]
          },
          "metadata": {},
          "execution_count": 424
        }
      ],
      "source": [
        "np.full((3, 5), 15)"
      ]
    },
    {
      "cell_type": "markdown",
      "source": [
        "### np.arange"
      ],
      "metadata": {
        "collapsed": false,
        "id": "Bk1MP6o33zam"
      }
    },
    {
      "cell_type": "code",
      "execution_count": 425,
      "metadata": {
        "colab": {
          "base_uri": "https://localhost:8080/"
        },
        "id": "oxG-MrLp3zam",
        "outputId": "c772e9ff-29d2-400d-e2b6-05ee524558a0"
      },
      "outputs": [
        {
          "output_type": "stream",
          "name": "stdout",
          "text": [
            "0\n",
            "1\n",
            "2\n",
            "3\n",
            "4\n",
            "5\n",
            "6\n",
            "7\n",
            "8\n",
            "9\n"
          ]
        }
      ],
      "source": [
        "for i in range(0,10):\n",
        "    print(i)"
      ]
    },
    {
      "cell_type": "code",
      "execution_count": 426,
      "metadata": {
        "scrolled": true,
        "colab": {
          "base_uri": "https://localhost:8080/"
        },
        "id": "lcEQaz2R3zan",
        "outputId": "28fa7808-3484-47b5-c8fc-83b2bbbc60e2"
      },
      "outputs": [
        {
          "output_type": "execute_result",
          "data": {
            "text/plain": [
              "array([ 0,  1,  2,  3,  4,  5,  6,  7,  8,  9, 10, 11, 12, 13, 14, 15, 16,\n",
              "       17, 18, 19])"
            ]
          },
          "metadata": {},
          "execution_count": 426
        }
      ],
      "source": [
        "np.arange(20)  # stop"
      ]
    },
    {
      "cell_type": "code",
      "execution_count": 427,
      "metadata": {
        "scrolled": true,
        "colab": {
          "base_uri": "https://localhost:8080/"
        },
        "id": "ACLDh-Pj3zao",
        "outputId": "bcbb13ef-da74-4a8d-8d7b-25b308e07c26"
      },
      "outputs": [
        {
          "output_type": "execute_result",
          "data": {
            "text/plain": [
              "array([ 5,  6,  7,  8,  9, 10, 11, 12, 13, 14, 15, 16, 17, 18, 19])"
            ]
          },
          "metadata": {},
          "execution_count": 427
        }
      ],
      "source": [
        "np.arange(5, 20)  # start, stop"
      ]
    },
    {
      "cell_type": "code",
      "execution_count": 428,
      "metadata": {
        "scrolled": true,
        "colab": {
          "base_uri": "https://localhost:8080/"
        },
        "id": "TE53t1tH3zat",
        "outputId": "9213f706-ab08-4a84-cc1d-f45521699b57"
      },
      "outputs": [
        {
          "output_type": "execute_result",
          "data": {
            "text/plain": [
              "array([ 5,  8, 11, 14, 17])"
            ]
          },
          "metadata": {},
          "execution_count": 428
        }
      ],
      "source": [
        "np.arange(5, 20, 3)  # start, stop, step"
      ]
    },
    {
      "cell_type": "code",
      "execution_count": 429,
      "metadata": {
        "colab": {
          "base_uri": "https://localhost:8080/"
        },
        "id": "6HvvDzFh3zau",
        "outputId": "752f6aaa-5bcf-45b7-b8fd-b88d9d8de07c"
      },
      "outputs": [
        {
          "output_type": "execute_result",
          "data": {
            "text/plain": [
              "array([ 0,  2,  4,  6,  8, 10, 12, 14, 16, 18])"
            ]
          },
          "metadata": {},
          "execution_count": 429
        }
      ],
      "source": [
        "np.arange(0, 20, 2)"
      ]
    },
    {
      "cell_type": "markdown",
      "source": [
        "### np.linspace\n",
        "\n",
        "Devuelve números espaciados uniformemente en un intervalo específico."
      ],
      "metadata": {
        "collapsed": false,
        "id": "s3HJQKe93zau"
      }
    },
    {
      "cell_type": "code",
      "execution_count": 430,
      "metadata": {
        "colab": {
          "base_uri": "https://localhost:8080/"
        },
        "id": "x19r6_Zs3zau",
        "outputId": "4a33af31-0392-4eb5-9e09-722d3fd829c2"
      },
      "outputs": [
        {
          "output_type": "execute_result",
          "data": {
            "text/plain": [
              "array([0. , 0.2, 0.4, 0.6, 0.8, 1. ])"
            ]
          },
          "metadata": {},
          "execution_count": 430
        }
      ],
      "source": [
        "np.linspace(0, 1, 6)"
      ]
    },
    {
      "cell_type": "markdown",
      "source": [
        "### np.random\n",
        "\n",
        "https://numpy.org/doc/stable/reference/random/index.html"
      ],
      "metadata": {
        "collapsed": false,
        "id": "zNhkWBYz3zav"
      }
    },
    {
      "cell_type": "code",
      "execution_count": 431,
      "metadata": {
        "scrolled": true,
        "colab": {
          "base_uri": "https://localhost:8080/"
        },
        "id": "sT_c7tTd3zav",
        "outputId": "293a9f64-35a1-4790-b608-f00335fa398c"
      },
      "outputs": [
        {
          "output_type": "execute_result",
          "data": {
            "text/plain": [
              "array([[0.22644862, 0.66094518, 0.97801139],\n",
              "       [0.61026567, 0.05923961, 0.36336053],\n",
              "       [0.2993031 , 0.1584437 , 0.13839016]])"
            ]
          },
          "metadata": {},
          "execution_count": 431
        }
      ],
      "source": [
        "np.random.random((3, 3))  # valores entre 0 y 1"
      ]
    },
    {
      "cell_type": "code",
      "execution_count": 432,
      "metadata": {
        "colab": {
          "base_uri": "https://localhost:8080/"
        },
        "id": "opl7zPcH3zaw",
        "outputId": "7f156d77-2c82-4bda-a8dd-2f947ced28c3"
      },
      "outputs": [
        {
          "output_type": "execute_result",
          "data": {
            "text/plain": [
              "array([[9, 2, 5],\n",
              "       [5, 3, 6],\n",
              "       [4, 5, 4]])"
            ]
          },
          "metadata": {},
          "execution_count": 432
        }
      ],
      "source": [
        "np.random.randint(0, 10, (3, 3))  # valores entre 0 y 10 excluido"
      ]
    },
    {
      "cell_type": "code",
      "execution_count": 433,
      "metadata": {
        "scrolled": true,
        "colab": {
          "base_uri": "https://localhost:8080/"
        },
        "id": "1Ym7fwmx3zaw",
        "outputId": "6fbb8ddc-0bfe-4dbc-c3bb-ac65dd758dba"
      },
      "outputs": [
        {
          "output_type": "execute_result",
          "data": {
            "text/plain": [
              "array([[-0.6865739 , -1.62176453,  0.20286476],\n",
              "       [-0.66440881, -0.8513331 ,  1.94614026],\n",
              "       [ 0.21312282, -1.32772111, -0.43896929]])"
            ]
          },
          "metadata": {},
          "execution_count": 433
        }
      ],
      "source": [
        "np.random.normal(0, 1, (3, 3))"
      ]
    },
    {
      "cell_type": "markdown",
      "source": [
        "### np.eye"
      ],
      "metadata": {
        "collapsed": false,
        "id": "EB5sQyS33zax"
      }
    },
    {
      "cell_type": "code",
      "execution_count": 434,
      "metadata": {
        "colab": {
          "base_uri": "https://localhost:8080/"
        },
        "id": "on1nOu8H3zax",
        "outputId": "0bcd1f22-6806-4227-bfef-0622146b7df3"
      },
      "outputs": [
        {
          "output_type": "execute_result",
          "data": {
            "text/plain": [
              "array([[1., 0., 0.],\n",
              "       [0., 1., 0.],\n",
              "       [0., 0., 1.]])"
            ]
          },
          "metadata": {},
          "execution_count": 434
        }
      ],
      "source": [
        "np.eye(3)"
      ]
    },
    {
      "cell_type": "markdown",
      "source": [
        "### np.empty"
      ],
      "metadata": {
        "collapsed": false,
        "id": "X_HDAMgh3zax"
      }
    },
    {
      "cell_type": "code",
      "execution_count": 435,
      "metadata": {
        "scrolled": true,
        "colab": {
          "base_uri": "https://localhost:8080/"
        },
        "id": "C_s7N1pY3zay",
        "outputId": "e65a22bf-f369-4e43-c47b-75a1b045ec6b"
      },
      "outputs": [
        {
          "output_type": "execute_result",
          "data": {
            "text/plain": [
              "1"
            ]
          },
          "metadata": {},
          "execution_count": 435
        }
      ],
      "source": [
        "arr1 = np.empty(6)\n",
        "arr1.ndim"
      ]
    },
    {
      "cell_type": "markdown",
      "metadata": {
        "id": "wIVHgPjI3zay"
      },
      "source": [
        "## 2. Atributos de arrays"
      ]
    },
    {
      "cell_type": "code",
      "execution_count": 436,
      "metadata": {
        "id": "JeCFCvIX3zaz"
      },
      "outputs": [],
      "source": [
        "np.random.seed(0) # seed for reproducibility"
      ]
    },
    {
      "cell_type": "code",
      "execution_count": 437,
      "metadata": {
        "scrolled": true,
        "colab": {
          "base_uri": "https://localhost:8080/"
        },
        "id": "Md-W21CL3zaz",
        "outputId": "d62567d1-a752-445a-cd15-d48edb8d3da6"
      },
      "outputs": [
        {
          "output_type": "execute_result",
          "data": {
            "text/plain": [
              "array([5, 0, 3, 3, 7, 9])"
            ]
          },
          "metadata": {},
          "execution_count": 437
        }
      ],
      "source": [
        "x1 = np.random.randint(10, size=6) # One-dimensional array\n",
        "x1"
      ]
    },
    {
      "cell_type": "code",
      "execution_count": 438,
      "metadata": {
        "colab": {
          "base_uri": "https://localhost:8080/"
        },
        "id": "C0l7YGSV3zbO",
        "outputId": "09ac87b9-33a1-47fd-c1ac-725c9065be4c"
      },
      "outputs": [
        {
          "output_type": "execute_result",
          "data": {
            "text/plain": [
              "array([[3, 5, 2, 4],\n",
              "       [7, 6, 8, 8],\n",
              "       [1, 6, 7, 7]])"
            ]
          },
          "metadata": {},
          "execution_count": 438
        }
      ],
      "source": [
        "x2 = np.random.randint(10, size=(3, 4)) # Two-dimensional array\n",
        "x2"
      ]
    },
    {
      "cell_type": "code",
      "execution_count": 439,
      "metadata": {
        "colab": {
          "base_uri": "https://localhost:8080/"
        },
        "id": "1dK1Z6dH3zbP",
        "outputId": "9e8fa2d8-d84d-4871-b5c8-d5686fda4105"
      },
      "outputs": [
        {
          "output_type": "execute_result",
          "data": {
            "text/plain": [
              "array([[[8, 1, 5, 9, 8],\n",
              "        [9, 4, 3, 0, 3],\n",
              "        [5, 0, 2, 3, 8],\n",
              "        [1, 3, 3, 3, 7]],\n",
              "\n",
              "       [[0, 1, 9, 9, 0],\n",
              "        [4, 7, 3, 2, 7],\n",
              "        [2, 0, 0, 4, 5],\n",
              "        [5, 6, 8, 4, 1]],\n",
              "\n",
              "       [[4, 9, 8, 1, 1],\n",
              "        [7, 9, 9, 3, 6],\n",
              "        [7, 2, 0, 3, 5],\n",
              "        [9, 4, 4, 6, 4]]])"
            ]
          },
          "metadata": {},
          "execution_count": 439
        }
      ],
      "source": [
        "x3 = np.random.randint(10, size=(3, 4, 5)) # Three-dimensional array\n",
        "x3"
      ]
    },
    {
      "cell_type": "code",
      "execution_count": 440,
      "metadata": {
        "scrolled": true,
        "colab": {
          "base_uri": "https://localhost:8080/"
        },
        "id": "03FuCSde3zbP",
        "outputId": "37ca9015-7613-4455-85a1-5f3ce8cd156c"
      },
      "outputs": [
        {
          "output_type": "execute_result",
          "data": {
            "text/plain": [
              "array([[3, 5, 2, 4],\n",
              "       [7, 6, 8, 8],\n",
              "       [1, 6, 7, 7]])"
            ]
          },
          "metadata": {},
          "execution_count": 440
        }
      ],
      "source": [
        "x2"
      ]
    },
    {
      "cell_type": "code",
      "execution_count": 441,
      "metadata": {
        "colab": {
          "base_uri": "https://localhost:8080/"
        },
        "id": "V2-AA7Tk3zbQ",
        "outputId": "c9f07ce2-16bd-4add-fdc6-9e70e2a4cc46"
      },
      "outputs": [
        {
          "output_type": "stream",
          "name": "stdout",
          "text": [
            "x2 ndim:  2\n",
            "x2 shape: (3, 4)\n",
            "x2 size:  12\n",
            "dtype: int64\n",
            "itemsize: 8 bytes\n",
            "nbytes: 96 bytes\n"
          ]
        }
      ],
      "source": [
        "print(\"x2 ndim: \", x2.ndim)\n",
        "print(\"x2 shape:\", x2.shape)\n",
        "print(\"x2 size: \", x2.size)\n",
        "print(\"dtype:\", x2.dtype)\n",
        "print(\"itemsize:\", x2.itemsize, \"bytes\")\n",
        "print(\"nbytes:\", x2.nbytes, \"bytes\")"
      ]
    },
    {
      "cell_type": "code",
      "execution_count": 442,
      "metadata": {
        "scrolled": true,
        "colab": {
          "base_uri": "https://localhost:8080/"
        },
        "id": "4olBA9EK3zbQ",
        "outputId": "fd6b25c4-141d-4628-b3a9-9dd1ac4f5ef9"
      },
      "outputs": [
        {
          "output_type": "execute_result",
          "data": {
            "text/plain": [
              "array([[[8, 1, 5, 9, 8],\n",
              "        [9, 4, 3, 0, 3],\n",
              "        [5, 0, 2, 3, 8],\n",
              "        [1, 3, 3, 3, 7]],\n",
              "\n",
              "       [[0, 1, 9, 9, 0],\n",
              "        [4, 7, 3, 2, 7],\n",
              "        [2, 0, 0, 4, 5],\n",
              "        [5, 6, 8, 4, 1]],\n",
              "\n",
              "       [[4, 9, 8, 1, 1],\n",
              "        [7, 9, 9, 3, 6],\n",
              "        [7, 2, 0, 3, 5],\n",
              "        [9, 4, 4, 6, 4]]])"
            ]
          },
          "metadata": {},
          "execution_count": 442
        }
      ],
      "source": [
        "x3"
      ]
    },
    {
      "cell_type": "code",
      "execution_count": 443,
      "metadata": {
        "colab": {
          "base_uri": "https://localhost:8080/"
        },
        "id": "tgYZhImU3zbR",
        "outputId": "ca0221de-679b-46d2-877d-ce69951acaba"
      },
      "outputs": [
        {
          "output_type": "stream",
          "name": "stdout",
          "text": [
            "x3 ndim:  3\n",
            "x3 shape: (3, 4, 5)\n",
            "x3 size:  60\n",
            "dtype: int64\n",
            "itemsize: 8 bytes\n",
            "nbytes: 480 bytes\n"
          ]
        }
      ],
      "source": [
        "print(\"x3 ndim: \", x3.ndim)\n",
        "print(\"x3 shape:\", x3.shape)\n",
        "print(\"x3 size: \", x3.size)\n",
        "print(\"dtype:\", x3.dtype)\n",
        "print(\"itemsize:\", x3.itemsize, \"bytes\")\n",
        "print(\"nbytes:\", x3.nbytes, \"bytes\")"
      ]
    },
    {
      "cell_type": "markdown",
      "metadata": {
        "id": "BXloZWmN3zbR"
      },
      "source": [
        "## 3. Acceder a los elementos: indexación"
      ]
    },
    {
      "cell_type": "code",
      "execution_count": 444,
      "metadata": {
        "colab": {
          "base_uri": "https://localhost:8080/"
        },
        "id": "rYXeMr0u3zbS",
        "outputId": "02ababf5-dd44-40c9-a122-eb2f75c4689e"
      },
      "outputs": [
        {
          "output_type": "execute_result",
          "data": {
            "text/plain": [
              "array([5, 0, 3, 3, 7, 9])"
            ]
          },
          "metadata": {},
          "execution_count": 444
        }
      ],
      "source": [
        "x1  # array de 1 dimensión"
      ]
    },
    {
      "cell_type": "code",
      "execution_count": 445,
      "metadata": {
        "colab": {
          "base_uri": "https://localhost:8080/"
        },
        "id": "5qEe18q_3zbS",
        "outputId": "858e6c1a-dd47-4607-ca34-b177d116029c"
      },
      "outputs": [
        {
          "output_type": "stream",
          "name": "stdout",
          "text": [
            "5\n",
            "0\n",
            "3\n"
          ]
        }
      ],
      "source": [
        "print(x1[0])\n",
        "print(x1[1])\n",
        "print(x1[2])"
      ]
    },
    {
      "cell_type": "code",
      "execution_count": 446,
      "metadata": {
        "colab": {
          "base_uri": "https://localhost:8080/"
        },
        "id": "hllq8sKe3zbT",
        "outputId": "57c50192-9017-41d4-d8a8-6d200c556c38"
      },
      "outputs": [
        {
          "output_type": "stream",
          "name": "stdout",
          "text": [
            "9\n",
            "7\n",
            "3\n"
          ]
        }
      ],
      "source": [
        "print(x1[-1])\n",
        "print(x1[-2])\n",
        "print(x1[-3])"
      ]
    },
    {
      "cell_type": "code",
      "execution_count": 447,
      "metadata": {
        "colab": {
          "base_uri": "https://localhost:8080/"
        },
        "id": "Zj1NxCKH3zbT",
        "outputId": "ac2e911d-b5ab-415b-c5e9-a1402b696b87"
      },
      "outputs": [
        {
          "output_type": "execute_result",
          "data": {
            "text/plain": [
              "array([[3, 5, 2, 4],\n",
              "       [7, 6, 8, 8],\n",
              "       [1, 6, 7, 7]])"
            ]
          },
          "metadata": {},
          "execution_count": 447
        }
      ],
      "source": [
        "x2  # array de 2 dimensiones"
      ]
    },
    {
      "cell_type": "code",
      "execution_count": 448,
      "metadata": {
        "colab": {
          "base_uri": "https://localhost:8080/"
        },
        "id": "q1yNM4Qk3zbU",
        "outputId": "da5fb0c0-3c6f-4980-9ec1-f29062083d1e"
      },
      "outputs": [
        {
          "output_type": "stream",
          "name": "stdout",
          "text": [
            "3\n",
            "5\n",
            "2\n",
            "4\n",
            "7\n",
            "6\n",
            "8\n",
            "7\n"
          ]
        }
      ],
      "source": [
        "print(x2[0,0])\n",
        "print(x2[0,1])\n",
        "print(x2[0,2])\n",
        "print(x2[0,3])\n",
        "print(x2[1,0])\n",
        "print(x2[1,1])\n",
        "print(x2[1,2])\n",
        "print(x2[2,3])"
      ]
    },
    {
      "cell_type": "code",
      "execution_count": 449,
      "metadata": {
        "colab": {
          "base_uri": "https://localhost:8080/"
        },
        "id": "IMBj6eAD3zbU",
        "outputId": "5fa6ddc0-d5c7-4c74-bd16-c7624ca1ab53"
      },
      "outputs": [
        {
          "output_type": "execute_result",
          "data": {
            "text/plain": [
              "np.int64(8)"
            ]
          },
          "metadata": {},
          "execution_count": 449
        }
      ],
      "source": [
        "x3[0,0,0]"
      ]
    },
    {
      "cell_type": "code",
      "execution_count": 450,
      "metadata": {
        "scrolled": true,
        "colab": {
          "base_uri": "https://localhost:8080/"
        },
        "id": "Hjjr8JyK3zbV",
        "outputId": "e0bfd0eb-49a8-48ba-a81d-5e342bb68c11"
      },
      "outputs": [
        {
          "output_type": "execute_result",
          "data": {
            "text/plain": [
              "np.int64(3)"
            ]
          },
          "metadata": {},
          "execution_count": 450
        }
      ],
      "source": [
        "x2[0][0]"
      ]
    },
    {
      "cell_type": "code",
      "execution_count": 451,
      "metadata": {
        "colab": {
          "base_uri": "https://localhost:8080/"
        },
        "id": "4KDPOHBq3zbV",
        "outputId": "ebb12122-efbc-4ca0-d31f-43e5d9133c4b"
      },
      "outputs": [
        {
          "output_type": "stream",
          "name": "stdout",
          "text": [
            "4\n"
          ]
        }
      ],
      "source": [
        "print(x2[0,-1])"
      ]
    },
    {
      "cell_type": "code",
      "execution_count": 452,
      "metadata": {
        "colab": {
          "base_uri": "https://localhost:8080/"
        },
        "id": "QTnCY7893zbW",
        "outputId": "bc11ab3c-165d-4d7b-f5ab-adc70f7c477a"
      },
      "outputs": [
        {
          "output_type": "execute_result",
          "data": {
            "text/plain": [
              "dtype('int64')"
            ]
          },
          "metadata": {},
          "execution_count": 452
        }
      ],
      "source": [
        "x2.dtype"
      ]
    },
    {
      "cell_type": "code",
      "execution_count": 453,
      "metadata": {
        "colab": {
          "base_uri": "https://localhost:8080/"
        },
        "id": "ha9k8VmF3zbe",
        "outputId": "ed526bb2-8d0f-417d-e0a2-0eb121a47764"
      },
      "outputs": [
        {
          "output_type": "stream",
          "name": "stdout",
          "text": [
            "Valor original: 3\n",
            "Valor modificado: 8\n"
          ]
        }
      ],
      "source": [
        "print(\"Valor original:\", x2[0,0])\n",
        "x2[0,0] = 8.9\n",
        "print(\"Valor modificado:\", x2[0,0])"
      ]
    },
    {
      "cell_type": "markdown",
      "metadata": {
        "id": "g7iXLneS3zbf"
      },
      "source": [
        "## 4. Acceder a subarrays: slicing"
      ]
    },
    {
      "cell_type": "code",
      "execution_count": 454,
      "metadata": {
        "colab": {
          "base_uri": "https://localhost:8080/"
        },
        "id": "O0tFPzs93zbf",
        "outputId": "38258bfb-e22d-434b-99e0-eb63043a52c1"
      },
      "outputs": [
        {
          "output_type": "execute_result",
          "data": {
            "text/plain": [
              "array([0, 1, 2, 3, 4, 5, 6, 7, 8, 9])"
            ]
          },
          "metadata": {},
          "execution_count": 454
        }
      ],
      "source": [
        "x = np.arange(10)\n",
        "x"
      ]
    },
    {
      "cell_type": "code",
      "execution_count": 455,
      "metadata": {
        "colab": {
          "base_uri": "https://localhost:8080/"
        },
        "id": "kkv0EZHk3zbf",
        "outputId": "9db0b95f-cf95-480b-8953-f6f9f701fb5d"
      },
      "outputs": [
        {
          "output_type": "execute_result",
          "data": {
            "text/plain": [
              "array([0, 1, 2, 3, 4, 5, 6, 7, 8, 9])"
            ]
          },
          "metadata": {},
          "execution_count": 455
        }
      ],
      "source": [
        "x[:]"
      ]
    },
    {
      "cell_type": "code",
      "execution_count": 456,
      "metadata": {
        "colab": {
          "base_uri": "https://localhost:8080/"
        },
        "id": "pB5PO4Nl3zbg",
        "outputId": "e7740b3d-7645-4755-a523-c125b6880b5f"
      },
      "outputs": [
        {
          "output_type": "execute_result",
          "data": {
            "text/plain": [
              "array([0, 2, 4, 6, 8])"
            ]
          },
          "metadata": {},
          "execution_count": 456
        }
      ],
      "source": [
        "x[::2] # start, stop, step"
      ]
    },
    {
      "cell_type": "code",
      "execution_count": 457,
      "metadata": {
        "scrolled": true,
        "colab": {
          "base_uri": "https://localhost:8080/"
        },
        "id": "YGU_BUpd3zbg",
        "outputId": "49c55308-f32d-4d6a-e434-0c8f63e12058"
      },
      "outputs": [
        {
          "output_type": "stream",
          "name": "stdout",
          "text": [
            "[0 1 2 3 4]\n",
            "[5 6 7 8 9]\n",
            "[3 4 5 6]\n"
          ]
        }
      ],
      "source": [
        "print(x[:5])  # start, stop, step\n",
        "print(x[5:])\n",
        "print(x[3:7])"
      ]
    },
    {
      "cell_type": "code",
      "execution_count": 458,
      "metadata": {
        "colab": {
          "base_uri": "https://localhost:8080/"
        },
        "id": "3qbU4i2n3zbh",
        "outputId": "42702f7d-a34f-4c24-f595-4bcd01cc87d3"
      },
      "outputs": [
        {
          "output_type": "stream",
          "name": "stdout",
          "text": [
            "[0 2 4 6 8]\n",
            "[1 3 5 7 9]\n",
            "[9 8 7 6 5 4 3 2 1 0]\n"
          ]
        }
      ],
      "source": [
        "print(x[::2])\n",
        "print(x[1::2])\n",
        "print(x[::-1])"
      ]
    },
    {
      "cell_type": "code",
      "execution_count": 459,
      "metadata": {
        "colab": {
          "base_uri": "https://localhost:8080/"
        },
        "id": "X8c2k9zE3zbh",
        "outputId": "706a0413-5cf3-4566-f493-d99c5297b221"
      },
      "outputs": [
        {
          "output_type": "execute_result",
          "data": {
            "text/plain": [
              "array([[8, 5, 2, 4],\n",
              "       [7, 6, 8, 8],\n",
              "       [1, 6, 7, 7]])"
            ]
          },
          "metadata": {},
          "execution_count": 459
        }
      ],
      "source": [
        "x2"
      ]
    },
    {
      "cell_type": "code",
      "execution_count": 460,
      "metadata": {
        "colab": {
          "base_uri": "https://localhost:8080/"
        },
        "id": "aY2C17DI3zbi",
        "outputId": "0283b72f-08e3-4917-b0dc-370cf2f1ea15"
      },
      "outputs": [
        {
          "output_type": "execute_result",
          "data": {
            "text/plain": [
              "array([[5, 2],\n",
              "       [6, 8]])"
            ]
          },
          "metadata": {},
          "execution_count": 460
        }
      ],
      "source": [
        "x2[:2, 1:3]"
      ]
    },
    {
      "cell_type": "code",
      "execution_count": 461,
      "metadata": {
        "colab": {
          "base_uri": "https://localhost:8080/"
        },
        "id": "LLaPsgDY3zbi",
        "outputId": "73f55987-f35b-4db5-b204-7917d67faae7"
      },
      "outputs": [
        {
          "output_type": "execute_result",
          "data": {
            "text/plain": [
              "array([[8, 2],\n",
              "       [7, 8]])"
            ]
          },
          "metadata": {},
          "execution_count": 461
        }
      ],
      "source": [
        "x2[:2, ::2]"
      ]
    },
    {
      "cell_type": "code",
      "execution_count": 462,
      "metadata": {
        "colab": {
          "base_uri": "https://localhost:8080/"
        },
        "id": "AH_jxbJW3zbj",
        "outputId": "9e3a4c09-6041-4276-8283-b6510d9183d8"
      },
      "outputs": [
        {
          "output_type": "stream",
          "name": "stdout",
          "text": [
            "[8 7 1]\n",
            "[8 5 2 4]\n"
          ]
        }
      ],
      "source": [
        "print(x2[:, 0])\n",
        "print(x2[0, :])"
      ]
    },
    {
      "cell_type": "markdown",
      "metadata": {
        "id": "_RtZtzkS3zbj"
      },
      "source": [
        "## 5. Copy vs. view\n",
        "\n",
        "Las operaciones slicing devuelven vistas no copias.\n",
        "Significa que si se cambian datos en el array original también\n",
        "se cambian en la vista."
      ]
    },
    {
      "cell_type": "code",
      "execution_count": 463,
      "metadata": {
        "scrolled": true,
        "colab": {
          "base_uri": "https://localhost:8080/"
        },
        "id": "uHy85-4T3zbj",
        "outputId": "ee4aa332-beb4-479e-87b0-56c6c776ff71"
      },
      "outputs": [
        {
          "output_type": "execute_result",
          "data": {
            "text/plain": [
              "array([[4, 3, 4, 4],\n",
              "       [8, 4, 3, 7],\n",
              "       [5, 5, 0, 1]])"
            ]
          },
          "metadata": {},
          "execution_count": 463
        }
      ],
      "source": [
        "x2 = np.random.randint(10, size=(3, 4)) # Two-dimensional array\n",
        "x2"
      ]
    },
    {
      "cell_type": "code",
      "execution_count": 464,
      "metadata": {
        "colab": {
          "base_uri": "https://localhost:8080/"
        },
        "id": "GJTSmY5a3zbk",
        "outputId": "855f0d75-924a-41a4-fb51-ec23c80196dc"
      },
      "outputs": [
        {
          "output_type": "execute_result",
          "data": {
            "text/plain": [
              "array([[4, 3],\n",
              "       [8, 4]])"
            ]
          },
          "metadata": {},
          "execution_count": 464
        }
      ],
      "source": [
        "x2_sub = x2[:2, :2]  # técnica slicing\n",
        "x2_sub"
      ]
    },
    {
      "cell_type": "code",
      "execution_count": 465,
      "metadata": {
        "id": "dhTY97L73zbk"
      },
      "outputs": [],
      "source": [
        "x2_sub[0, 0] = 99  # Al modificar en uno se modifica en los dos"
      ]
    },
    {
      "cell_type": "code",
      "execution_count": 466,
      "metadata": {
        "colab": {
          "base_uri": "https://localhost:8080/"
        },
        "id": "0igZEbnF3zbl",
        "outputId": "4cfbf10b-53b6-4adc-a570-1e7e8426b917"
      },
      "outputs": [
        {
          "output_type": "stream",
          "name": "stdout",
          "text": [
            "[[99  3  4  4]\n",
            " [ 8  4  3  7]\n",
            " [ 5  5  0  1]]\n",
            "\n",
            "\n",
            "[[99  3]\n",
            " [ 8  4]]\n"
          ]
        }
      ],
      "source": [
        "print(x2)\n",
        "print('\\n')\n",
        "print(x2_sub)"
      ]
    },
    {
      "cell_type": "markdown",
      "metadata": {
        "id": "5QW695mj3zbl"
      },
      "source": [
        "Se utiliza el método copy() para poder generar una nueva copia de manera que los cambios no afecten al array original"
      ]
    },
    {
      "cell_type": "code",
      "execution_count": 467,
      "metadata": {
        "id": "g2AJ95gR3zbm"
      },
      "outputs": [],
      "source": [
        "x2_sub_copy = x2[:2, :2].copy()  # método copy() para crear una copia independiente"
      ]
    },
    {
      "cell_type": "code",
      "execution_count": 468,
      "metadata": {
        "id": "J3Tc6JAn3zbm"
      },
      "outputs": [],
      "source": [
        "x2_sub_copy[0, 0] = 50"
      ]
    },
    {
      "cell_type": "code",
      "execution_count": 469,
      "metadata": {
        "colab": {
          "base_uri": "https://localhost:8080/"
        },
        "id": "UwsQqV5V3zbm",
        "outputId": "9a9c6b99-4955-4155-8a62-ff6863bed208"
      },
      "outputs": [
        {
          "output_type": "stream",
          "name": "stdout",
          "text": [
            "[[99  3  4  4]\n",
            " [ 8  4  3  7]\n",
            " [ 5  5  0  1]]\n",
            "\n",
            "\n",
            "[[50  3]\n",
            " [ 8  4]]\n"
          ]
        }
      ],
      "source": [
        "print(x2)\n",
        "print('\\n')\n",
        "print(x2_sub_copy)"
      ]
    },
    {
      "cell_type": "markdown",
      "metadata": {
        "id": "NCrMTsVq3zbn"
      },
      "source": [
        "## 6. Redimensionar un array (reshape)"
      ]
    },
    {
      "cell_type": "markdown",
      "source": [
        "### reshape"
      ],
      "metadata": {
        "collapsed": false,
        "id": "cKWZDpOD3zbo"
      }
    },
    {
      "cell_type": "code",
      "execution_count": 470,
      "metadata": {
        "colab": {
          "base_uri": "https://localhost:8080/"
        },
        "id": "MWp0JseU3zbp",
        "outputId": "95a1afff-230d-407a-a68a-d12050b05cfb"
      },
      "outputs": [
        {
          "output_type": "stream",
          "name": "stdout",
          "text": [
            "[1 2 3 4 5 6 7 8 9]\n"
          ]
        }
      ],
      "source": [
        "x = np.arange(1, 10)\n",
        "print(x)"
      ]
    },
    {
      "cell_type": "code",
      "execution_count": 471,
      "metadata": {
        "colab": {
          "base_uri": "https://localhost:8080/"
        },
        "id": "oLxcsQnZ3zbq",
        "outputId": "0b92147f-44fe-4c36-b180-2a48814e81b1"
      },
      "outputs": [
        {
          "output_type": "execute_result",
          "data": {
            "text/plain": [
              "1"
            ]
          },
          "metadata": {},
          "execution_count": 471
        }
      ],
      "source": [
        "x.ndim"
      ]
    },
    {
      "cell_type": "code",
      "execution_count": 472,
      "metadata": {
        "colab": {
          "base_uri": "https://localhost:8080/"
        },
        "id": "6gcKLbNm3zbr",
        "outputId": "6ab25681-29ec-4390-cf60-7a9b63ba5fe1"
      },
      "outputs": [
        {
          "output_type": "execute_result",
          "data": {
            "text/plain": [
              "(9,)"
            ]
          },
          "metadata": {},
          "execution_count": 472
        }
      ],
      "source": [
        "x.shape"
      ]
    },
    {
      "cell_type": "code",
      "execution_count": 473,
      "metadata": {
        "colab": {
          "base_uri": "https://localhost:8080/"
        },
        "id": "eyMDfVvD3zbr",
        "outputId": "8ad8e795-7d6d-4632-9a12-7c6d32b21fa3"
      },
      "outputs": [
        {
          "output_type": "execute_result",
          "data": {
            "text/plain": [
              "tuple"
            ]
          },
          "metadata": {},
          "execution_count": 473
        }
      ],
      "source": [
        "type(x.shape)"
      ]
    },
    {
      "cell_type": "code",
      "execution_count": 474,
      "metadata": {
        "colab": {
          "base_uri": "https://localhost:8080/"
        },
        "id": "4q5CRzGj3zbs",
        "outputId": "7bb57356-5436-4f8a-dcd5-fe2eb1185396"
      },
      "outputs": [
        {
          "output_type": "stream",
          "name": "stdout",
          "text": [
            "[[1 2 3]\n",
            " [4 5 6]\n",
            " [7 8 9]]\n"
          ]
        }
      ],
      "source": [
        "x_2d = x.reshape((3, 3))\n",
        "print(x_2d)"
      ]
    },
    {
      "cell_type": "code",
      "execution_count": 475,
      "metadata": {
        "colab": {
          "base_uri": "https://localhost:8080/"
        },
        "id": "3InSojKY3zbt",
        "outputId": "462fd1d8-70a4-4439-a1ed-93c7b31c010e"
      },
      "outputs": [
        {
          "output_type": "execute_result",
          "data": {
            "text/plain": [
              "2"
            ]
          },
          "metadata": {},
          "execution_count": 475
        }
      ],
      "source": [
        "x_2d.ndim"
      ]
    },
    {
      "cell_type": "code",
      "execution_count": 476,
      "metadata": {
        "scrolled": true,
        "colab": {
          "base_uri": "https://localhost:8080/"
        },
        "id": "mZKpFMxg3zbt",
        "outputId": "290d17cc-11f7-4443-962c-8f9a5fa06b49"
      },
      "outputs": [
        {
          "output_type": "stream",
          "name": "stdout",
          "text": [
            "[[1 2 3 4 5 6 7 8 9]]\n"
          ]
        }
      ],
      "source": [
        "print(x.reshape((1, 9)))  # 2 dimensiones: 1 fila y 9 columnas"
      ]
    },
    {
      "cell_type": "code",
      "execution_count": 477,
      "outputs": [
        {
          "output_type": "execute_result",
          "data": {
            "text/plain": [
              "2"
            ]
          },
          "metadata": {},
          "execution_count": 477
        }
      ],
      "source": [
        "x.reshape((1, 9)).ndim"
      ],
      "metadata": {
        "colab": {
          "base_uri": "https://localhost:8080/"
        },
        "id": "0qjKe3QO3zbu",
        "outputId": "0f0812c0-a695-4e07-aee8-f54bb8f5bf1f"
      }
    },
    {
      "cell_type": "markdown",
      "metadata": {
        "id": "ZuGH71tg3zbu"
      },
      "source": [
        "### np.newaxis"
      ]
    },
    {
      "cell_type": "code",
      "execution_count": 478,
      "metadata": {
        "colab": {
          "base_uri": "https://localhost:8080/"
        },
        "id": "a5Jw4YmC3zbu",
        "outputId": "1b7b9326-3808-4f23-e93b-d4a115246c79"
      },
      "outputs": [
        {
          "output_type": "stream",
          "name": "stdout",
          "text": [
            "[1 2 3 4 5 6 7 8 9]\n",
            "1\n",
            "(9,)\n"
          ]
        }
      ],
      "source": [
        "print(x); print(x.ndim); print(x.shape)"
      ]
    },
    {
      "cell_type": "code",
      "execution_count": 479,
      "metadata": {
        "colab": {
          "base_uri": "https://localhost:8080/"
        },
        "id": "eL9AnTlt3zbv",
        "outputId": "f965cb0d-a2ad-49c2-b97a-a2242e075137"
      },
      "outputs": [
        {
          "output_type": "stream",
          "name": "stdout",
          "text": [
            "[[1 2 3 4 5 6 7 8 9]]\n",
            "2\n",
            "(1, 9)\n"
          ]
        }
      ],
      "source": [
        "y = x[np.newaxis, :]; print(y); print(y.ndim); print(y.shape)"
      ]
    },
    {
      "cell_type": "code",
      "execution_count": 480,
      "metadata": {
        "colab": {
          "base_uri": "https://localhost:8080/"
        },
        "id": "m_NUEYzf3zbv",
        "outputId": "68511fc5-8e4d-4408-9774-60bfd6a2fe7d"
      },
      "outputs": [
        {
          "output_type": "execute_result",
          "data": {
            "text/plain": [
              "array([0, 1, 2, 3])"
            ]
          },
          "metadata": {},
          "execution_count": 480
        }
      ],
      "source": [
        "arr = np.arange(4)\n",
        "arr"
      ]
    },
    {
      "cell_type": "code",
      "execution_count": 481,
      "metadata": {
        "colab": {
          "base_uri": "https://localhost:8080/"
        },
        "id": "Bgh1EVcE3zbw",
        "outputId": "4268240a-147a-406c-e230-6639f87c744d"
      },
      "outputs": [
        {
          "output_type": "execute_result",
          "data": {
            "text/plain": [
              "(4,)"
            ]
          },
          "metadata": {},
          "execution_count": 481
        }
      ],
      "source": [
        "arr.shape"
      ]
    },
    {
      "cell_type": "code",
      "execution_count": 482,
      "metadata": {
        "colab": {
          "base_uri": "https://localhost:8080/"
        },
        "id": "stTqLpSR3zbw",
        "outputId": "6cf9b123-44a4-41d4-8000-d48e78e6dec0"
      },
      "outputs": [
        {
          "output_type": "execute_result",
          "data": {
            "text/plain": [
              "array([[0, 1, 2, 3]])"
            ]
          },
          "metadata": {},
          "execution_count": 482
        }
      ],
      "source": [
        "row_vec = arr[np.newaxis]\n",
        "row_vec"
      ]
    },
    {
      "cell_type": "code",
      "execution_count": 483,
      "metadata": {
        "colab": {
          "base_uri": "https://localhost:8080/"
        },
        "id": "siUXeU5b3zb2",
        "outputId": "a7043a07-27fb-4b8f-d4ff-08a7ca73a780"
      },
      "outputs": [
        {
          "output_type": "execute_result",
          "data": {
            "text/plain": [
              "(1, 4)"
            ]
          },
          "metadata": {},
          "execution_count": 483
        }
      ],
      "source": [
        "row_vec.shape"
      ]
    },
    {
      "cell_type": "code",
      "execution_count": 484,
      "metadata": {
        "colab": {
          "base_uri": "https://localhost:8080/"
        },
        "id": "Vdf_ArGf3zb3",
        "outputId": "4d7289c6-db3d-4bb5-eb03-ae9530f3b83b"
      },
      "outputs": [
        {
          "output_type": "execute_result",
          "data": {
            "text/plain": [
              "array([[0],\n",
              "       [1],\n",
              "       [2],\n",
              "       [3]])"
            ]
          },
          "metadata": {},
          "execution_count": 484
        }
      ],
      "source": [
        "col_vec = arr[:, np.newaxis]\n",
        "col_vec"
      ]
    },
    {
      "cell_type": "code",
      "execution_count": 485,
      "metadata": {
        "colab": {
          "base_uri": "https://localhost:8080/"
        },
        "id": "6RVkG8LV3zb3",
        "outputId": "5f96fbbf-08ec-4165-d7a3-d3e5ef69ff61"
      },
      "outputs": [
        {
          "output_type": "execute_result",
          "data": {
            "text/plain": [
              "(4, 1)"
            ]
          },
          "metadata": {},
          "execution_count": 485
        }
      ],
      "source": [
        "col_vec.shape"
      ]
    },
    {
      "cell_type": "code",
      "execution_count": 486,
      "metadata": {
        "colab": {
          "base_uri": "https://localhost:8080/"
        },
        "id": "ZEWSncmk3zb4",
        "outputId": "5fd28854-d97b-4dcb-d67d-d99a64b5ac19"
      },
      "outputs": [
        {
          "output_type": "execute_result",
          "data": {
            "text/plain": [
              "array([[[0, 1, 2, 3]]])"
            ]
          },
          "metadata": {},
          "execution_count": 486
        }
      ],
      "source": [
        "arr[np.newaxis, np.newaxis, :]"
      ]
    },
    {
      "cell_type": "code",
      "execution_count": 487,
      "metadata": {
        "colab": {
          "base_uri": "https://localhost:8080/"
        },
        "id": "RAIZ3fhL3zb6",
        "outputId": "c7e3d050-d306-476f-a044-9cb67676c484"
      },
      "outputs": [
        {
          "output_type": "execute_result",
          "data": {
            "text/plain": [
              "array([[[0]],\n",
              "\n",
              "       [[1]],\n",
              "\n",
              "       [[2]],\n",
              "\n",
              "       [[3]]])"
            ]
          },
          "metadata": {},
          "execution_count": 487
        }
      ],
      "source": [
        "arr[:, np.newaxis, np.newaxis]"
      ]
    },
    {
      "cell_type": "markdown",
      "source": [
        "### ravel"
      ],
      "metadata": {
        "collapsed": false,
        "id": "nNF-cXSH3zb6"
      }
    },
    {
      "cell_type": "code",
      "execution_count": 488,
      "outputs": [
        {
          "output_type": "stream",
          "name": "stdout",
          "text": [
            "[1 2 3 4 5]\n",
            "[1 2 3 4 5]\n"
          ]
        }
      ],
      "source": [
        "x = np.array([1, 2, 3, 4, 5])\n",
        "print(x); print(np.ravel(x))"
      ],
      "metadata": {
        "colab": {
          "base_uri": "https://localhost:8080/"
        },
        "id": "elyqe0xV3zb7",
        "outputId": "53e478ec-dc40-45ff-c736-c458f629decd"
      }
    },
    {
      "cell_type": "code",
      "execution_count": 489,
      "outputs": [
        {
          "output_type": "stream",
          "name": "stdout",
          "text": [
            "[[1 2 3]\n",
            " [4 5 6]]\n",
            "2\n"
          ]
        }
      ],
      "source": [
        "x = np.array([[1, 2, 3], [4, 5, 6]])\n",
        "print(x)\n",
        "print(x.ndim)"
      ],
      "metadata": {
        "colab": {
          "base_uri": "https://localhost:8080/"
        },
        "id": "dF8NRRVi3zb7",
        "outputId": "91ecceb1-cf5f-472a-c11f-798a9effe090"
      }
    },
    {
      "cell_type": "code",
      "execution_count": 490,
      "outputs": [
        {
          "output_type": "stream",
          "name": "stdout",
          "text": [
            "[1 2 3 4 5 6]\n",
            "1\n"
          ]
        }
      ],
      "source": [
        "print(np.ravel(x))\n",
        "print(np.ravel(x).ndim)"
      ],
      "metadata": {
        "colab": {
          "base_uri": "https://localhost:8080/"
        },
        "id": "Q18CikQU3zb8",
        "outputId": "7173b8f8-c8d5-4416-941c-fe1e3366644b"
      }
    },
    {
      "cell_type": "markdown",
      "metadata": {
        "id": "xvFLA7lx3zb8"
      },
      "source": [
        "## 7. Concatenar arrays"
      ]
    },
    {
      "cell_type": "markdown",
      "metadata": {
        "id": "mdBJJSvj3zb9"
      },
      "source": [
        "### concatenate"
      ]
    },
    {
      "cell_type": "code",
      "execution_count": 491,
      "metadata": {
        "colab": {
          "base_uri": "https://localhost:8080/"
        },
        "id": "-dgnFLGx3zb9",
        "outputId": "219a50a3-1702-4752-a5dd-9bc77046de5b"
      },
      "outputs": [
        {
          "output_type": "stream",
          "name": "stdout",
          "text": [
            "[1 2 3]\n",
            "[4 5 6]\n",
            "[99, 99, 99]\n",
            "\n",
            "\n",
            "[1 2 3 4 5 6]\n",
            "[ 1  2  3  4  5  6 99 99 99]\n",
            "[1 2 3]\n"
          ]
        }
      ],
      "source": [
        "x = np.array([1, 2, 3])\n",
        "y = np.array([4, 5, 6])\n",
        "z = [99, 99, 99]\n",
        "\n",
        "print(x); print(y); print(z); print('\\n')\n",
        "\n",
        "print(np.concatenate([x, y]))\n",
        "print(np.concatenate([x, y, z]))\n",
        "print(x)"
      ]
    },
    {
      "cell_type": "code",
      "execution_count": 492,
      "metadata": {
        "colab": {
          "base_uri": "https://localhost:8080/"
        },
        "id": "5hsiTACi3zb9",
        "outputId": "2d36db6e-9378-488f-bbfa-d02362764e8b"
      },
      "outputs": [
        {
          "output_type": "execute_result",
          "data": {
            "text/plain": [
              "array([[1, 2, 3],\n",
              "       [4, 5, 6]])"
            ]
          },
          "metadata": {},
          "execution_count": 492
        }
      ],
      "source": [
        "grid = np.array([ [1, 2, 3], [4, 5, 6] ])\n",
        "grid"
      ]
    },
    {
      "cell_type": "code",
      "execution_count": 493,
      "metadata": {
        "colab": {
          "base_uri": "https://localhost:8080/"
        },
        "id": "gr1rX3aZ3zb-",
        "outputId": "d681766e-230d-4f78-d0e1-d2b780cd2d5b"
      },
      "outputs": [
        {
          "output_type": "stream",
          "name": "stdout",
          "text": [
            "shape (2, 3)\n",
            "dimensiones 2\n"
          ]
        }
      ],
      "source": [
        "print(\"shape\", grid.shape); print(\"dimensiones\", grid.ndim)"
      ]
    },
    {
      "cell_type": "code",
      "execution_count": 494,
      "metadata": {
        "scrolled": true,
        "colab": {
          "base_uri": "https://localhost:8080/"
        },
        "id": "WV9wymTb3zb-",
        "outputId": "cbc17cd7-5c68-48dd-be92-4e35a53b8a49"
      },
      "outputs": [
        {
          "output_type": "stream",
          "name": "stdout",
          "text": [
            "[[1 2 3]\n",
            " [4 5 6]\n",
            " [1 2 3]\n",
            " [4 5 6]]\n",
            "2\n",
            "(4, 3)\n"
          ]
        }
      ],
      "source": [
        "y = np.concatenate([grid, grid])\n",
        "print(y); print(y.ndim); print(y.shape)"
      ]
    },
    {
      "cell_type": "code",
      "execution_count": 495,
      "metadata": {
        "scrolled": true,
        "colab": {
          "base_uri": "https://localhost:8080/"
        },
        "id": "D7GQL32R3zb_",
        "outputId": "be264c64-63e8-4d3e-f86e-6bbc65c28ce1"
      },
      "outputs": [
        {
          "output_type": "execute_result",
          "data": {
            "text/plain": [
              "array([[1, 2, 3],\n",
              "       [4, 5, 6],\n",
              "       [1, 2, 3],\n",
              "       [4, 5, 6]])"
            ]
          },
          "metadata": {},
          "execution_count": 495
        }
      ],
      "source": [
        "np.concatenate([grid, grid], axis=0)"
      ]
    },
    {
      "cell_type": "code",
      "execution_count": 496,
      "metadata": {
        "colab": {
          "base_uri": "https://localhost:8080/"
        },
        "id": "B3CKoaHm3zb_",
        "outputId": "f891887e-6d47-40a5-b241-63a4cb62549d"
      },
      "outputs": [
        {
          "output_type": "execute_result",
          "data": {
            "text/plain": [
              "array([[1, 2, 3, 1, 2, 3],\n",
              "       [4, 5, 6, 4, 5, 6]])"
            ]
          },
          "metadata": {},
          "execution_count": 496
        }
      ],
      "source": [
        "np.concatenate([grid, grid], axis=1)"
      ]
    },
    {
      "cell_type": "markdown",
      "metadata": {
        "id": "cjs5J_0A3zcA"
      },
      "source": [
        "### vstack"
      ]
    },
    {
      "cell_type": "code",
      "execution_count": 497,
      "metadata": {
        "colab": {
          "base_uri": "https://localhost:8080/"
        },
        "id": "NZ0Ws4tO3zcA",
        "outputId": "57c5f36c-be2f-452d-a827-cfabf0349053"
      },
      "outputs": [
        {
          "output_type": "execute_result",
          "data": {
            "text/plain": [
              "array([1, 2, 3])"
            ]
          },
          "metadata": {},
          "execution_count": 497
        }
      ],
      "source": [
        "x = np.array([1, 2, 3])\n",
        "x"
      ]
    },
    {
      "cell_type": "code",
      "execution_count": 498,
      "metadata": {
        "colab": {
          "base_uri": "https://localhost:8080/"
        },
        "id": "9yGwQiug3zcA",
        "outputId": "4906c888-ed05-4646-bd70-fa8de6034881"
      },
      "outputs": [
        {
          "output_type": "execute_result",
          "data": {
            "text/plain": [
              "array([[9, 8, 7],\n",
              "       [6, 5, 4]])"
            ]
          },
          "metadata": {},
          "execution_count": 498
        }
      ],
      "source": [
        "grid = np.array([ [9, 8, 7], [6, 5, 4] ])\n",
        "grid"
      ]
    },
    {
      "cell_type": "code",
      "execution_count": 499,
      "metadata": {
        "id": "giDxmh_L3zcB"
      },
      "outputs": [],
      "source": [
        "# Da error porque x tiene 1 dimensión y grid tiene 2 dimensiones\n",
        "# np.concatenate([x, grid], axis=0)"
      ]
    },
    {
      "cell_type": "code",
      "execution_count": 500,
      "metadata": {
        "scrolled": true,
        "colab": {
          "base_uri": "https://localhost:8080/"
        },
        "id": "meRPwAx73zcB",
        "outputId": "bea1c9b4-3dfd-4bdf-d100-d34a9f4d4b56"
      },
      "outputs": [
        {
          "output_type": "execute_result",
          "data": {
            "text/plain": [
              "array([[1, 2, 3],\n",
              "       [9, 8, 7],\n",
              "       [6, 5, 4]])"
            ]
          },
          "metadata": {},
          "execution_count": 500
        }
      ],
      "source": [
        "np.vstack([x, grid])"
      ]
    },
    {
      "cell_type": "markdown",
      "metadata": {
        "id": "Qyo14FuM3zcC"
      },
      "source": [
        "### hstack"
      ]
    },
    {
      "cell_type": "code",
      "execution_count": 501,
      "metadata": {
        "id": "3zRc4j813zcC"
      },
      "outputs": [],
      "source": [
        "# Da error porque x tiene 1 dimensión y grid tiene 2 dimensiones\n",
        "# np.hstack([x, grid])"
      ]
    },
    {
      "cell_type": "code",
      "execution_count": 502,
      "metadata": {
        "colab": {
          "base_uri": "https://localhost:8080/"
        },
        "id": "Vv48l9kj3zcC",
        "outputId": "5e9e375c-8203-4238-ab8f-a9023ed79b1a"
      },
      "outputs": [
        {
          "output_type": "execute_result",
          "data": {
            "text/plain": [
              "array([1, 2, 3, 4, 5, 6])"
            ]
          },
          "metadata": {},
          "execution_count": 502
        }
      ],
      "source": [
        "y = np.array([4, 5, 6])\n",
        "np.hstack([x, y])"
      ]
    },
    {
      "cell_type": "code",
      "execution_count": 503,
      "metadata": {
        "colab": {
          "base_uri": "https://localhost:8080/"
        },
        "id": "sHct357C3zcD",
        "outputId": "f0422217-ec68-423b-9bf6-bfade8a30fca"
      },
      "outputs": [
        {
          "output_type": "execute_result",
          "data": {
            "text/plain": [
              "array([[9, 8, 7],\n",
              "       [6, 5, 4]])"
            ]
          },
          "metadata": {},
          "execution_count": 503
        }
      ],
      "source": [
        "grid"
      ]
    },
    {
      "cell_type": "code",
      "execution_count": 504,
      "metadata": {
        "colab": {
          "base_uri": "https://localhost:8080/"
        },
        "id": "LaCu6s8F3zcD",
        "outputId": "0328622c-f4f0-4441-bda5-2ba190e853f9"
      },
      "outputs": [
        {
          "output_type": "execute_result",
          "data": {
            "text/plain": [
              "array([[99],\n",
              "       [99]])"
            ]
          },
          "metadata": {},
          "execution_count": 504
        }
      ],
      "source": [
        "y = np.array([[99], [99]])\n",
        "y"
      ]
    },
    {
      "cell_type": "code",
      "execution_count": 505,
      "metadata": {
        "scrolled": true,
        "colab": {
          "base_uri": "https://localhost:8080/"
        },
        "id": "OM-8DRl_3zcE",
        "outputId": "128bcf1b-5516-49a9-b5ee-ce77e05830b9"
      },
      "outputs": [
        {
          "output_type": "execute_result",
          "data": {
            "text/plain": [
              "array([[ 9,  8,  7, 99],\n",
              "       [ 6,  5,  4, 99]])"
            ]
          },
          "metadata": {},
          "execution_count": 505
        }
      ],
      "source": [
        "np.hstack([grid, y])"
      ]
    },
    {
      "cell_type": "code",
      "execution_count": 506,
      "metadata": {
        "colab": {
          "base_uri": "https://localhost:8080/"
        },
        "id": "r07_FvDL3zcE",
        "outputId": "53184afa-8956-4198-eeca-62038fa9ae65"
      },
      "outputs": [
        {
          "output_type": "execute_result",
          "data": {
            "text/plain": [
              "array([4, 5])"
            ]
          },
          "metadata": {},
          "execution_count": 506
        }
      ],
      "source": [
        "y = np.array([4, 5])\n",
        "y"
      ]
    },
    {
      "cell_type": "code",
      "execution_count": 507,
      "metadata": {
        "colab": {
          "base_uri": "https://localhost:8080/"
        },
        "id": "e9Ge-1Jy3zcE",
        "outputId": "febc1e56-9773-4ae1-b123-daa9cf51ee4a"
      },
      "outputs": [
        {
          "output_type": "execute_result",
          "data": {
            "text/plain": [
              "array([[4],\n",
              "       [5]])"
            ]
          },
          "metadata": {},
          "execution_count": 507
        }
      ],
      "source": [
        "y = y.reshape(2, 1)\n",
        "y"
      ]
    },
    {
      "cell_type": "code",
      "execution_count": 508,
      "metadata": {
        "colab": {
          "base_uri": "https://localhost:8080/"
        },
        "id": "6HBLFqN73zcF",
        "outputId": "8c5b7ebf-94c8-4181-de46-83320061ef7a"
      },
      "outputs": [
        {
          "output_type": "execute_result",
          "data": {
            "text/plain": [
              "array([[9, 8, 7, 4],\n",
              "       [6, 5, 4, 5]])"
            ]
          },
          "metadata": {},
          "execution_count": 508
        }
      ],
      "source": [
        "np.hstack([grid, y])"
      ]
    },
    {
      "cell_type": "markdown",
      "metadata": {
        "id": "28DDakT43zcF"
      },
      "source": [
        "## 8.  Separar arrays (split)"
      ]
    },
    {
      "cell_type": "markdown",
      "metadata": {
        "id": "3CUsmoqd3zcG"
      },
      "source": [
        "### split()"
      ]
    },
    {
      "cell_type": "code",
      "execution_count": 509,
      "metadata": {
        "colab": {
          "base_uri": "https://localhost:8080/"
        },
        "id": "FHJccx6O3zcG",
        "outputId": "7568a425-72d9-46c1-db12-2098297db509"
      },
      "outputs": [
        {
          "output_type": "execute_result",
          "data": {
            "text/plain": [
              "[1, 2, 3, 99, 99, 3, 2, 1]"
            ]
          },
          "metadata": {},
          "execution_count": 509
        }
      ],
      "source": [
        "x = [1, 2, 3, 99, 99, 3, 2, 1]\n",
        "x"
      ]
    },
    {
      "cell_type": "code",
      "execution_count": 510,
      "metadata": {
        "colab": {
          "base_uri": "https://localhost:8080/"
        },
        "id": "17AJwDrD3zcH",
        "outputId": "2fd762a6-5a37-4a8a-92b2-568c8ce1a20d"
      },
      "outputs": [
        {
          "output_type": "stream",
          "name": "stdout",
          "text": [
            "[1 2 3]\n",
            "[99 99]\n",
            "[3 2 1]\n"
          ]
        }
      ],
      "source": [
        "x1, x2, x3 = np.split(x, [3, 5])\n",
        "print(x1)\n",
        "print(x2)\n",
        "print(x3)"
      ]
    },
    {
      "cell_type": "markdown",
      "metadata": {
        "id": "u6LJcP9u3zcH"
      },
      "source": [
        "### vsplit()"
      ]
    },
    {
      "cell_type": "code",
      "execution_count": 511,
      "metadata": {
        "colab": {
          "base_uri": "https://localhost:8080/"
        },
        "id": "vPeAC8Xi3zcH",
        "outputId": "7bd44b7d-3154-45e7-ffdc-de62025e5354"
      },
      "outputs": [
        {
          "output_type": "execute_result",
          "data": {
            "text/plain": [
              "array([ 0,  1,  2,  3,  4,  5,  6,  7,  8,  9, 10, 11, 12, 13, 14, 15])"
            ]
          },
          "metadata": {},
          "execution_count": 511
        }
      ],
      "source": [
        "np.arange(16)"
      ]
    },
    {
      "cell_type": "code",
      "execution_count": 512,
      "metadata": {
        "scrolled": true,
        "colab": {
          "base_uri": "https://localhost:8080/"
        },
        "id": "dVIZSEhO3zcI",
        "outputId": "48f05e84-0dc7-4be7-9613-4617b63cb324"
      },
      "outputs": [
        {
          "output_type": "execute_result",
          "data": {
            "text/plain": [
              "array([[ 0,  1,  2,  3],\n",
              "       [ 4,  5,  6,  7],\n",
              "       [ 8,  9, 10, 11],\n",
              "       [12, 13, 14, 15]])"
            ]
          },
          "metadata": {},
          "execution_count": 512
        }
      ],
      "source": [
        "grid = np.arange(16).reshape((4, 4))\n",
        "grid"
      ]
    },
    {
      "cell_type": "code",
      "execution_count": 513,
      "metadata": {
        "colab": {
          "base_uri": "https://localhost:8080/"
        },
        "id": "9x86RVyT3zcK",
        "outputId": "7035cc9f-c33f-4cad-8fba-1285ae928f55"
      },
      "outputs": [
        {
          "output_type": "stream",
          "name": "stdout",
          "text": [
            "[[0 1 2 3]]\n",
            "\n",
            "\n",
            "[[ 4  5  6  7]\n",
            " [ 8  9 10 11]\n",
            " [12 13 14 15]]\n"
          ]
        }
      ],
      "source": [
        "upper, lower = np.vsplit(grid, [1])\n",
        "print(upper)\n",
        "print('\\n')\n",
        "print(lower)"
      ]
    },
    {
      "cell_type": "code",
      "execution_count": 514,
      "metadata": {
        "colab": {
          "base_uri": "https://localhost:8080/"
        },
        "id": "fRlAj5_A3zcK",
        "outputId": "396ab682-0c4c-4371-cafd-3cb28e943463"
      },
      "outputs": [
        {
          "output_type": "stream",
          "name": "stdout",
          "text": [
            "[[0 1 2 3]\n",
            " [4 5 6 7]]\n",
            "\n",
            "\n",
            "[[ 8  9 10 11]\n",
            " [12 13 14 15]]\n"
          ]
        }
      ],
      "source": [
        "upper, lower = np.vsplit(grid, [2])\n",
        "print(upper)\n",
        "print('\\n')\n",
        "print(lower)"
      ]
    },
    {
      "cell_type": "code",
      "execution_count": 515,
      "metadata": {
        "scrolled": true,
        "colab": {
          "base_uri": "https://localhost:8080/"
        },
        "id": "wbQr1_Jz3zcL",
        "outputId": "f43218e3-5d58-4693-ec8b-e39fdb81801f"
      },
      "outputs": [
        {
          "output_type": "stream",
          "name": "stdout",
          "text": [
            "[[ 0  1  2  3]\n",
            " [ 4  5  6  7]\n",
            " [ 8  9 10 11]]\n",
            "\n",
            "\n",
            "[[12 13 14 15]]\n"
          ]
        }
      ],
      "source": [
        "upper, lower = np.vsplit(grid, [3])\n",
        "print(upper)\n",
        "print('\\n')\n",
        "print(lower)"
      ]
    },
    {
      "cell_type": "markdown",
      "metadata": {
        "id": "cYwDcCiq3zcL"
      },
      "source": [
        "### hsplit()"
      ]
    },
    {
      "cell_type": "code",
      "execution_count": 516,
      "metadata": {
        "scrolled": true,
        "colab": {
          "base_uri": "https://localhost:8080/"
        },
        "id": "_F1_qqzA3zcM",
        "outputId": "c0b5cd96-abb8-4de9-cc04-fd9282f13385"
      },
      "outputs": [
        {
          "output_type": "execute_result",
          "data": {
            "text/plain": [
              "array([[ 0,  1,  2,  3],\n",
              "       [ 4,  5,  6,  7],\n",
              "       [ 8,  9, 10, 11],\n",
              "       [12, 13, 14, 15]])"
            ]
          },
          "metadata": {},
          "execution_count": 516
        }
      ],
      "source": [
        "grid"
      ]
    },
    {
      "cell_type": "code",
      "execution_count": 517,
      "metadata": {
        "colab": {
          "base_uri": "https://localhost:8080/"
        },
        "id": "xNmWp0oQ3zcM",
        "outputId": "2abff5bb-f6a2-4500-dd54-7eb518bb33d6"
      },
      "outputs": [
        {
          "output_type": "stream",
          "name": "stdout",
          "text": [
            "[[ 0  1]\n",
            " [ 4  5]\n",
            " [ 8  9]\n",
            " [12 13]]\n",
            "\n",
            "\n",
            "[[ 2  3]\n",
            " [ 6  7]\n",
            " [10 11]\n",
            " [14 15]]\n"
          ]
        }
      ],
      "source": [
        "left, right = np.hsplit(grid, [2])\n",
        "print(left)\n",
        "print('\\n')\n",
        "print(right)"
      ]
    },
    {
      "cell_type": "code",
      "execution_count": 518,
      "metadata": {
        "scrolled": true,
        "colab": {
          "base_uri": "https://localhost:8080/"
        },
        "id": "Zoq7V4043zcN",
        "outputId": "74ccab89-81c8-4c57-fb1a-944fd1f34da3"
      },
      "outputs": [
        {
          "output_type": "stream",
          "name": "stdout",
          "text": [
            "[[ 0  1  2]\n",
            " [ 4  5  6]\n",
            " [ 8  9 10]\n",
            " [12 13 14]]\n",
            "\n",
            "\n",
            "[[ 3]\n",
            " [ 7]\n",
            " [11]\n",
            " [15]]\n"
          ]
        }
      ],
      "source": [
        "left, right = np.hsplit(grid, [3])\n",
        "print(left)\n",
        "print('\\n')\n",
        "print(right)"
      ]
    },
    {
      "cell_type": "markdown",
      "metadata": {
        "id": "ZOUUp4gh3zcN"
      },
      "source": [
        "## 9. Operaciones sobre arrays\n",
        "\n",
        "* https://numpy.org/doc/stable/reference/ufuncs.html#available-ufuncs\n",
        "* https://numpy.org/doc/stable/reference/routines.html\n",
        "* https://numpy.org/doc/stable/reference/routines.math.html\n",
        "* https://numpy.org/doc/stable/reference/routines.statistics.html\n"
      ]
    },
    {
      "cell_type": "markdown",
      "metadata": {
        "id": "UKw7T2vj3zcN"
      },
      "source": [
        "### aritméticas"
      ]
    },
    {
      "cell_type": "code",
      "execution_count": 519,
      "metadata": {
        "id": "KFEYO2uZ3zcO"
      },
      "outputs": [],
      "source": [
        "# listas de python\n",
        "# numbers = [1,2,3]\n",
        "# numbers + 2  # TypeError: can only concatenate list (not \"int\") to list"
      ]
    },
    {
      "cell_type": "code",
      "execution_count": 520,
      "metadata": {
        "colab": {
          "base_uri": "https://localhost:8080/"
        },
        "id": "anMLMu013zcO",
        "outputId": "c5a655ce-743f-4cbb-b707-feb0f980b172"
      },
      "outputs": [
        {
          "output_type": "execute_result",
          "data": {
            "text/plain": [
              "array([0, 1, 2, 3])"
            ]
          },
          "metadata": {},
          "execution_count": 520
        }
      ],
      "source": [
        "x = np.arange(4)\n",
        "x"
      ]
    },
    {
      "cell_type": "code",
      "execution_count": 521,
      "metadata": {
        "scrolled": true,
        "colab": {
          "base_uri": "https://localhost:8080/"
        },
        "id": "3w5s13T03zcP",
        "outputId": "056bdf2f-8e3b-4604-d603-0c862c0320e3"
      },
      "outputs": [
        {
          "output_type": "stream",
          "name": "stdout",
          "text": [
            "x + 5 = [5 6 7 8]\n",
            "x - 5 = [-5 -4 -3 -2]\n",
            "x * 2 = [0 2 4 6]\n",
            "x / 2 = [0.  0.5 1.  1.5]\n",
            "x // 2 = [0 0 1 1]\n",
            "x ** 2 = [0 1 4 9]\n",
            "-x =  [ 0 -1 -2 -3]\n",
            "x % 2 =  [0 1 0 1]\n"
          ]
        }
      ],
      "source": [
        "print(\"x + 5 =\", x + 5)\n",
        "print(\"x - 5 =\", x - 5)\n",
        "print(\"x * 2 =\", x * 2)\n",
        "print(\"x / 2 =\", x / 2)\n",
        "print(\"x // 2 =\", x // 2)\n",
        "print(\"x ** 2 =\", x ** 2)\n",
        "print(\"-x = \", -x)\n",
        "print(\"x % 2 = \", x % 2)"
      ]
    },
    {
      "cell_type": "code",
      "execution_count": 522,
      "metadata": {
        "colab": {
          "base_uri": "https://localhost:8080/"
        },
        "id": "oziF3x4-3zcP",
        "outputId": "3aebee71-b82b-4ed2-e44a-79c875d51787"
      },
      "outputs": [
        {
          "output_type": "execute_result",
          "data": {
            "text/plain": [
              "array([-1.  , -2.25, -4.  , -6.25])"
            ]
          },
          "metadata": {},
          "execution_count": 522
        }
      ],
      "source": [
        "-(0.5*x + 1) ** 2"
      ]
    },
    {
      "cell_type": "code",
      "execution_count": 523,
      "metadata": {
        "colab": {
          "base_uri": "https://localhost:8080/"
        },
        "id": "nCd-eOSO3zcQ",
        "outputId": "b2e25ba0-a25d-4803-e873-07cc1df1d117"
      },
      "outputs": [
        {
          "output_type": "stream",
          "name": "stdout",
          "text": [
            "[0 1 2 3 4]\n",
            "[1 2 3 4 5]\n"
          ]
        }
      ],
      "source": [
        "print(np.arange(5))\n",
        "print(np.arange(1,6))"
      ]
    },
    {
      "cell_type": "code",
      "execution_count": 524,
      "metadata": {
        "colab": {
          "base_uri": "https://localhost:8080/"
        },
        "id": "KdBIin--3zcQ",
        "outputId": "47478634-fe5d-457f-ba55-fb70eedcfee1"
      },
      "outputs": [
        {
          "output_type": "execute_result",
          "data": {
            "text/plain": [
              "array([0.        , 0.5       , 0.66666667, 0.75      , 0.8       ])"
            ]
          },
          "metadata": {},
          "execution_count": 524
        }
      ],
      "source": [
        "np.arange(5) / np.arange(1, 6)"
      ]
    },
    {
      "cell_type": "code",
      "execution_count": 525,
      "metadata": {
        "colab": {
          "base_uri": "https://localhost:8080/"
        },
        "id": "xlHqh3IC3zcR",
        "outputId": "a3945315-beee-49f1-bae7-923c02fcfe2a"
      },
      "outputs": [
        {
          "output_type": "execute_result",
          "data": {
            "text/plain": [
              "array([0, 0, 0, 0, 0])"
            ]
          },
          "metadata": {},
          "execution_count": 525
        }
      ],
      "source": [
        "np.arange(5) // np.arange(1, 6)  # División suelo elimina la parte decimal"
      ]
    },
    {
      "cell_type": "code",
      "execution_count": 526,
      "metadata": {
        "colab": {
          "base_uri": "https://localhost:8080/"
        },
        "id": "iPNl_irn3zcR",
        "outputId": "2c81dba5-3546-433c-87ab-1f5fe5a7c205"
      },
      "outputs": [
        {
          "output_type": "execute_result",
          "data": {
            "text/plain": [
              "array([[0, 1, 2],\n",
              "       [3, 4, 5],\n",
              "       [6, 7, 8]])"
            ]
          },
          "metadata": {},
          "execution_count": 526
        }
      ],
      "source": [
        "x = np.arange(9).reshape((3, 3))\n",
        "x"
      ]
    },
    {
      "cell_type": "code",
      "execution_count": 527,
      "metadata": {
        "colab": {
          "base_uri": "https://localhost:8080/"
        },
        "id": "bOullOWf3zcS",
        "outputId": "4c3b27d0-ca11-4301-a184-a3b3f23abeee"
      },
      "outputs": [
        {
          "output_type": "execute_result",
          "data": {
            "text/plain": [
              "array([[  1,   2,   4],\n",
              "       [  8,  16,  32],\n",
              "       [ 64, 128, 256]])"
            ]
          },
          "metadata": {},
          "execution_count": 527
        }
      ],
      "source": [
        "2 ** x"
      ]
    },
    {
      "cell_type": "code",
      "execution_count": 528,
      "metadata": {
        "colab": {
          "base_uri": "https://localhost:8080/"
        },
        "id": "qtFvoRgL3zcS",
        "outputId": "f04149f7-98ac-4dae-8f56-6a13089d0433"
      },
      "outputs": [
        {
          "output_type": "execute_result",
          "data": {
            "text/plain": [
              "array([[ 0,  1,  4],\n",
              "       [ 9, 16, 25],\n",
              "       [36, 49, 64]])"
            ]
          },
          "metadata": {},
          "execution_count": 528
        }
      ],
      "source": [
        "x ** 2"
      ]
    },
    {
      "cell_type": "markdown",
      "metadata": {
        "id": "jO-vOMo63zcT"
      },
      "source": [
        "### np.absolute"
      ]
    },
    {
      "cell_type": "code",
      "execution_count": 529,
      "metadata": {
        "colab": {
          "base_uri": "https://localhost:8080/"
        },
        "id": "PVulFW003zcT",
        "outputId": "3c479261-914d-44be-dc4a-2e7467f380ea"
      },
      "outputs": [
        {
          "output_type": "execute_result",
          "data": {
            "text/plain": [
              "array([-2, -1,  0,  1,  2])"
            ]
          },
          "metadata": {},
          "execution_count": 529
        }
      ],
      "source": [
        "x = np.array([-2, -1, 0, 1, 2])\n",
        "x"
      ]
    },
    {
      "cell_type": "code",
      "execution_count": 530,
      "metadata": {
        "colab": {
          "base_uri": "https://localhost:8080/"
        },
        "id": "X53LtfGz3zcU",
        "outputId": "f6ef99cc-575f-462a-de79-10f2e79b9849"
      },
      "outputs": [
        {
          "output_type": "execute_result",
          "data": {
            "text/plain": [
              "array([2, 1, 0, 1, 2])"
            ]
          },
          "metadata": {},
          "execution_count": 530
        }
      ],
      "source": [
        "np.absolute(x)  # ``np.abs`` is a shorthand for this function."
      ]
    },
    {
      "cell_type": "code",
      "execution_count": 531,
      "metadata": {
        "colab": {
          "base_uri": "https://localhost:8080/"
        },
        "id": "rgINBS1S3zcU",
        "outputId": "c5cfb2e7-7566-4f2c-c60a-f5acb27da462"
      },
      "outputs": [
        {
          "output_type": "execute_result",
          "data": {
            "text/plain": [
              "array([2, 1, 0, 1, 2])"
            ]
          },
          "metadata": {},
          "execution_count": 531
        }
      ],
      "source": [
        "np.abs(x)"
      ]
    },
    {
      "cell_type": "markdown",
      "metadata": {
        "id": "Fq_M6TE-3zcV"
      },
      "source": [
        "### trigonométricas"
      ]
    },
    {
      "cell_type": "code",
      "execution_count": 532,
      "metadata": {
        "colab": {
          "base_uri": "https://localhost:8080/"
        },
        "id": "pxFQ6mtF3zcV",
        "outputId": "70ef5bda-4fa9-450c-d1fb-68fda0a816b5"
      },
      "outputs": [
        {
          "output_type": "execute_result",
          "data": {
            "text/plain": [
              "array([0.        , 1.57079633, 3.14159265])"
            ]
          },
          "metadata": {},
          "execution_count": 532
        }
      ],
      "source": [
        "theta = np.linspace(0, np.pi, 3)\n",
        "theta"
      ]
    },
    {
      "cell_type": "code",
      "execution_count": 533,
      "metadata": {
        "colab": {
          "base_uri": "https://localhost:8080/"
        },
        "id": "u7Sp7Iog3zcW",
        "outputId": "1e4385b5-7c0c-4959-e15d-ea7187960203"
      },
      "outputs": [
        {
          "output_type": "stream",
          "name": "stdout",
          "text": [
            "theta      = [0.         1.57079633 3.14159265]\n",
            "sin(theta) = [0.0000000e+00 1.0000000e+00 1.2246468e-16]\n",
            "cos(theta) = [ 1.000000e+00  6.123234e-17 -1.000000e+00]\n",
            "tag(theta) = [ 0.00000000e+00  1.63312394e+16 -1.22464680e-16]\n"
          ]
        }
      ],
      "source": [
        "print(\"theta      =\", theta)\n",
        "print(\"sin(theta) =\", np.sin(theta))\n",
        "print(\"cos(theta) =\", np.cos(theta))\n",
        "print(\"tag(theta) =\", np.tan(theta))"
      ]
    },
    {
      "cell_type": "code",
      "execution_count": 534,
      "metadata": {
        "id": "9q-S26zk3zcW"
      },
      "outputs": [],
      "source": [
        "x = [-1, 0, 1]"
      ]
    },
    {
      "cell_type": "code",
      "execution_count": 535,
      "metadata": {
        "colab": {
          "base_uri": "https://localhost:8080/"
        },
        "id": "QUH5kz9y3zcX",
        "outputId": "29f25519-c2d4-437a-df94-9dcd463cd81b"
      },
      "outputs": [
        {
          "output_type": "stream",
          "name": "stdout",
          "text": [
            "arcsin(x) = [-1.57079633  0.          1.57079633]\n",
            "arccos(x) = [3.14159265 1.57079633 0.        ]\n",
            "arctan(x) = [-0.78539816  0.          0.78539816]\n"
          ]
        }
      ],
      "source": [
        "print(\"arcsin(x) =\", np.arcsin(x))\n",
        "print(\"arccos(x) =\", np.arccos(x))\n",
        "print(\"arctan(x) =\", np.arctan(x))"
      ]
    },
    {
      "cell_type": "markdown",
      "metadata": {
        "id": "CtWK7Pdx3zcX"
      },
      "source": [
        "### exponenciales y logarítmicas"
      ]
    },
    {
      "cell_type": "code",
      "execution_count": 536,
      "metadata": {
        "colab": {
          "base_uri": "https://localhost:8080/"
        },
        "id": "4jZPjCgX3zcY",
        "outputId": "5715a9b2-b8dd-4568-e203-8b4c813152f5"
      },
      "outputs": [
        {
          "output_type": "execute_result",
          "data": {
            "text/plain": [
              "[1, 2, 3]"
            ]
          },
          "metadata": {},
          "execution_count": 536
        }
      ],
      "source": [
        "x = [1, 2, 3]\n",
        "x"
      ]
    },
    {
      "cell_type": "code",
      "execution_count": 537,
      "metadata": {
        "colab": {
          "base_uri": "https://localhost:8080/"
        },
        "id": "X912ASVR3zca",
        "outputId": "f54d2a34-f687-43d7-e5c1-a10f1532be08"
      },
      "outputs": [
        {
          "output_type": "stream",
          "name": "stdout",
          "text": [
            "e^x   = [ 2.71828183  7.3890561  20.08553692]\n",
            "2^x   = [2. 4. 8.]\n",
            "4^x   = [ 4 16 64]\n"
          ]
        }
      ],
      "source": [
        "print(\"e^x   =\", np.exp(x))\n",
        "print(\"2^x   =\", np.exp2(x))\n",
        "print(\"4^x   =\", np.power(4, x))"
      ]
    },
    {
      "cell_type": "code",
      "execution_count": 538,
      "metadata": {
        "colab": {
          "base_uri": "https://localhost:8080/"
        },
        "id": "YR3poaYp3zcb",
        "outputId": "dc82729f-3c11-485f-d5eb-839e3493f6b5"
      },
      "outputs": [
        {
          "output_type": "execute_result",
          "data": {
            "text/plain": [
              "[1, 2, 4, 10]"
            ]
          },
          "metadata": {},
          "execution_count": 538
        }
      ],
      "source": [
        "x = [1, 2, 4, 10]\n",
        "x"
      ]
    },
    {
      "cell_type": "code",
      "execution_count": 539,
      "metadata": {
        "colab": {
          "base_uri": "https://localhost:8080/"
        },
        "id": "75PHBuDv3zcb",
        "outputId": "f0f6611d-2e4e-4c6d-df80-88f9d2c1eed8"
      },
      "outputs": [
        {
          "output_type": "stream",
          "name": "stdout",
          "text": [
            "ln(x)   = [0.         0.69314718 1.38629436 2.30258509]\n",
            "ln2(x)   = [0.         1.         2.         3.32192809]\n",
            "ln10(x)   = [0.         0.30103    0.60205999 1.        ]\n"
          ]
        }
      ],
      "source": [
        "print(\"ln(x)   =\", np.log(x))\n",
        "print(\"ln2(x)   =\", np.log2(x))\n",
        "print(\"ln10(x)   =\", np.log10(x))"
      ]
    },
    {
      "cell_type": "code",
      "execution_count": 540,
      "metadata": {
        "colab": {
          "base_uri": "https://localhost:8080/"
        },
        "id": "HUjTGfsL3zcc",
        "outputId": "2cb9f85b-e67d-4844-8067-36fa18042e2a"
      },
      "outputs": [
        {
          "output_type": "execute_result",
          "data": {
            "text/plain": [
              "array([0, 1, 2, 3, 4])"
            ]
          },
          "metadata": {},
          "execution_count": 540
        }
      ],
      "source": [
        "x = np.arange(5)\n",
        "x"
      ]
    },
    {
      "cell_type": "code",
      "execution_count": 541,
      "metadata": {
        "colab": {
          "base_uri": "https://localhost:8080/"
        },
        "id": "0fpDqNbn3zcc",
        "outputId": "61a3d681-d729-43ee-ed14-e4c13c37daf8"
      },
      "outputs": [
        {
          "output_type": "execute_result",
          "data": {
            "text/plain": [
              "array([ 0., 10., 20., 30., 40.])"
            ]
          },
          "metadata": {},
          "execution_count": 541
        }
      ],
      "source": [
        "y = np.empty(5)\n",
        "np.multiply(x, 10, out=y)"
      ]
    },
    {
      "cell_type": "code",
      "execution_count": 542,
      "metadata": {
        "colab": {
          "base_uri": "https://localhost:8080/"
        },
        "id": "MuUVVjSH3zcd",
        "outputId": "3a96aece-71f5-421c-f217-15c26505d394"
      },
      "outputs": [
        {
          "output_type": "execute_result",
          "data": {
            "text/plain": [
              "array([ 0., 10., 20., 30., 40.])"
            ]
          },
          "metadata": {},
          "execution_count": 542
        }
      ],
      "source": [
        "y"
      ]
    },
    {
      "cell_type": "markdown",
      "metadata": {
        "id": "groWrANL3zcd"
      },
      "source": [
        "### reduce"
      ]
    },
    {
      "cell_type": "code",
      "execution_count": 543,
      "metadata": {
        "colab": {
          "base_uri": "https://localhost:8080/"
        },
        "id": "H4T_8nWZ3zce",
        "outputId": "d87ee8ca-545e-40e5-f10a-4616e42ab266"
      },
      "outputs": [
        {
          "output_type": "execute_result",
          "data": {
            "text/plain": [
              "array([1, 2, 3, 4, 5])"
            ]
          },
          "metadata": {},
          "execution_count": 543
        }
      ],
      "source": [
        "x = np.arange(1, 6)\n",
        "x"
      ]
    },
    {
      "cell_type": "code",
      "execution_count": 544,
      "metadata": {
        "colab": {
          "base_uri": "https://localhost:8080/"
        },
        "id": "W3fJXrhI3zce",
        "outputId": "644dd7e7-5273-420e-8472-87f8a3571395"
      },
      "outputs": [
        {
          "output_type": "execute_result",
          "data": {
            "text/plain": [
              "array([ 6,  7,  8,  9, 10])"
            ]
          },
          "metadata": {},
          "execution_count": 544
        }
      ],
      "source": [
        "x + 5"
      ]
    },
    {
      "cell_type": "code",
      "execution_count": 545,
      "metadata": {
        "colab": {
          "base_uri": "https://localhost:8080/"
        },
        "id": "Ssh30uru3zcf",
        "outputId": "bd382663-a93e-4079-ff7d-26a99ea58995"
      },
      "outputs": [
        {
          "output_type": "execute_result",
          "data": {
            "text/plain": [
              "array([ 6,  7,  8,  9, 10])"
            ]
          },
          "metadata": {},
          "execution_count": 545
        }
      ],
      "source": [
        "np.add(x, 5)"
      ]
    },
    {
      "cell_type": "code",
      "execution_count": 546,
      "metadata": {
        "colab": {
          "base_uri": "https://localhost:8080/"
        },
        "id": "O2Q_ZCEI3zcf",
        "outputId": "52b61fd2-29d5-46e1-d077-378f8f38f1ab"
      },
      "outputs": [
        {
          "output_type": "stream",
          "name": "stdout",
          "text": [
            "1\n",
            "3\n",
            "6\n",
            "10\n",
            "15\n"
          ]
        }
      ],
      "source": [
        "cont = 0\n",
        "for i in x:\n",
        "    cont += i; print(cont)"
      ]
    },
    {
      "cell_type": "code",
      "execution_count": 547,
      "metadata": {
        "colab": {
          "base_uri": "https://localhost:8080/"
        },
        "id": "hPy8emC63zcg",
        "outputId": "740298ae-5648-4142-9005-30c19efc698b"
      },
      "outputs": [
        {
          "output_type": "execute_result",
          "data": {
            "text/plain": [
              "np.int64(15)"
            ]
          },
          "metadata": {},
          "execution_count": 547
        }
      ],
      "source": [
        "np.add.reduce(x)  # lo mismo que lo anterior pero más óptimo"
      ]
    },
    {
      "cell_type": "code",
      "execution_count": 548,
      "metadata": {
        "colab": {
          "base_uri": "https://localhost:8080/"
        },
        "id": "GPvqkiBY3zcg",
        "outputId": "f76a8743-97f8-4efd-f99a-1779ee655f33"
      },
      "outputs": [
        {
          "output_type": "execute_result",
          "data": {
            "text/plain": [
              "np.int64(120)"
            ]
          },
          "metadata": {},
          "execution_count": 548
        }
      ],
      "source": [
        "np.multiply.reduce(x)"
      ]
    },
    {
      "cell_type": "markdown",
      "metadata": {
        "id": "BfSjnRTp3zcg"
      },
      "source": [
        "### accumulate"
      ]
    },
    {
      "cell_type": "code",
      "execution_count": 549,
      "metadata": {
        "colab": {
          "base_uri": "https://localhost:8080/"
        },
        "id": "QqDp3FG13zch",
        "outputId": "32205008-7cd4-4d1a-e7cf-2ef1804f1392"
      },
      "outputs": [
        {
          "output_type": "execute_result",
          "data": {
            "text/plain": [
              "array([1, 2, 3, 4, 5])"
            ]
          },
          "metadata": {},
          "execution_count": 549
        }
      ],
      "source": [
        "x"
      ]
    },
    {
      "cell_type": "code",
      "execution_count": 550,
      "metadata": {
        "colab": {
          "base_uri": "https://localhost:8080/"
        },
        "id": "BWiNZR283zco",
        "outputId": "4cf41d89-b0f6-475c-edf1-6edbcb760809"
      },
      "outputs": [
        {
          "output_type": "execute_result",
          "data": {
            "text/plain": [
              "array([ 1,  3,  6, 10, 15])"
            ]
          },
          "metadata": {},
          "execution_count": 550
        }
      ],
      "source": [
        "np.add.accumulate(x)"
      ]
    },
    {
      "cell_type": "code",
      "execution_count": 551,
      "metadata": {
        "colab": {
          "base_uri": "https://localhost:8080/"
        },
        "id": "VgB7WZcy3zcp",
        "outputId": "1acd67a2-aa40-480f-ba6b-38774c634c03"
      },
      "outputs": [
        {
          "output_type": "execute_result",
          "data": {
            "text/plain": [
              "array([  1,   2,   6,  24, 120])"
            ]
          },
          "metadata": {},
          "execution_count": 551
        }
      ],
      "source": [
        "np.multiply.accumulate(x)"
      ]
    },
    {
      "cell_type": "markdown",
      "metadata": {
        "id": "l1bHofVt3zcq"
      },
      "source": [
        "### outer()"
      ]
    },
    {
      "cell_type": "code",
      "execution_count": 552,
      "outputs": [
        {
          "output_type": "stream",
          "name": "stdout",
          "text": [
            "[1 2 3 4 5]\n"
          ]
        }
      ],
      "source": [
        "print(x)"
      ],
      "metadata": {
        "colab": {
          "base_uri": "https://localhost:8080/"
        },
        "id": "5Xdo2uKs3zcr",
        "outputId": "a0fcfb07-155e-420d-f286-03f224ee9a7d"
      }
    },
    {
      "cell_type": "code",
      "execution_count": 553,
      "metadata": {
        "colab": {
          "base_uri": "https://localhost:8080/"
        },
        "id": "HMo0H7Z63zcs",
        "outputId": "bdfda557-d36a-43b9-bc0c-59334c865312"
      },
      "outputs": [
        {
          "output_type": "execute_result",
          "data": {
            "text/plain": [
              "array([[ 1,  2,  3,  4,  5],\n",
              "       [ 2,  4,  6,  8, 10],\n",
              "       [ 3,  6,  9, 12, 15],\n",
              "       [ 4,  8, 12, 16, 20],\n",
              "       [ 5, 10, 15, 20, 25]])"
            ]
          },
          "metadata": {},
          "execution_count": 553
        }
      ],
      "source": [
        "np.multiply.outer(x, x)"
      ]
    },
    {
      "cell_type": "markdown",
      "metadata": {
        "id": "ss5XStr_3zcs"
      },
      "source": [
        "### min(), max(), sum()"
      ]
    },
    {
      "cell_type": "code",
      "execution_count": 554,
      "metadata": {
        "id": "abP0n8Yf3zcs"
      },
      "outputs": [],
      "source": [
        "big_array = np.random.rand(10000)"
      ]
    },
    {
      "cell_type": "code",
      "execution_count": 555,
      "metadata": {
        "id": "LMXPfJ9C3zct"
      },
      "outputs": [],
      "source": [
        "# descomentar para evaluar, puede tardar un poco en ejecutar\n",
        "# %timeit sum(big_array)\n",
        "# %timeit np.sum(big_array)"
      ]
    },
    {
      "cell_type": "code",
      "execution_count": 556,
      "metadata": {
        "colab": {
          "base_uri": "https://localhost:8080/"
        },
        "id": "v6XZlxSW3zct",
        "outputId": "c6b59222-0ff9-4ce5-806a-80cd6f2a3d95"
      },
      "outputs": [
        {
          "output_type": "execute_result",
          "data": {
            "text/plain": [
              "np.float64(2.0027530115096503e-05)"
            ]
          },
          "metadata": {},
          "execution_count": 556
        }
      ],
      "source": [
        "np.min(big_array)"
      ]
    },
    {
      "cell_type": "code",
      "execution_count": 557,
      "metadata": {
        "colab": {
          "base_uri": "https://localhost:8080/"
        },
        "id": "YvbaWVJo3zcu",
        "outputId": "dbd406e4-c1f7-4953-d763-c1e3d3e247dc"
      },
      "outputs": [
        {
          "output_type": "execute_result",
          "data": {
            "text/plain": [
              "np.float64(0.9999709462497284)"
            ]
          },
          "metadata": {},
          "execution_count": 557
        }
      ],
      "source": [
        "np.max(big_array)"
      ]
    },
    {
      "cell_type": "code",
      "execution_count": 558,
      "metadata": {
        "colab": {
          "base_uri": "https://localhost:8080/"
        },
        "id": "reUdZka83zcu",
        "outputId": "36e21510-9817-4d97-8693-d937661d3371"
      },
      "outputs": [
        {
          "output_type": "execute_result",
          "data": {
            "text/plain": [
              "array([[0.27720631, 0.92986366, 0.87019482, 0.42864927],\n",
              "       [0.79020752, 0.53822602, 0.10914046, 0.06830124],\n",
              "       [0.2574038 , 0.29826429, 0.47546038, 0.4323291 ]])"
            ]
          },
          "metadata": {},
          "execution_count": 558
        }
      ],
      "source": [
        "matrix = np.random.random((3, 4))\n",
        "matrix"
      ]
    },
    {
      "cell_type": "code",
      "execution_count": 559,
      "metadata": {
        "colab": {
          "base_uri": "https://localhost:8080/"
        },
        "id": "i-d7T-ph3zcv",
        "outputId": "3c08f0ee-5414-4886-cd4f-d07eaa350bff"
      },
      "outputs": [
        {
          "output_type": "execute_result",
          "data": {
            "text/plain": [
              "np.float64(5.475246863457526)"
            ]
          },
          "metadata": {},
          "execution_count": 559
        }
      ],
      "source": [
        "matrix.sum()"
      ]
    },
    {
      "cell_type": "code",
      "execution_count": 560,
      "metadata": {
        "colab": {
          "base_uri": "https://localhost:8080/"
        },
        "id": "KAYPyc-83zcv",
        "outputId": "4665b050-91a8-4dcb-82bb-64ce36dc769c"
      },
      "outputs": [
        {
          "output_type": "execute_result",
          "data": {
            "text/plain": [
              "np.float64(0.06830124015122596)"
            ]
          },
          "metadata": {},
          "execution_count": 560
        }
      ],
      "source": [
        "matrix.min()"
      ]
    },
    {
      "cell_type": "code",
      "execution_count": 561,
      "metadata": {
        "colab": {
          "base_uri": "https://localhost:8080/"
        },
        "id": "rLD9SGLB3zcw",
        "outputId": "f9c90d55-6114-41c2-eae4-a0668ce70f8a"
      },
      "outputs": [
        {
          "output_type": "execute_result",
          "data": {
            "text/plain": [
              "array([0.2574038 , 0.29826429, 0.10914046, 0.06830124])"
            ]
          },
          "metadata": {},
          "execution_count": 561
        }
      ],
      "source": [
        "matrix.min(axis=0)"
      ]
    },
    {
      "cell_type": "code",
      "execution_count": 562,
      "metadata": {
        "scrolled": true,
        "colab": {
          "base_uri": "https://localhost:8080/"
        },
        "id": "oRDdf5I13zcw",
        "outputId": "1e655109-7616-4638-b9de-7d3c1eb8b36a"
      },
      "outputs": [
        {
          "output_type": "execute_result",
          "data": {
            "text/plain": [
              "array([0.27720631, 0.06830124, 0.2574038 ])"
            ]
          },
          "metadata": {},
          "execution_count": 562
        }
      ],
      "source": [
        "matrix.min(axis=1)"
      ]
    },
    {
      "cell_type": "markdown",
      "metadata": {
        "id": "lNRfyzOo3zcw"
      },
      "source": [
        "### Ejemplo"
      ]
    },
    {
      "cell_type": "code",
      "source": [
        "from google.colab import drive\n",
        "drive.mount('/content/drive')"
      ],
      "metadata": {
        "colab": {
          "base_uri": "https://localhost:8080/"
        },
        "collapsed": true,
        "id": "N6wPbr3o4i76",
        "outputId": "cdd493d9-dc0a-4235-b5bf-6db193a461f5"
      },
      "execution_count": 563,
      "outputs": [
        {
          "output_type": "stream",
          "name": "stdout",
          "text": [
            "Drive already mounted at /content/drive; to attempt to forcibly remount, call drive.mount(\"/content/drive\", force_remount=True).\n"
          ]
        }
      ]
    },
    {
      "cell_type": "code",
      "execution_count": 564,
      "metadata": {
        "id": "Zrn6Ulgd3zcx"
      },
      "outputs": [],
      "source": [
        "# !pip install pandas"
      ]
    },
    {
      "cell_type": "code",
      "execution_count": 565,
      "metadata": {
        "colab": {
          "base_uri": "https://localhost:8080/",
          "height": 206
        },
        "id": "4CtpkuNA3zcx",
        "outputId": "3a2b7e51-f111-495a-ec54-23ee3a5a3cec"
      },
      "outputs": [
        {
          "output_type": "display_data",
          "data": {
            "text/plain": [
              "   order               name  height(cm)\n",
              "0      1  George Washington         189\n",
              "1      2         John Adams         170\n",
              "2      3   Thomas Jefferson         189\n",
              "3      4      James Madison         163\n",
              "4      5       James Monroe         183"
            ],
            "text/html": [
              "\n",
              "  <div id=\"df-92bb5454-ca44-4ddb-96e0-0b0305b34f1a\" class=\"colab-df-container\">\n",
              "    <div>\n",
              "<style scoped>\n",
              "    .dataframe tbody tr th:only-of-type {\n",
              "        vertical-align: middle;\n",
              "    }\n",
              "\n",
              "    .dataframe tbody tr th {\n",
              "        vertical-align: top;\n",
              "    }\n",
              "\n",
              "    .dataframe thead th {\n",
              "        text-align: right;\n",
              "    }\n",
              "</style>\n",
              "<table border=\"1\" class=\"dataframe\">\n",
              "  <thead>\n",
              "    <tr style=\"text-align: right;\">\n",
              "      <th></th>\n",
              "      <th>order</th>\n",
              "      <th>name</th>\n",
              "      <th>height(cm)</th>\n",
              "    </tr>\n",
              "  </thead>\n",
              "  <tbody>\n",
              "    <tr>\n",
              "      <th>0</th>\n",
              "      <td>1</td>\n",
              "      <td>George Washington</td>\n",
              "      <td>189</td>\n",
              "    </tr>\n",
              "    <tr>\n",
              "      <th>1</th>\n",
              "      <td>2</td>\n",
              "      <td>John Adams</td>\n",
              "      <td>170</td>\n",
              "    </tr>\n",
              "    <tr>\n",
              "      <th>2</th>\n",
              "      <td>3</td>\n",
              "      <td>Thomas Jefferson</td>\n",
              "      <td>189</td>\n",
              "    </tr>\n",
              "    <tr>\n",
              "      <th>3</th>\n",
              "      <td>4</td>\n",
              "      <td>James Madison</td>\n",
              "      <td>163</td>\n",
              "    </tr>\n",
              "    <tr>\n",
              "      <th>4</th>\n",
              "      <td>5</td>\n",
              "      <td>James Monroe</td>\n",
              "      <td>183</td>\n",
              "    </tr>\n",
              "  </tbody>\n",
              "</table>\n",
              "</div>\n",
              "    <div class=\"colab-df-buttons\">\n",
              "\n",
              "  <div class=\"colab-df-container\">\n",
              "    <button class=\"colab-df-convert\" onclick=\"convertToInteractive('df-92bb5454-ca44-4ddb-96e0-0b0305b34f1a')\"\n",
              "            title=\"Convert this dataframe to an interactive table.\"\n",
              "            style=\"display:none;\">\n",
              "\n",
              "  <svg xmlns=\"http://www.w3.org/2000/svg\" height=\"24px\" viewBox=\"0 -960 960 960\">\n",
              "    <path d=\"M120-120v-720h720v720H120Zm60-500h600v-160H180v160Zm220 220h160v-160H400v160Zm0 220h160v-160H400v160ZM180-400h160v-160H180v160Zm440 0h160v-160H620v160ZM180-180h160v-160H180v160Zm440 0h160v-160H620v160Z\"/>\n",
              "  </svg>\n",
              "    </button>\n",
              "\n",
              "  <style>\n",
              "    .colab-df-container {\n",
              "      display:flex;\n",
              "      gap: 12px;\n",
              "    }\n",
              "\n",
              "    .colab-df-convert {\n",
              "      background-color: #E8F0FE;\n",
              "      border: none;\n",
              "      border-radius: 50%;\n",
              "      cursor: pointer;\n",
              "      display: none;\n",
              "      fill: #1967D2;\n",
              "      height: 32px;\n",
              "      padding: 0 0 0 0;\n",
              "      width: 32px;\n",
              "    }\n",
              "\n",
              "    .colab-df-convert:hover {\n",
              "      background-color: #E2EBFA;\n",
              "      box-shadow: 0px 1px 2px rgba(60, 64, 67, 0.3), 0px 1px 3px 1px rgba(60, 64, 67, 0.15);\n",
              "      fill: #174EA6;\n",
              "    }\n",
              "\n",
              "    .colab-df-buttons div {\n",
              "      margin-bottom: 4px;\n",
              "    }\n",
              "\n",
              "    [theme=dark] .colab-df-convert {\n",
              "      background-color: #3B4455;\n",
              "      fill: #D2E3FC;\n",
              "    }\n",
              "\n",
              "    [theme=dark] .colab-df-convert:hover {\n",
              "      background-color: #434B5C;\n",
              "      box-shadow: 0px 1px 3px 1px rgba(0, 0, 0, 0.15);\n",
              "      filter: drop-shadow(0px 1px 2px rgba(0, 0, 0, 0.3));\n",
              "      fill: #FFFFFF;\n",
              "    }\n",
              "  </style>\n",
              "\n",
              "    <script>\n",
              "      const buttonEl =\n",
              "        document.querySelector('#df-92bb5454-ca44-4ddb-96e0-0b0305b34f1a button.colab-df-convert');\n",
              "      buttonEl.style.display =\n",
              "        google.colab.kernel.accessAllowed ? 'block' : 'none';\n",
              "\n",
              "      async function convertToInteractive(key) {\n",
              "        const element = document.querySelector('#df-92bb5454-ca44-4ddb-96e0-0b0305b34f1a');\n",
              "        const dataTable =\n",
              "          await google.colab.kernel.invokeFunction('convertToInteractive',\n",
              "                                                    [key], {});\n",
              "        if (!dataTable) return;\n",
              "\n",
              "        const docLinkHtml = 'Like what you see? Visit the ' +\n",
              "          '<a target=\"_blank\" href=https://colab.research.google.com/notebooks/data_table.ipynb>data table notebook</a>'\n",
              "          + ' to learn more about interactive tables.';\n",
              "        element.innerHTML = '';\n",
              "        dataTable['output_type'] = 'display_data';\n",
              "        await google.colab.output.renderOutput(dataTable, element);\n",
              "        const docLink = document.createElement('div');\n",
              "        docLink.innerHTML = docLinkHtml;\n",
              "        element.appendChild(docLink);\n",
              "      }\n",
              "    </script>\n",
              "  </div>\n",
              "\n",
              "\n",
              "    <div id=\"df-5e5e2c46-b2f3-4646-866d-c71ce08060e3\">\n",
              "      <button class=\"colab-df-quickchart\" onclick=\"quickchart('df-5e5e2c46-b2f3-4646-866d-c71ce08060e3')\"\n",
              "                title=\"Suggest charts\"\n",
              "                style=\"display:none;\">\n",
              "\n",
              "<svg xmlns=\"http://www.w3.org/2000/svg\" height=\"24px\"viewBox=\"0 0 24 24\"\n",
              "     width=\"24px\">\n",
              "    <g>\n",
              "        <path d=\"M19 3H5c-1.1 0-2 .9-2 2v14c0 1.1.9 2 2 2h14c1.1 0 2-.9 2-2V5c0-1.1-.9-2-2-2zM9 17H7v-7h2v7zm4 0h-2V7h2v10zm4 0h-2v-4h2v4z\"/>\n",
              "    </g>\n",
              "</svg>\n",
              "      </button>\n",
              "\n",
              "<style>\n",
              "  .colab-df-quickchart {\n",
              "      --bg-color: #E8F0FE;\n",
              "      --fill-color: #1967D2;\n",
              "      --hover-bg-color: #E2EBFA;\n",
              "      --hover-fill-color: #174EA6;\n",
              "      --disabled-fill-color: #AAA;\n",
              "      --disabled-bg-color: #DDD;\n",
              "  }\n",
              "\n",
              "  [theme=dark] .colab-df-quickchart {\n",
              "      --bg-color: #3B4455;\n",
              "      --fill-color: #D2E3FC;\n",
              "      --hover-bg-color: #434B5C;\n",
              "      --hover-fill-color: #FFFFFF;\n",
              "      --disabled-bg-color: #3B4455;\n",
              "      --disabled-fill-color: #666;\n",
              "  }\n",
              "\n",
              "  .colab-df-quickchart {\n",
              "    background-color: var(--bg-color);\n",
              "    border: none;\n",
              "    border-radius: 50%;\n",
              "    cursor: pointer;\n",
              "    display: none;\n",
              "    fill: var(--fill-color);\n",
              "    height: 32px;\n",
              "    padding: 0;\n",
              "    width: 32px;\n",
              "  }\n",
              "\n",
              "  .colab-df-quickchart:hover {\n",
              "    background-color: var(--hover-bg-color);\n",
              "    box-shadow: 0 1px 2px rgba(60, 64, 67, 0.3), 0 1px 3px 1px rgba(60, 64, 67, 0.15);\n",
              "    fill: var(--button-hover-fill-color);\n",
              "  }\n",
              "\n",
              "  .colab-df-quickchart-complete:disabled,\n",
              "  .colab-df-quickchart-complete:disabled:hover {\n",
              "    background-color: var(--disabled-bg-color);\n",
              "    fill: var(--disabled-fill-color);\n",
              "    box-shadow: none;\n",
              "  }\n",
              "\n",
              "  .colab-df-spinner {\n",
              "    border: 2px solid var(--fill-color);\n",
              "    border-color: transparent;\n",
              "    border-bottom-color: var(--fill-color);\n",
              "    animation:\n",
              "      spin 1s steps(1) infinite;\n",
              "  }\n",
              "\n",
              "  @keyframes spin {\n",
              "    0% {\n",
              "      border-color: transparent;\n",
              "      border-bottom-color: var(--fill-color);\n",
              "      border-left-color: var(--fill-color);\n",
              "    }\n",
              "    20% {\n",
              "      border-color: transparent;\n",
              "      border-left-color: var(--fill-color);\n",
              "      border-top-color: var(--fill-color);\n",
              "    }\n",
              "    30% {\n",
              "      border-color: transparent;\n",
              "      border-left-color: var(--fill-color);\n",
              "      border-top-color: var(--fill-color);\n",
              "      border-right-color: var(--fill-color);\n",
              "    }\n",
              "    40% {\n",
              "      border-color: transparent;\n",
              "      border-right-color: var(--fill-color);\n",
              "      border-top-color: var(--fill-color);\n",
              "    }\n",
              "    60% {\n",
              "      border-color: transparent;\n",
              "      border-right-color: var(--fill-color);\n",
              "    }\n",
              "    80% {\n",
              "      border-color: transparent;\n",
              "      border-right-color: var(--fill-color);\n",
              "      border-bottom-color: var(--fill-color);\n",
              "    }\n",
              "    90% {\n",
              "      border-color: transparent;\n",
              "      border-bottom-color: var(--fill-color);\n",
              "    }\n",
              "  }\n",
              "</style>\n",
              "\n",
              "      <script>\n",
              "        async function quickchart(key) {\n",
              "          const quickchartButtonEl =\n",
              "            document.querySelector('#' + key + ' button');\n",
              "          quickchartButtonEl.disabled = true;  // To prevent multiple clicks.\n",
              "          quickchartButtonEl.classList.add('colab-df-spinner');\n",
              "          try {\n",
              "            const charts = await google.colab.kernel.invokeFunction(\n",
              "                'suggestCharts', [key], {});\n",
              "          } catch (error) {\n",
              "            console.error('Error during call to suggestCharts:', error);\n",
              "          }\n",
              "          quickchartButtonEl.classList.remove('colab-df-spinner');\n",
              "          quickchartButtonEl.classList.add('colab-df-quickchart-complete');\n",
              "        }\n",
              "        (() => {\n",
              "          let quickchartButtonEl =\n",
              "            document.querySelector('#df-5e5e2c46-b2f3-4646-866d-c71ce08060e3 button');\n",
              "          quickchartButtonEl.style.display =\n",
              "            google.colab.kernel.accessAllowed ? 'block' : 'none';\n",
              "        })();\n",
              "      </script>\n",
              "    </div>\n",
              "\n",
              "    </div>\n",
              "  </div>\n"
            ],
            "application/vnd.google.colaboratory.intrinsic+json": {
              "type": "dataframe",
              "summary": "{\n  \"name\": \"    print(\\\"Please make sure the file is in the '/content/sample_data/' directory or update the file path\",\n  \"rows\": 5,\n  \"fields\": [\n    {\n      \"column\": \"order\",\n      \"properties\": {\n        \"dtype\": \"number\",\n        \"std\": 1,\n        \"min\": 1,\n        \"max\": 5,\n        \"num_unique_values\": 5,\n        \"samples\": [\n          2,\n          5,\n          3\n        ],\n        \"semantic_type\": \"\",\n        \"description\": \"\"\n      }\n    },\n    {\n      \"column\": \"name\",\n      \"properties\": {\n        \"dtype\": \"string\",\n        \"num_unique_values\": 5,\n        \"samples\": [\n          \"John Adams\",\n          \"James Monroe\",\n          \"Thomas Jefferson\"\n        ],\n        \"semantic_type\": \"\",\n        \"description\": \"\"\n      }\n    },\n    {\n      \"column\": \"height(cm)\",\n      \"properties\": {\n        \"dtype\": \"number\",\n        \"std\": 11,\n        \"min\": 163,\n        \"max\": 189,\n        \"num_unique_values\": 4,\n        \"samples\": [\n          170,\n          183,\n          189\n        ],\n        \"semantic_type\": \"\",\n        \"description\": \"\"\n      }\n    }\n  ]\n}"
            }
          },
          "metadata": {}
        }
      ],
      "source": [
        "import pandas as pd\n",
        "try:\n",
        "    df = pd.read_csv('/president_heights.csv')\n",
        "    display(df.head())\n",
        "except FileNotFoundError:\n",
        "    print(\"Error: The file 'president_heights.csv' was not found.\")\n",
        "    print(\"Please make sure the file is in the '/content/sample_data/' directory or update the file path.\")"
      ]
    },
    {
      "cell_type": "code",
      "execution_count": 566,
      "metadata": {
        "colab": {
          "base_uri": "https://localhost:8080/"
        },
        "id": "qkZZsMA33zcx",
        "outputId": "747ff3e7-18f5-44d1-80f8-58fe353dd741"
      },
      "outputs": [
        {
          "output_type": "stream",
          "name": "stdout",
          "text": [
            "<class 'pandas.core.series.Series'>\n",
            "<class 'numpy.ndarray'>\n",
            "<class 'numpy.ndarray'>\n"
          ]
        }
      ],
      "source": [
        "# obtener un array de numpy a partir del dataframe de pandas\n",
        "print(type(df['height(cm)']))\n",
        "heights = np.array(df['height(cm)'])\n",
        "print(type(heights))\n",
        "heights = df['height(cm)'].values\n",
        "print(type(heights))"
      ]
    },
    {
      "cell_type": "code",
      "execution_count": 567,
      "metadata": {
        "colab": {
          "base_uri": "https://localhost:8080/"
        },
        "id": "KsHr8NYt3zcy",
        "outputId": "845a26c6-f204-44e4-f971-6b28433ed073"
      },
      "outputs": [
        {
          "output_type": "execute_result",
          "data": {
            "text/plain": [
              "array([189, 170, 189, 163, 183, 171, 185, 168, 173, 183, 173, 173, 175,\n",
              "       178, 183, 193, 178, 173, 174, 183, 183, 168, 170, 178, 182, 180,\n",
              "       183, 178, 182, 188, 175, 179, 183, 193, 182, 183, 177, 185, 188,\n",
              "       188, 182, 185])"
            ]
          },
          "metadata": {},
          "execution_count": 567
        }
      ],
      "source": [
        "heights"
      ]
    },
    {
      "cell_type": "code",
      "execution_count": 568,
      "metadata": {
        "colab": {
          "base_uri": "https://localhost:8080/"
        },
        "id": "ipxpXjz73zcy",
        "outputId": "fb284964-41d1-4da5-fec2-0855a5aea5ae"
      },
      "outputs": [
        {
          "output_type": "stream",
          "name": "stdout",
          "text": [
            "Altura media =    179.73809523809524\n",
            "Desviación estándar =    6.931843442745892\n",
            "Altura mínima =    163\n",
            "Altura máxima =    193\n",
            "Percentil 25 =    174.25\n",
            "Mediana =    182.0\n",
            "Percentil 75 =    183.0\n"
          ]
        }
      ],
      "source": [
        "print(\"Altura media =   \", heights.mean())\n",
        "print(\"Desviación estándar =   \", heights.std())\n",
        "print(\"Altura mínima =   \", heights.min())\n",
        "print(\"Altura máxima =   \", heights.max())\n",
        "print(\"Percentil 25 =   \", np.percentile(heights, 25))\n",
        "print(\"Mediana =   \", np.median(heights))\n",
        "print(\"Percentil 75 =   \", np.percentile(heights, 75))"
      ]
    },
    {
      "cell_type": "code",
      "execution_count": 569,
      "metadata": {
        "id": "fFlTItX33zcz"
      },
      "outputs": [],
      "source": [
        "import matplotlib.pyplot as plt"
      ]
    },
    {
      "cell_type": "code",
      "execution_count": 570,
      "metadata": {
        "colab": {
          "base_uri": "https://localhost:8080/",
          "height": 472
        },
        "id": "uQK87VSI3zcz",
        "outputId": "d5cdf1a5-8fc8-4ab2-adc4-703e0d6e6879"
      },
      "outputs": [
        {
          "output_type": "display_data",
          "data": {
            "text/plain": [
              "<Figure size 640x480 with 1 Axes>"
            ],
            "image/png": "[encoded data removed]"
          },
          "metadata": {}
        }
      ],
      "source": [
        "plt.hist(heights)\n",
        "plt.title('Height Distribution of US Presidents')\n",
        "plt.xlabel('height (cm)')\n",
        "plt.ylabel('number');"
      ]
    },
    {
      "cell_type": "markdown",
      "metadata": {
        "id": "yHJ68Z4J3zc0"
      },
      "source": [
        "## 10. Broadcasting\n",
        "\n",
        "Reglas para aplicar ufuncs binarias (suma, resta, multiplicación, etc) a arrays de diferentes tamaños"
      ]
    },
    {
      "cell_type": "code",
      "execution_count": 571,
      "metadata": {
        "scrolled": true,
        "colab": {
          "base_uri": "https://localhost:8080/"
        },
        "id": "Vm2v8LWU3zc1",
        "outputId": "cf87629e-8d69-4c6c-816a-3ab6dc1b0250"
      },
      "outputs": [
        {
          "output_type": "execute_result",
          "data": {
            "text/plain": [
              "array([5, 6, 7])"
            ]
          },
          "metadata": {},
          "execution_count": 571
        }
      ],
      "source": [
        "# Arrays del mismo tamaño\n",
        "a = np.array([0, 1, 2])\n",
        "b = np.array([5, 5, 5])\n",
        "a + b"
      ]
    },
    {
      "cell_type": "code",
      "execution_count": 572,
      "metadata": {
        "id": "hOLU0NGk3zc1"
      },
      "outputs": [],
      "source": [
        "a = np.array([0, 1, 2])"
      ]
    },
    {
      "cell_type": "code",
      "execution_count": 573,
      "metadata": {
        "colab": {
          "base_uri": "https://localhost:8080/"
        },
        "id": "64HAFQwx3zc2",
        "outputId": "539091ed-535f-4da9-c5c6-aede4c18d218"
      },
      "outputs": [
        {
          "output_type": "execute_result",
          "data": {
            "text/plain": [
              "array([[1., 1., 1.],\n",
              "       [1., 1., 1.],\n",
              "       [1., 1., 1.]])"
            ]
          },
          "metadata": {},
          "execution_count": 573
        }
      ],
      "source": [
        "c = np.ones((3, 3))\n",
        "c"
      ]
    },
    {
      "cell_type": "code",
      "execution_count": 574,
      "metadata": {
        "scrolled": true,
        "colab": {
          "base_uri": "https://localhost:8080/"
        },
        "id": "DC1WyGbg3zc3",
        "outputId": "9f1b53ae-599b-4b31-a4af-724275b6544a"
      },
      "outputs": [
        {
          "output_type": "execute_result",
          "data": {
            "text/plain": [
              "array([[1., 2., 3.],\n",
              "       [1., 2., 3.],\n",
              "       [1., 2., 3.]])"
            ]
          },
          "metadata": {},
          "execution_count": 574
        }
      ],
      "source": [
        "a + c  # Arrays de diferente tamaño"
      ]
    },
    {
      "cell_type": "code",
      "execution_count": 575,
      "metadata": {
        "scrolled": true,
        "colab": {
          "base_uri": "https://localhost:8080/"
        },
        "id": "KGJrj4mZ3zc4",
        "outputId": "2dea8683-2196-4b61-922b-b90487ae0575"
      },
      "outputs": [
        {
          "output_type": "execute_result",
          "data": {
            "text/plain": [
              "array([5, 6, 7])"
            ]
          },
          "metadata": {},
          "execution_count": 575
        }
      ],
      "source": [
        "a + 5"
      ]
    },
    {
      "cell_type": "code",
      "execution_count": 576,
      "metadata": {
        "colab": {
          "base_uri": "https://localhost:8080/"
        },
        "id": "OgFyVZ9o3zc5",
        "outputId": "29228f5a-8b4c-4536-a4c1-5a4759e12cfe"
      },
      "outputs": [
        {
          "output_type": "stream",
          "name": "stdout",
          "text": [
            "[0 1 2]\n",
            "[5 6 7]\n"
          ]
        }
      ],
      "source": [
        "print(np.arange(3))\n",
        "print(np.arange(3) + 5)"
      ]
    },
    {
      "cell_type": "markdown",
      "metadata": {
        "id": "-IiUgvxq3zc5"
      },
      "source": [
        "### Ejemplo 1"
      ]
    },
    {
      "cell_type": "code",
      "execution_count": 577,
      "metadata": {
        "colab": {
          "base_uri": "https://localhost:8080/"
        },
        "id": "MOcXTiep3zc6",
        "outputId": "938cee24-f18e-4f91-dbca-7cb522bd1a33"
      },
      "outputs": [
        {
          "output_type": "stream",
          "name": "stdout",
          "text": [
            "[[1. 1. 1.]\n",
            " [1. 1. 1.]]\n",
            "(2, 3)\n"
          ]
        }
      ],
      "source": [
        "a = np.ones((2, 3))\n",
        "print(a)\n",
        "print(a.shape) # (2, 3)"
      ]
    },
    {
      "cell_type": "code",
      "execution_count": 578,
      "metadata": {
        "colab": {
          "base_uri": "https://localhost:8080/"
        },
        "id": "Lq-nWyre3zc7",
        "outputId": "b1436376-ef5c-4ad2-d774-f278fc8b38d0"
      },
      "outputs": [
        {
          "output_type": "stream",
          "name": "stdout",
          "text": [
            "[0 1 2]\n",
            "(3,)\n"
          ]
        }
      ],
      "source": [
        "b = np.arange(3)\n",
        "print(b)\n",
        "print(b.shape) # (1, 3)"
      ]
    },
    {
      "cell_type": "code",
      "execution_count": 579,
      "metadata": {
        "colab": {
          "base_uri": "https://localhost:8080/"
        },
        "id": "qq4kvnye3zc7",
        "outputId": "eb53d681-6864-42a6-a448-abde2d28d304"
      },
      "outputs": [
        {
          "output_type": "execute_result",
          "data": {
            "text/plain": [
              "array([[1., 2., 3.],\n",
              "       [1., 2., 3.]])"
            ]
          },
          "metadata": {},
          "execution_count": 579
        }
      ],
      "source": [
        "a + b"
      ]
    },
    {
      "cell_type": "markdown",
      "metadata": {
        "id": "pwGZ7s4V3zc8"
      },
      "source": [
        "### Ejemplo 2"
      ]
    },
    {
      "cell_type": "code",
      "execution_count": 580,
      "metadata": {
        "scrolled": true,
        "colab": {
          "base_uri": "https://localhost:8080/"
        },
        "id": "RdNZRRJ-3zc9",
        "outputId": "e5cb940f-9c91-457f-d5fe-bbc9522c9997"
      },
      "outputs": [
        {
          "output_type": "stream",
          "name": "stdout",
          "text": [
            "[[0]\n",
            " [1]\n",
            " [2]]\n",
            "\n",
            "\n",
            "[0 1 2]\n",
            "\n",
            "\n",
            "[[0 1 2]\n",
            " [1 2 3]\n",
            " [2 3 4]]\n"
          ]
        }
      ],
      "source": [
        "print(np.arange(3).reshape(3,1))\n",
        "print('\\n')\n",
        "print(np.arange(3))\n",
        "print('\\n')\n",
        "print(np.arange(3).reshape(3,1) + np.arange(3))"
      ]
    },
    {
      "cell_type": "code",
      "execution_count": 581,
      "metadata": {
        "colab": {
          "base_uri": "https://localhost:8080/"
        },
        "id": "8LNC9EGr3zc9",
        "outputId": "0e724c9e-dad6-4c66-f14d-badd0071e193"
      },
      "outputs": [
        {
          "output_type": "stream",
          "name": "stdout",
          "text": [
            "[[0]\n",
            " [1]\n",
            " [2]]\n",
            "(3, 1)\n"
          ]
        }
      ],
      "source": [
        "a = np.arange(3).reshape((3, 1))\n",
        "print(a)\n",
        "print(a.shape)  # (3,1)"
      ]
    },
    {
      "cell_type": "code",
      "execution_count": 582,
      "metadata": {
        "colab": {
          "base_uri": "https://localhost:8080/"
        },
        "id": "qq8BiOZ63zc-",
        "outputId": "326b7ff9-9f9f-47b0-fba1-4638a99d7a5b"
      },
      "outputs": [
        {
          "output_type": "stream",
          "name": "stdout",
          "text": [
            "[0 1 2]\n",
            "(3,)\n"
          ]
        }
      ],
      "source": [
        "b = np.arange(3)\n",
        "print(b)\n",
        "print(b.shape) # (1, 3)"
      ]
    },
    {
      "cell_type": "code",
      "execution_count": 583,
      "metadata": {
        "colab": {
          "base_uri": "https://localhost:8080/"
        },
        "id": "qa2ufI_b3zc-",
        "outputId": "28eb9479-3843-42c1-abe1-eb8c5122d232"
      },
      "outputs": [
        {
          "output_type": "stream",
          "name": "stdout",
          "text": [
            "[[0 1 2]\n",
            " [1 2 3]\n",
            " [2 3 4]]\n",
            "(3, 3)\n"
          ]
        }
      ],
      "source": [
        "c = a + b\n",
        "print(c)\n",
        "print(c.shape)"
      ]
    },
    {
      "cell_type": "markdown",
      "metadata": {
        "id": "uD2dwPUB3zc_"
      },
      "source": [
        "### Ejemplo 3"
      ]
    },
    {
      "cell_type": "code",
      "execution_count": 584,
      "metadata": {
        "colab": {
          "base_uri": "https://localhost:8080/"
        },
        "id": "j3ppH5l93zc_",
        "outputId": "74e6fbe1-2c23-4345-f709-4f69f524a1eb"
      },
      "outputs": [
        {
          "output_type": "stream",
          "name": "stdout",
          "text": [
            "[[1. 1.]\n",
            " [1. 1.]\n",
            " [1. 1.]]\n",
            "(3, 2)\n"
          ]
        }
      ],
      "source": [
        "a = np.ones((3, 2))\n",
        "print(a)\n",
        "print(a.shape) # (3,2)"
      ]
    },
    {
      "cell_type": "code",
      "execution_count": 585,
      "metadata": {
        "colab": {
          "base_uri": "https://localhost:8080/"
        },
        "id": "9_ioDnsn3zc_",
        "outputId": "6a507b58-3409-4858-e6e4-7811539ebf8a"
      },
      "outputs": [
        {
          "output_type": "stream",
          "name": "stdout",
          "text": [
            "[0 1 2]\n",
            "(3,)\n"
          ]
        }
      ],
      "source": [
        "b = np.arange(3)\n",
        "print(b)\n",
        "print(b.shape) # (1, 3)"
      ]
    },
    {
      "cell_type": "code",
      "execution_count": 586,
      "metadata": {
        "id": "fVH3dXOZ3zdA"
      },
      "outputs": [],
      "source": [
        "# Proceso:\n",
        "# (3,2) + (1,3)\n",
        "# (3,2) + (3,3) --> LAs dimensiones no coinciden\n",
        "\n",
        "# a + b  # Produce error dado que (3,2) + (3,3) son tamaños diferentes"
      ]
    },
    {
      "cell_type": "markdown",
      "metadata": {
        "id": "-vtCaiEi3zdA"
      },
      "source": [
        "## 11. Comparación y filtros, lógica booleana"
      ]
    },
    {
      "cell_type": "code",
      "execution_count": 587,
      "metadata": {
        "colab": {
          "base_uri": "https://localhost:8080/"
        },
        "id": "7FuNGdhC3zdB",
        "outputId": "19891188-007f-467c-81ce-d2878c2bb654"
      },
      "outputs": [
        {
          "output_type": "execute_result",
          "data": {
            "text/plain": [
              "array([1, 2, 3, 4, 5])"
            ]
          },
          "metadata": {},
          "execution_count": 587
        }
      ],
      "source": [
        "x = np.array([1, 2, 3, 4, 5])\n",
        "x"
      ]
    },
    {
      "cell_type": "code",
      "execution_count": 588,
      "metadata": {
        "colab": {
          "base_uri": "https://localhost:8080/"
        },
        "id": "8c--zl0i3zdB",
        "outputId": "4815a8ff-cd42-431e-8298-97f74ce7aaea"
      },
      "outputs": [
        {
          "output_type": "execute_result",
          "data": {
            "text/plain": [
              "array([ True,  True, False, False, False])"
            ]
          },
          "metadata": {},
          "execution_count": 588
        }
      ],
      "source": [
        "x < 3"
      ]
    },
    {
      "cell_type": "code",
      "execution_count": 589,
      "metadata": {
        "colab": {
          "base_uri": "https://localhost:8080/"
        },
        "id": "Uwul9ci93zdC",
        "outputId": "5e4998b7-5c27-4d08-f357-dcf76c2bd8ee"
      },
      "outputs": [
        {
          "output_type": "execute_result",
          "data": {
            "text/plain": [
              "array([False, False, False,  True,  True])"
            ]
          },
          "metadata": {},
          "execution_count": 589
        }
      ],
      "source": [
        "x > 3"
      ]
    },
    {
      "cell_type": "code",
      "execution_count": 590,
      "metadata": {
        "colab": {
          "base_uri": "https://localhost:8080/"
        },
        "id": "HDIw8yl43zdC",
        "outputId": "40e4947c-9e8e-4f50-b662-d6ad03985b3e"
      },
      "outputs": [
        {
          "output_type": "execute_result",
          "data": {
            "text/plain": [
              "array([ True,  True,  True, False, False])"
            ]
          },
          "metadata": {},
          "execution_count": 590
        }
      ],
      "source": [
        "x <= 3"
      ]
    },
    {
      "cell_type": "code",
      "execution_count": 591,
      "metadata": {
        "colab": {
          "base_uri": "https://localhost:8080/"
        },
        "id": "L5w2Szvd3zdD",
        "outputId": "86efac0d-cf4c-4f2d-e7d9-b33f93b19eea"
      },
      "outputs": [
        {
          "output_type": "execute_result",
          "data": {
            "text/plain": [
              "array([False, False,  True,  True,  True])"
            ]
          },
          "metadata": {},
          "execution_count": 591
        }
      ],
      "source": [
        "x >= 3"
      ]
    },
    {
      "cell_type": "code",
      "execution_count": 592,
      "metadata": {
        "colab": {
          "base_uri": "https://localhost:8080/"
        },
        "id": "RyMC58473zdD",
        "outputId": "066be56a-df6d-4aef-f542-d587d43618d0"
      },
      "outputs": [
        {
          "output_type": "execute_result",
          "data": {
            "text/plain": [
              "array([ True,  True, False,  True,  True])"
            ]
          },
          "metadata": {},
          "execution_count": 592
        }
      ],
      "source": [
        "x != 3"
      ]
    },
    {
      "cell_type": "code",
      "execution_count": 593,
      "metadata": {
        "colab": {
          "base_uri": "https://localhost:8080/"
        },
        "id": "vvH2_o8H3zdD",
        "outputId": "28467c3e-9723-44fc-b328-32cdaa750e6b"
      },
      "outputs": [
        {
          "output_type": "execute_result",
          "data": {
            "text/plain": [
              "array([False, False,  True, False, False])"
            ]
          },
          "metadata": {},
          "execution_count": 593
        }
      ],
      "source": [
        "x == 3"
      ]
    },
    {
      "cell_type": "code",
      "execution_count": 594,
      "metadata": {
        "colab": {
          "base_uri": "https://localhost:8080/"
        },
        "id": "gNjJdRH-3zdE",
        "outputId": "5743fc88-58dc-48e6-d7ff-87b2d6e08868"
      },
      "outputs": [
        {
          "output_type": "execute_result",
          "data": {
            "text/plain": [
              "array([False,  True, False, False, False])"
            ]
          },
          "metadata": {},
          "execution_count": 594
        }
      ],
      "source": [
        "(2 * x) == (x ** 2)"
      ]
    },
    {
      "cell_type": "markdown",
      "metadata": {
        "id": "YrmaG-jq3zdE"
      },
      "source": [
        "### Arrays booleanos"
      ]
    },
    {
      "cell_type": "code",
      "execution_count": 595,
      "metadata": {
        "colab": {
          "base_uri": "https://localhost:8080/"
        },
        "id": "bTroZcWM3zdF",
        "outputId": "b1d67d9a-ec9c-4866-c7a8-df9dbfcb0958"
      },
      "outputs": [
        {
          "output_type": "execute_result",
          "data": {
            "text/plain": [
              "array([[5, 0, 3, 3],\n",
              "       [7, 9, 3, 5],\n",
              "       [2, 4, 7, 6]])"
            ]
          },
          "metadata": {},
          "execution_count": 595
        }
      ],
      "source": [
        "rng = np.random.RandomState(0)\n",
        "x = rng.randint(10, size=(3, 4))\n",
        "x"
      ]
    },
    {
      "cell_type": "code",
      "execution_count": 596,
      "metadata": {
        "colab": {
          "base_uri": "https://localhost:8080/"
        },
        "id": "EOD-KiML3zdF",
        "outputId": "4b9684a6-116a-4de6-dba7-c04236fb2226"
      },
      "outputs": [
        {
          "output_type": "execute_result",
          "data": {
            "text/plain": [
              "8"
            ]
          },
          "metadata": {},
          "execution_count": 596
        }
      ],
      "source": [
        "np.count_nonzero(x < 6)"
      ]
    },
    {
      "cell_type": "code",
      "execution_count": 597,
      "metadata": {
        "colab": {
          "base_uri": "https://localhost:8080/"
        },
        "id": "VmQqYtMr3zdF",
        "outputId": "960b1574-70d5-4ece-9f52-6c1b77a6eb20"
      },
      "outputs": [
        {
          "output_type": "execute_result",
          "data": {
            "text/plain": [
              "np.int64(8)"
            ]
          },
          "metadata": {},
          "execution_count": 597
        }
      ],
      "source": [
        "np.sum(x < 6)  # Contar el número de elementos menores que 6 en total"
      ]
    },
    {
      "cell_type": "code",
      "execution_count": 598,
      "metadata": {
        "colab": {
          "base_uri": "https://localhost:8080/"
        },
        "id": "DGo3XXtQ3zdG",
        "outputId": "0bc764d4-8673-4403-aaf9-21953fb8bbc4"
      },
      "outputs": [
        {
          "output_type": "execute_result",
          "data": {
            "text/plain": [
              "array([4, 2, 2])"
            ]
          },
          "metadata": {},
          "execution_count": 598
        }
      ],
      "source": [
        "np.sum(x < 6, axis=1) # Contar el número de elementos menores que 6 en cada fila"
      ]
    },
    {
      "cell_type": "markdown",
      "metadata": {
        "id": "qRRSxzxS3zdQ"
      },
      "source": [
        "### Ejemplo de lógica booleana sobre array de precios"
      ]
    },
    {
      "cell_type": "code",
      "execution_count": 599,
      "metadata": {
        "colab": {
          "base_uri": "https://localhost:8080/",
          "height": 424
        },
        "id": "RuyZufpR3zdQ",
        "outputId": "a9a9a93e-d359-4709-b138-345da79dd875"
      },
      "outputs": [
        {
          "output_type": "execute_result",
          "data": {
            "text/plain": [
              "     total_bill   tip     sex smoker   day    time  size\n",
              "0         16.99  1.01  Female     No   Sun  Dinner     2\n",
              "1         10.34  1.66    Male     No   Sun  Dinner     3\n",
              "2         21.01  3.50    Male     No   Sun  Dinner     3\n",
              "3         23.68  3.31    Male     No   Sun  Dinner     2\n",
              "4         24.59  3.61  Female     No   Sun  Dinner     4\n",
              "..          ...   ...     ...    ...   ...     ...   ...\n",
              "239       29.03  5.92    Male     No   Sat  Dinner     3\n",
              "240       27.18  2.00  Female    Yes   Sat  Dinner     2\n",
              "241       22.67  2.00    Male    Yes   Sat  Dinner     2\n",
              "242       17.82  1.75    Male     No   Sat  Dinner     2\n",
              "243       18.78  3.00  Female     No  Thur  Dinner     2\n",
              "\n",
              "[244 rows x 7 columns]"
            ],
            "text/html": [
              "\n",
              "  <div id=\"df-20e7013b-e29b-4624-a941-5d4ae45832e1\" class=\"colab-df-container\">\n",
              "    <div>\n",
              "<style scoped>\n",
              "    .dataframe tbody tr th:only-of-type {\n",
              "        vertical-align: middle;\n",
              "    }\n",
              "\n",
              "    .dataframe tbody tr th {\n",
              "        vertical-align: top;\n",
              "    }\n",
              "\n",
              "    .dataframe thead th {\n",
              "        text-align: right;\n",
              "    }\n",
              "</style>\n",
              "<table border=\"1\" class=\"dataframe\">\n",
              "  <thead>\n",
              "    <tr style=\"text-align: right;\">\n",
              "      <th></th>\n",
              "      <th>total_bill</th>\n",
              "      <th>tip</th>\n",
              "      <th>sex</th>\n",
              "      <th>smoker</th>\n",
              "      <th>day</th>\n",
              "      <th>time</th>\n",
              "      <th>size</th>\n",
              "    </tr>\n",
              "  </thead>\n",
              "  <tbody>\n",
              "    <tr>\n",
              "      <th>0</th>\n",
              "      <td>16.99</td>\n",
              "      <td>1.01</td>\n",
              "      <td>Female</td>\n",
              "      <td>No</td>\n",
              "      <td>Sun</td>\n",
              "      <td>Dinner</td>\n",
              "      <td>2</td>\n",
              "    </tr>\n",
              "    <tr>\n",
              "      <th>1</th>\n",
              "      <td>10.34</td>\n",
              "      <td>1.66</td>\n",
              "      <td>Male</td>\n",
              "      <td>No</td>\n",
              "      <td>Sun</td>\n",
              "      <td>Dinner</td>\n",
              "      <td>3</td>\n",
              "    </tr>\n",
              "    <tr>\n",
              "      <th>2</th>\n",
              "      <td>21.01</td>\n",
              "      <td>3.50</td>\n",
              "      <td>Male</td>\n",
              "      <td>No</td>\n",
              "      <td>Sun</td>\n",
              "      <td>Dinner</td>\n",
              "      <td>3</td>\n",
              "    </tr>\n",
              "    <tr>\n",
              "      <th>3</th>\n",
              "      <td>23.68</td>\n",
              "      <td>3.31</td>\n",
              "      <td>Male</td>\n",
              "      <td>No</td>\n",
              "      <td>Sun</td>\n",
              "      <td>Dinner</td>\n",
              "      <td>2</td>\n",
              "    </tr>\n",
              "    <tr>\n",
              "      <th>4</th>\n",
              "      <td>24.59</td>\n",
              "      <td>3.61</td>\n",
              "      <td>Female</td>\n",
              "      <td>No</td>\n",
              "      <td>Sun</td>\n",
              "      <td>Dinner</td>\n",
              "      <td>4</td>\n",
              "    </tr>\n",
              "    <tr>\n",
              "      <th>...</th>\n",
              "      <td>...</td>\n",
              "      <td>...</td>\n",
              "      <td>...</td>\n",
              "      <td>...</td>\n",
              "      <td>...</td>\n",
              "      <td>...</td>\n",
              "      <td>...</td>\n",
              "    </tr>\n",
              "    <tr>\n",
              "      <th>239</th>\n",
              "      <td>29.03</td>\n",
              "      <td>5.92</td>\n",
              "      <td>Male</td>\n",
              "      <td>No</td>\n",
              "      <td>Sat</td>\n",
              "      <td>Dinner</td>\n",
              "      <td>3</td>\n",
              "    </tr>\n",
              "    <tr>\n",
              "      <th>240</th>\n",
              "      <td>27.18</td>\n",
              "      <td>2.00</td>\n",
              "      <td>Female</td>\n",
              "      <td>Yes</td>\n",
              "      <td>Sat</td>\n",
              "      <td>Dinner</td>\n",
              "      <td>2</td>\n",
              "    </tr>\n",
              "    <tr>\n",
              "      <th>241</th>\n",
              "      <td>22.67</td>\n",
              "      <td>2.00</td>\n",
              "      <td>Male</td>\n",
              "      <td>Yes</td>\n",
              "      <td>Sat</td>\n",
              "      <td>Dinner</td>\n",
              "      <td>2</td>\n",
              "    </tr>\n",
              "    <tr>\n",
              "      <th>242</th>\n",
              "      <td>17.82</td>\n",
              "      <td>1.75</td>\n",
              "      <td>Male</td>\n",
              "      <td>No</td>\n",
              "      <td>Sat</td>\n",
              "      <td>Dinner</td>\n",
              "      <td>2</td>\n",
              "    </tr>\n",
              "    <tr>\n",
              "      <th>243</th>\n",
              "      <td>18.78</td>\n",
              "      <td>3.00</td>\n",
              "      <td>Female</td>\n",
              "      <td>No</td>\n",
              "      <td>Thur</td>\n",
              "      <td>Dinner</td>\n",
              "      <td>2</td>\n",
              "    </tr>\n",
              "  </tbody>\n",
              "</table>\n",
              "<p>244 rows × 7 columns</p>\n",
              "</div>\n",
              "    <div class=\"colab-df-buttons\">\n",
              "\n",
              "  <div class=\"colab-df-container\">\n",
              "    <button class=\"colab-df-convert\" onclick=\"convertToInteractive('df-20e7013b-e29b-4624-a941-5d4ae45832e1')\"\n",
              "            title=\"Convert this dataframe to an interactive table.\"\n",
              "            style=\"display:none;\">\n",
              "\n",
              "  <svg xmlns=\"http://www.w3.org/2000/svg\" height=\"24px\" viewBox=\"0 -960 960 960\">\n",
              "    <path d=\"M120-120v-720h720v720H120Zm60-500h600v-160H180v160Zm220 220h160v-160H400v160Zm0 220h160v-160H400v160ZM180-400h160v-160H180v160Zm440 0h160v-160H620v160ZM180-180h160v-160H180v160Zm440 0h160v-160H620v160Z\"/>\n",
              "  </svg>\n",
              "    </button>\n",
              "\n",
              "  <style>\n",
              "    .colab-df-container {\n",
              "      display:flex;\n",
              "      gap: 12px;\n",
              "    }\n",
              "\n",
              "    .colab-df-convert {\n",
              "      background-color: #E8F0FE;\n",
              "      border: none;\n",
              "      border-radius: 50%;\n",
              "      cursor: pointer;\n",
              "      display: none;\n",
              "      fill: #1967D2;\n",
              "      height: 32px;\n",
              "      padding: 0 0 0 0;\n",
              "      width: 32px;\n",
              "    }\n",
              "\n",
              "    .colab-df-convert:hover {\n",
              "      background-color: #E2EBFA;\n",
              "      box-shadow: 0px 1px 2px rgba(60, 64, 67, 0.3), 0px 1px 3px 1px rgba(60, 64, 67, 0.15);\n",
              "      fill: #174EA6;\n",
              "    }\n",
              "\n",
              "    .colab-df-buttons div {\n",
              "      margin-bottom: 4px;\n",
              "    }\n",
              "\n",
              "    [theme=dark] .colab-df-convert {\n",
              "      background-color: #3B4455;\n",
              "      fill: #D2E3FC;\n",
              "    }\n",
              "\n",
              "    [theme=dark] .colab-df-convert:hover {\n",
              "      background-color: #434B5C;\n",
              "      box-shadow: 0px 1px 3px 1px rgba(0, 0, 0, 0.15);\n",
              "      filter: drop-shadow(0px 1px 2px rgba(0, 0, 0, 0.3));\n",
              "      fill: #FFFFFF;\n",
              "    }\n",
              "  </style>\n",
              "\n",
              "    <script>\n",
              "      const buttonEl =\n",
              "        document.querySelector('#df-20e7013b-e29b-4624-a941-5d4ae45832e1 button.colab-df-convert');\n",
              "      buttonEl.style.display =\n",
              "        google.colab.kernel.accessAllowed ? 'block' : 'none';\n",
              "\n",
              "      async function convertToInteractive(key) {\n",
              "        const element = document.querySelector('#df-20e7013b-e29b-4624-a941-5d4ae45832e1');\n",
              "        const dataTable =\n",
              "          await google.colab.kernel.invokeFunction('convertToInteractive',\n",
              "                                                    [key], {});\n",
              "        if (!dataTable) return;\n",
              "\n",
              "        const docLinkHtml = 'Like what you see? Visit the ' +\n",
              "          '<a target=\"_blank\" href=https://colab.research.google.com/notebooks/data_table.ipynb>data table notebook</a>'\n",
              "          + ' to learn more about interactive tables.';\n",
              "        element.innerHTML = '';\n",
              "        dataTable['output_type'] = 'display_data';\n",
              "        await google.colab.output.renderOutput(dataTable, element);\n",
              "        const docLink = document.createElement('div');\n",
              "        docLink.innerHTML = docLinkHtml;\n",
              "        element.appendChild(docLink);\n",
              "      }\n",
              "    </script>\n",
              "  </div>\n",
              "\n",
              "\n",
              "    <div id=\"df-a8935f3e-e1fc-4743-80ae-121ecc212272\">\n",
              "      <button class=\"colab-df-quickchart\" onclick=\"quickchart('df-a8935f3e-e1fc-4743-80ae-121ecc212272')\"\n",
              "                title=\"Suggest charts\"\n",
              "                style=\"display:none;\">\n",
              "\n",
              "<svg xmlns=\"http://www.w3.org/2000/svg\" height=\"24px\"viewBox=\"0 0 24 24\"\n",
              "     width=\"24px\">\n",
              "    <g>\n",
              "        <path d=\"M19 3H5c-1.1 0-2 .9-2 2v14c0 1.1.9 2 2 2h14c1.1 0 2-.9 2-2V5c0-1.1-.9-2-2-2zM9 17H7v-7h2v7zm4 0h-2V7h2v10zm4 0h-2v-4h2v4z\"/>\n",
              "    </g>\n",
              "</svg>\n",
              "      </button>\n",
              "\n",
              "<style>\n",
              "  .colab-df-quickchart {\n",
              "      --bg-color: #E8F0FE;\n",
              "      --fill-color: #1967D2;\n",
              "      --hover-bg-color: #E2EBFA;\n",
              "      --hover-fill-color: #174EA6;\n",
              "      --disabled-fill-color: #AAA;\n",
              "      --disabled-bg-color: #DDD;\n",
              "  }\n",
              "\n",
              "  [theme=dark] .colab-df-quickchart {\n",
              "      --bg-color: #3B4455;\n",
              "      --fill-color: #D2E3FC;\n",
              "      --hover-bg-color: #434B5C;\n",
              "      --hover-fill-color: #FFFFFF;\n",
              "      --disabled-bg-color: #3B4455;\n",
              "      --disabled-fill-color: #666;\n",
              "  }\n",
              "\n",
              "  .colab-df-quickchart {\n",
              "    background-color: var(--bg-color);\n",
              "    border: none;\n",
              "    border-radius: 50%;\n",
              "    cursor: pointer;\n",
              "    display: none;\n",
              "    fill: var(--fill-color);\n",
              "    height: 32px;\n",
              "    padding: 0;\n",
              "    width: 32px;\n",
              "  }\n",
              "\n",
              "  .colab-df-quickchart:hover {\n",
              "    background-color: var(--hover-bg-color);\n",
              "    box-shadow: 0 1px 2px rgba(60, 64, 67, 0.3), 0 1px 3px 1px rgba(60, 64, 67, 0.15);\n",
              "    fill: var(--button-hover-fill-color);\n",
              "  }\n",
              "\n",
              "  .colab-df-quickchart-complete:disabled,\n",
              "  .colab-df-quickchart-complete:disabled:hover {\n",
              "    background-color: var(--disabled-bg-color);\n",
              "    fill: var(--disabled-fill-color);\n",
              "    box-shadow: none;\n",
              "  }\n",
              "\n",
              "  .colab-df-spinner {\n",
              "    border: 2px solid var(--fill-color);\n",
              "    border-color: transparent;\n",
              "    border-bottom-color: var(--fill-color);\n",
              "    animation:\n",
              "      spin 1s steps(1) infinite;\n",
              "  }\n",
              "\n",
              "  @keyframes spin {\n",
              "    0% {\n",
              "      border-color: transparent;\n",
              "      border-bottom-color: var(--fill-color);\n",
              "      border-left-color: var(--fill-color);\n",
              "    }\n",
              "    20% {\n",
              "      border-color: transparent;\n",
              "      border-left-color: var(--fill-color);\n",
              "      border-top-color: var(--fill-color);\n",
              "    }\n",
              "    30% {\n",
              "      border-color: transparent;\n",
              "      border-left-color: var(--fill-color);\n",
              "      border-top-color: var(--fill-color);\n",
              "      border-right-color: var(--fill-color);\n",
              "    }\n",
              "    40% {\n",
              "      border-color: transparent;\n",
              "      border-right-color: var(--fill-color);\n",
              "      border-top-color: var(--fill-color);\n",
              "    }\n",
              "    60% {\n",
              "      border-color: transparent;\n",
              "      border-right-color: var(--fill-color);\n",
              "    }\n",
              "    80% {\n",
              "      border-color: transparent;\n",
              "      border-right-color: var(--fill-color);\n",
              "      border-bottom-color: var(--fill-color);\n",
              "    }\n",
              "    90% {\n",
              "      border-color: transparent;\n",
              "      border-bottom-color: var(--fill-color);\n",
              "    }\n",
              "  }\n",
              "</style>\n",
              "\n",
              "      <script>\n",
              "        async function quickchart(key) {\n",
              "          const quickchartButtonEl =\n",
              "            document.querySelector('#' + key + ' button');\n",
              "          quickchartButtonEl.disabled = true;  // To prevent multiple clicks.\n",
              "          quickchartButtonEl.classList.add('colab-df-spinner');\n",
              "          try {\n",
              "            const charts = await google.colab.kernel.invokeFunction(\n",
              "                'suggestCharts', [key], {});\n",
              "          } catch (error) {\n",
              "            console.error('Error during call to suggestCharts:', error);\n",
              "          }\n",
              "          quickchartButtonEl.classList.remove('colab-df-spinner');\n",
              "          quickchartButtonEl.classList.add('colab-df-quickchart-complete');\n",
              "        }\n",
              "        (() => {\n",
              "          let quickchartButtonEl =\n",
              "            document.querySelector('#df-a8935f3e-e1fc-4743-80ae-121ecc212272 button');\n",
              "          quickchartButtonEl.style.display =\n",
              "            google.colab.kernel.accessAllowed ? 'block' : 'none';\n",
              "        })();\n",
              "      </script>\n",
              "    </div>\n",
              "\n",
              "  <div id=\"id_7eb4e64b-a950-4d8f-8c17-ef2a86d832b2\">\n",
              "    <style>\n",
              "      .colab-df-generate {\n",
              "        background-color: #E8F0FE;\n",
              "        border: none;\n",
              "        border-radius: 50%;\n",
              "        cursor: pointer;\n",
              "        display: none;\n",
              "        fill: #1967D2;\n",
              "        height: 32px;\n",
              "        padding: 0 0 0 0;\n",
              "        width: 32px;\n",
              "      }\n",
              "\n",
              "      .colab-df-generate:hover {\n",
              "        background-color: #E2EBFA;\n",
              "        box-shadow: 0px 1px 2px rgba(60, 64, 67, 0.3), 0px 1px 3px 1px rgba(60, 64, 67, 0.15);\n",
              "        fill: #174EA6;\n",
              "      }\n",
              "\n",
              "      [theme=dark] .colab-df-generate {\n",
              "        background-color: #3B4455;\n",
              "        fill: #D2E3FC;\n",
              "      }\n",
              "\n",
              "      [theme=dark] .colab-df-generate:hover {\n",
              "        background-color: #434B5C;\n",
              "        box-shadow: 0px 1px 3px 1px rgba(0, 0, 0, 0.15);\n",
              "        filter: drop-shadow(0px 1px 2px rgba(0, 0, 0, 0.3));\n",
              "        fill: #FFFFFF;\n",
              "      }\n",
              "    </style>\n",
              "    <button class=\"colab-df-generate\" onclick=\"generateWithVariable('df')\"\n",
              "            title=\"Generate code using this dataframe.\"\n",
              "            style=\"display:none;\">\n",
              "\n",
              "  <svg xmlns=\"http://www.w3.org/2000/svg\" height=\"24px\"viewBox=\"0 0 24 24\"\n",
              "       width=\"24px\">\n",
              "    <path d=\"M7,19H8.4L18.45,9,17,7.55,7,17.6ZM5,21V16.75L18.45,3.32a2,2,0,0,1,2.83,0l1.4,1.43a1.91,1.91,0,0,1,.58,1.4,1.91,1.91,0,0,1-.58,1.4L9.25,21ZM18.45,9,17,7.55Zm-12,3A5.31,5.31,0,0,0,4.9,8.1,5.31,5.31,0,0,0,1,6.5,5.31,5.31,0,0,0,4.9,4.9,5.31,5.31,0,0,0,6.5,1,5.31,5.31,0,0,0,8.1,4.9,5.31,5.31,0,0,0,12,6.5,5.46,5.46,0,0,0,6.5,12Z\"/>\n",
              "  </svg>\n",
              "    </button>\n",
              "    <script>\n",
              "      (() => {\n",
              "      const buttonEl =\n",
              "        document.querySelector('#id_7eb4e64b-a950-4d8f-8c17-ef2a86d832b2 button.colab-df-generate');\n",
              "      buttonEl.style.display =\n",
              "        google.colab.kernel.accessAllowed ? 'block' : 'none';\n",
              "\n",
              "      buttonEl.onclick = () => {\n",
              "        google.colab.notebook.generateWithVariable('df');\n",
              "      }\n",
              "      })();\n",
              "    </script>\n",
              "  </div>\n",
              "\n",
              "    </div>\n",
              "  </div>\n"
            ],
            "application/vnd.google.colaboratory.intrinsic+json": {
              "type": "dataframe",
              "variable_name": "df",
              "summary": "{\n  \"name\": \"df\",\n  \"rows\": 244,\n  \"fields\": [\n    {\n      \"column\": \"total_bill\",\n      \"properties\": {\n        \"dtype\": \"number\",\n        \"std\": 8.902411954856856,\n        \"min\": 3.07,\n        \"max\": 50.81,\n        \"num_unique_values\": 229,\n        \"samples\": [\n          22.12,\n          20.23,\n          14.78\n        ],\n        \"semantic_type\": \"\",\n        \"description\": \"\"\n      }\n    },\n    {\n      \"column\": \"tip\",\n      \"properties\": {\n        \"dtype\": \"number\",\n        \"std\": 1.3836381890011826,\n        \"min\": 1.0,\n        \"max\": 10.0,\n        \"num_unique_values\": 123,\n        \"samples\": [\n          3.35,\n          1.5,\n          6.73\n        ],\n        \"semantic_type\": \"\",\n        \"description\": \"\"\n      }\n    },\n    {\n      \"column\": \"sex\",\n      \"properties\": {\n        \"dtype\": \"category\",\n        \"num_unique_values\": 2,\n        \"samples\": [\n          \"Male\",\n          \"Female\"\n        ],\n        \"semantic_type\": \"\",\n        \"description\": \"\"\n      }\n    },\n    {\n      \"column\": \"smoker\",\n      \"properties\": {\n        \"dtype\": \"category\",\n        \"num_unique_values\": 2,\n        \"samples\": [\n          \"Yes\",\n          \"No\"\n        ],\n        \"semantic_type\": \"\",\n        \"description\": \"\"\n      }\n    },\n    {\n      \"column\": \"day\",\n      \"properties\": {\n        \"dtype\": \"category\",\n        \"num_unique_values\": 4,\n        \"samples\": [\n          \"Sat\",\n          \"Fri\"\n        ],\n        \"semantic_type\": \"\",\n        \"description\": \"\"\n      }\n    },\n    {\n      \"column\": \"time\",\n      \"properties\": {\n        \"dtype\": \"category\",\n        \"num_unique_values\": 2,\n        \"samples\": [\n          \"Lunch\",\n          \"Dinner\"\n        ],\n        \"semantic_type\": \"\",\n        \"description\": \"\"\n      }\n    },\n    {\n      \"column\": \"size\",\n      \"properties\": {\n        \"dtype\": \"number\",\n        \"std\": 0,\n        \"min\": 1,\n        \"max\": 6,\n        \"num_unique_values\": 6,\n        \"samples\": [\n          2,\n          3\n        ],\n        \"semantic_type\": \"\",\n        \"description\": \"\"\n      }\n    }\n  ]\n}"
            }
          },
          "metadata": {},
          "execution_count": 599
        }
      ],
      "source": [
        "# cargar dataset con pandas\n",
        "df = pd.read_csv('/tips.csv')\n",
        "df"
      ]
    },
    {
      "cell_type": "code",
      "execution_count": 600,
      "metadata": {
        "colab": {
          "base_uri": "https://localhost:8080/"
        },
        "id": "nGINXJH53zdR",
        "outputId": "98b75304-5d86-412e-f2bb-d2bac3f81b4c"
      },
      "outputs": [
        {
          "output_type": "stream",
          "name": "stdout",
          "text": [
            "<class 'pandas.core.frame.DataFrame'>\n",
            "<class 'pandas.core.series.Series'>\n",
            "<class 'numpy.ndarray'>\n",
            "(244,)\n"
          ]
        }
      ],
      "source": [
        "# guarda en la variable total_bill un array numpy con los valores de la columna total_bill del csv\n",
        "total_bill = df['total_bill'].values\n",
        "\n",
        "print(type(df))\n",
        "print(type(df['total_bill']))\n",
        "print(type(total_bill))\n",
        "print(total_bill.shape)"
      ]
    },
    {
      "cell_type": "code",
      "execution_count": 601,
      "metadata": {
        "colab": {
          "base_uri": "https://localhost:8080/"
        },
        "id": "SharIdm33zdR",
        "outputId": "5979207f-142a-44c3-9f62-5933ff76b4a7"
      },
      "outputs": [
        {
          "output_type": "execute_result",
          "data": {
            "text/plain": [
              "array([16.99, 10.34, 21.01, 23.68, 24.59, 25.29,  8.77, 26.88, 15.04,\n",
              "       14.78, 10.27, 35.26, 15.42, 18.43, 14.83, 21.58, 10.33, 16.29,\n",
              "       16.97, 20.65, 17.92, 20.29, 15.77, 39.42, 19.82, 17.81, 13.37,\n",
              "       12.69, 21.7 , 19.65,  9.55, 18.35, 15.06, 20.69, 17.78, 24.06,\n",
              "       16.31, 16.93, 18.69, 31.27, 16.04, 17.46, 13.94,  9.68, 30.4 ,\n",
              "       18.29, 22.23, 32.4 , 28.55, 18.04])"
            ]
          },
          "metadata": {},
          "execution_count": 601
        }
      ],
      "source": [
        "total_bill[:50]  # Imprime los 50 primeros pagos"
      ]
    },
    {
      "cell_type": "code",
      "execution_count": 602,
      "metadata": {
        "colab": {
          "base_uri": "https://localhost:8080/"
        },
        "id": "DmJTzmod3zdS",
        "outputId": "e2bc124c-2096-4b6d-a244-ad3323a6988c"
      },
      "outputs": [
        {
          "output_type": "stream",
          "name": "stdout",
          "text": [
            "Número total de pagos =           244\n",
            "Suma total de pagos =           4827.77 $\n",
            "\n",
            "\n",
            "Número total de pagos de 21.01 $ =  2\n",
            "Número total de pagos menores de 10 $ =  17\n",
            "Número total de pagos entre 10 y 15 $ =  63\n",
            "Número total de pagos mayores de 15 $ =  164\n"
          ]
        }
      ],
      "source": [
        "print(\"Número total de pagos =          \", total_bill.size)\n",
        "print(\"Suma total de pagos =          \", np.sum(total_bill), \"$\")\n",
        "print('\\n')\n",
        "# Lógica booleana para filtrar datos:\n",
        "print(\"Número total de pagos de 21.01 $ = \", np.sum(total_bill == 21.01))\n",
        "print(\"Número total de pagos menores de 10 $ = \", np.sum(total_bill < 10))\n",
        "print(\"Número total de pagos entre 10 y 15 $ = \", np.sum((total_bill >= 10) & (total_bill < 15)))\n",
        "print(\"Número total de pagos mayores de 15 $ = \", np.sum(total_bill >= 15))"
      ]
    },
    {
      "cell_type": "code",
      "execution_count": 603,
      "metadata": {
        "colab": {
          "base_uri": "https://localhost:8080/"
        },
        "id": "Eh0o1_VR3zdT",
        "outputId": "be70e9b4-143e-495f-b2a2-ead1c0b74ba1"
      },
      "outputs": [
        {
          "output_type": "execute_result",
          "data": {
            "text/plain": [
              "array([False, False, False, False, False, False,  True, False, False,\n",
              "       False, False, False, False, False, False, False, False, False,\n",
              "       False, False, False, False, False, False, False, False, False,\n",
              "       False, False, False,  True, False, False, False, False, False,\n",
              "       False, False, False, False, False, False, False,  True, False,\n",
              "       False, False, False, False, False, False, False, False,  True,\n",
              "       False, False, False, False, False, False, False, False, False,\n",
              "       False, False, False, False,  True, False, False, False, False,\n",
              "       False, False, False, False, False, False, False, False, False,\n",
              "       False, False, False, False, False, False, False, False, False,\n",
              "       False, False,  True, False, False, False, False, False, False,\n",
              "       False, False, False, False, False, False, False, False, False,\n",
              "       False, False, False,  True, False, False, False, False, False,\n",
              "       False, False, False, False, False, False, False, False, False,\n",
              "        True, False, False, False, False, False, False, False, False,\n",
              "        True, False, False, False, False, False, False, False, False,\n",
              "       False,  True, False, False,  True,  True, False, False, False,\n",
              "       False, False, False, False, False, False, False, False, False,\n",
              "       False, False, False, False, False, False, False, False, False,\n",
              "       False,  True, False, False, False, False, False,  True, False,\n",
              "       False, False, False, False, False, False, False, False, False,\n",
              "       False, False, False, False, False, False,  True, False, False,\n",
              "       False, False, False, False, False, False, False, False, False,\n",
              "       False, False, False, False, False, False, False, False, False,\n",
              "       False, False,  True, False, False, False,  True, False, False,\n",
              "       False, False, False, False, False, False, False, False, False,\n",
              "       False, False, False, False, False, False, False, False, False,\n",
              "       False])"
            ]
          },
          "metadata": {},
          "execution_count": 603
        }
      ],
      "source": [
        "total_bill < 10"
      ]
    },
    {
      "cell_type": "code",
      "execution_count": 604,
      "metadata": {
        "colab": {
          "base_uri": "https://localhost:8080/"
        },
        "id": "JiXKxZW-3zdT",
        "outputId": "fd10e6b8-60f4-440c-c6d5-d6451ef652d3"
      },
      "outputs": [
        {
          "output_type": "execute_result",
          "data": {
            "text/plain": [
              "array([8.77, 9.55, 9.68, 9.94, 3.07, 5.75, 7.25, 8.52, 8.51, 8.35, 9.78,\n",
              "       7.51, 7.25, 9.6 , 7.56, 7.74, 8.58])"
            ]
          },
          "metadata": {},
          "execution_count": 604
        }
      ],
      "source": [
        "total_bill[total_bill < 10]"
      ]
    },
    {
      "cell_type": "code",
      "execution_count": 605,
      "metadata": {
        "colab": {
          "base_uri": "https://localhost:8080/"
        },
        "id": "DMCh2T4S3zdT",
        "outputId": "a73e6a5b-ce77-4b2d-d44c-021d27c90539"
      },
      "outputs": [
        {
          "output_type": "execute_result",
          "data": {
            "text/plain": [
              "array([16.99, 10.34, 21.01, 23.68, 24.59, 25.29, 26.88, 15.04, 14.78,\n",
              "       10.27, 35.26, 15.42, 18.43, 14.83, 21.58, 10.33, 16.29, 16.97,\n",
              "       20.65, 17.92, 20.29, 15.77, 39.42, 19.82, 17.81, 13.37, 12.69,\n",
              "       21.7 , 19.65, 18.35, 15.06, 20.69, 17.78, 24.06, 16.31, 16.93,\n",
              "       18.69, 31.27, 16.04, 17.46, 13.94, 30.4 , 18.29, 22.23, 32.4 ,\n",
              "       28.55, 18.04, 12.54, 10.29, 34.81, 25.56, 19.49, 38.01, 26.41,\n",
              "       11.24, 48.27, 20.29, 13.81, 11.02, 18.29, 17.59, 20.08, 16.45,\n",
              "       20.23, 15.01, 12.02, 17.07, 26.86, 25.28, 14.73, 10.51, 17.92,\n",
              "       27.2 , 22.76, 17.29, 19.44, 16.66, 10.07, 32.68, 15.98, 34.83,\n",
              "       13.03, 18.28, 24.71, 21.16, 28.97, 22.49, 16.32, 22.75, 40.17,\n",
              "       27.28, 12.03, 21.01, 12.46, 11.35, 15.38, 44.3 , 22.42, 20.92,\n",
              "       15.36, 20.49, 25.21, 18.24, 14.31, 14.  , 38.07, 23.95, 25.71,\n",
              "       17.31, 29.93, 10.65, 12.43, 24.08, 11.69, 13.42, 14.26, 15.95,\n",
              "       12.48, 29.8 , 14.52, 11.38, 22.82, 19.08, 20.27, 11.17, 12.26,\n",
              "       18.26, 10.33, 14.15, 16.  , 13.16, 17.47, 34.3 , 41.19, 27.05,\n",
              "       16.43, 18.64, 11.87, 14.07, 13.13, 17.26, 24.55, 19.77, 29.85,\n",
              "       48.17, 25.  , 13.39, 16.49, 21.5 , 12.66, 16.21, 13.81, 17.51,\n",
              "       24.52, 20.76, 31.71, 10.59, 10.63, 50.81, 15.81, 31.85, 16.82,\n",
              "       32.9 , 17.89, 14.48, 34.63, 34.65, 23.33, 45.35, 23.17, 40.55,\n",
              "       20.69, 20.9 , 30.46, 18.15, 23.1 , 15.69, 19.81, 28.44, 15.48,\n",
              "       16.58, 10.34, 43.11, 13.  , 13.51, 18.71, 12.74, 13.  , 16.4 ,\n",
              "       20.53, 16.47, 26.59, 38.73, 24.27, 12.76, 30.06, 25.89, 48.33,\n",
              "       13.27, 28.17, 12.9 , 28.15, 11.59, 30.14, 12.16, 13.42, 15.98,\n",
              "       13.42, 16.27, 10.09, 20.45, 13.28, 22.12, 24.01, 15.69, 11.61,\n",
              "       10.77, 15.53, 10.07, 12.6 , 32.83, 35.83, 29.03, 27.18, 22.67,\n",
              "       17.82, 18.78])"
            ]
          },
          "metadata": {},
          "execution_count": 605
        }
      ],
      "source": [
        "total_bill[~(total_bill < 10)] # negación de la condición, devuelve todos aquellos que incumplan la condición"
      ]
    },
    {
      "cell_type": "markdown",
      "metadata": {
        "id": "HweIxkzQ3zdU"
      },
      "source": [
        "## 12. Fancy indexing\n",
        "\n",
        "Consiste en acceder a múltiples elementos a la vez"
      ]
    },
    {
      "cell_type": "code",
      "execution_count": 606,
      "metadata": {
        "scrolled": true,
        "colab": {
          "base_uri": "https://localhost:8080/"
        },
        "id": "tOzfZ5Ai3zdU",
        "outputId": "0e7742e4-bd00-4fe7-c187-993d1f0f3a48"
      },
      "outputs": [
        {
          "output_type": "stream",
          "name": "stdout",
          "text": [
            "[51 92 14 71 60 20 82 86 74 74]\n"
          ]
        }
      ],
      "source": [
        "rand = np.random.RandomState(42)\n",
        "x = rand.randint(100, size=10)\n",
        "print(x)"
      ]
    },
    {
      "cell_type": "code",
      "execution_count": 607,
      "metadata": {
        "colab": {
          "base_uri": "https://localhost:8080/"
        },
        "id": "A-i_gEXi3zdV",
        "outputId": "18b029d5-3b5d-4955-dc0c-a61eb8c58ce3"
      },
      "outputs": [
        {
          "output_type": "stream",
          "name": "stdout",
          "text": [
            "51\n",
            "82\n",
            "14\n"
          ]
        }
      ],
      "source": [
        "print(x[0])\n",
        "print(x[6])\n",
        "print(x[2])"
      ]
    },
    {
      "cell_type": "code",
      "execution_count": 608,
      "metadata": {
        "scrolled": true,
        "colab": {
          "base_uri": "https://localhost:8080/"
        },
        "id": "y8ZMjpB_3zdV",
        "outputId": "bf328c98-ab10-48c6-da06-4774ee035587"
      },
      "outputs": [
        {
          "output_type": "execute_result",
          "data": {
            "text/plain": [
              "array([51, 82, 14])"
            ]
          },
          "metadata": {},
          "execution_count": 608
        }
      ],
      "source": [
        "x[[0, 6, 2]]\n",
        "# x[0, 6, 2]  # No confundir con lo anterior, en este caso trata de acceder a 3 dimensiones lo que da error."
      ]
    },
    {
      "cell_type": "code",
      "execution_count": 609,
      "metadata": {
        "colab": {
          "base_uri": "https://localhost:8080/"
        },
        "id": "Wp6LMYwn3zdW",
        "outputId": "96291d68-d571-4cd1-e087-f7db184e3bcf"
      },
      "outputs": [
        {
          "output_type": "execute_result",
          "data": {
            "text/plain": [
              "[np.int64(71), np.int64(86), np.int64(14)]"
            ]
          },
          "metadata": {},
          "execution_count": 609
        }
      ],
      "source": [
        "[x[3], x[7], x[2]]"
      ]
    },
    {
      "cell_type": "code",
      "execution_count": 610,
      "metadata": {
        "colab": {
          "base_uri": "https://localhost:8080/"
        },
        "id": "HVSErndk3zdX",
        "outputId": "4f207b61-81ca-4e41-c09f-8f1905f76b8a"
      },
      "outputs": [
        {
          "output_type": "execute_result",
          "data": {
            "text/plain": [
              "array([71, 86, 60])"
            ]
          },
          "metadata": {},
          "execution_count": 610
        }
      ],
      "source": [
        "indices = [3, 7, 4]\n",
        "x[indices]"
      ]
    },
    {
      "cell_type": "code",
      "execution_count": 611,
      "metadata": {
        "colab": {
          "base_uri": "https://localhost:8080/"
        },
        "id": "L9O5vd5b3zdX",
        "outputId": "9933f405-d1de-47e5-eeb4-684e216f526b"
      },
      "outputs": [
        {
          "output_type": "execute_result",
          "data": {
            "text/plain": [
              "array([[71, 86],\n",
              "       [60, 20]])"
            ]
          },
          "metadata": {},
          "execution_count": 611
        }
      ],
      "source": [
        "indices = np.array([[3, 7],\n",
        "                    [4, 5]])\n",
        "x[indices]"
      ]
    },
    {
      "cell_type": "code",
      "execution_count": 612,
      "metadata": {
        "colab": {
          "base_uri": "https://localhost:8080/"
        },
        "id": "RMbUJA-53zdY",
        "outputId": "f80b4569-8288-477e-a13f-81753351adb1"
      },
      "outputs": [
        {
          "output_type": "execute_result",
          "data": {
            "text/plain": [
              "array([[ 0,  1,  2,  3],\n",
              "       [ 4,  5,  6,  7],\n",
              "       [ 8,  9, 10, 11]])"
            ]
          },
          "metadata": {},
          "execution_count": 612
        }
      ],
      "source": [
        "a = np.arange(12).reshape((3, 4))\n",
        "a"
      ]
    },
    {
      "cell_type": "code",
      "execution_count": 613,
      "metadata": {
        "colab": {
          "base_uri": "https://localhost:8080/"
        },
        "id": "qK5EkxVL3zdY",
        "outputId": "feba6462-1b52-4896-c029-913b20da3d82"
      },
      "outputs": [
        {
          "output_type": "execute_result",
          "data": {
            "text/plain": [
              "array([ 2,  5, 11])"
            ]
          },
          "metadata": {},
          "execution_count": 613
        }
      ],
      "source": [
        "row = np.array([0, 1, 2])\n",
        "col = np.array([2, 1, 3])\n",
        "a[row, col]"
      ]
    },
    {
      "cell_type": "code",
      "execution_count": 614,
      "metadata": {
        "colab": {
          "base_uri": "https://localhost:8080/"
        },
        "id": "jzCBbSFC3zdZ",
        "outputId": "bcef4e23-e3dd-47c4-c806-65f3569786a7"
      },
      "outputs": [
        {
          "output_type": "execute_result",
          "data": {
            "text/plain": [
              "array([[ 6,  4,  5],\n",
              "       [10,  8,  9]])"
            ]
          },
          "metadata": {},
          "execution_count": 614
        }
      ],
      "source": [
        "# combinar slicing con fancy indexing:\n",
        "a[1:, [2, 0, 1]]"
      ]
    },
    {
      "cell_type": "markdown",
      "metadata": {
        "id": "-jLetsOa3zdZ"
      },
      "source": [
        "## 13. Ordenar arrays: sort()"
      ]
    },
    {
      "cell_type": "code",
      "execution_count": 615,
      "metadata": {
        "colab": {
          "base_uri": "https://localhost:8080/"
        },
        "id": "603e5Qdn3zda",
        "outputId": "16d324d2-5494-4401-b9ed-9246d80dbad6"
      },
      "outputs": [
        {
          "output_type": "execute_result",
          "data": {
            "text/plain": [
              "array([1, 2, 3, 4, 5])"
            ]
          },
          "metadata": {},
          "execution_count": 615
        }
      ],
      "source": [
        "x = np.array([2, 1, 4, 3, 5])\n",
        "np.sort(x)"
      ]
    },
    {
      "cell_type": "code",
      "execution_count": 616,
      "metadata": {
        "colab": {
          "base_uri": "https://localhost:8080/"
        },
        "id": "p1ekj8va3zda",
        "outputId": "2b40c4eb-eb87-4670-a14f-1b30c18060ae"
      },
      "outputs": [
        {
          "output_type": "stream",
          "name": "stdout",
          "text": [
            "[1 0 3 2 4]\n",
            "<class 'numpy.ndarray'>\n",
            "[1 2 3 4 5]\n"
          ]
        }
      ],
      "source": [
        "x = np.array([2, 1, 4, 3, 5])\n",
        "i = np.argsort(x)  # devuelve los índices en lugar de los valores\n",
        "print(i)\n",
        "print(type(i))\n",
        "print(x[i])"
      ]
    },
    {
      "cell_type": "code",
      "execution_count": 617,
      "metadata": {
        "colab": {
          "base_uri": "https://localhost:8080/"
        },
        "id": "M2-IGJnr3zdb",
        "outputId": "36f0dd71-6d2d-4087-9bfd-e230d6b984cf"
      },
      "outputs": [
        {
          "output_type": "stream",
          "name": "stdout",
          "text": [
            "[[6 3 7 4 6 9]\n",
            " [2 6 7 4 3 7]\n",
            " [7 2 5 4 1 7]\n",
            " [5 1 4 0 9 5]]\n"
          ]
        }
      ],
      "source": [
        "rand = np.random.RandomState(42)\n",
        "a = rand.randint(0, 10, (4, 6))\n",
        "print(a)"
      ]
    },
    {
      "cell_type": "code",
      "execution_count": 618,
      "metadata": {
        "colab": {
          "base_uri": "https://localhost:8080/"
        },
        "id": "vBiMc05h3zdb",
        "outputId": "385f6180-b431-49fc-95b4-32c0e6b5bdbf"
      },
      "outputs": [
        {
          "output_type": "execute_result",
          "data": {
            "text/plain": [
              "array([[3, 4, 6, 6, 7, 9],\n",
              "       [2, 3, 4, 6, 7, 7],\n",
              "       [1, 2, 4, 5, 7, 7],\n",
              "       [0, 1, 4, 5, 5, 9]])"
            ]
          },
          "metadata": {},
          "execution_count": 618
        }
      ],
      "source": [
        "np.sort(a)  # Por defecto ordena las filas"
      ]
    },
    {
      "cell_type": "code",
      "execution_count": 619,
      "metadata": {
        "colab": {
          "base_uri": "https://localhost:8080/"
        },
        "id": "FDO2mRxH3zdc",
        "outputId": "7519702a-c8ac-4869-a786-c3237a09bff0"
      },
      "outputs": [
        {
          "output_type": "execute_result",
          "data": {
            "text/plain": [
              "array([[2, 1, 4, 0, 1, 5],\n",
              "       [5, 2, 5, 4, 3, 7],\n",
              "       [6, 3, 7, 4, 6, 7],\n",
              "       [7, 6, 7, 4, 9, 9]])"
            ]
          },
          "metadata": {},
          "execution_count": 619
        }
      ],
      "source": [
        "np.sort(a, axis=0)  # ordena las columnas"
      ]
    },
    {
      "cell_type": "code",
      "execution_count": 620,
      "metadata": {
        "colab": {
          "base_uri": "https://localhost:8080/"
        },
        "id": "molrfQxP3zdd",
        "outputId": "6363c862-b979-4c71-8650-17696daee0f0"
      },
      "outputs": [
        {
          "output_type": "execute_result",
          "data": {
            "text/plain": [
              "array([[3, 4, 6, 6, 7, 9],\n",
              "       [2, 3, 4, 6, 7, 7],\n",
              "       [1, 2, 4, 5, 7, 7],\n",
              "       [0, 1, 4, 5, 5, 9]])"
            ]
          },
          "metadata": {},
          "execution_count": 620
        }
      ],
      "source": [
        "np.sort(a, axis=1)  # ordena las filas"
      ]
    },
    {
      "cell_type": "markdown",
      "metadata": {
        "id": "Gaymuzqk3zde"
      },
      "source": [
        "## 14. Arrays estructurados\n",
        "\n",
        "Arrays con datos heterogéneos"
      ]
    },
    {
      "cell_type": "code",
      "execution_count": 621,
      "metadata": {
        "id": "SsSXKyJw3zde"
      },
      "outputs": [],
      "source": [
        "# A priori se pueden crear arrays de diferentes tipos:\n",
        "name = ['Alice', 'Bob', 'Cathy', 'Doug']\n",
        "age = [25, 45, 37, 19]\n",
        "weight = [55.0, 85.5, 68.0, 61.5]\n",
        "# El problema es manejarlos en sincronía ya que son arrays diferentes, mejor crear en un mismo array"
      ]
    },
    {
      "cell_type": "code",
      "execution_count": 622,
      "metadata": {
        "colab": {
          "base_uri": "https://localhost:8080/"
        },
        "id": "F3TjUE-s3zdf",
        "outputId": "c2581f97-56c6-41d3-dd6c-611df05b1517"
      },
      "outputs": [
        {
          "output_type": "execute_result",
          "data": {
            "text/plain": [
              "array([('', 0, 0.), ('', 0, 0.), ('', 0, 0.), ('', 0, 0.)],\n",
              "      dtype=[('name', '<U10'), ('age', '<i4'), ('weight', '<f8')])"
            ]
          },
          "metadata": {},
          "execution_count": 622
        }
      ],
      "source": [
        "# U10 significa string Unicode de longitud 10\n",
        "# i4 significa integer de 4 bytes\n",
        "# f8 significa float de 8 bytes\n",
        "data = np.zeros(4, dtype={'names':('name', 'age', 'weight'),'formats':('U10', 'i4', 'f8')})\n",
        "data"
      ]
    },
    {
      "cell_type": "code",
      "execution_count": 623,
      "metadata": {
        "colab": {
          "base_uri": "https://localhost:8080/"
        },
        "id": "-sIr9OEe3zdf",
        "outputId": "dbb1ca12-142e-4359-c6ec-c97a17ad9c47"
      },
      "outputs": [
        {
          "output_type": "stream",
          "name": "stdout",
          "text": [
            "size: 4\n",
            "ndim 1\n",
            "shape (4,)\n"
          ]
        }
      ],
      "source": [
        "print(\"size:\", data.size)\n",
        "print(\"ndim\", data.ndim)\n",
        "print(\"shape\", data.shape)"
      ]
    },
    {
      "cell_type": "code",
      "execution_count": 624,
      "metadata": {
        "colab": {
          "base_uri": "https://localhost:8080/"
        },
        "id": "MzYqLsCm3zdg",
        "outputId": "f7a978aa-5150-4672-dbe7-9f8ab820ad5c"
      },
      "outputs": [
        {
          "output_type": "stream",
          "name": "stdout",
          "text": [
            "[('Alice', 25, 55. ) ('Bob', 45, 85.5) ('Cathy', 37, 68. )\n",
            " ('Doug', 19, 61.5)]\n"
          ]
        }
      ],
      "source": [
        "# asignar los datos:\n",
        "data['name'] = name  # string\n",
        "data['age'] = age  # int\n",
        "data['weight'] = weight  # float\n",
        "print(data)"
      ]
    },
    {
      "cell_type": "code",
      "execution_count": 625,
      "metadata": {
        "colab": {
          "base_uri": "https://localhost:8080/"
        },
        "id": "enUMdAOc3zdg",
        "outputId": "664369c8-eb4f-4f66-a7e5-984ea2973b38"
      },
      "outputs": [
        {
          "output_type": "execute_result",
          "data": {
            "text/plain": [
              "np.void(('Alice', 25, 55.0), dtype=[('name', '<U10'), ('age', '<i4'), ('weight', '<f8')])"
            ]
          },
          "metadata": {},
          "execution_count": 625
        }
      ],
      "source": [
        "# obtener la primera fila\n",
        "data[0]"
      ]
    },
    {
      "cell_type": "code",
      "execution_count": 626,
      "metadata": {
        "colab": {
          "base_uri": "https://localhost:8080/"
        },
        "id": "bhovKf163zdh",
        "outputId": "ab80a529-c3b3-4408-f492-be3a3504ee19"
      },
      "outputs": [
        {
          "output_type": "stream",
          "name": "stdout",
          "text": [
            "<class 'numpy.void'>\n"
          ]
        }
      ],
      "source": [
        "print(type(data[0]))"
      ]
    },
    {
      "cell_type": "code",
      "execution_count": 627,
      "metadata": {
        "colab": {
          "base_uri": "https://localhost:8080/",
          "height": 34
        },
        "id": "WafX8Pv73zdh",
        "outputId": "39c069c1-14bd-4928-edef-9cc8d1b08a27"
      },
      "outputs": [
        {
          "output_type": "execute_result",
          "data": {
            "text/plain": [
              "np.str_('Alice')"
            ],
            "application/vnd.google.colaboratory.intrinsic+json": {
              "type": "string"
            }
          },
          "metadata": {},
          "execution_count": 627
        }
      ],
      "source": [
        "# Obtener el nombre de la primera fila\n",
        "data[0]['name']"
      ]
    },
    {
      "cell_type": "code",
      "execution_count": 628,
      "metadata": {
        "colab": {
          "base_uri": "https://localhost:8080/"
        },
        "id": "ctg0rnDV3zdi",
        "outputId": "d980afd1-45e4-4c9f-cabb-13fe090d9843"
      },
      "outputs": [
        {
          "output_type": "execute_result",
          "data": {
            "text/plain": [
              "np.int32(45)"
            ]
          },
          "metadata": {},
          "execution_count": 628
        }
      ],
      "source": [
        "data[1]['age']"
      ]
    },
    {
      "cell_type": "code",
      "execution_count": 629,
      "metadata": {
        "colab": {
          "base_uri": "https://localhost:8080/"
        },
        "id": "2mrALx5o3zdi",
        "outputId": "f4c43f34-23ea-46df-ee10-b24b2c9c7a00"
      },
      "outputs": [
        {
          "output_type": "execute_result",
          "data": {
            "text/plain": [
              "array(['Alice', 'Bob', 'Cathy', 'Doug'], dtype='<U10')"
            ]
          },
          "metadata": {},
          "execution_count": 629
        }
      ],
      "source": [
        "# Obtener el nombre de todas las filas:\n",
        "data['name']"
      ]
    },
    {
      "cell_type": "code",
      "execution_count": 630,
      "metadata": {
        "colab": {
          "base_uri": "https://localhost:8080/"
        },
        "id": "povYLl-y3zdi",
        "outputId": "1c35e4c7-f2d1-4bad-bb62-531bcc8e7c93"
      },
      "outputs": [
        {
          "output_type": "execute_result",
          "data": {
            "text/plain": [
              "array([25, 45, 37, 19], dtype=int32)"
            ]
          },
          "metadata": {},
          "execution_count": 630
        }
      ],
      "source": [
        "data['age']"
      ]
    },
    {
      "cell_type": "code",
      "execution_count": 631,
      "metadata": {
        "colab": {
          "base_uri": "https://localhost:8080/"
        },
        "id": "rCbdWqmq3zdj",
        "outputId": "83b74923-235f-4798-d467-a187031fa3b3"
      },
      "outputs": [
        {
          "output_type": "execute_result",
          "data": {
            "text/plain": [
              "array(['Alice', 'Doug'], dtype='<U10')"
            ]
          },
          "metadata": {},
          "execution_count": 631
        }
      ],
      "source": [
        "# Obtener solo nombres cuyas edades sean menor de 30\n",
        "data[data['age'] < 30]['name']"
      ]
    }
  ],
  "metadata": {
    "kernelspec": {
      "display_name": "Python 3",
      "language": "python",
      "name": "python3"
    },
    "language_info": {
      "codemirror_mode": {
        "name": "ipython",
        "version": 3
      },
      "file_extension": ".py",
      "mimetype": "text/x-python",
      "name": "python",
      "nbconvert_exporter": "python",
      "pygments_lexer": "ipython3",
      "version": "3.8.8"
    },
    "colab": {
      "provenance": [],
      "include_colab_link": true
    }
  },
  "nbformat": 4,
  "nbformat_minor": 0
}