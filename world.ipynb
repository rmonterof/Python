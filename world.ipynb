{
  "cells": [
    {
      "cell_type": "markdown",
      "metadata": {
        "id": "view-in-github",
        "colab_type": "text"
      },
      "source": [
        "<a href=\"https://colab.research.google.com/github/rmonterof/Python/blob/main/world.ipynb\" target=\"_parent\"><img src=\"https://colab.research.google.com/assets/colab-badge.svg\" alt=\"Open In Colab\"/></a>"
      ]
    },
    {
      "cell_type": "code",
      "execution_count": null,
      "metadata": {
        "tags": [],
        "pycharm": {
          "name": "#%%\n"
        },
        "id": "Twhw_N2b0lF3"
      },
      "outputs": [],
      "source": [
        "import numpy as np\n",
        "import pandas as pd\n",
        "import matplotlib.pyplot as plt\n",
        "import mysql.connector as connector\n",
        "import sys\n",
        "import seaborn as sns"
      ]
    },
    {
      "cell_type": "markdown",
      "metadata": {
        "pycharm": {
          "name": "#%% md\n"
        },
        "id": "UZroj7ZF0lF6"
      },
      "source": [
        "## Leer datos de base de datos world de MySQL\n",
        "\n",
        "https://dev.mysql.com/doc/world-setup/en/world-setup-installation.html"
      ]
    },
    {
      "cell_type": "code",
      "execution_count": null,
      "metadata": {
        "jupyter": {
          "outputs_hidden": false
        },
        "pycharm": {
          "name": "#%%\n"
        },
        "id": "Adv9HSgE0lF8"
      },
      "outputs": [],
      "source": [
        "database = connector.connect(\n",
        "    host=\"localhost\",\n",
        "    port=\"3300\",\n",
        "    user=\"root\",\n",
        "    password=\"admin\",\n",
        "    database=\"world\"\n",
        ")\n",
        "\n",
        "cursor = database.cursor()"
      ]
    },
    {
      "cell_type": "code",
      "execution_count": null,
      "metadata": {
        "jupyter": {
          "outputs_hidden": false
        },
        "pycharm": {
          "name": "#%%\n"
        },
        "id": "nI_hrfjQ0lF9"
      },
      "outputs": [],
      "source": [
        "try:\n",
        "    df_city = pd.read_sql(\"SELECT * FROM city;\", database)\n",
        "    df_country = pd.read_sql(\"SELECT * FROM country;\", database)\n",
        "    df_country_language = pd.read_sql(\"SELECT * FROM countrylanguage;\", database)\n",
        "except Exception as e:\n",
        "    print(str(e))\n",
        "    sys.exit(0)\n",
        "finally:\n",
        "    cursor.close()\n",
        "    database.close()"
      ]
    },
    {
      "cell_type": "code",
      "execution_count": null,
      "metadata": {
        "jupyter": {
          "outputs_hidden": false
        },
        "pycharm": {
          "name": "#%%\n"
        },
        "id": "bu1GNOAy0lF9",
        "outputId": "8199ad80-e429-408c-8583-018e95546b16"
      },
      "outputs": [
        {
          "data": {
            "text/html": [
              "<div>\n",
              "<style scoped>\n",
              "    .dataframe tbody tr th:only-of-type {\n",
              "        vertical-align: middle;\n",
              "    }\n",
              "\n",
              "    .dataframe tbody tr th {\n",
              "        vertical-align: top;\n",
              "    }\n",
              "\n",
              "    .dataframe thead th {\n",
              "        text-align: right;\n",
              "    }\n",
              "</style>\n",
              "<table border=\"1\" class=\"dataframe\">\n",
              "  <thead>\n",
              "    <tr style=\"text-align: right;\">\n",
              "      <th></th>\n",
              "      <th>ID</th>\n",
              "      <th>Name</th>\n",
              "      <th>CountryCode</th>\n",
              "      <th>District</th>\n",
              "      <th>Population</th>\n",
              "    </tr>\n",
              "  </thead>\n",
              "  <tbody>\n",
              "    <tr>\n",
              "      <th>0</th>\n",
              "      <td>1</td>\n",
              "      <td>Kabul</td>\n",
              "      <td>AFG</td>\n",
              "      <td>Kabol</td>\n",
              "      <td>1780000</td>\n",
              "    </tr>\n",
              "    <tr>\n",
              "      <th>1</th>\n",
              "      <td>2</td>\n",
              "      <td>Qandahar</td>\n",
              "      <td>AFG</td>\n",
              "      <td>Qandahar</td>\n",
              "      <td>237500</td>\n",
              "    </tr>\n",
              "    <tr>\n",
              "      <th>2</th>\n",
              "      <td>3</td>\n",
              "      <td>Herat</td>\n",
              "      <td>AFG</td>\n",
              "      <td>Herat</td>\n",
              "      <td>186800</td>\n",
              "    </tr>\n",
              "    <tr>\n",
              "      <th>3</th>\n",
              "      <td>4</td>\n",
              "      <td>Mazar-e-Sharif</td>\n",
              "      <td>AFG</td>\n",
              "      <td>Balkh</td>\n",
              "      <td>127800</td>\n",
              "    </tr>\n",
              "    <tr>\n",
              "      <th>4</th>\n",
              "      <td>5</td>\n",
              "      <td>Amsterdam</td>\n",
              "      <td>NLD</td>\n",
              "      <td>Noord-Holland</td>\n",
              "      <td>731200</td>\n",
              "    </tr>\n",
              "  </tbody>\n",
              "</table>\n",
              "</div>"
            ],
            "text/plain": [
              "   ID            Name CountryCode       District  Population\n",
              "0   1           Kabul         AFG          Kabol     1780000\n",
              "1   2        Qandahar         AFG       Qandahar      237500\n",
              "2   3           Herat         AFG          Herat      186800\n",
              "3   4  Mazar-e-Sharif         AFG          Balkh      127800\n",
              "4   5       Amsterdam         NLD  Noord-Holland      731200"
            ]
          },
          "execution_count": 4,
          "metadata": {},
          "output_type": "execute_result"
        }
      ],
      "source": [
        "df_city.head()"
      ]
    },
    {
      "cell_type": "code",
      "execution_count": null,
      "metadata": {
        "jupyter": {
          "outputs_hidden": false
        },
        "pycharm": {
          "name": "#%%\n"
        },
        "id": "jmEBHHHy0lF-",
        "outputId": "b58dfed7-e429-423e-fe12-73bb4e052929"
      },
      "outputs": [
        {
          "data": {
            "text/html": [
              "<div>\n",
              "<style scoped>\n",
              "    .dataframe tbody tr th:only-of-type {\n",
              "        vertical-align: middle;\n",
              "    }\n",
              "\n",
              "    .dataframe tbody tr th {\n",
              "        vertical-align: top;\n",
              "    }\n",
              "\n",
              "    .dataframe thead th {\n",
              "        text-align: right;\n",
              "    }\n",
              "</style>\n",
              "<table border=\"1\" class=\"dataframe\">\n",
              "  <thead>\n",
              "    <tr style=\"text-align: right;\">\n",
              "      <th></th>\n",
              "      <th>Code</th>\n",
              "      <th>Name</th>\n",
              "      <th>Continent</th>\n",
              "      <th>Region</th>\n",
              "      <th>SurfaceArea</th>\n",
              "      <th>IndepYear</th>\n",
              "      <th>Population</th>\n",
              "      <th>LifeExpectancy</th>\n",
              "      <th>GNP</th>\n",
              "      <th>GNPOld</th>\n",
              "      <th>LocalName</th>\n",
              "      <th>GovernmentForm</th>\n",
              "      <th>HeadOfState</th>\n",
              "      <th>Capital</th>\n",
              "      <th>Code2</th>\n",
              "    </tr>\n",
              "  </thead>\n",
              "  <tbody>\n",
              "    <tr>\n",
              "      <th>0</th>\n",
              "      <td>ABW</td>\n",
              "      <td>Aruba</td>\n",
              "      <td>North America</td>\n",
              "      <td>Caribbean</td>\n",
              "      <td>193.0</td>\n",
              "      <td>NaN</td>\n",
              "      <td>103000</td>\n",
              "      <td>78.4</td>\n",
              "      <td>828.0</td>\n",
              "      <td>793.0</td>\n",
              "      <td>Aruba</td>\n",
              "      <td>Nonmetropolitan Territory of The Netherlands</td>\n",
              "      <td>Beatrix</td>\n",
              "      <td>129.0</td>\n",
              "      <td>AW</td>\n",
              "    </tr>\n",
              "    <tr>\n",
              "      <th>1</th>\n",
              "      <td>AFG</td>\n",
              "      <td>Afghanistan</td>\n",
              "      <td>Asia</td>\n",
              "      <td>Southern and Central Asia</td>\n",
              "      <td>652090.0</td>\n",
              "      <td>1919.0</td>\n",
              "      <td>22720000</td>\n",
              "      <td>45.9</td>\n",
              "      <td>5976.0</td>\n",
              "      <td>NaN</td>\n",
              "      <td>Afganistan/Afqanestan</td>\n",
              "      <td>Islamic Emirate</td>\n",
              "      <td>Mohammad Omar</td>\n",
              "      <td>1.0</td>\n",
              "      <td>AF</td>\n",
              "    </tr>\n",
              "    <tr>\n",
              "      <th>2</th>\n",
              "      <td>AGO</td>\n",
              "      <td>Angola</td>\n",
              "      <td>Africa</td>\n",
              "      <td>Central Africa</td>\n",
              "      <td>1246700.0</td>\n",
              "      <td>1975.0</td>\n",
              "      <td>12878000</td>\n",
              "      <td>38.3</td>\n",
              "      <td>6648.0</td>\n",
              "      <td>7984.0</td>\n",
              "      <td>Angola</td>\n",
              "      <td>Republic</td>\n",
              "      <td>José Eduardo dos Santos</td>\n",
              "      <td>56.0</td>\n",
              "      <td>AO</td>\n",
              "    </tr>\n",
              "    <tr>\n",
              "      <th>3</th>\n",
              "      <td>AIA</td>\n",
              "      <td>Anguilla</td>\n",
              "      <td>North America</td>\n",
              "      <td>Caribbean</td>\n",
              "      <td>96.0</td>\n",
              "      <td>NaN</td>\n",
              "      <td>8000</td>\n",
              "      <td>76.1</td>\n",
              "      <td>63.2</td>\n",
              "      <td>NaN</td>\n",
              "      <td>Anguilla</td>\n",
              "      <td>Dependent Territory of the UK</td>\n",
              "      <td>Elisabeth II</td>\n",
              "      <td>62.0</td>\n",
              "      <td>AI</td>\n",
              "    </tr>\n",
              "    <tr>\n",
              "      <th>4</th>\n",
              "      <td>ALB</td>\n",
              "      <td>Albania</td>\n",
              "      <td>Europe</td>\n",
              "      <td>Southern Europe</td>\n",
              "      <td>28748.0</td>\n",
              "      <td>1912.0</td>\n",
              "      <td>3401200</td>\n",
              "      <td>71.6</td>\n",
              "      <td>3205.0</td>\n",
              "      <td>2500.0</td>\n",
              "      <td>Shqipëria</td>\n",
              "      <td>Republic</td>\n",
              "      <td>Rexhep Mejdani</td>\n",
              "      <td>34.0</td>\n",
              "      <td>AL</td>\n",
              "    </tr>\n",
              "  </tbody>\n",
              "</table>\n",
              "</div>"
            ],
            "text/plain": [
              "  Code         Name      Continent                     Region  SurfaceArea  \\\n",
              "0  ABW        Aruba  North America                  Caribbean        193.0   \n",
              "1  AFG  Afghanistan           Asia  Southern and Central Asia     652090.0   \n",
              "2  AGO       Angola         Africa             Central Africa    1246700.0   \n",
              "3  AIA     Anguilla  North America                  Caribbean         96.0   \n",
              "4  ALB      Albania         Europe            Southern Europe      28748.0   \n",
              "\n",
              "   IndepYear  Population  LifeExpectancy     GNP  GNPOld  \\\n",
              "0        NaN      103000            78.4   828.0   793.0   \n",
              "1     1919.0    22720000            45.9  5976.0     NaN   \n",
              "2     1975.0    12878000            38.3  6648.0  7984.0   \n",
              "3        NaN        8000            76.1    63.2     NaN   \n",
              "4     1912.0     3401200            71.6  3205.0  2500.0   \n",
              "\n",
              "               LocalName                                GovernmentForm  \\\n",
              "0                  Aruba  Nonmetropolitan Territory of The Netherlands   \n",
              "1  Afganistan/Afqanestan                               Islamic Emirate   \n",
              "2                 Angola                                      Republic   \n",
              "3               Anguilla                 Dependent Territory of the UK   \n",
              "4              Shqipëria                                      Republic   \n",
              "\n",
              "               HeadOfState  Capital Code2  \n",
              "0                  Beatrix    129.0    AW  \n",
              "1            Mohammad Omar      1.0    AF  \n",
              "2  José Eduardo dos Santos     56.0    AO  \n",
              "3             Elisabeth II     62.0    AI  \n",
              "4           Rexhep Mejdani     34.0    AL  "
            ]
          },
          "execution_count": 5,
          "metadata": {},
          "output_type": "execute_result"
        }
      ],
      "source": [
        "df_country.head()"
      ]
    },
    {
      "cell_type": "code",
      "execution_count": null,
      "metadata": {
        "jupyter": {
          "outputs_hidden": false
        },
        "pycharm": {
          "name": "#%%\n"
        },
        "id": "VhVSa4n60lF_",
        "outputId": "2cebd6c0-4a66-4511-f640-fdf3a1acff92"
      },
      "outputs": [
        {
          "data": {
            "text/html": [
              "<div>\n",
              "<style scoped>\n",
              "    .dataframe tbody tr th:only-of-type {\n",
              "        vertical-align: middle;\n",
              "    }\n",
              "\n",
              "    .dataframe tbody tr th {\n",
              "        vertical-align: top;\n",
              "    }\n",
              "\n",
              "    .dataframe thead th {\n",
              "        text-align: right;\n",
              "    }\n",
              "</style>\n",
              "<table border=\"1\" class=\"dataframe\">\n",
              "  <thead>\n",
              "    <tr style=\"text-align: right;\">\n",
              "      <th></th>\n",
              "      <th>CountryCode</th>\n",
              "      <th>Language</th>\n",
              "      <th>IsOfficial</th>\n",
              "      <th>Percentage</th>\n",
              "    </tr>\n",
              "  </thead>\n",
              "  <tbody>\n",
              "    <tr>\n",
              "      <th>0</th>\n",
              "      <td>ABW</td>\n",
              "      <td>Dutch</td>\n",
              "      <td>T</td>\n",
              "      <td>5.3</td>\n",
              "    </tr>\n",
              "    <tr>\n",
              "      <th>1</th>\n",
              "      <td>ABW</td>\n",
              "      <td>English</td>\n",
              "      <td>F</td>\n",
              "      <td>9.5</td>\n",
              "    </tr>\n",
              "    <tr>\n",
              "      <th>2</th>\n",
              "      <td>ABW</td>\n",
              "      <td>Papiamento</td>\n",
              "      <td>F</td>\n",
              "      <td>76.7</td>\n",
              "    </tr>\n",
              "    <tr>\n",
              "      <th>3</th>\n",
              "      <td>ABW</td>\n",
              "      <td>Spanish</td>\n",
              "      <td>F</td>\n",
              "      <td>7.4</td>\n",
              "    </tr>\n",
              "    <tr>\n",
              "      <th>4</th>\n",
              "      <td>AFG</td>\n",
              "      <td>Balochi</td>\n",
              "      <td>F</td>\n",
              "      <td>0.9</td>\n",
              "    </tr>\n",
              "  </tbody>\n",
              "</table>\n",
              "</div>"
            ],
            "text/plain": [
              "  CountryCode    Language IsOfficial  Percentage\n",
              "0         ABW       Dutch          T         5.3\n",
              "1         ABW     English          F         9.5\n",
              "2         ABW  Papiamento          F        76.7\n",
              "3         ABW     Spanish          F         7.4\n",
              "4         AFG     Balochi          F         0.9"
            ]
          },
          "execution_count": 6,
          "metadata": {},
          "output_type": "execute_result"
        }
      ],
      "source": [
        "df_country_language.head()"
      ]
    },
    {
      "cell_type": "markdown",
      "metadata": {
        "pycharm": {
          "name": "#%% md\n"
        },
        "id": "fDfBs-gw0lF_"
      },
      "source": [
        "## Mostrar las 10 ciudades con mayor población:"
      ]
    },
    {
      "cell_type": "code",
      "execution_count": null,
      "metadata": {
        "jupyter": {
          "outputs_hidden": false
        },
        "pycharm": {
          "name": "#%%\n"
        },
        "id": "8T-pLgyK0lGA"
      },
      "outputs": [],
      "source": [
        "df_city.sort_values('Population', ascending=False, inplace=True)"
      ]
    },
    {
      "cell_type": "code",
      "execution_count": null,
      "metadata": {
        "jupyter": {
          "outputs_hidden": false
        },
        "pycharm": {
          "name": "#%%\n"
        },
        "id": "Z4LjDAN60lGA",
        "outputId": "28bdffae-96ee-462a-8177-7b4dde2d039b"
      },
      "outputs": [
        {
          "data": {
            "text/html": [
              "<div>\n",
              "<style scoped>\n",
              "    .dataframe tbody tr th:only-of-type {\n",
              "        vertical-align: middle;\n",
              "    }\n",
              "\n",
              "    .dataframe tbody tr th {\n",
              "        vertical-align: top;\n",
              "    }\n",
              "\n",
              "    .dataframe thead th {\n",
              "        text-align: right;\n",
              "    }\n",
              "</style>\n",
              "<table border=\"1\" class=\"dataframe\">\n",
              "  <thead>\n",
              "    <tr style=\"text-align: right;\">\n",
              "      <th></th>\n",
              "      <th>ID</th>\n",
              "      <th>Name</th>\n",
              "      <th>CountryCode</th>\n",
              "      <th>District</th>\n",
              "      <th>Population</th>\n",
              "    </tr>\n",
              "  </thead>\n",
              "  <tbody>\n",
              "    <tr>\n",
              "      <th>1023</th>\n",
              "      <td>1024</td>\n",
              "      <td>Mumbai (Bombay)</td>\n",
              "      <td>IND</td>\n",
              "      <td>Maharashtra</td>\n",
              "      <td>10500000</td>\n",
              "    </tr>\n",
              "    <tr>\n",
              "      <th>2330</th>\n",
              "      <td>2331</td>\n",
              "      <td>Seoul</td>\n",
              "      <td>KOR</td>\n",
              "      <td>Seoul</td>\n",
              "      <td>9981619</td>\n",
              "    </tr>\n",
              "    <tr>\n",
              "      <th>205</th>\n",
              "      <td>206</td>\n",
              "      <td>São Paulo</td>\n",
              "      <td>BRA</td>\n",
              "      <td>São Paulo</td>\n",
              "      <td>9968485</td>\n",
              "    </tr>\n",
              "    <tr>\n",
              "      <th>1889</th>\n",
              "      <td>1890</td>\n",
              "      <td>Shanghai</td>\n",
              "      <td>CHN</td>\n",
              "      <td>Shanghai</td>\n",
              "      <td>9696300</td>\n",
              "    </tr>\n",
              "    <tr>\n",
              "      <th>938</th>\n",
              "      <td>939</td>\n",
              "      <td>Jakarta</td>\n",
              "      <td>IDN</td>\n",
              "      <td>Jakarta Raya</td>\n",
              "      <td>9604900</td>\n",
              "    </tr>\n",
              "    <tr>\n",
              "      <th>2821</th>\n",
              "      <td>2822</td>\n",
              "      <td>Karachi</td>\n",
              "      <td>PAK</td>\n",
              "      <td>Sindh</td>\n",
              "      <td>9269265</td>\n",
              "    </tr>\n",
              "    <tr>\n",
              "      <th>3356</th>\n",
              "      <td>3357</td>\n",
              "      <td>Istanbul</td>\n",
              "      <td>TUR</td>\n",
              "      <td>Istanbul</td>\n",
              "      <td>8787958</td>\n",
              "    </tr>\n",
              "    <tr>\n",
              "      <th>2514</th>\n",
              "      <td>2515</td>\n",
              "      <td>Ciudad de México</td>\n",
              "      <td>MEX</td>\n",
              "      <td>Distrito Federal</td>\n",
              "      <td>8591309</td>\n",
              "    </tr>\n",
              "    <tr>\n",
              "      <th>3579</th>\n",
              "      <td>3580</td>\n",
              "      <td>Moscow</td>\n",
              "      <td>RUS</td>\n",
              "      <td>Moscow (City)</td>\n",
              "      <td>8389200</td>\n",
              "    </tr>\n",
              "    <tr>\n",
              "      <th>3792</th>\n",
              "      <td>3793</td>\n",
              "      <td>New York</td>\n",
              "      <td>USA</td>\n",
              "      <td>New York</td>\n",
              "      <td>8008278</td>\n",
              "    </tr>\n",
              "  </tbody>\n",
              "</table>\n",
              "</div>"
            ],
            "text/plain": [
              "        ID              Name CountryCode          District  Population\n",
              "1023  1024   Mumbai (Bombay)         IND       Maharashtra    10500000\n",
              "2330  2331             Seoul         KOR             Seoul     9981619\n",
              "205    206         São Paulo         BRA         São Paulo     9968485\n",
              "1889  1890          Shanghai         CHN          Shanghai     9696300\n",
              "938    939           Jakarta         IDN      Jakarta Raya     9604900\n",
              "2821  2822           Karachi         PAK             Sindh     9269265\n",
              "3356  3357          Istanbul         TUR          Istanbul     8787958\n",
              "2514  2515  Ciudad de México         MEX  Distrito Federal     8591309\n",
              "3579  3580            Moscow         RUS     Moscow (City)     8389200\n",
              "3792  3793          New York         USA          New York     8008278"
            ]
          },
          "execution_count": 8,
          "metadata": {},
          "output_type": "execute_result"
        }
      ],
      "source": [
        "df_city.head(10)"
      ]
    },
    {
      "cell_type": "code",
      "execution_count": null,
      "metadata": {
        "jupyter": {
          "outputs_hidden": false
        },
        "pycharm": {
          "name": "#%%\n"
        },
        "id": "eRSRHP6Q0lGB",
        "outputId": "c43c4752-10b0-401a-bad3-8f00fbab87d9"
      },
      "outputs": [
        {
          "data": {
            "text/plain": [
              "<AxesSubplot:title={'center':'Población por ciudad'}, xlabel='Name'>"
            ]
          },
          "execution_count": 9,
          "metadata": {},
          "output_type": "execute_result"
        },
        {
          "data": {
            "image/png": "[encoded data removed]",
            "text/plain": [
              "<Figure size 432x288 with 1 Axes>"
            ]
          },
          "metadata": {
            "needs_background": "light"
          },
          "output_type": "display_data"
        }
      ],
      "source": [
        "\n",
        "# Plotting functions:\n",
        "# df.plot.area     df.plot.barh     df.plot.density  df.plot.hist     df.plot.line     df.plot.scatter\n",
        "# df.plot.bar      df.plot.box      df.plot.hexbin   df.plot.kde      df.plot.pie\n",
        "\n",
        "df_city.iloc[:10].plot(kind='bar', x='Name', y='Population', title='Población por ciudad', rot=45)"
      ]
    },
    {
      "cell_type": "code",
      "execution_count": null,
      "metadata": {
        "jupyter": {
          "outputs_hidden": false
        },
        "pycharm": {
          "name": "#%%\n"
        },
        "id": "q6l6d6Co0lGD",
        "outputId": "0f565225-1a1f-4d89-859d-4a69f80c55bd"
      },
      "outputs": [
        {
          "data": {
            "image/png": "[encoded data removed]",
            "text/plain": [
              "<Figure size 432x288 with 1 Axes>"
            ]
          },
          "metadata": {
            "needs_background": "light"
          },
          "output_type": "display_data"
        }
      ],
      "source": [
        "ax = sns.barplot(x=\"Population\", y=\"Name\",\n",
        "                 data=df_city.iloc[:15], palette=\"tab20c\",\n",
        "                 linewidth = 1)\n",
        "\n",
        "plt.title(\"Population per city\")\n",
        "ax.set_xlabel(xlabel = 'Population per city', fontsize = 10)\n",
        "ax.set_ylabel(ylabel = 'Cities', fontsize = 10)\n",
        "plt.show()"
      ]
    },
    {
      "cell_type": "markdown",
      "metadata": {
        "pycharm": {
          "name": "#%% md\n"
        },
        "id": "iAkRu2-_0lGE"
      },
      "source": [
        "## Mostrar los 10 países con mayor población:"
      ]
    },
    {
      "cell_type": "code",
      "execution_count": null,
      "metadata": {
        "jupyter": {
          "outputs_hidden": false
        },
        "pycharm": {
          "name": "#%%\n"
        },
        "id": "9NcuYv2X0lGE",
        "outputId": "520b16a1-8932-402d-d4f9-2360463eb21e"
      },
      "outputs": [
        {
          "data": {
            "image/png": "[encoded data removed]",
            "text/plain": [
              "<Figure size 432x288 with 1 Axes>"
            ]
          },
          "metadata": {
            "needs_background": "light"
          },
          "output_type": "display_data"
        }
      ],
      "source": [
        "df_country.sort_values('Population', ascending=False, inplace=True)\n",
        "\n",
        "ax = sns.barplot(x=\"Population\", y=\"Name\",\n",
        "                 data=df_country.iloc[:15], palette=\"tab20c\",\n",
        "                 linewidth = 1)\n",
        "\n",
        "plt.title(\"Population per city\")\n",
        "ax.set_xlabel(xlabel = 'Population per country', fontsize = 10)\n",
        "ax.set_ylabel(ylabel = 'Cities', fontsize = 10)\n",
        "plt.show()\n"
      ]
    },
    {
      "cell_type": "markdown",
      "metadata": {
        "pycharm": {
          "name": "#%% md\n"
        },
        "id": "Tcj0Avfs0lGF"
      },
      "source": [
        "## Mostrar la población total por continente:"
      ]
    },
    {
      "cell_type": "code",
      "execution_count": null,
      "metadata": {
        "jupyter": {
          "outputs_hidden": false
        },
        "pycharm": {
          "name": "#%%\n"
        },
        "id": "BXA8iGfb0lGF",
        "outputId": "47e8446f-dcfe-4182-8f98-075fa7990d05"
      },
      "outputs": [
        {
          "data": {
            "text/html": [
              "<div>\n",
              "<style scoped>\n",
              "    .dataframe tbody tr th:only-of-type {\n",
              "        vertical-align: middle;\n",
              "    }\n",
              "\n",
              "    .dataframe tbody tr th {\n",
              "        vertical-align: top;\n",
              "    }\n",
              "\n",
              "    .dataframe thead th {\n",
              "        text-align: right;\n",
              "    }\n",
              "</style>\n",
              "<table border=\"1\" class=\"dataframe\">\n",
              "  <thead>\n",
              "    <tr style=\"text-align: right;\">\n",
              "      <th></th>\n",
              "      <th>Continent</th>\n",
              "      <th>Population</th>\n",
              "    </tr>\n",
              "  </thead>\n",
              "  <tbody>\n",
              "    <tr>\n",
              "      <th>2</th>\n",
              "      <td>Asia</td>\n",
              "      <td>3705025700</td>\n",
              "    </tr>\n",
              "    <tr>\n",
              "      <th>0</th>\n",
              "      <td>Africa</td>\n",
              "      <td>784475000</td>\n",
              "    </tr>\n",
              "    <tr>\n",
              "      <th>3</th>\n",
              "      <td>Europe</td>\n",
              "      <td>730074600</td>\n",
              "    </tr>\n",
              "    <tr>\n",
              "      <th>4</th>\n",
              "      <td>North America</td>\n",
              "      <td>482993000</td>\n",
              "    </tr>\n",
              "    <tr>\n",
              "      <th>6</th>\n",
              "      <td>South America</td>\n",
              "      <td>345780000</td>\n",
              "    </tr>\n",
              "    <tr>\n",
              "      <th>5</th>\n",
              "      <td>Oceania</td>\n",
              "      <td>30401150</td>\n",
              "    </tr>\n",
              "    <tr>\n",
              "      <th>1</th>\n",
              "      <td>Antarctica</td>\n",
              "      <td>0</td>\n",
              "    </tr>\n",
              "  </tbody>\n",
              "</table>\n",
              "</div>"
            ],
            "text/plain": [
              "       Continent  Population\n",
              "2           Asia  3705025700\n",
              "0         Africa   784475000\n",
              "3         Europe   730074600\n",
              "4  North America   482993000\n",
              "6  South America   345780000\n",
              "5        Oceania    30401150\n",
              "1     Antarctica           0"
            ]
          },
          "execution_count": 12,
          "metadata": {},
          "output_type": "execute_result"
        }
      ],
      "source": [
        "serie = df_country.groupby('Continent')['Population'].sum()\n",
        "df_pop = pd.DataFrame(serie)\n",
        "df_pop.reset_index(inplace=True)\n",
        "df_pop.sort_values('Population', ascending=False, inplace=True)\n",
        "df_pop"
      ]
    },
    {
      "cell_type": "code",
      "execution_count": null,
      "metadata": {
        "jupyter": {
          "outputs_hidden": false
        },
        "pycharm": {
          "name": "#%%\n"
        },
        "id": "zTSOIdKl0lGG",
        "outputId": "c4494287-4e77-408c-bef7-d8a6035cd3b7"
      },
      "outputs": [
        {
          "data": {
            "image/png": "[encoded data removed]",
            "text/plain": [
              "<Figure size 432x288 with 1 Axes>"
            ]
          },
          "metadata": {
            "needs_background": "light"
          },
          "output_type": "display_data"
        }
      ],
      "source": [
        "ax = sns.barplot(x=\"Population\", y=\"Continent\",\n",
        "                 data=df_pop, palette=\"tab20c\",\n",
        "                 linewidth = 1)\n",
        "\n",
        "plt.title(\"Population per continent\")\n",
        "ax.set_xlabel(xlabel = 'Population', fontsize = 10)\n",
        "ax.set_ylabel(ylabel = 'Continent', fontsize = 10)\n",
        "plt.show()"
      ]
    },
    {
      "cell_type": "markdown",
      "metadata": {
        "pycharm": {
          "name": "#%% md\n"
        },
        "id": "iZQ5kt4-0lGG"
      },
      "source": [
        "## Mostrar los 15 países con mayor esperanza de vida"
      ]
    },
    {
      "cell_type": "code",
      "execution_count": null,
      "metadata": {
        "jupyter": {
          "outputs_hidden": false
        },
        "pycharm": {
          "name": "#%%\n"
        },
        "id": "WSfGBSYc0lGG"
      },
      "outputs": [],
      "source": [
        "\n",
        "df_country.sort_values('LifeExpectancy', ascending=False, inplace=True)\n"
      ]
    },
    {
      "cell_type": "code",
      "execution_count": null,
      "metadata": {
        "jupyter": {
          "outputs_hidden": false
        },
        "pycharm": {
          "name": "#%%\n"
        },
        "id": "o9DF2klv0lGH",
        "outputId": "f13b25ae-30fb-4f94-afca-cb3ad49605a0"
      },
      "outputs": [
        {
          "data": {
            "text/plain": [
              "<AxesSubplot:title={'center':'Esperanza de vida por país'}, xlabel='Name'>"
            ]
          },
          "execution_count": 15,
          "metadata": {},
          "output_type": "execute_result"
        },
        {
          "data": {
            "image/png": "[encoded data removed]",
            "text/plain": [
              "<Figure size 720x432 with 1 Axes>"
            ]
          },
          "metadata": {
            "needs_background": "light"
          },
          "output_type": "display_data"
        }
      ],
      "source": [
        "\n",
        "df_country.iloc[:15].plot(figsize=(10, 6), kind='bar', x='Name', y='LifeExpectancy', title='Esperanza de vida por país', rot=45)"
      ]
    },
    {
      "cell_type": "markdown",
      "metadata": {
        "pycharm": {
          "name": "#%% md\n"
        },
        "id": "mKq3-FnR0lGH"
      },
      "source": [
        "## Mostrar el área de los países"
      ]
    },
    {
      "cell_type": "code",
      "execution_count": null,
      "metadata": {
        "jupyter": {
          "outputs_hidden": false
        },
        "pycharm": {
          "name": "#%%\n"
        },
        "id": "ftEJrpwV0lGI",
        "outputId": "be63bd9b-7a48-4107-9ec9-e0c74b3551a2"
      },
      "outputs": [
        {
          "data": {
            "text/plain": [
              "<AxesSubplot:xlabel='column1'>"
            ]
          },
          "execution_count": 16,
          "metadata": {},
          "output_type": "execute_result"
        },
        {
          "data": {
            "image/png": "[encoded data removed]",
            "text/plain": [
              "<Figure size 720x432 with 1 Axes>"
            ]
          },
          "metadata": {
            "needs_background": "light"
          },
          "output_type": "display_data"
        }
      ],
      "source": [
        "prueba = pd.DataFrame({\n",
        "    \"column1\": np.array([1,2,3,4]),\n",
        "    \"column2\": np.array([5,6,7,8])\n",
        "})\n",
        "prueba.plot.area(figsize=(10, 6), x=\"column1\", y=\"column2\")"
      ]
    },
    {
      "cell_type": "code",
      "execution_count": null,
      "metadata": {
        "jupyter": {
          "outputs_hidden": false
        },
        "pycharm": {
          "name": "#%%\n"
        },
        "id": "JpQcEtQw0lGI",
        "outputId": "cdf91d16-80c7-4607-901f-e54ce0bcfc03"
      },
      "outputs": [
        {
          "data": {
            "text/html": [
              "<div>\n",
              "<style scoped>\n",
              "    .dataframe tbody tr th:only-of-type {\n",
              "        vertical-align: middle;\n",
              "    }\n",
              "\n",
              "    .dataframe tbody tr th {\n",
              "        vertical-align: top;\n",
              "    }\n",
              "\n",
              "    .dataframe thead th {\n",
              "        text-align: right;\n",
              "    }\n",
              "</style>\n",
              "<table border=\"1\" class=\"dataframe\">\n",
              "  <thead>\n",
              "    <tr style=\"text-align: right;\">\n",
              "      <th></th>\n",
              "      <th>Code</th>\n",
              "      <th>Name</th>\n",
              "      <th>Continent</th>\n",
              "      <th>Region</th>\n",
              "      <th>SurfaceArea</th>\n",
              "      <th>IndepYear</th>\n",
              "      <th>Population</th>\n",
              "      <th>LifeExpectancy</th>\n",
              "      <th>GNP</th>\n",
              "      <th>GNPOld</th>\n",
              "      <th>LocalName</th>\n",
              "      <th>GovernmentForm</th>\n",
              "      <th>HeadOfState</th>\n",
              "      <th>Capital</th>\n",
              "      <th>Code2</th>\n",
              "    </tr>\n",
              "  </thead>\n",
              "  <tbody>\n",
              "    <tr>\n",
              "      <th>181</th>\n",
              "      <td>RUS</td>\n",
              "      <td>Russian Federation</td>\n",
              "      <td>Europe</td>\n",
              "      <td>Eastern Europe</td>\n",
              "      <td>17075400.0</td>\n",
              "      <td>1991.0</td>\n",
              "      <td>146934000</td>\n",
              "      <td>67.2</td>\n",
              "      <td>276608.0</td>\n",
              "      <td>442989.0</td>\n",
              "      <td>Rossija</td>\n",
              "      <td>Federal Republic</td>\n",
              "      <td>Vladimir Putin</td>\n",
              "      <td>3580.0</td>\n",
              "      <td>RU</td>\n",
              "    </tr>\n",
              "    <tr>\n",
              "      <th>11</th>\n",
              "      <td>ATA</td>\n",
              "      <td>Antarctica</td>\n",
              "      <td>Antarctica</td>\n",
              "      <td>Antarctica</td>\n",
              "      <td>13120000.0</td>\n",
              "      <td>NaN</td>\n",
              "      <td>0</td>\n",
              "      <td>NaN</td>\n",
              "      <td>0.0</td>\n",
              "      <td>NaN</td>\n",
              "      <td>–</td>\n",
              "      <td>Co-administrated</td>\n",
              "      <td></td>\n",
              "      <td>NaN</td>\n",
              "      <td>AQ</td>\n",
              "    </tr>\n",
              "    <tr>\n",
              "      <th>37</th>\n",
              "      <td>CAN</td>\n",
              "      <td>Canada</td>\n",
              "      <td>North America</td>\n",
              "      <td>North America</td>\n",
              "      <td>9970610.0</td>\n",
              "      <td>1867.0</td>\n",
              "      <td>31147000</td>\n",
              "      <td>79.4</td>\n",
              "      <td>598862.0</td>\n",
              "      <td>625626.0</td>\n",
              "      <td>Canada</td>\n",
              "      <td>Constitutional Monarchy, Federation</td>\n",
              "      <td>Elisabeth II</td>\n",
              "      <td>1822.0</td>\n",
              "      <td>CA</td>\n",
              "    </tr>\n",
              "    <tr>\n",
              "      <th>41</th>\n",
              "      <td>CHN</td>\n",
              "      <td>China</td>\n",
              "      <td>Asia</td>\n",
              "      <td>Eastern Asia</td>\n",
              "      <td>9572900.0</td>\n",
              "      <td>-1523.0</td>\n",
              "      <td>1277558000</td>\n",
              "      <td>71.4</td>\n",
              "      <td>982268.0</td>\n",
              "      <td>917719.0</td>\n",
              "      <td>Zhongquo</td>\n",
              "      <td>People'sRepublic</td>\n",
              "      <td>Jiang Zemin</td>\n",
              "      <td>1891.0</td>\n",
              "      <td>CN</td>\n",
              "    </tr>\n",
              "    <tr>\n",
              "      <th>223</th>\n",
              "      <td>USA</td>\n",
              "      <td>United States</td>\n",
              "      <td>North America</td>\n",
              "      <td>North America</td>\n",
              "      <td>9363520.0</td>\n",
              "      <td>1776.0</td>\n",
              "      <td>278357000</td>\n",
              "      <td>77.1</td>\n",
              "      <td>8510700.0</td>\n",
              "      <td>8110900.0</td>\n",
              "      <td>United States</td>\n",
              "      <td>Federal Republic</td>\n",
              "      <td>George W. Bush</td>\n",
              "      <td>3813.0</td>\n",
              "      <td>US</td>\n",
              "    </tr>\n",
              "  </tbody>\n",
              "</table>\n",
              "</div>"
            ],
            "text/plain": [
              "    Code                Name      Continent          Region  SurfaceArea  \\\n",
              "181  RUS  Russian Federation         Europe  Eastern Europe   17075400.0   \n",
              "11   ATA          Antarctica     Antarctica      Antarctica   13120000.0   \n",
              "37   CAN              Canada  North America   North America    9970610.0   \n",
              "41   CHN               China           Asia    Eastern Asia    9572900.0   \n",
              "223  USA       United States  North America   North America    9363520.0   \n",
              "\n",
              "     IndepYear  Population  LifeExpectancy        GNP     GNPOld  \\\n",
              "181     1991.0   146934000            67.2   276608.0   442989.0   \n",
              "11         NaN           0             NaN        0.0        NaN   \n",
              "37      1867.0    31147000            79.4   598862.0   625626.0   \n",
              "41     -1523.0  1277558000            71.4   982268.0   917719.0   \n",
              "223     1776.0   278357000            77.1  8510700.0  8110900.0   \n",
              "\n",
              "         LocalName                       GovernmentForm     HeadOfState  \\\n",
              "181        Rossija                     Federal Republic  Vladimir Putin   \n",
              "11               –                     Co-administrated                   \n",
              "37          Canada  Constitutional Monarchy, Federation    Elisabeth II   \n",
              "41        Zhongquo                     People'sRepublic     Jiang Zemin   \n",
              "223  United States                     Federal Republic  George W. Bush   \n",
              "\n",
              "     Capital Code2  \n",
              "181   3580.0    RU  \n",
              "11       NaN    AQ  \n",
              "37    1822.0    CA  \n",
              "41    1891.0    CN  \n",
              "223   3813.0    US  "
            ]
          },
          "execution_count": 17,
          "metadata": {},
          "output_type": "execute_result"
        }
      ],
      "source": [
        "df_country.sort_values('SurfaceArea', ascending=False, inplace=True)\n",
        "df_country.head()"
      ]
    },
    {
      "cell_type": "code",
      "execution_count": null,
      "metadata": {
        "jupyter": {
          "outputs_hidden": false
        },
        "pycharm": {
          "name": "#%%\n"
        },
        "id": "EYEk1mrd0lGJ",
        "outputId": "2d8e0560-bc1e-4cd8-a406-86b0cab63209"
      },
      "outputs": [
        {
          "data": {
            "text/html": [
              "<div>\n",
              "<style scoped>\n",
              "    .dataframe tbody tr th:only-of-type {\n",
              "        vertical-align: middle;\n",
              "    }\n",
              "\n",
              "    .dataframe tbody tr th {\n",
              "        vertical-align: top;\n",
              "    }\n",
              "\n",
              "    .dataframe thead th {\n",
              "        text-align: right;\n",
              "    }\n",
              "</style>\n",
              "<table border=\"1\" class=\"dataframe\">\n",
              "  <thead>\n",
              "    <tr style=\"text-align: right;\">\n",
              "      <th></th>\n",
              "      <th>Code</th>\n",
              "      <th>Name</th>\n",
              "      <th>Continent</th>\n",
              "      <th>Region</th>\n",
              "      <th>SurfaceArea</th>\n",
              "      <th>IndepYear</th>\n",
              "      <th>Population</th>\n",
              "      <th>LifeExpectancy</th>\n",
              "      <th>GNP</th>\n",
              "      <th>GNPOld</th>\n",
              "      <th>LocalName</th>\n",
              "      <th>GovernmentForm</th>\n",
              "      <th>HeadOfState</th>\n",
              "      <th>Capital</th>\n",
              "      <th>Code2</th>\n",
              "    </tr>\n",
              "  </thead>\n",
              "  <tbody>\n",
              "    <tr>\n",
              "      <th>181</th>\n",
              "      <td>RUS</td>\n",
              "      <td>Russian Federation</td>\n",
              "      <td>Europe</td>\n",
              "      <td>Eastern Europe</td>\n",
              "      <td>17075400.0</td>\n",
              "      <td>1991.0</td>\n",
              "      <td>146934000</td>\n",
              "      <td>67.2</td>\n",
              "      <td>276608.0</td>\n",
              "      <td>442989.0</td>\n",
              "      <td>Rossija</td>\n",
              "      <td>Federal Republic</td>\n",
              "      <td>Vladimir Putin</td>\n",
              "      <td>3580.0</td>\n",
              "      <td>RU</td>\n",
              "    </tr>\n",
              "    <tr>\n",
              "      <th>11</th>\n",
              "      <td>ATA</td>\n",
              "      <td>Antarctica</td>\n",
              "      <td>Antarctica</td>\n",
              "      <td>Antarctica</td>\n",
              "      <td>13120000.0</td>\n",
              "      <td>NaN</td>\n",
              "      <td>0</td>\n",
              "      <td>NaN</td>\n",
              "      <td>0.0</td>\n",
              "      <td>NaN</td>\n",
              "      <td>–</td>\n",
              "      <td>Co-administrated</td>\n",
              "      <td></td>\n",
              "      <td>NaN</td>\n",
              "      <td>AQ</td>\n",
              "    </tr>\n",
              "    <tr>\n",
              "      <th>37</th>\n",
              "      <td>CAN</td>\n",
              "      <td>Canada</td>\n",
              "      <td>North America</td>\n",
              "      <td>North America</td>\n",
              "      <td>9970610.0</td>\n",
              "      <td>1867.0</td>\n",
              "      <td>31147000</td>\n",
              "      <td>79.4</td>\n",
              "      <td>598862.0</td>\n",
              "      <td>625626.0</td>\n",
              "      <td>Canada</td>\n",
              "      <td>Constitutional Monarchy, Federation</td>\n",
              "      <td>Elisabeth II</td>\n",
              "      <td>1822.0</td>\n",
              "      <td>CA</td>\n",
              "    </tr>\n",
              "    <tr>\n",
              "      <th>41</th>\n",
              "      <td>CHN</td>\n",
              "      <td>China</td>\n",
              "      <td>Asia</td>\n",
              "      <td>Eastern Asia</td>\n",
              "      <td>9572900.0</td>\n",
              "      <td>-1523.0</td>\n",
              "      <td>1277558000</td>\n",
              "      <td>71.4</td>\n",
              "      <td>982268.0</td>\n",
              "      <td>917719.0</td>\n",
              "      <td>Zhongquo</td>\n",
              "      <td>People'sRepublic</td>\n",
              "      <td>Jiang Zemin</td>\n",
              "      <td>1891.0</td>\n",
              "      <td>CN</td>\n",
              "    </tr>\n",
              "    <tr>\n",
              "      <th>223</th>\n",
              "      <td>USA</td>\n",
              "      <td>United States</td>\n",
              "      <td>North America</td>\n",
              "      <td>North America</td>\n",
              "      <td>9363520.0</td>\n",
              "      <td>1776.0</td>\n",
              "      <td>278357000</td>\n",
              "      <td>77.1</td>\n",
              "      <td>8510700.0</td>\n",
              "      <td>8110900.0</td>\n",
              "      <td>United States</td>\n",
              "      <td>Federal Republic</td>\n",
              "      <td>George W. Bush</td>\n",
              "      <td>3813.0</td>\n",
              "      <td>US</td>\n",
              "    </tr>\n",
              "  </tbody>\n",
              "</table>\n",
              "</div>"
            ],
            "text/plain": [
              "    Code                Name      Continent          Region  SurfaceArea  \\\n",
              "181  RUS  Russian Federation         Europe  Eastern Europe   17075400.0   \n",
              "11   ATA          Antarctica     Antarctica      Antarctica   13120000.0   \n",
              "37   CAN              Canada  North America   North America    9970610.0   \n",
              "41   CHN               China           Asia    Eastern Asia    9572900.0   \n",
              "223  USA       United States  North America   North America    9363520.0   \n",
              "\n",
              "     IndepYear  Population  LifeExpectancy        GNP     GNPOld  \\\n",
              "181     1991.0   146934000            67.2   276608.0   442989.0   \n",
              "11         NaN           0             NaN        0.0        NaN   \n",
              "37      1867.0    31147000            79.4   598862.0   625626.0   \n",
              "41     -1523.0  1277558000            71.4   982268.0   917719.0   \n",
              "223     1776.0   278357000            77.1  8510700.0  8110900.0   \n",
              "\n",
              "         LocalName                       GovernmentForm     HeadOfState  \\\n",
              "181        Rossija                     Federal Republic  Vladimir Putin   \n",
              "11               –                     Co-administrated                   \n",
              "37          Canada  Constitutional Monarchy, Federation    Elisabeth II   \n",
              "41        Zhongquo                     People'sRepublic     Jiang Zemin   \n",
              "223  United States                     Federal Republic  George W. Bush   \n",
              "\n",
              "     Capital Code2  \n",
              "181   3580.0    RU  \n",
              "11       NaN    AQ  \n",
              "37    1822.0    CA  \n",
              "41    1891.0    CN  \n",
              "223   3813.0    US  "
            ]
          },
          "execution_count": 18,
          "metadata": {},
          "output_type": "execute_result"
        }
      ],
      "source": [
        "df_country.iloc[:5]"
      ]
    },
    {
      "cell_type": "code",
      "execution_count": null,
      "metadata": {
        "jupyter": {
          "outputs_hidden": false
        },
        "pycharm": {
          "name": "#%%\n"
        },
        "id": "PUKX95XJ0lGJ",
        "outputId": "0f5ae12f-31a2-4cc0-ac39-ceb8a584f649"
      },
      "outputs": [
        {
          "data": {
            "text/plain": [
              "<AxesSubplot:xlabel='Name'>"
            ]
          },
          "execution_count": 19,
          "metadata": {},
          "output_type": "execute_result"
        },
        {
          "data": {
            "image/png": "[encoded data removed]",
            "text/plain": [
              "<Figure size 720x432 with 1 Axes>"
            ]
          },
          "metadata": {
            "needs_background": "light"
          },
          "output_type": "display_data"
        }
      ],
      "source": [
        "df_country.iloc[:9].plot.area(figsize=(10, 6), x=\"Name\", y=\"SurfaceArea\", rot=45)"
      ]
    },
    {
      "cell_type": "code",
      "execution_count": null,
      "metadata": {
        "jupyter": {
          "outputs_hidden": false
        },
        "pycharm": {
          "name": "#%%\n"
        },
        "id": "tVphlb3t0lGJ",
        "outputId": "192bf332-09c4-41d5-e30a-168d24fa4352"
      },
      "outputs": [
        {
          "data": {
            "text/html": [
              "<div>\n",
              "<style scoped>\n",
              "    .dataframe tbody tr th:only-of-type {\n",
              "        vertical-align: middle;\n",
              "    }\n",
              "\n",
              "    .dataframe tbody tr th {\n",
              "        vertical-align: top;\n",
              "    }\n",
              "\n",
              "    .dataframe thead th {\n",
              "        text-align: right;\n",
              "    }\n",
              "</style>\n",
              "<table border=\"1\" class=\"dataframe\">\n",
              "  <thead>\n",
              "    <tr style=\"text-align: right;\">\n",
              "      <th></th>\n",
              "      <th>Continent</th>\n",
              "      <th>SurfaceArea</th>\n",
              "    </tr>\n",
              "  </thead>\n",
              "  <tbody>\n",
              "    <tr>\n",
              "      <th>2</th>\n",
              "      <td>Asia</td>\n",
              "      <td>31881005.0</td>\n",
              "    </tr>\n",
              "    <tr>\n",
              "      <th>0</th>\n",
              "      <td>Africa</td>\n",
              "      <td>30250377.0</td>\n",
              "    </tr>\n",
              "    <tr>\n",
              "      <th>4</th>\n",
              "      <td>North America</td>\n",
              "      <td>24214470.0</td>\n",
              "    </tr>\n",
              "    <tr>\n",
              "      <th>3</th>\n",
              "      <td>Europe</td>\n",
              "      <td>23049133.9</td>\n",
              "    </tr>\n",
              "    <tr>\n",
              "      <th>6</th>\n",
              "      <td>South America</td>\n",
              "      <td>17864926.0</td>\n",
              "    </tr>\n",
              "    <tr>\n",
              "      <th>1</th>\n",
              "      <td>Antarctica</td>\n",
              "      <td>13132101.0</td>\n",
              "    </tr>\n",
              "    <tr>\n",
              "      <th>5</th>\n",
              "      <td>Oceania</td>\n",
              "      <td>8564294.0</td>\n",
              "    </tr>\n",
              "  </tbody>\n",
              "</table>\n",
              "</div>"
            ],
            "text/plain": [
              "       Continent  SurfaceArea\n",
              "2           Asia   31881005.0\n",
              "0         Africa   30250377.0\n",
              "4  North America   24214470.0\n",
              "3         Europe   23049133.9\n",
              "6  South America   17864926.0\n",
              "1     Antarctica   13132101.0\n",
              "5        Oceania    8564294.0"
            ]
          },
          "execution_count": 20,
          "metadata": {},
          "output_type": "execute_result"
        }
      ],
      "source": [
        "serie = df_country.groupby('Continent')['SurfaceArea'].sum()\n",
        "df_surface = pd.DataFrame(serie)\n",
        "df_surface.reset_index(inplace=True)\n",
        "df_surface.sort_values('SurfaceArea', ascending=False, inplace=True)\n",
        "df_surface"
      ]
    },
    {
      "cell_type": "code",
      "execution_count": null,
      "metadata": {
        "jupyter": {
          "outputs_hidden": false
        },
        "pycharm": {
          "name": "#%%\n"
        },
        "id": "thEX78R50lGK",
        "outputId": "3ed8aa7b-3ebf-40f2-8bba-b19ced2058fa"
      },
      "outputs": [
        {
          "data": {
            "text/plain": [
              "<AxesSubplot:xlabel='Continent'>"
            ]
          },
          "execution_count": 21,
          "metadata": {},
          "output_type": "execute_result"
        },
        {
          "data": {
            "image/png": "[encoded data removed]",
            "text/plain": [
              "<Figure size 720x432 with 1 Axes>"
            ]
          },
          "metadata": {
            "needs_background": "light"
          },
          "output_type": "display_data"
        }
      ],
      "source": [
        "df_surface.plot.area(figsize=(10, 6), x=\"Continent\", y=\"SurfaceArea\")\n"
      ]
    },
    {
      "cell_type": "markdown",
      "metadata": {
        "pycharm": {
          "name": "#%% md\n"
        },
        "id": "KRm5bpc-0lGK"
      },
      "source": [
        "## Gráfico de tarta mostrando los porcentajes de idioma hablado en España"
      ]
    },
    {
      "cell_type": "code",
      "execution_count": null,
      "metadata": {
        "jupyter": {
          "outputs_hidden": false
        },
        "pycharm": {
          "name": "#%%\n"
        },
        "id": "2LxF5WVz0lGL",
        "outputId": "bed068ab-f18e-47ac-ab09-ffcdc576fbe0"
      },
      "outputs": [
        {
          "data": {
            "text/html": [
              "<div>\n",
              "<style scoped>\n",
              "    .dataframe tbody tr th:only-of-type {\n",
              "        vertical-align: middle;\n",
              "    }\n",
              "\n",
              "    .dataframe tbody tr th {\n",
              "        vertical-align: top;\n",
              "    }\n",
              "\n",
              "    .dataframe thead th {\n",
              "        text-align: right;\n",
              "    }\n",
              "</style>\n",
              "<table border=\"1\" class=\"dataframe\">\n",
              "  <thead>\n",
              "    <tr style=\"text-align: right;\">\n",
              "      <th></th>\n",
              "      <th>Language</th>\n",
              "      <th>IsOfficial</th>\n",
              "      <th>Percentage</th>\n",
              "    </tr>\n",
              "    <tr>\n",
              "      <th>Code</th>\n",
              "      <th></th>\n",
              "      <th></th>\n",
              "      <th></th>\n",
              "    </tr>\n",
              "  </thead>\n",
              "  <tbody>\n",
              "    <tr>\n",
              "      <th>ABW</th>\n",
              "      <td>Dutch</td>\n",
              "      <td>T</td>\n",
              "      <td>5.3</td>\n",
              "    </tr>\n",
              "    <tr>\n",
              "      <th>ABW</th>\n",
              "      <td>English</td>\n",
              "      <td>F</td>\n",
              "      <td>9.5</td>\n",
              "    </tr>\n",
              "    <tr>\n",
              "      <th>ABW</th>\n",
              "      <td>Papiamento</td>\n",
              "      <td>F</td>\n",
              "      <td>76.7</td>\n",
              "    </tr>\n",
              "    <tr>\n",
              "      <th>ABW</th>\n",
              "      <td>Spanish</td>\n",
              "      <td>F</td>\n",
              "      <td>7.4</td>\n",
              "    </tr>\n",
              "    <tr>\n",
              "      <th>AFG</th>\n",
              "      <td>Balochi</td>\n",
              "      <td>F</td>\n",
              "      <td>0.9</td>\n",
              "    </tr>\n",
              "    <tr>\n",
              "      <th>...</th>\n",
              "      <td>...</td>\n",
              "      <td>...</td>\n",
              "      <td>...</td>\n",
              "    </tr>\n",
              "    <tr>\n",
              "      <th>ZMB</th>\n",
              "      <td>Tongan</td>\n",
              "      <td>F</td>\n",
              "      <td>11.0</td>\n",
              "    </tr>\n",
              "    <tr>\n",
              "      <th>ZWE</th>\n",
              "      <td>English</td>\n",
              "      <td>T</td>\n",
              "      <td>2.2</td>\n",
              "    </tr>\n",
              "    <tr>\n",
              "      <th>ZWE</th>\n",
              "      <td>Ndebele</td>\n",
              "      <td>F</td>\n",
              "      <td>16.2</td>\n",
              "    </tr>\n",
              "    <tr>\n",
              "      <th>ZWE</th>\n",
              "      <td>Nyanja</td>\n",
              "      <td>F</td>\n",
              "      <td>2.2</td>\n",
              "    </tr>\n",
              "    <tr>\n",
              "      <th>ZWE</th>\n",
              "      <td>Shona</td>\n",
              "      <td>F</td>\n",
              "      <td>72.1</td>\n",
              "    </tr>\n",
              "  </tbody>\n",
              "</table>\n",
              "<p>984 rows × 3 columns</p>\n",
              "</div>"
            ],
            "text/plain": [
              "        Language IsOfficial  Percentage\n",
              "Code                                   \n",
              "ABW        Dutch          T         5.3\n",
              "ABW      English          F         9.5\n",
              "ABW   Papiamento          F        76.7\n",
              "ABW      Spanish          F         7.4\n",
              "AFG      Balochi          F         0.9\n",
              "...          ...        ...         ...\n",
              "ZMB       Tongan          F        11.0\n",
              "ZWE      English          T         2.2\n",
              "ZWE      Ndebele          F        16.2\n",
              "ZWE       Nyanja          F         2.2\n",
              "ZWE        Shona          F        72.1\n",
              "\n",
              "[984 rows x 3 columns]"
            ]
          },
          "execution_count": 22,
          "metadata": {},
          "output_type": "execute_result"
        }
      ],
      "source": [
        "df_country_language['Code'] = df_country_language.pop('CountryCode')\n",
        "df_country_language.set_index('Code')"
      ]
    },
    {
      "cell_type": "code",
      "execution_count": null,
      "metadata": {
        "jupyter": {
          "outputs_hidden": false
        },
        "pycharm": {
          "name": "#%%\n"
        },
        "id": "AQ3aC9l00lGL"
      },
      "outputs": [],
      "source": [
        "df_merged = pd.merge(df_country, df_country_language, on=[\"Code\"])"
      ]
    },
    {
      "cell_type": "code",
      "execution_count": null,
      "metadata": {
        "jupyter": {
          "outputs_hidden": false
        },
        "pycharm": {
          "name": "#%%\n"
        },
        "id": "6RHk3iDY0lGL",
        "outputId": "90c570ed-7731-4b8b-c797-7a0a3669b75e"
      },
      "outputs": [
        {
          "data": {
            "text/html": [
              "<div>\n",
              "<style scoped>\n",
              "    .dataframe tbody tr th:only-of-type {\n",
              "        vertical-align: middle;\n",
              "    }\n",
              "\n",
              "    .dataframe tbody tr th {\n",
              "        vertical-align: top;\n",
              "    }\n",
              "\n",
              "    .dataframe thead th {\n",
              "        text-align: right;\n",
              "    }\n",
              "</style>\n",
              "<table border=\"1\" class=\"dataframe\">\n",
              "  <thead>\n",
              "    <tr style=\"text-align: right;\">\n",
              "      <th></th>\n",
              "      <th>Percentage</th>\n",
              "    </tr>\n",
              "    <tr>\n",
              "      <th>Language</th>\n",
              "      <th></th>\n",
              "    </tr>\n",
              "  </thead>\n",
              "  <tbody>\n",
              "    <tr>\n",
              "      <th>Spanish</th>\n",
              "      <td>74.4</td>\n",
              "    </tr>\n",
              "    <tr>\n",
              "      <th>Catalan</th>\n",
              "      <td>16.9</td>\n",
              "    </tr>\n",
              "    <tr>\n",
              "      <th>Galecian</th>\n",
              "      <td>6.4</td>\n",
              "    </tr>\n",
              "    <tr>\n",
              "      <th>Basque</th>\n",
              "      <td>1.6</td>\n",
              "    </tr>\n",
              "  </tbody>\n",
              "</table>\n",
              "</div>"
            ],
            "text/plain": [
              "          Percentage\n",
              "Language            \n",
              "Spanish         74.4\n",
              "Catalan         16.9\n",
              "Galecian         6.4\n",
              "Basque           1.6"
            ]
          },
          "execution_count": 24,
          "metadata": {},
          "output_type": "execute_result"
        }
      ],
      "source": [
        "df_spain_language = df_merged[df_merged['Name'] == 'Spain']\n",
        "df_spain_language = df_spain_language[['Language', 'Percentage']]\n",
        "df_spain_language.set_index('Language', inplace=True)\n",
        "df_spain_language.sort_values('Percentage', ascending=False, inplace=True)\n",
        "df_spain_language\n"
      ]
    },
    {
      "cell_type": "code",
      "execution_count": null,
      "metadata": {
        "jupyter": {
          "outputs_hidden": false
        },
        "pycharm": {
          "name": "#%%\n"
        },
        "id": "sgDZ-F1L0lGM",
        "outputId": "76b355da-b12a-45cb-9818-c77b969abc0f"
      },
      "outputs": [
        {
          "data": {
            "text/plain": [
              "<AxesSubplot:ylabel='Percentage'>"
            ]
          },
          "execution_count": 25,
          "metadata": {},
          "output_type": "execute_result"
        },
        {
          "data": {
            "image/png": "[encoded data removed]",
            "text/plain": [
              "<Figure size 432x288 with 1 Axes>"
            ]
          },
          "metadata": {},
          "output_type": "display_data"
        }
      ],
      "source": [
        "df_spain_language.plot.pie(y=\"Percentage\", autopct='%1.1f%%')\n",
        "\n",
        "\n",
        "\n"
      ]
    }
  ],
  "metadata": {
    "kernelspec": {
      "display_name": "Python 3",
      "language": "python",
      "name": "python3"
    },
    "language_info": {
      "codemirror_mode": {
        "name": "ipython",
        "version": 3
      },
      "file_extension": ".py",
      "mimetype": "text/x-python",
      "name": "python",
      "nbconvert_exporter": "python",
      "pygments_lexer": "ipython3",
      "version": "3.8.8"
    },
    "colab": {
      "provenance": [],
      "include_colab_link": true
    }
  },
  "nbformat": 4,
  "nbformat_minor": 0
}