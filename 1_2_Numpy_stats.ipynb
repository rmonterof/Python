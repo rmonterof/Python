{
  "cells": [
    {
      "cell_type": "markdown",
      "metadata": {
        "id": "view-in-github",
        "colab_type": "text"
      },
      "source": [
        "<a href=\"https://colab.research.google.com/github/rmonterof/Python/blob/main/1_2_Numpy_stats.ipynb\" target=\"_parent\"><img src=\"https://colab.research.google.com/assets/colab-badge.svg\" alt=\"Open In Colab\"/></a>"
      ]
    },
    {
      "cell_type": "code",
      "execution_count": null,
      "outputs": [],
      "source": [
        "import numpy as np\n",
        "from scipy import stats"
      ],
      "metadata": {
        "id": "nK0vfEFo4Kiz"
      }
    },
    {
      "cell_type": "markdown",
      "source": [
        "# Numpy: funciones estadísticas"
      ],
      "metadata": {
        "collapsed": false,
        "id": "TVhF4Puk4Ki2"
      }
    },
    {
      "cell_type": "markdown",
      "source": [
        "## Moda\n",
        "\n",
        "La moda en Numpy es la medida de tendencia central que representa el valor más frecuente en un conjunto de datos."
      ],
      "metadata": {
        "collapsed": false,
        "id": "a-ysoMH84Ki6"
      }
    },
    {
      "cell_type": "code",
      "execution_count": null,
      "outputs": [
        {
          "name": "stdout",
          "output_type": "stream",
          "text": [
            "2\n"
          ]
        }
      ],
      "source": [
        "# usando scipy\n",
        "a = np.array([1, 2, 3, 2, 4, 2, 5])\n",
        "mode = stats.mode(a, keepdims=True)\n",
        "print(mode.mode[0])"
      ],
      "metadata": {
        "id": "Z5yTG7De4Ki7",
        "outputId": "be0fce20-fbae-417d-ceb8-d4f610058edc"
      }
    },
    {
      "cell_type": "code",
      "execution_count": null,
      "outputs": [
        {
          "name": "stdout",
          "output_type": "stream",
          "text": [
            "2\n"
          ]
        }
      ],
      "source": [
        "# usando únicamente numpy (solo vale para números enteros)\n",
        "a = np.array([1, 2, 3, 2, 4, 2, 5])\n",
        "bincount = np.bincount(a)\n",
        "mode = np.argmax(bincount)\n",
        "print(mode)"
      ],
      "metadata": {
        "id": "C7_OBzhH4Ki9",
        "outputId": "2f8bc16f-78aa-47a1-f51c-bcb90a8aa8e6"
      }
    },
    {
      "cell_type": "code",
      "execution_count": null,
      "outputs": [
        {
          "name": "stdout",
          "output_type": "stream",
          "text": [
            "La moda es: 2\n"
          ]
        }
      ],
      "source": [
        "def moda(array):\n",
        "    values, counts = np.unique(array, return_counts=True)\n",
        "    return values[np.argmax(counts)]\n",
        "\n",
        "print(\"La moda es:\", moda(a))"
      ],
      "metadata": {
        "id": "bF76hjFH4Ki-",
        "outputId": "54824e28-4f69-43de-ced1-6b2bace6b740"
      }
    },
    {
      "cell_type": "markdown",
      "source": [
        "## Media\n",
        "\n",
        "La media es una medida de tendencia central que describe el valor promedio de un conjunto de datos. En Numpy, se puede calcular la media de un array utilizando la función mean()."
      ],
      "metadata": {
        "collapsed": false,
        "id": "C_7P3lJ74Ki_"
      }
    },
    {
      "cell_type": "code",
      "execution_count": null,
      "outputs": [
        {
          "name": "stdout",
          "output_type": "stream",
          "text": [
            "Media:  3.0\n"
          ]
        }
      ],
      "source": [
        "# Crear un array con números enteros\n",
        "arr = np.array([1, 2, 3, 4, 5])\n",
        "\n",
        "# Calcular la media\n",
        "media = np.mean(arr)\n",
        "\n",
        "# Imprimir el resultado\n",
        "print(\"Media: \", media)"
      ],
      "metadata": {
        "id": "s1RPP2P34KjA",
        "outputId": "e2d160ed-fce8-4e42-ff27-c96c48c9a10e"
      }
    },
    {
      "cell_type": "code",
      "execution_count": null,
      "outputs": [
        {
          "name": "stdout",
          "output_type": "stream",
          "text": [
            "Media: \n",
            " [2.5 3.5 4.5]\n"
          ]
        }
      ],
      "source": [
        "# Crear un array bidimensional\n",
        "arr = np.array([[1, 2, 3], [4, 5, 6]])\n",
        "\n",
        "# Calcular la media a lo largo de la primera dimensión\n",
        "media = np.mean(arr, axis=0)\n",
        "print(\"Media: \\n\", media)"
      ],
      "metadata": {
        "id": "JUAdC6AR4KjB",
        "outputId": "d38e93d9-cd35-4409-8eb0-f0967d142817"
      }
    },
    {
      "cell_type": "markdown",
      "source": [
        "## Mediana\n",
        "\n",
        "La mediana en Numpy es el valor que separa una distribución de datos en dos mitades iguales. Es una medida de tendencia central que se utiliza para representar el \"valor central\" de un conjunto de datos.\n",
        "\n",
        "Si el número de elementos en el array es impar, la mediana es el valor del elemento central. Si el número de elementos es par, la mediana es la media aritmética de los dos valores centrales.\n",
        "\n",
        "Hay que tener en cuenta que para el cálculo de la mediana los elementos se toman en cuenta de forma ordenada."
      ],
      "metadata": {
        "collapsed": false,
        "id": "eMkM_mSS4KjC"
      }
    },
    {
      "cell_type": "code",
      "execution_count": null,
      "outputs": [
        {
          "name": "stdout",
          "output_type": "stream",
          "text": [
            "La mediana es: 3.5\n"
          ]
        }
      ],
      "source": [
        "# Crear un array de datos\n",
        "data = np.array([1, 3, 5, 2, 4, 6])\n",
        "\n",
        "# Calcular la mediana\n",
        "median = np.median(data)\n",
        "\n",
        "# Imprimir la mediana\n",
        "print(\"La mediana es:\", median)"
      ],
      "metadata": {
        "id": "5avKhi1I4KjD",
        "outputId": "8dc11c53-a311-41e1-9d7c-f9893b1e9cb5"
      }
    },
    {
      "cell_type": "code",
      "execution_count": null,
      "outputs": [
        {
          "name": "stdout",
          "output_type": "stream",
          "text": [
            "array:  [1 3 5 2 4 6 7]\n",
            "La mediana de es: 4.0\n"
          ]
        }
      ],
      "source": [
        "# Crear un array de datos\n",
        "data = np.array([1, 3, 5, 2, 4, 6, 7])\n",
        "print(\"array: \", data)\n",
        "\n",
        "# Calcular la mediana\n",
        "median = np.median(data)\n",
        "\n",
        "# Imprimir la mediana:\n",
        "print(\"La mediana de es:\", median)"
      ],
      "metadata": {
        "id": "6ejBV3M44KjE",
        "outputId": "749bf34b-cc4a-47a1-a327-1e422ca86abe"
      }
    },
    {
      "cell_type": "markdown",
      "source": [
        "## Desviación estándar\n",
        "\n",
        "La desviación estándar es una medida que nos indica la dispersión de los datos respecto a la media. Es decir, nos da una idea de cómo los datos se distribuyen alrededor de la media.\n",
        "\n",
        "La desviación estándar es una medida de la variabilidad o dispersión de un conjunto de datos.\n",
        "\n",
        "Es el promedio de la diferencia entre los valores individuales y la media aritmética. Se representa con la letra griega \"sigma\".\n",
        "\n",
        "La desviación estándar es importante porque nos permite tener una idea de la variabilidad de los datos. Nos dice si los datos están concentrados en torno a la media o si hay valores muy alejados. Esto puede ser útil en el análisis exploratorio de datos, la identificación de outliers y la validación de hipótesis estadísticas.\n",
        "\n",
        "Símbolo: σ\n"
      ],
      "metadata": {
        "collapsed": false,
        "id": "k0kLyLdL4KjF"
      }
    },
    {
      "cell_type": "code",
      "execution_count": null,
      "outputs": [
        {
          "name": "stdout",
          "output_type": "stream",
          "text": [
            "4.0\n",
            "0.9035079029052513\n",
            "0.0\n"
          ]
        }
      ],
      "source": [
        "# Ejemplo 1: Array con números distribuidos de forma uniforme\n",
        "a = np.array([2, 4, 6, 8, 10, 12, 14])\n",
        "print(np.std(a))\n",
        "\n",
        "# Ejemplo 2: Array con números concentrados en un rango específico\n",
        "b = np.array([1, 2, 2, 2, 3, 3, 4])\n",
        "print(np.std(b))\n",
        "\n",
        "# Ejemplo 3: Array con números concentrados en un valor específico\n",
        "c = np.array([5, 5, 5, 5, 5, 5, 5])\n",
        "print(np.std(c))"
      ],
      "metadata": {
        "id": "iVAlzZSi4KjG",
        "outputId": "df4f8abd-480f-439e-f403-93b30a7c9ae1"
      }
    },
    {
      "cell_type": "markdown",
      "source": [
        "## Varianza\n",
        "\n",
        "La varianza es una medida de la dispersión de un conjunto de datos respecto a su media. Se define como el promedio de las desviaciones al cuadrado de cada valor del conjunto de datos respecto a la media. La varianza es útil porque proporciona una idea de cómo los datos se distribuyen en relación a la media.\n",
        "\n",
        "La varianza es especialmente útil en estadística y análisis de datos, ya que ayuda a identificar patrones y tendencias en los datos. Por ejemplo, un conjunto de datos con una varianza alta indica que los datos están ampliamente dispersos, mientras que un conjunto de datos con una varianza baja indica que los datos están estrechamente agrupados en torno a la media.\n",
        "\n",
        "En Numpy, la desviación estándar y la varianza dan resultados distintos porque la varianza es el cuadrado de la desviación estándar.\n",
        "\n",
        "\n",
        "Tanto para la varianza como para la desviación estándar la interpretación es la misma: si valen cero, entonces no hay dispersión y todos los datos son exactamente iguales entre sí; si son valores pequeños entonces habrá poca dispersión y si son grandes habrá mucha dispersión.\n",
        "\n",
        "Al momento de comprender qué significa ser un valor grande o pequeño, es mucho más fácil interpretar los valores de la desviación estándar que los de la varianza, ya que se encuentran en las mismas unidades que los datos.\n",
        "\n",
        "Símbolo: σ2\n"
      ],
      "metadata": {
        "collapsed": false,
        "id": "NT7uGiyp4KjI"
      }
    },
    {
      "cell_type": "code",
      "execution_count": null,
      "outputs": [
        {
          "name": "stdout",
          "output_type": "stream",
          "text": [
            "16.0\n",
            "0.816326530612245\n",
            "0.0\n"
          ]
        }
      ],
      "source": [
        "# Ejemplo 1: Array con números distribuidos de forma uniforme\n",
        "a = np.array([2, 4, 6, 8, 10, 12, 14])\n",
        "print(np.var(a))\n",
        "\n",
        "# Ejemplo 2: Array con números concentrados en un rango específico\n",
        "b = np.array([1, 2, 2, 2, 3, 3, 4])\n",
        "print(np.var(b))\n",
        "\n",
        "# Ejemplo 3: Array con números concentrados en un valor específico\n",
        "c = np.array([5, 5, 5, 5, 5, 5, 5])\n",
        "print(np.var(c))"
      ],
      "metadata": {
        "id": "zo-7pOv14KjJ",
        "outputId": "c0fad568-ff54-4fa4-a3b6-4135aca1633a"
      }
    },
    {
      "cell_type": "markdown",
      "source": [
        "## Percentiles\n",
        "\n",
        "\n",
        "Los percentiles son valores que separan una distribución en una cantidad dada de partes iguales.\n",
        "\n",
        "Van en rango de ``[0, 100]`` por ejemplo 25, 50, 75.\n",
        "\n",
        "Sirven para describir la distribución de los datos y para identificar valores atípicos (outliers).\n",
        "\n",
        "Por ejemplo, el 50° percentil (también conocido como la mediana) es el valor que divide la distribución de manera que la mitad de los datos son menores y la otra mitad es mayor que ese valor.\n",
        "\n",
        "Los percentiles son importantes porque brindan información acerca de la distribución de los datos en un solo número, lo que puede ser útil para describir la distribución y para tomar decisiones basadas en los datos.\n",
        "\n",
        "Los percentiles 25, 50 y 75 son conocidos como los cuartiles y son una forma común de describir la distribución de un conjunto de datos.\n",
        "\n",
        "  * El percentil 25 (Q1) divide el conjunto de datos en cuatro partes iguales y representa el valor debajo del cual se encuentra un 25% de los datos.\n",
        "  * El percentil 50 (Q2 o mediana) divide el conjunto de datos en dos partes iguales y representa el valor debajo del cual se encuentra un 50% de los datos.\n",
        "  * El percentil 75 (Q3) representa el valor debajo del cual se encuentra un 75% de los datos. Juntos, estos tres percentiles ofrecen una visión general de la forma y dispersión de la distribución de los datos.\n",
        "\n",
        "Un ejemplo real de uso de percentiles es en la industria de seguros. Digamos que una compañía de seguros desea determinar cuánto debe cobrar por un seguro de vida en función de la edad de un cliente. La compañía puede recopilar datos de mortalidad de una amplia muestra de la población y calcular el percentil de la edad de muerte de cada individuo en la muestra. Por ejemplo, puede calcular el percentil 90, que es la edad en la que el 90% de las personas en la muestra han fallecido. La compañía puede utilizar este percentil para establecer el precio de su seguro de vida para un cliente dado, ya que los clientes más jóvenes tendrán un precio más bajo y los clientes más mayores tendrán un precio más alto. De esta manera, los percentiles ayudan a la compañía a establecer un precio justo para cada cliente en función de su probabilidad de muerte.\n",
        "\n"
      ],
      "metadata": {
        "collapsed": false,
        "id": "yOmF60Kj4KjK"
      }
    },
    {
      "cell_type": "code",
      "execution_count": null,
      "outputs": [
        {
          "data": {
            "text/plain": "175.0"
          },
          "execution_count": 41,
          "metadata": {},
          "output_type": "execute_result"
        }
      ],
      "source": [
        "alturas = np.array([150, 155, 170, 160, 175, 180, 185, 190, 195])\n",
        "mediana = np.percentile(alturas, 50)\n",
        "mediana"
      ],
      "metadata": {
        "id": "7EZnGsr74KjL",
        "outputId": "5ab19b85-42da-41fd-f306-d4cc7d9b3944"
      }
    },
    {
      "cell_type": "code",
      "execution_count": null,
      "outputs": [
        {
          "data": {
            "text/plain": "160.0"
          },
          "execution_count": 42,
          "metadata": {},
          "output_type": "execute_result"
        }
      ],
      "source": [
        "np.percentile(alturas, 25)"
      ],
      "metadata": {
        "id": "TPRV8HTp4KjL",
        "outputId": "50db21bb-9dda-48c4-8c97-1c312e967af5"
      }
    },
    {
      "cell_type": "code",
      "execution_count": null,
      "outputs": [
        {
          "data": {
            "text/plain": "185.0"
          },
          "execution_count": 43,
          "metadata": {},
          "output_type": "execute_result"
        }
      ],
      "source": [
        "np.percentile(alturas, 75)"
      ],
      "metadata": {
        "id": "ZtIC2Skf4KjM",
        "outputId": "73234884-32cc-4a15-a004-034ac97dc7d1"
      }
    },
    {
      "cell_type": "code",
      "execution_count": null,
      "outputs": [
        {
          "name": "stdout",
          "output_type": "stream",
          "text": [
            "[160. 175. 185.]\n"
          ]
        }
      ],
      "source": [
        "percentiles = [25, 50, 75]\n",
        "print(np.percentile(alturas, percentiles))"
      ],
      "metadata": {
        "id": "SPXNdb8o4KjM",
        "outputId": "90a26287-5e7c-4dfe-9ea0-d6f2be89df04"
      }
    },
    {
      "cell_type": "markdown",
      "source": [
        "## Quantiles\n",
        "\n",
        "Los cuantiles son valores que dividen un conjunto de datos en grupos iguales. Estos valores se utilizan para describir la distribución de los datos y para identificar tendencias y patrones.\n",
        "\n",
        "Van en rango de ``[0, 1]`` por ejemplo 0.25, 0.5, 0.75\n",
        "\n",
        "* Cuantiles: rango de cualquier valor a cualquier otro valor.\n",
        "* Percentiles: rango de 0 a 100.\n",
        "* Cuartiles: rango de 0 a 4.\n",
        "\n",
        "Percentil 0 = cuartil 0 (también llamado el mínimo)\n",
        "Percentil 25 = primer cuartil\n",
        "Percentil 50 = segundo cuartil (también llamado la mediana)\n",
        "Percentil 75 = tercer cuartil\n",
        "Percentil 100 = cuarto cuartil (también llamado el máximo)\n",
        "\n",
        "Los percentiles se definen como el valor de un conjunto de datos que divide a ese conjunto en 100 partes iguales, cada una de ellas con un porcentaje diferente de los datos. Por ejemplo, el percentil 50 divide el conjunto de datos en dos partes iguales, con la mitad de los datos por encima y la mitad por debajo. Esta medida es conocida como la mediana.\n",
        "\n",
        "Por otro lado, los cuantiles se definen como el valor de un conjunto de datos que divide a ese conjunto en un número específico de partes iguales. Por ejemplo, si se divide el conjunto de datos en cuatro partes iguales, se obtendrán los cuantiles 25, 50 y 75. Estos cuantiles se corresponden con los percentiles 25, 50 y 75, respectivamente.\n",
        "\n",
        "En conclusión, los percentiles se definen en términos de porcentajes, mientras que los cuantiles se definen en términos de un número fijo de partes iguales."
      ],
      "metadata": {
        "collapsed": false,
        "id": "IGSt64C64KjM"
      }
    },
    {
      "cell_type": "code",
      "execution_count": null,
      "outputs": [
        {
          "data": {
            "text/plain": "3.25"
          },
          "execution_count": 45,
          "metadata": {},
          "output_type": "execute_result"
        }
      ],
      "source": [
        "arr = np.array([1, 2, 3, 4, 5, 6, 7, 8, 9, 10])\n",
        "np.quantile(arr, 0.25)"
      ],
      "metadata": {
        "id": "o_xXnOif4KjN",
        "outputId": "9569a0b1-fb41-4b59-8df4-38c73eb44f7e"
      }
    },
    {
      "cell_type": "code",
      "execution_count": null,
      "outputs": [
        {
          "data": {
            "text/plain": "5.5"
          },
          "execution_count": 46,
          "metadata": {},
          "output_type": "execute_result"
        }
      ],
      "source": [
        "np.quantile(arr, 0.5)"
      ],
      "metadata": {
        "id": "4V9yszH54KjO",
        "outputId": "52470532-77bd-46f6-9966-5923e70e9a27"
      }
    },
    {
      "cell_type": "code",
      "execution_count": null,
      "outputs": [
        {
          "data": {
            "text/plain": "3.0"
          },
          "execution_count": 47,
          "metadata": {},
          "output_type": "execute_result"
        }
      ],
      "source": [
        "np.quantile(b, 0.75)"
      ],
      "metadata": {
        "id": "5NJdLfMR4KjO",
        "outputId": "03a49c79-8fbc-44fe-edee-91c4acc737e4"
      }
    },
    {
      "cell_type": "markdown",
      "source": [
        "## IQR"
      ],
      "metadata": {
        "collapsed": false,
        "id": "VmqGIAGF4KjP"
      }
    },
    {
      "cell_type": "markdown",
      "source": [
        "El rango intercuartílico (IQR) es el rango del 50% medio de los valores de los datos. Para encontrar el IQR para un conjunto de datos dado, podemos calcular el tercer cuartil – el primer cuartil.\n",
        "\n",
        "el rango intercuartílico (RI) es una medida de variabilidad que representa la amplitud de los datos, es decir, la diferencia entre el tercer cuartil (75%) y el primer cuartil (25%). El RI es útil para tener una idea de la dispersión de los datos y de la existencia de outliers (valores atípicos) en el conjunto de datos."
      ],
      "metadata": {
        "collapsed": false,
        "id": "A3d-pTfv4KjP"
      }
    },
    {
      "cell_type": "code",
      "execution_count": null,
      "outputs": [
        {
          "name": "stdout",
          "output_type": "stream",
          "text": [
            "IQR: 9.5\n"
          ]
        }
      ],
      "source": [
        "data = np.array([1, 2, 3, 4, 5, 6, 7, 8, 9, 10, 11, 12, 13, 14, 15, 16, 17, 18, 19, 20])\n",
        "Q1 = np.percentile(data, 25)\n",
        "Q3 = np.percentile(data, 75)\n",
        "IQR = Q3 - Q1\n",
        "print(\"IQR:\", IQR)"
      ],
      "metadata": {
        "id": "tsi6kB9q4KjP",
        "outputId": "38ed7f1f-ece0-4437-d9cc-c593f803b755"
      }
    },
    {
      "cell_type": "markdown",
      "source": [
        "## Transformaciones\n",
        "\n",
        "Una distribución uniforme se refiere a una distribución en la que todos los valores tienen la misma probabilidad de ocurrir. En una distribución uniforme, los valores están distribuidos de manera equitativa a lo largo de un intervalo dado.\n",
        "\n",
        "Por otro lado, una distribución normal, también conocida como distribución de Gauss, es una distribución que se ajusta a una curva en forma de campana y se utiliza a menudo para describir la distribución de una variable aleatoria. En una distribución normal, la mayoría de los valores están cerca del valor medio, y la probabilidad de que un valor sea mayor o menor que la media disminuye a medida que se aleja de la media.\n",
        "\n",
        "Ambas distribuciones tienen diferentes aplicaciones en la estadística y la ciencia de datos, dependiendo de la distribución real de los datos y del tipo de análisis que se realiza. Por ejemplo, se suele asumir que los errores en una regresión lineal siguen una distribución normal, mientras que en algunos experimentos de muestreo se asume una distribución uniforme.\n",
        "\n",
        "Tener una distribución uniforme en los datos puede ser importante por varias razones:\n",
        "\n",
        "Mejora la visualización: Cuando los datos tienen una amplia gama de valores, puede ser difícil visualizarlos adecuadamente en un gráfico. La transformación logarítmica puede ayudar a hacer que los datos se vean más uniformes y se puedan visualizar de manera más clara.\n",
        "\n",
        "Evita el sesgo de los datos: Cuando algunos valores son mucho más grandes que otros, estos valores pueden dominar los resultados del análisis. La transformación logarítmica puede ayudar a equilibrar los valores y reducir el sesgo.\n",
        "\n",
        "Mejora la precisión de los modelos: Algunos modelos, como la regresión lineal, asumen que los datos tienen una distribución uniforme. Si los datos no cumplen con este supuesto, pueden producirse resultados erróneos. La transformación logarítmica puede ayudar a cumplir con este supuesto y mejorar la precisión de los modelos.\n",
        "\n",
        "Facilita la interpretación de los resultados: Al trabajar con valores más uniformes, puede ser más fácil interpretar los resultados del análisis y comprender la relación entre las variables.\n",
        "\n",
        "La transformación logarítmica puede ser útil cuando se trabaja con datos que tienen una amplia gama de valores y una distribución desigual. Esto puede ser útil en la visualización y análisis de datos, ya que permite trabajar con una gama más manejable de valores.\n"
      ],
      "metadata": {
        "collapsed": false,
        "id": "6jhI8IG34KjQ"
      }
    },
    {
      "cell_type": "code",
      "execution_count": null,
      "outputs": [
        {
          "data": {
            "text/plain": "<Figure size 640x480 with 1 Axes>",
            "image/png": "[encoded data removed]"
          },
          "metadata": {},
          "output_type": "display_data"
        }
      ],
      "source": [
        "import numpy as np\n",
        "import matplotlib.pyplot as plt\n",
        "\n",
        "# Crear un array con valores desiguales\n",
        "data = np.array([1, 10, 100, 1000, 10000, 100000, 1000000])\n",
        "\n",
        "# Aplicar transformación logarítmica al array\n",
        "log_data = np.log(data)\n",
        "\n",
        "# Graficar los datos originales y la transformación logarítmica\n",
        "plt.plot(data, label='Datos originales')\n",
        "plt.legend()\n",
        "plt.show()"
      ],
      "metadata": {
        "id": "YC0d82FP4KjR",
        "outputId": "8fa7d9be-f659-4640-afbc-6c653eec4b14"
      }
    },
    {
      "cell_type": "code",
      "execution_count": null,
      "outputs": [
        {
          "data": {
            "text/plain": "<Figure size 640x480 with 1 Axes>",
            "image/png": "[encoded data removed]"
          },
          "metadata": {},
          "output_type": "display_data"
        }
      ],
      "source": [
        "plt.plot(log_data, label='Transformación logarítmica')\n",
        "plt.legend()\n",
        "plt.show()"
      ],
      "metadata": {
        "id": "LYq-e8xh4KjS",
        "outputId": "78cda972-24af-4d3e-c57c-af6963a859a2"
      }
    },
    {
      "cell_type": "markdown",
      "source": [
        "## Correlación\n",
        "\n",
        "La correlación es una medida que indica la relación lineal entre dos variables. Es importante porque permite determinar si existe una relación estadísticamente significativa entre las variables, y si esta relación es positiva o negativa.\n",
        "\n",
        "La correlación se utiliza para evaluar la relación entre dos variables y para determinar si hay una dependencia entre ellas.\n",
        "\n",
        "Es importante tener en cuenta que la correlación no implica causalidad. Es decir, la correlación entre dos variables no significa necesariamente que una causa la otra. Por lo tanto, es necesario realizar más investigaciones y pruebas antes de llegar a conclusiones definitivas sobre la causalidad.\n"
      ],
      "metadata": {
        "collapsed": false,
        "id": "TnVyZfDS4KjS"
      }
    },
    {
      "cell_type": "code",
      "execution_count": null,
      "outputs": [
        {
          "name": "stdout",
          "output_type": "stream",
          "text": [
            "[[1. 1.]\n",
            " [1. 1.]]\n"
          ]
        }
      ],
      "source": [
        "x = np.array([1, 2, 3, 4, 5])\n",
        "y = np.array([2, 4, 6, 8, 10])\n",
        "\n",
        "corr = np.corrcoef(x, y)\n",
        "print(corr)"
      ],
      "metadata": {
        "id": "EZLirVl24KjS",
        "outputId": "38685319-8097-489e-c816-52b36644a065"
      }
    },
    {
      "cell_type": "code",
      "execution_count": null,
      "outputs": [
        {
          "name": "stdout",
          "output_type": "stream",
          "text": [
            "[[ 1. -1.]\n",
            " [-1.  1.]]\n"
          ]
        }
      ],
      "source": [
        "x = np.array([1, 2, 3, 4, 5])\n",
        "y = np.array([-2, -4, -6, -8, -10])\n",
        "\n",
        "corr = np.corrcoef(x, y)\n",
        "print(corr)"
      ],
      "metadata": {
        "id": "U9LqyGJ74KjT",
        "outputId": "850a286f-9e9f-4ef3-f214-743d67630f6e"
      }
    },
    {
      "cell_type": "markdown",
      "source": [
        "## Redondear los valores"
      ],
      "metadata": {
        "collapsed": false,
        "id": "H-Hz7JRW4KjU"
      }
    },
    {
      "cell_type": "code",
      "execution_count": null,
      "outputs": [
        {
          "data": {
            "text/plain": "1.4142135623730951"
          },
          "execution_count": 27,
          "metadata": {},
          "output_type": "execute_result"
        }
      ],
      "source": [
        "a = np.array([1, 2, 3, 4, 5])\n",
        "result = np.std(a)\n",
        "result"
      ],
      "metadata": {
        "id": "06vblg1M4KjU",
        "outputId": "c4391d6a-edaf-4edc-fba7-4a41ca90e4ab"
      }
    },
    {
      "cell_type": "code",
      "execution_count": null,
      "outputs": [
        {
          "data": {
            "text/plain": "1.41"
          },
          "execution_count": 28,
          "metadata": {},
          "output_type": "execute_result"
        }
      ],
      "source": [
        "np.around(result, decimals=2)"
      ],
      "metadata": {
        "id": "qfW1KUEX4KjV",
        "outputId": "b32fc71f-c128-4331-e244-d3e1b427a522"
      }
    }
  ],
  "metadata": {
    "kernelspec": {
      "display_name": "Python 3",
      "language": "python",
      "name": "python3"
    },
    "language_info": {
      "codemirror_mode": {
        "name": "ipython",
        "version": 2
      },
      "file_extension": ".py",
      "mimetype": "text/x-python",
      "name": "python",
      "nbconvert_exporter": "python",
      "pygments_lexer": "ipython2",
      "version": "2.7.6"
    },
    "colab": {
      "provenance": [],
      "include_colab_link": true
    }
  },
  "nbformat": 4,
  "nbformat_minor": 0
}