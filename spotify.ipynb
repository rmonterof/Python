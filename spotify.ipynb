{
  "cells": [
    {
      "cell_type": "markdown",
      "metadata": {
        "id": "view-in-github",
        "colab_type": "text"
      },
      "source": [
        "<a href=\"https://colab.research.google.com/github/rmonterof/Python/blob/main/spotify.ipynb\" target=\"_parent\"><img src=\"https://colab.research.google.com/assets/colab-badge.svg\" alt=\"Open In Colab\"/></a>"
      ]
    },
    {
      "cell_type": "code",
      "execution_count": null,
      "metadata": {
        "pycharm": {
          "name": "#%%\n"
        },
        "id": "32iib3ic0TuQ"
      },
      "outputs": [],
      "source": [
        "# numpy, pandas, matplotlib, seaborn\n",
        "import pandas as pd\n",
        "import os"
      ]
    },
    {
      "cell_type": "markdown",
      "metadata": {
        "pycharm": {
          "name": "#%% md\n"
        },
        "id": "AWvGTXzM0TuT"
      },
      "source": [
        "## Cargar datos de todos los CSV en un único DataFrame"
      ]
    },
    {
      "cell_type": "code",
      "execution_count": null,
      "metadata": {
        "pycharm": {
          "name": "#%%\n"
        },
        "id": "X1MeXGY80TuV",
        "outputId": "5125a875-243b-4308-9503-cda9f57fd4be"
      },
      "outputs": [
        {
          "data": {
            "text/plain": [
              "['2010.csv',\n",
              " '1960.csv',\n",
              " '1990.csv',\n",
              " '1970.csv',\n",
              " '2000.csv',\n",
              " '1950.csv',\n",
              " '1980.csv']"
            ]
          },
          "execution_count": 2,
          "metadata": {},
          "output_type": "execute_result"
        }
      ],
      "source": [
        "file_names = os.listdir(\"../data\")\n",
        "file_names"
      ]
    },
    {
      "cell_type": "code",
      "execution_count": null,
      "metadata": {
        "pycharm": {
          "name": "#%%\n"
        },
        "id": "fnpynueh0TuX",
        "outputId": "05778d8a-a9a5-4eb5-a5df-7b13bc450963"
      },
      "outputs": [
        {
          "name": "stdout",
          "output_type": "stream",
          "text": [
            "2010.csv (100, 15)\n",
            "1960.csv (97, 15)\n",
            "1990.csv (88, 15)\n",
            "1970.csv (104, 15)\n",
            "2000.csv (100, 15)\n",
            "1950.csv (73, 15)\n",
            "1980.csv (105, 15)\n"
          ]
        }
      ],
      "source": [
        "df = pd.DataFrame()\n",
        "for file_name in file_names:\n",
        "    df_current = pd.read_csv(\"../data/\" + file_name)\n",
        "    print(file_name, df_current.shape)\n",
        "    df = pd.concat([df, df_current], ignore_index=True)"
      ]
    },
    {
      "cell_type": "code",
      "execution_count": null,
      "metadata": {
        "pycharm": {
          "name": "#%%\n"
        },
        "id": "Gm19FvC_0TuZ",
        "outputId": "37629f0b-4817-459f-a9b9-6d2b856b05fd"
      },
      "outputs": [
        {
          "data": {
            "text/html": [
              "<div>\n",
              "<style scoped>\n",
              "    .dataframe tbody tr th:only-of-type {\n",
              "        vertical-align: middle;\n",
              "    }\n",
              "\n",
              "    .dataframe tbody tr th {\n",
              "        vertical-align: top;\n",
              "    }\n",
              "\n",
              "    .dataframe thead th {\n",
              "        text-align: right;\n",
              "    }\n",
              "</style>\n",
              "<table border=\"1\" class=\"dataframe\">\n",
              "  <thead>\n",
              "    <tr style=\"text-align: right;\">\n",
              "      <th></th>\n",
              "      <th>Number</th>\n",
              "      <th>title</th>\n",
              "      <th>artist</th>\n",
              "      <th>top genre</th>\n",
              "      <th>year</th>\n",
              "      <th>bpm</th>\n",
              "      <th>nrgy</th>\n",
              "      <th>dnce</th>\n",
              "      <th>dB</th>\n",
              "      <th>live</th>\n",
              "      <th>val</th>\n",
              "      <th>dur</th>\n",
              "      <th>acous</th>\n",
              "      <th>spch</th>\n",
              "      <th>pop</th>\n",
              "    </tr>\n",
              "  </thead>\n",
              "  <tbody>\n",
              "    <tr>\n",
              "      <th>0</th>\n",
              "      <td>1</td>\n",
              "      <td>bad guy</td>\n",
              "      <td>Billie Eilish</td>\n",
              "      <td>electropop</td>\n",
              "      <td>2019</td>\n",
              "      <td>135</td>\n",
              "      <td>43.0</td>\n",
              "      <td>70</td>\n",
              "      <td>-11</td>\n",
              "      <td>10</td>\n",
              "      <td>56</td>\n",
              "      <td>194</td>\n",
              "      <td>33</td>\n",
              "      <td>38</td>\n",
              "      <td>94</td>\n",
              "    </tr>\n",
              "    <tr>\n",
              "      <th>1</th>\n",
              "      <td>2</td>\n",
              "      <td>7 rings</td>\n",
              "      <td>Ariana Grande</td>\n",
              "      <td>dance pop</td>\n",
              "      <td>2019</td>\n",
              "      <td>140</td>\n",
              "      <td>32.0</td>\n",
              "      <td>78</td>\n",
              "      <td>-11</td>\n",
              "      <td>9</td>\n",
              "      <td>33</td>\n",
              "      <td>179</td>\n",
              "      <td>59</td>\n",
              "      <td>33</td>\n",
              "      <td>90</td>\n",
              "    </tr>\n",
              "    <tr>\n",
              "      <th>2</th>\n",
              "      <td>3</td>\n",
              "      <td>Old Town Road - Remix</td>\n",
              "      <td>Lil Nas X</td>\n",
              "      <td>country rap</td>\n",
              "      <td>2019</td>\n",
              "      <td>136</td>\n",
              "      <td>62.0</td>\n",
              "      <td>88</td>\n",
              "      <td>-6</td>\n",
              "      <td>11</td>\n",
              "      <td>64</td>\n",
              "      <td>157</td>\n",
              "      <td>5</td>\n",
              "      <td>10</td>\n",
              "      <td>89</td>\n",
              "    </tr>\n",
              "    <tr>\n",
              "      <th>3</th>\n",
              "      <td>4</td>\n",
              "      <td>SeÃ±orita</td>\n",
              "      <td>Shawn Mendes</td>\n",
              "      <td>canadian pop</td>\n",
              "      <td>2019</td>\n",
              "      <td>117</td>\n",
              "      <td>55.0</td>\n",
              "      <td>76</td>\n",
              "      <td>-6</td>\n",
              "      <td>8</td>\n",
              "      <td>75</td>\n",
              "      <td>191</td>\n",
              "      <td>4</td>\n",
              "      <td>3</td>\n",
              "      <td>88</td>\n",
              "    </tr>\n",
              "    <tr>\n",
              "      <th>4</th>\n",
              "      <td>5</td>\n",
              "      <td>rockstar (feat. 21 Savage)</td>\n",
              "      <td>Post Malone</td>\n",
              "      <td>dfw rap</td>\n",
              "      <td>2018</td>\n",
              "      <td>160</td>\n",
              "      <td>52.0</td>\n",
              "      <td>59</td>\n",
              "      <td>-6</td>\n",
              "      <td>13</td>\n",
              "      <td>13</td>\n",
              "      <td>218</td>\n",
              "      <td>12</td>\n",
              "      <td>7</td>\n",
              "      <td>88</td>\n",
              "    </tr>\n",
              "    <tr>\n",
              "      <th>...</th>\n",
              "      <td>...</td>\n",
              "      <td>...</td>\n",
              "      <td>...</td>\n",
              "      <td>...</td>\n",
              "      <td>...</td>\n",
              "      <td>...</td>\n",
              "      <td>...</td>\n",
              "      <td>...</td>\n",
              "      <td>...</td>\n",
              "      <td>...</td>\n",
              "      <td>...</td>\n",
              "      <td>...</td>\n",
              "      <td>...</td>\n",
              "      <td>...</td>\n",
              "      <td>...</td>\n",
              "    </tr>\n",
              "    <tr>\n",
              "      <th>662</th>\n",
              "      <td>101</td>\n",
              "      <td>Cold as Ice - 2008 Remaster</td>\n",
              "      <td>Foreigner</td>\n",
              "      <td>album rock</td>\n",
              "      <td>2008</td>\n",
              "      <td>131</td>\n",
              "      <td>71.0</td>\n",
              "      <td>55</td>\n",
              "      <td>-5</td>\n",
              "      <td>14</td>\n",
              "      <td>51</td>\n",
              "      <td>200</td>\n",
              "      <td>6</td>\n",
              "      <td>3</td>\n",
              "      <td>57</td>\n",
              "    </tr>\n",
              "    <tr>\n",
              "      <th>663</th>\n",
              "      <td>102</td>\n",
              "      <td>Zulu Nation Throw Down</td>\n",
              "      <td>Afrika Bambaataa</td>\n",
              "      <td>bronx hip hop</td>\n",
              "      <td>2015</td>\n",
              "      <td>108</td>\n",
              "      <td>95.0</td>\n",
              "      <td>85</td>\n",
              "      <td>-4</td>\n",
              "      <td>10</td>\n",
              "      <td>91</td>\n",
              "      <td>433</td>\n",
              "      <td>76</td>\n",
              "      <td>19</td>\n",
              "      <td>50</td>\n",
              "    </tr>\n",
              "    <tr>\n",
              "      <th>664</th>\n",
              "      <td>103</td>\n",
              "      <td>It's Only Love - 2008 Remaster</td>\n",
              "      <td>Simply Red</td>\n",
              "      <td>british soul</td>\n",
              "      <td>2008</td>\n",
              "      <td>92</td>\n",
              "      <td>88.0</td>\n",
              "      <td>67</td>\n",
              "      <td>-5</td>\n",
              "      <td>4</td>\n",
              "      <td>75</td>\n",
              "      <td>299</td>\n",
              "      <td>51</td>\n",
              "      <td>4</td>\n",
              "      <td>50</td>\n",
              "    </tr>\n",
              "    <tr>\n",
              "      <th>665</th>\n",
              "      <td>104</td>\n",
              "      <td>Lucky Star</td>\n",
              "      <td>Madonna</td>\n",
              "      <td>dance pop</td>\n",
              "      <td>1983</td>\n",
              "      <td>117</td>\n",
              "      <td>81.0</td>\n",
              "      <td>80</td>\n",
              "      <td>-5</td>\n",
              "      <td>22</td>\n",
              "      <td>93</td>\n",
              "      <td>338</td>\n",
              "      <td>20</td>\n",
              "      <td>4</td>\n",
              "      <td>46</td>\n",
              "    </tr>\n",
              "    <tr>\n",
              "      <th>666</th>\n",
              "      <td>105</td>\n",
              "      <td>Romeo - 2014 Remaster</td>\n",
              "      <td>Donna Summer</td>\n",
              "      <td>dance pop</td>\n",
              "      <td>1996</td>\n",
              "      <td>141</td>\n",
              "      <td>85.0</td>\n",
              "      <td>85</td>\n",
              "      <td>-8</td>\n",
              "      <td>11</td>\n",
              "      <td>96</td>\n",
              "      <td>199</td>\n",
              "      <td>3</td>\n",
              "      <td>4</td>\n",
              "      <td>43</td>\n",
              "    </tr>\n",
              "  </tbody>\n",
              "</table>\n",
              "<p>667 rows × 15 columns</p>\n",
              "</div>"
            ],
            "text/plain": [
              "     Number                           title            artist      top genre  \\\n",
              "0         1                         bad guy     Billie Eilish     electropop   \n",
              "1         2                         7 rings     Ariana Grande      dance pop   \n",
              "2         3           Old Town Road - Remix         Lil Nas X    country rap   \n",
              "3         4                       SeÃ±orita      Shawn Mendes   canadian pop   \n",
              "4         5      rockstar (feat. 21 Savage)       Post Malone        dfw rap   \n",
              "..      ...                             ...               ...            ...   \n",
              "662     101     Cold as Ice - 2008 Remaster         Foreigner     album rock   \n",
              "663     102          Zulu Nation Throw Down  Afrika Bambaataa  bronx hip hop   \n",
              "664     103  It's Only Love - 2008 Remaster        Simply Red   british soul   \n",
              "665     104                      Lucky Star           Madonna      dance pop   \n",
              "666     105           Romeo - 2014 Remaster      Donna Summer      dance pop   \n",
              "\n",
              "     year  bpm  nrgy  dnce  dB  live  val  dur  acous  spch  pop  \n",
              "0    2019  135  43.0    70 -11    10   56  194     33    38   94  \n",
              "1    2019  140  32.0    78 -11     9   33  179     59    33   90  \n",
              "2    2019  136  62.0    88  -6    11   64  157      5    10   89  \n",
              "3    2019  117  55.0    76  -6     8   75  191      4     3   88  \n",
              "4    2018  160  52.0    59  -6    13   13  218     12     7   88  \n",
              "..    ...  ...   ...   ...  ..   ...  ...  ...    ...   ...  ...  \n",
              "662  2008  131  71.0    55  -5    14   51  200      6     3   57  \n",
              "663  2015  108  95.0    85  -4    10   91  433     76    19   50  \n",
              "664  2008   92  88.0    67  -5     4   75  299     51     4   50  \n",
              "665  1983  117  81.0    80  -5    22   93  338     20     4   46  \n",
              "666  1996  141  85.0    85  -8    11   96  199      3     4   43  \n",
              "\n",
              "[667 rows x 15 columns]"
            ]
          },
          "execution_count": 4,
          "metadata": {},
          "output_type": "execute_result"
        }
      ],
      "source": [
        "df"
      ]
    },
    {
      "cell_type": "markdown",
      "metadata": {
        "pycharm": {
          "name": "#%% md\n"
        },
        "id": "TqxQktYc0Tua"
      },
      "source": [
        "## Explorar los datos"
      ]
    },
    {
      "cell_type": "code",
      "execution_count": null,
      "metadata": {
        "pycharm": {
          "name": "#%%\n"
        },
        "id": "IvQWxawi0Tua",
        "outputId": "44122eac-a127-42e1-bd5b-21263ee362c2"
      },
      "outputs": [
        {
          "data": {
            "text/html": [
              "<div>\n",
              "<style scoped>\n",
              "    .dataframe tbody tr th:only-of-type {\n",
              "        vertical-align: middle;\n",
              "    }\n",
              "\n",
              "    .dataframe tbody tr th {\n",
              "        vertical-align: top;\n",
              "    }\n",
              "\n",
              "    .dataframe thead th {\n",
              "        text-align: right;\n",
              "    }\n",
              "</style>\n",
              "<table border=\"1\" class=\"dataframe\">\n",
              "  <thead>\n",
              "    <tr style=\"text-align: right;\">\n",
              "      <th></th>\n",
              "      <th>Number</th>\n",
              "      <th>title</th>\n",
              "      <th>artist</th>\n",
              "      <th>top genre</th>\n",
              "      <th>year</th>\n",
              "      <th>bpm</th>\n",
              "      <th>nrgy</th>\n",
              "      <th>dnce</th>\n",
              "      <th>dB</th>\n",
              "      <th>live</th>\n",
              "      <th>val</th>\n",
              "      <th>dur</th>\n",
              "      <th>acous</th>\n",
              "      <th>spch</th>\n",
              "      <th>pop</th>\n",
              "    </tr>\n",
              "  </thead>\n",
              "  <tbody>\n",
              "    <tr>\n",
              "      <th>0</th>\n",
              "      <td>1</td>\n",
              "      <td>bad guy</td>\n",
              "      <td>Billie Eilish</td>\n",
              "      <td>electropop</td>\n",
              "      <td>2019</td>\n",
              "      <td>135</td>\n",
              "      <td>43.0</td>\n",
              "      <td>70</td>\n",
              "      <td>-11</td>\n",
              "      <td>10</td>\n",
              "      <td>56</td>\n",
              "      <td>194</td>\n",
              "      <td>33</td>\n",
              "      <td>38</td>\n",
              "      <td>94</td>\n",
              "    </tr>\n",
              "    <tr>\n",
              "      <th>1</th>\n",
              "      <td>2</td>\n",
              "      <td>7 rings</td>\n",
              "      <td>Ariana Grande</td>\n",
              "      <td>dance pop</td>\n",
              "      <td>2019</td>\n",
              "      <td>140</td>\n",
              "      <td>32.0</td>\n",
              "      <td>78</td>\n",
              "      <td>-11</td>\n",
              "      <td>9</td>\n",
              "      <td>33</td>\n",
              "      <td>179</td>\n",
              "      <td>59</td>\n",
              "      <td>33</td>\n",
              "      <td>90</td>\n",
              "    </tr>\n",
              "    <tr>\n",
              "      <th>2</th>\n",
              "      <td>3</td>\n",
              "      <td>Old Town Road - Remix</td>\n",
              "      <td>Lil Nas X</td>\n",
              "      <td>country rap</td>\n",
              "      <td>2019</td>\n",
              "      <td>136</td>\n",
              "      <td>62.0</td>\n",
              "      <td>88</td>\n",
              "      <td>-6</td>\n",
              "      <td>11</td>\n",
              "      <td>64</td>\n",
              "      <td>157</td>\n",
              "      <td>5</td>\n",
              "      <td>10</td>\n",
              "      <td>89</td>\n",
              "    </tr>\n",
              "    <tr>\n",
              "      <th>3</th>\n",
              "      <td>4</td>\n",
              "      <td>SeÃ±orita</td>\n",
              "      <td>Shawn Mendes</td>\n",
              "      <td>canadian pop</td>\n",
              "      <td>2019</td>\n",
              "      <td>117</td>\n",
              "      <td>55.0</td>\n",
              "      <td>76</td>\n",
              "      <td>-6</td>\n",
              "      <td>8</td>\n",
              "      <td>75</td>\n",
              "      <td>191</td>\n",
              "      <td>4</td>\n",
              "      <td>3</td>\n",
              "      <td>88</td>\n",
              "    </tr>\n",
              "    <tr>\n",
              "      <th>4</th>\n",
              "      <td>5</td>\n",
              "      <td>rockstar (feat. 21 Savage)</td>\n",
              "      <td>Post Malone</td>\n",
              "      <td>dfw rap</td>\n",
              "      <td>2018</td>\n",
              "      <td>160</td>\n",
              "      <td>52.0</td>\n",
              "      <td>59</td>\n",
              "      <td>-6</td>\n",
              "      <td>13</td>\n",
              "      <td>13</td>\n",
              "      <td>218</td>\n",
              "      <td>12</td>\n",
              "      <td>7</td>\n",
              "      <td>88</td>\n",
              "    </tr>\n",
              "  </tbody>\n",
              "</table>\n",
              "</div>"
            ],
            "text/plain": [
              "   Number                       title         artist     top genre  year  bpm  \\\n",
              "0       1                     bad guy  Billie Eilish    electropop  2019  135   \n",
              "1       2                     7 rings  Ariana Grande     dance pop  2019  140   \n",
              "2       3       Old Town Road - Remix      Lil Nas X   country rap  2019  136   \n",
              "3       4                   SeÃ±orita   Shawn Mendes  canadian pop  2019  117   \n",
              "4       5  rockstar (feat. 21 Savage)    Post Malone       dfw rap  2018  160   \n",
              "\n",
              "   nrgy  dnce  dB  live  val  dur  acous  spch  pop  \n",
              "0  43.0    70 -11    10   56  194     33    38   94  \n",
              "1  32.0    78 -11     9   33  179     59    33   90  \n",
              "2  62.0    88  -6    11   64  157      5    10   89  \n",
              "3  55.0    76  -6     8   75  191      4     3   88  \n",
              "4  52.0    59  -6    13   13  218     12     7   88  "
            ]
          },
          "execution_count": 5,
          "metadata": {},
          "output_type": "execute_result"
        }
      ],
      "source": [
        "df.head()"
      ]
    },
    {
      "cell_type": "code",
      "execution_count": null,
      "metadata": {
        "pycharm": {
          "name": "#%%\n"
        },
        "id": "lF-K7fP90Tub",
        "outputId": "fe0be0cf-3ee4-4b47-cd99-2465acda7a1d"
      },
      "outputs": [
        {
          "data": {
            "text/html": [
              "<div>\n",
              "<style scoped>\n",
              "    .dataframe tbody tr th:only-of-type {\n",
              "        vertical-align: middle;\n",
              "    }\n",
              "\n",
              "    .dataframe tbody tr th {\n",
              "        vertical-align: top;\n",
              "    }\n",
              "\n",
              "    .dataframe thead th {\n",
              "        text-align: right;\n",
              "    }\n",
              "</style>\n",
              "<table border=\"1\" class=\"dataframe\">\n",
              "  <thead>\n",
              "    <tr style=\"text-align: right;\">\n",
              "      <th></th>\n",
              "      <th>Number</th>\n",
              "      <th>title</th>\n",
              "      <th>artist</th>\n",
              "      <th>top genre</th>\n",
              "      <th>year</th>\n",
              "      <th>bpm</th>\n",
              "      <th>nrgy</th>\n",
              "      <th>dnce</th>\n",
              "      <th>dB</th>\n",
              "      <th>live</th>\n",
              "      <th>val</th>\n",
              "      <th>dur</th>\n",
              "      <th>acous</th>\n",
              "      <th>spch</th>\n",
              "      <th>pop</th>\n",
              "    </tr>\n",
              "  </thead>\n",
              "  <tbody>\n",
              "    <tr>\n",
              "      <th>662</th>\n",
              "      <td>101</td>\n",
              "      <td>Cold as Ice - 2008 Remaster</td>\n",
              "      <td>Foreigner</td>\n",
              "      <td>album rock</td>\n",
              "      <td>2008</td>\n",
              "      <td>131</td>\n",
              "      <td>71.0</td>\n",
              "      <td>55</td>\n",
              "      <td>-5</td>\n",
              "      <td>14</td>\n",
              "      <td>51</td>\n",
              "      <td>200</td>\n",
              "      <td>6</td>\n",
              "      <td>3</td>\n",
              "      <td>57</td>\n",
              "    </tr>\n",
              "    <tr>\n",
              "      <th>663</th>\n",
              "      <td>102</td>\n",
              "      <td>Zulu Nation Throw Down</td>\n",
              "      <td>Afrika Bambaataa</td>\n",
              "      <td>bronx hip hop</td>\n",
              "      <td>2015</td>\n",
              "      <td>108</td>\n",
              "      <td>95.0</td>\n",
              "      <td>85</td>\n",
              "      <td>-4</td>\n",
              "      <td>10</td>\n",
              "      <td>91</td>\n",
              "      <td>433</td>\n",
              "      <td>76</td>\n",
              "      <td>19</td>\n",
              "      <td>50</td>\n",
              "    </tr>\n",
              "    <tr>\n",
              "      <th>664</th>\n",
              "      <td>103</td>\n",
              "      <td>It's Only Love - 2008 Remaster</td>\n",
              "      <td>Simply Red</td>\n",
              "      <td>british soul</td>\n",
              "      <td>2008</td>\n",
              "      <td>92</td>\n",
              "      <td>88.0</td>\n",
              "      <td>67</td>\n",
              "      <td>-5</td>\n",
              "      <td>4</td>\n",
              "      <td>75</td>\n",
              "      <td>299</td>\n",
              "      <td>51</td>\n",
              "      <td>4</td>\n",
              "      <td>50</td>\n",
              "    </tr>\n",
              "    <tr>\n",
              "      <th>665</th>\n",
              "      <td>104</td>\n",
              "      <td>Lucky Star</td>\n",
              "      <td>Madonna</td>\n",
              "      <td>dance pop</td>\n",
              "      <td>1983</td>\n",
              "      <td>117</td>\n",
              "      <td>81.0</td>\n",
              "      <td>80</td>\n",
              "      <td>-5</td>\n",
              "      <td>22</td>\n",
              "      <td>93</td>\n",
              "      <td>338</td>\n",
              "      <td>20</td>\n",
              "      <td>4</td>\n",
              "      <td>46</td>\n",
              "    </tr>\n",
              "    <tr>\n",
              "      <th>666</th>\n",
              "      <td>105</td>\n",
              "      <td>Romeo - 2014 Remaster</td>\n",
              "      <td>Donna Summer</td>\n",
              "      <td>dance pop</td>\n",
              "      <td>1996</td>\n",
              "      <td>141</td>\n",
              "      <td>85.0</td>\n",
              "      <td>85</td>\n",
              "      <td>-8</td>\n",
              "      <td>11</td>\n",
              "      <td>96</td>\n",
              "      <td>199</td>\n",
              "      <td>3</td>\n",
              "      <td>4</td>\n",
              "      <td>43</td>\n",
              "    </tr>\n",
              "  </tbody>\n",
              "</table>\n",
              "</div>"
            ],
            "text/plain": [
              "     Number                           title            artist      top genre  \\\n",
              "662     101     Cold as Ice - 2008 Remaster         Foreigner     album rock   \n",
              "663     102          Zulu Nation Throw Down  Afrika Bambaataa  bronx hip hop   \n",
              "664     103  It's Only Love - 2008 Remaster        Simply Red   british soul   \n",
              "665     104                      Lucky Star           Madonna      dance pop   \n",
              "666     105           Romeo - 2014 Remaster      Donna Summer      dance pop   \n",
              "\n",
              "     year  bpm  nrgy  dnce  dB  live  val  dur  acous  spch  pop  \n",
              "662  2008  131  71.0    55  -5    14   51  200      6     3   57  \n",
              "663  2015  108  95.0    85  -4    10   91  433     76    19   50  \n",
              "664  2008   92  88.0    67  -5     4   75  299     51     4   50  \n",
              "665  1983  117  81.0    80  -5    22   93  338     20     4   46  \n",
              "666  1996  141  85.0    85  -8    11   96  199      3     4   43  "
            ]
          },
          "execution_count": 6,
          "metadata": {},
          "output_type": "execute_result"
        }
      ],
      "source": [
        "df.tail()"
      ]
    },
    {
      "cell_type": "code",
      "execution_count": null,
      "metadata": {
        "pycharm": {
          "name": "#%%\n"
        },
        "id": "aRHilxQI0Tuc",
        "outputId": "7b41fb9f-c81f-4c54-ddc0-381e559e703a"
      },
      "outputs": [
        {
          "data": {
            "text/plain": [
              "RangeIndex(start=0, stop=667, step=1)"
            ]
          },
          "execution_count": 7,
          "metadata": {},
          "output_type": "execute_result"
        }
      ],
      "source": [
        "df.index"
      ]
    },
    {
      "cell_type": "code",
      "execution_count": null,
      "metadata": {
        "pycharm": {
          "name": "#%%\n"
        },
        "id": "0WAuMRcv0Tud",
        "outputId": "18546273-eafc-4837-e905-75399045ec0f"
      },
      "outputs": [
        {
          "data": {
            "text/plain": [
              "(667, 15)"
            ]
          },
          "execution_count": 8,
          "metadata": {},
          "output_type": "execute_result"
        }
      ],
      "source": [
        "df.shape"
      ]
    },
    {
      "cell_type": "code",
      "execution_count": null,
      "metadata": {
        "pycharm": {
          "name": "#%%\n"
        },
        "id": "BvQpov_80Tud",
        "outputId": "a8df1df8-a489-4624-c57c-6e76d164864d"
      },
      "outputs": [
        {
          "name": "stdout",
          "output_type": "stream",
          "text": [
            "<class 'pandas.core.frame.DataFrame'>\n",
            "RangeIndex: 667 entries, 0 to 666\n",
            "Data columns (total 15 columns):\n",
            " #   Column     Non-Null Count  Dtype  \n",
            "---  ------     --------------  -----  \n",
            " 0   Number     667 non-null    int64  \n",
            " 1   title      667 non-null    object \n",
            " 2   artist     667 non-null    object \n",
            " 3   top genre  651 non-null    object \n",
            " 4   year       667 non-null    int64  \n",
            " 5   bpm        667 non-null    int64  \n",
            " 6   nrgy       665 non-null    float64\n",
            " 7   dnce       667 non-null    int64  \n",
            " 8   dB         667 non-null    int64  \n",
            " 9   live       667 non-null    int64  \n",
            " 10  val        667 non-null    int64  \n",
            " 11  dur        667 non-null    int64  \n",
            " 12  acous      667 non-null    int64  \n",
            " 13  spch       667 non-null    int64  \n",
            " 14  pop        667 non-null    int64  \n",
            "dtypes: float64(1), int64(11), object(3)\n",
            "memory usage: 78.3+ KB\n"
          ]
        }
      ],
      "source": [
        "df.info()"
      ]
    },
    {
      "cell_type": "code",
      "execution_count": null,
      "metadata": {
        "pycharm": {
          "name": "#%%\n"
        },
        "id": "SaAYMRtV0Tue",
        "outputId": "c7599331-fca0-4202-836a-91ba1e6c64a6"
      },
      "outputs": [
        {
          "data": {
            "text/html": [
              "<div>\n",
              "<style scoped>\n",
              "    .dataframe tbody tr th:only-of-type {\n",
              "        vertical-align: middle;\n",
              "    }\n",
              "\n",
              "    .dataframe tbody tr th {\n",
              "        vertical-align: top;\n",
              "    }\n",
              "\n",
              "    .dataframe thead th {\n",
              "        text-align: right;\n",
              "    }\n",
              "</style>\n",
              "<table border=\"1\" class=\"dataframe\">\n",
              "  <thead>\n",
              "    <tr style=\"text-align: right;\">\n",
              "      <th></th>\n",
              "      <th>Number</th>\n",
              "      <th>year</th>\n",
              "      <th>bpm</th>\n",
              "      <th>nrgy</th>\n",
              "      <th>dnce</th>\n",
              "      <th>dB</th>\n",
              "      <th>live</th>\n",
              "      <th>val</th>\n",
              "      <th>dur</th>\n",
              "      <th>acous</th>\n",
              "      <th>spch</th>\n",
              "      <th>pop</th>\n",
              "    </tr>\n",
              "  </thead>\n",
              "  <tbody>\n",
              "    <tr>\n",
              "      <th>count</th>\n",
              "      <td>667.000000</td>\n",
              "      <td>667.000000</td>\n",
              "      <td>667.000000</td>\n",
              "      <td>665.000000</td>\n",
              "      <td>667.000000</td>\n",
              "      <td>667.000000</td>\n",
              "      <td>667.000000</td>\n",
              "      <td>667.000000</td>\n",
              "      <td>667.000000</td>\n",
              "      <td>667.000000</td>\n",
              "      <td>667.000000</td>\n",
              "      <td>667.000000</td>\n",
              "    </tr>\n",
              "    <tr>\n",
              "      <th>mean</th>\n",
              "      <td>48.718141</td>\n",
              "      <td>1994.967016</td>\n",
              "      <td>119.121439</td>\n",
              "      <td>63.306767</td>\n",
              "      <td>60.325337</td>\n",
              "      <td>-8.356822</td>\n",
              "      <td>18.188906</td>\n",
              "      <td>57.311844</td>\n",
              "      <td>224.002999</td>\n",
              "      <td>29.917541</td>\n",
              "      <td>6.179910</td>\n",
              "      <td>63.349325</td>\n",
              "    </tr>\n",
              "    <tr>\n",
              "      <th>std</th>\n",
              "      <td>28.414748</td>\n",
              "      <td>17.771374</td>\n",
              "      <td>25.030827</td>\n",
              "      <td>39.076451</td>\n",
              "      <td>15.051583</td>\n",
              "      <td>3.659509</td>\n",
              "      <td>14.380929</td>\n",
              "      <td>24.400412</td>\n",
              "      <td>59.742591</td>\n",
              "      <td>28.865081</td>\n",
              "      <td>6.191199</td>\n",
              "      <td>13.725845</td>\n",
              "    </tr>\n",
              "    <tr>\n",
              "      <th>min</th>\n",
              "      <td>1.000000</td>\n",
              "      <td>1945.000000</td>\n",
              "      <td>62.000000</td>\n",
              "      <td>6.000000</td>\n",
              "      <td>18.000000</td>\n",
              "      <td>-24.000000</td>\n",
              "      <td>2.000000</td>\n",
              "      <td>6.000000</td>\n",
              "      <td>98.000000</td>\n",
              "      <td>0.000000</td>\n",
              "      <td>2.000000</td>\n",
              "      <td>26.000000</td>\n",
              "    </tr>\n",
              "    <tr>\n",
              "      <th>25%</th>\n",
              "      <td>24.000000</td>\n",
              "      <td>1980.000000</td>\n",
              "      <td>101.500000</td>\n",
              "      <td>45.000000</td>\n",
              "      <td>51.000000</td>\n",
              "      <td>-11.000000</td>\n",
              "      <td>9.000000</td>\n",
              "      <td>39.000000</td>\n",
              "      <td>185.000000</td>\n",
              "      <td>6.000000</td>\n",
              "      <td>3.000000</td>\n",
              "      <td>56.000000</td>\n",
              "    </tr>\n",
              "    <tr>\n",
              "      <th>50%</th>\n",
              "      <td>48.000000</td>\n",
              "      <td>1998.000000</td>\n",
              "      <td>120.000000</td>\n",
              "      <td>65.000000</td>\n",
              "      <td>62.000000</td>\n",
              "      <td>-8.000000</td>\n",
              "      <td>13.000000</td>\n",
              "      <td>58.000000</td>\n",
              "      <td>218.000000</td>\n",
              "      <td>19.000000</td>\n",
              "      <td>4.000000</td>\n",
              "      <td>66.000000</td>\n",
              "    </tr>\n",
              "    <tr>\n",
              "      <th>75%</th>\n",
              "      <td>72.000000</td>\n",
              "      <td>2010.000000</td>\n",
              "      <td>134.000000</td>\n",
              "      <td>79.000000</td>\n",
              "      <td>71.000000</td>\n",
              "      <td>-6.000000</td>\n",
              "      <td>24.000000</td>\n",
              "      <td>78.000000</td>\n",
              "      <td>254.000000</td>\n",
              "      <td>52.000000</td>\n",
              "      <td>6.000000</td>\n",
              "      <td>73.500000</td>\n",
              "    </tr>\n",
              "    <tr>\n",
              "      <th>max</th>\n",
              "      <td>105.000000</td>\n",
              "      <td>2019.000000</td>\n",
              "      <td>199.000000</td>\n",
              "      <td>670.000000</td>\n",
              "      <td>96.000000</td>\n",
              "      <td>-1.000000</td>\n",
              "      <td>93.000000</td>\n",
              "      <td>99.000000</td>\n",
              "      <td>511.000000</td>\n",
              "      <td>100.000000</td>\n",
              "      <td>47.000000</td>\n",
              "      <td>94.000000</td>\n",
              "    </tr>\n",
              "  </tbody>\n",
              "</table>\n",
              "</div>"
            ],
            "text/plain": [
              "           Number         year         bpm        nrgy        dnce  \\\n",
              "count  667.000000   667.000000  667.000000  665.000000  667.000000   \n",
              "mean    48.718141  1994.967016  119.121439   63.306767   60.325337   \n",
              "std     28.414748    17.771374   25.030827   39.076451   15.051583   \n",
              "min      1.000000  1945.000000   62.000000    6.000000   18.000000   \n",
              "25%     24.000000  1980.000000  101.500000   45.000000   51.000000   \n",
              "50%     48.000000  1998.000000  120.000000   65.000000   62.000000   \n",
              "75%     72.000000  2010.000000  134.000000   79.000000   71.000000   \n",
              "max    105.000000  2019.000000  199.000000  670.000000   96.000000   \n",
              "\n",
              "               dB        live         val         dur       acous        spch  \\\n",
              "count  667.000000  667.000000  667.000000  667.000000  667.000000  667.000000   \n",
              "mean    -8.356822   18.188906   57.311844  224.002999   29.917541    6.179910   \n",
              "std      3.659509   14.380929   24.400412   59.742591   28.865081    6.191199   \n",
              "min    -24.000000    2.000000    6.000000   98.000000    0.000000    2.000000   \n",
              "25%    -11.000000    9.000000   39.000000  185.000000    6.000000    3.000000   \n",
              "50%     -8.000000   13.000000   58.000000  218.000000   19.000000    4.000000   \n",
              "75%     -6.000000   24.000000   78.000000  254.000000   52.000000    6.000000   \n",
              "max     -1.000000   93.000000   99.000000  511.000000  100.000000   47.000000   \n",
              "\n",
              "              pop  \n",
              "count  667.000000  \n",
              "mean    63.349325  \n",
              "std     13.725845  \n",
              "min     26.000000  \n",
              "25%     56.000000  \n",
              "50%     66.000000  \n",
              "75%     73.500000  \n",
              "max     94.000000  "
            ]
          },
          "execution_count": 10,
          "metadata": {},
          "output_type": "execute_result"
        }
      ],
      "source": [
        "df.describe()"
      ]
    },
    {
      "cell_type": "code",
      "execution_count": null,
      "metadata": {
        "pycharm": {
          "name": "#%%\n"
        },
        "id": "OGwYHfRJ0Tuf",
        "outputId": "562227f3-31cb-49d1-ddcf-bcf1dc64c241"
      },
      "outputs": [
        {
          "data": {
            "text/plain": [
              "0"
            ]
          },
          "execution_count": 11,
          "metadata": {},
          "output_type": "execute_result"
        }
      ],
      "source": [
        "df.duplicated().sum()"
      ]
    },
    {
      "cell_type": "markdown",
      "metadata": {
        "pycharm": {
          "name": "#%% md\n"
        },
        "id": "iecaRp0o0Tug"
      },
      "source": [
        "## Ordenar por año"
      ]
    },
    {
      "cell_type": "code",
      "execution_count": null,
      "metadata": {
        "pycharm": {
          "name": "#%%\n"
        },
        "id": "KOcoiH590Tug",
        "outputId": "7002521f-ea48-4b37-c6e7-72778aeb3a3a"
      },
      "outputs": [
        {
          "data": {
            "text/html": [
              "<div>\n",
              "<style scoped>\n",
              "    .dataframe tbody tr th:only-of-type {\n",
              "        vertical-align: middle;\n",
              "    }\n",
              "\n",
              "    .dataframe tbody tr th {\n",
              "        vertical-align: top;\n",
              "    }\n",
              "\n",
              "    .dataframe thead th {\n",
              "        text-align: right;\n",
              "    }\n",
              "</style>\n",
              "<table border=\"1\" class=\"dataframe\">\n",
              "  <thead>\n",
              "    <tr style=\"text-align: right;\">\n",
              "      <th></th>\n",
              "      <th>Number</th>\n",
              "      <th>title</th>\n",
              "      <th>artist</th>\n",
              "      <th>top genre</th>\n",
              "      <th>year</th>\n",
              "      <th>bpm</th>\n",
              "      <th>nrgy</th>\n",
              "      <th>dnce</th>\n",
              "      <th>dB</th>\n",
              "      <th>live</th>\n",
              "      <th>val</th>\n",
              "      <th>dur</th>\n",
              "      <th>acous</th>\n",
              "      <th>spch</th>\n",
              "      <th>pop</th>\n",
              "    </tr>\n",
              "  </thead>\n",
              "  <tbody>\n",
              "    <tr>\n",
              "      <th>0</th>\n",
              "      <td>13</td>\n",
              "      <td>If I Give My Heart to You (with The Mellomen) ...</td>\n",
              "      <td>Doris Day</td>\n",
              "      <td>adult standards</td>\n",
              "      <td>1945</td>\n",
              "      <td>77</td>\n",
              "      <td>6.0</td>\n",
              "      <td>50</td>\n",
              "      <td>-16</td>\n",
              "      <td>10</td>\n",
              "      <td>33</td>\n",
              "      <td>169</td>\n",
              "      <td>97</td>\n",
              "      <td>5</td>\n",
              "      <td>52</td>\n",
              "    </tr>\n",
              "    <tr>\n",
              "      <th>1</th>\n",
              "      <td>2</td>\n",
              "      <td>Whatever Will Be Will Be (Que Sera Sera) (with...</td>\n",
              "      <td>Doris Day</td>\n",
              "      <td>adult standards</td>\n",
              "      <td>1948</td>\n",
              "      <td>177</td>\n",
              "      <td>34.0</td>\n",
              "      <td>42</td>\n",
              "      <td>-11</td>\n",
              "      <td>72</td>\n",
              "      <td>78</td>\n",
              "      <td>123</td>\n",
              "      <td>86</td>\n",
              "      <td>4</td>\n",
              "      <td>62</td>\n",
              "    </tr>\n",
              "    <tr>\n",
              "      <th>2</th>\n",
              "      <td>73</td>\n",
              "      <td>Held for Questioning</td>\n",
              "      <td>Rusty Draper</td>\n",
              "      <td>deep adult standards</td>\n",
              "      <td>1953</td>\n",
              "      <td>109</td>\n",
              "      <td>65.0</td>\n",
              "      <td>70</td>\n",
              "      <td>-2</td>\n",
              "      <td>14</td>\n",
              "      <td>85</td>\n",
              "      <td>146</td>\n",
              "      <td>79</td>\n",
              "      <td>3</td>\n",
              "      <td>26</td>\n",
              "    </tr>\n",
              "    <tr>\n",
              "      <th>3</th>\n",
              "      <td>25</td>\n",
              "      <td>Only Because</td>\n",
              "      <td>The Platters</td>\n",
              "      <td>adult standards</td>\n",
              "      <td>1957</td>\n",
              "      <td>73</td>\n",
              "      <td>NaN</td>\n",
              "      <td>55</td>\n",
              "      <td>-10</td>\n",
              "      <td>9</td>\n",
              "      <td>47</td>\n",
              "      <td>174</td>\n",
              "      <td>85</td>\n",
              "      <td>3</td>\n",
              "      <td>44</td>\n",
              "    </tr>\n",
              "    <tr>\n",
              "      <th>4</th>\n",
              "      <td>48</td>\n",
              "      <td>Gigi</td>\n",
              "      <td>Billy Eckstine</td>\n",
              "      <td>adult standards</td>\n",
              "      <td>1958</td>\n",
              "      <td>81</td>\n",
              "      <td>12.0</td>\n",
              "      <td>21</td>\n",
              "      <td>-17</td>\n",
              "      <td>12</td>\n",
              "      <td>19</td>\n",
              "      <td>155</td>\n",
              "      <td>93</td>\n",
              "      <td>3</td>\n",
              "      <td>35</td>\n",
              "    </tr>\n",
              "    <tr>\n",
              "      <th>...</th>\n",
              "      <td>...</td>\n",
              "      <td>...</td>\n",
              "      <td>...</td>\n",
              "      <td>...</td>\n",
              "      <td>...</td>\n",
              "      <td>...</td>\n",
              "      <td>...</td>\n",
              "      <td>...</td>\n",
              "      <td>...</td>\n",
              "      <td>...</td>\n",
              "      <td>...</td>\n",
              "      <td>...</td>\n",
              "      <td>...</td>\n",
              "      <td>...</td>\n",
              "      <td>...</td>\n",
              "    </tr>\n",
              "    <tr>\n",
              "      <th>662</th>\n",
              "      <td>59</td>\n",
              "      <td>When You Love Someone</td>\n",
              "      <td>James TW</td>\n",
              "      <td>neo mellow</td>\n",
              "      <td>2019</td>\n",
              "      <td>126</td>\n",
              "      <td>45.0</td>\n",
              "      <td>68</td>\n",
              "      <td>-6</td>\n",
              "      <td>5</td>\n",
              "      <td>35</td>\n",
              "      <td>217</td>\n",
              "      <td>26</td>\n",
              "      <td>3</td>\n",
              "      <td>76</td>\n",
              "    </tr>\n",
              "    <tr>\n",
              "      <th>663</th>\n",
              "      <td>97</td>\n",
              "      <td>Peppermint Twist Pt.1</td>\n",
              "      <td>Joey Dee</td>\n",
              "      <td>australian talent show</td>\n",
              "      <td>2019</td>\n",
              "      <td>199</td>\n",
              "      <td>73.0</td>\n",
              "      <td>42</td>\n",
              "      <td>-11</td>\n",
              "      <td>73</td>\n",
              "      <td>72</td>\n",
              "      <td>122</td>\n",
              "      <td>37</td>\n",
              "      <td>14</td>\n",
              "      <td>30</td>\n",
              "    </tr>\n",
              "    <tr>\n",
              "      <th>664</th>\n",
              "      <td>68</td>\n",
              "      <td>I Will Survive - Extended Version</td>\n",
              "      <td>Gloria Gaynor</td>\n",
              "      <td>disco</td>\n",
              "      <td>2019</td>\n",
              "      <td>116</td>\n",
              "      <td>85.0</td>\n",
              "      <td>76</td>\n",
              "      <td>-5</td>\n",
              "      <td>27</td>\n",
              "      <td>59</td>\n",
              "      <td>197</td>\n",
              "      <td>6</td>\n",
              "      <td>5</td>\n",
              "      <td>61</td>\n",
              "    </tr>\n",
              "    <tr>\n",
              "      <th>665</th>\n",
              "      <td>10</td>\n",
              "      <td>Last Christmas</td>\n",
              "      <td>Wham!</td>\n",
              "      <td>dance rock</td>\n",
              "      <td>2019</td>\n",
              "      <td>108</td>\n",
              "      <td>58.0</td>\n",
              "      <td>74</td>\n",
              "      <td>-9</td>\n",
              "      <td>18</td>\n",
              "      <td>94</td>\n",
              "      <td>265</td>\n",
              "      <td>19</td>\n",
              "      <td>3</td>\n",
              "      <td>78</td>\n",
              "    </tr>\n",
              "    <tr>\n",
              "      <th>666</th>\n",
              "      <td>1</td>\n",
              "      <td>bad guy</td>\n",
              "      <td>Billie Eilish</td>\n",
              "      <td>electropop</td>\n",
              "      <td>2019</td>\n",
              "      <td>135</td>\n",
              "      <td>43.0</td>\n",
              "      <td>70</td>\n",
              "      <td>-11</td>\n",
              "      <td>10</td>\n",
              "      <td>56</td>\n",
              "      <td>194</td>\n",
              "      <td>33</td>\n",
              "      <td>38</td>\n",
              "      <td>94</td>\n",
              "    </tr>\n",
              "  </tbody>\n",
              "</table>\n",
              "<p>667 rows × 15 columns</p>\n",
              "</div>"
            ],
            "text/plain": [
              "     Number                                              title  \\\n",
              "0        13  If I Give My Heart to You (with The Mellomen) ...   \n",
              "1         2  Whatever Will Be Will Be (Que Sera Sera) (with...   \n",
              "2        73                               Held for Questioning   \n",
              "3        25                                       Only Because   \n",
              "4        48                                               Gigi   \n",
              "..      ...                                                ...   \n",
              "662      59                              When You Love Someone   \n",
              "663      97                              Peppermint Twist Pt.1   \n",
              "664      68                  I Will Survive - Extended Version   \n",
              "665      10                                     Last Christmas   \n",
              "666       1                                            bad guy   \n",
              "\n",
              "             artist               top genre  year  bpm  nrgy  dnce  dB  live  \\\n",
              "0         Doris Day         adult standards  1945   77   6.0    50 -16    10   \n",
              "1         Doris Day         adult standards  1948  177  34.0    42 -11    72   \n",
              "2      Rusty Draper    deep adult standards  1953  109  65.0    70  -2    14   \n",
              "3      The Platters         adult standards  1957   73   NaN    55 -10     9   \n",
              "4    Billy Eckstine         adult standards  1958   81  12.0    21 -17    12   \n",
              "..              ...                     ...   ...  ...   ...   ...  ..   ...   \n",
              "662        James TW              neo mellow  2019  126  45.0    68  -6     5   \n",
              "663        Joey Dee  australian talent show  2019  199  73.0    42 -11    73   \n",
              "664   Gloria Gaynor                   disco  2019  116  85.0    76  -5    27   \n",
              "665           Wham!              dance rock  2019  108  58.0    74  -9    18   \n",
              "666   Billie Eilish              electropop  2019  135  43.0    70 -11    10   \n",
              "\n",
              "     val  dur  acous  spch  pop  \n",
              "0     33  169     97     5   52  \n",
              "1     78  123     86     4   62  \n",
              "2     85  146     79     3   26  \n",
              "3     47  174     85     3   44  \n",
              "4     19  155     93     3   35  \n",
              "..   ...  ...    ...   ...  ...  \n",
              "662   35  217     26     3   76  \n",
              "663   72  122     37    14   30  \n",
              "664   59  197      6     5   61  \n",
              "665   94  265     19     3   78  \n",
              "666   56  194     33    38   94  \n",
              "\n",
              "[667 rows x 15 columns]"
            ]
          },
          "execution_count": 12,
          "metadata": {},
          "output_type": "execute_result"
        }
      ],
      "source": [
        "df.sort_values('year', inplace=True)\n",
        "df.reset_index(drop=True, inplace=True)\n",
        "df"
      ]
    },
    {
      "cell_type": "markdown",
      "metadata": {
        "pycharm": {
          "name": "#%% md\n"
        },
        "id": "a68E1nHw0Tuh"
      },
      "source": [
        "## Tratamiento de nulos"
      ]
    },
    {
      "cell_type": "code",
      "execution_count": null,
      "metadata": {
        "pycharm": {
          "name": "#%%\n"
        },
        "id": "HU-GPtmY0Tuh",
        "outputId": "b4a3111f-2b2e-450f-ab47-a60a1f809d73"
      },
      "outputs": [
        {
          "data": {
            "text/plain": [
              "Number        0\n",
              "title         0\n",
              "artist        0\n",
              "top genre    16\n",
              "year          0\n",
              "bpm           0\n",
              "nrgy          2\n",
              "dnce          0\n",
              "dB            0\n",
              "live          0\n",
              "val           0\n",
              "dur           0\n",
              "acous         0\n",
              "spch          0\n",
              "pop           0\n",
              "dtype: int64"
            ]
          },
          "execution_count": 13,
          "metadata": {},
          "output_type": "execute_result"
        }
      ],
      "source": [
        "df.isnull().sum()\n"
      ]
    },
    {
      "cell_type": "code",
      "execution_count": null,
      "metadata": {
        "pycharm": {
          "name": "#%%\n"
        },
        "id": "QWMmPRtO0Tui",
        "outputId": "bde0fe0c-1a3b-4ece-bfe2-a2e75813a632"
      },
      "outputs": [
        {
          "data": {
            "text/plain": [
              "0             adult standards\n",
              "1             adult standards\n",
              "2        deep adult standards\n",
              "3             adult standards\n",
              "4             adult standards\n",
              "                ...          \n",
              "662                neo mellow\n",
              "663    australian talent show\n",
              "664                     disco\n",
              "665                dance rock\n",
              "666                electropop\n",
              "Name: top genre, Length: 667, dtype: object"
            ]
          },
          "execution_count": 14,
          "metadata": {},
          "output_type": "execute_result"
        }
      ],
      "source": [
        "df['top genre']"
      ]
    },
    {
      "cell_type": "code",
      "execution_count": null,
      "metadata": {
        "pycharm": {
          "name": "#%%\n"
        },
        "id": "_FEtuKVu0Tui",
        "outputId": "19dc8a4b-a527-4b54-d7a4-6e5df654cd40"
      },
      "outputs": [
        {
          "data": {
            "text/plain": [
              "Number       0\n",
              "title        0\n",
              "artist       0\n",
              "top genre    0\n",
              "year         0\n",
              "bpm          0\n",
              "nrgy         2\n",
              "dnce         0\n",
              "dB           0\n",
              "live         0\n",
              "val          0\n",
              "dur          0\n",
              "acous        0\n",
              "spch         0\n",
              "pop          0\n",
              "dtype: int64"
            ]
          },
          "execution_count": 15,
          "metadata": {},
          "output_type": "execute_result"
        }
      ],
      "source": [
        "df['top genre'].fillna(\"\", inplace=True)\n",
        "df.replace(\"\", \"undefined\", inplace=True)\n",
        "df.isnull().sum()"
      ]
    },
    {
      "cell_type": "markdown",
      "metadata": {
        "pycharm": {
          "name": "#%% md\n"
        },
        "id": "m9Kt9rj20Tuj"
      },
      "source": [
        "### Outliers"
      ]
    },
    {
      "cell_type": "code",
      "execution_count": null,
      "metadata": {
        "pycharm": {
          "name": "#%%\n"
        },
        "id": "PZ0EezWN0Tuj",
        "outputId": "e9ad0e3e-0e29-40db-fbef-be9df5610720"
      },
      "outputs": [
        {
          "data": {
            "text/plain": [
              "<AxesSubplot:>"
            ]
          },
          "execution_count": 16,
          "metadata": {},
          "output_type": "execute_result"
        },
        {
          "data": {
            "image/png": "[encoded data removed]",
            "text/plain": [
              "<Figure size 432x288 with 1 Axes>"
            ]
          },
          "metadata": {
            "needs_background": "light"
          },
          "output_type": "display_data"
        }
      ],
      "source": [
        "df['nrgy'].plot()"
      ]
    },
    {
      "cell_type": "code",
      "execution_count": null,
      "metadata": {
        "pycharm": {
          "name": "#%%\n"
        },
        "id": "8s9HpISF0Tuj",
        "outputId": "da34dddb-141d-4aec-abf0-bafdbceecc6f"
      },
      "outputs": [
        {
          "data": {
            "text/plain": [
              "61.52187028657617"
            ]
          },
          "execution_count": 17,
          "metadata": {},
          "output_type": "execute_result"
        }
      ],
      "source": [
        "# obtener media de la columna nrgy sin tener en cuenta los outliers\n",
        "mask = df['nrgy'] <= 100\n",
        "mean = df[mask]['nrgy'].mean()\n",
        "mean"
      ]
    },
    {
      "cell_type": "code",
      "execution_count": null,
      "metadata": {
        "pycharm": {
          "name": "#%%\n"
        },
        "id": "vgHT2nxk0Tuk"
      },
      "outputs": [],
      "source": [
        "mask = df['nrgy'] > 100\n",
        "df.loc[mask, 'nrgy'] = mean"
      ]
    },
    {
      "cell_type": "code",
      "execution_count": null,
      "metadata": {
        "pycharm": {
          "name": "#%%\n"
        },
        "id": "LvVrAS7O0Tuk",
        "outputId": "898fedb8-3b68-44a6-aee4-6d1e3f00607d"
      },
      "outputs": [
        {
          "data": {
            "text/plain": [
              "<AxesSubplot:>"
            ]
          },
          "execution_count": 19,
          "metadata": {},
          "output_type": "execute_result"
        },
        {
          "data": {
            "image/png": "[encoded data removed]",
            "text/plain": [
              "<Figure size 432x288 with 1 Axes>"
            ]
          },
          "metadata": {
            "needs_background": "light"
          },
          "output_type": "display_data"
        }
      ],
      "source": [
        "df['nrgy'].plot()\n"
      ]
    },
    {
      "cell_type": "code",
      "execution_count": null,
      "metadata": {
        "pycharm": {
          "name": "#%%\n"
        },
        "id": "Nyovjkg90Tul"
      },
      "outputs": [],
      "source": [
        "# rellenar nulos de nrgy\n",
        "df['nrgy'].fillna(df['nrgy'].mean(), inplace=True)"
      ]
    },
    {
      "cell_type": "code",
      "execution_count": null,
      "metadata": {
        "pycharm": {
          "name": "#%%\n"
        },
        "id": "BnRABQB00Tul",
        "outputId": "963cadc1-0f99-4043-b458-47350622d464"
      },
      "outputs": [
        {
          "data": {
            "text/plain": [
              "Number       0\n",
              "title        0\n",
              "artist       0\n",
              "top genre    0\n",
              "year         0\n",
              "bpm          0\n",
              "nrgy         0\n",
              "dnce         0\n",
              "dB           0\n",
              "live         0\n",
              "val          0\n",
              "dur          0\n",
              "acous        0\n",
              "spch         0\n",
              "pop          0\n",
              "dtype: int64"
            ]
          },
          "execution_count": 21,
          "metadata": {},
          "output_type": "execute_result"
        }
      ],
      "source": [
        "df.isnull().sum()"
      ]
    },
    {
      "cell_type": "markdown",
      "metadata": {
        "pycharm": {
          "name": "#%% md\n"
        },
        "id": "HPsCJE4r0Tum"
      },
      "source": [
        "## Mostrar artistas y géneros más repetidos"
      ]
    },
    {
      "cell_type": "code",
      "execution_count": null,
      "metadata": {
        "pycharm": {
          "name": "#%%\n"
        },
        "id": "d94brb8r0Tum",
        "outputId": "ebb8ea9e-0096-44ae-b026-8975b5fee919"
      },
      "outputs": [
        {
          "data": {
            "text/html": [
              "<div>\n",
              "<style scoped>\n",
              "    .dataframe tbody tr th:only-of-type {\n",
              "        vertical-align: middle;\n",
              "    }\n",
              "\n",
              "    .dataframe tbody tr th {\n",
              "        vertical-align: top;\n",
              "    }\n",
              "\n",
              "    .dataframe thead th {\n",
              "        text-align: right;\n",
              "    }\n",
              "</style>\n",
              "<table border=\"1\" class=\"dataframe\">\n",
              "  <thead>\n",
              "    <tr style=\"text-align: right;\">\n",
              "      <th></th>\n",
              "      <th>Number</th>\n",
              "      <th>title</th>\n",
              "      <th>artist</th>\n",
              "      <th>top genre</th>\n",
              "      <th>year</th>\n",
              "      <th>bpm</th>\n",
              "      <th>nrgy</th>\n",
              "      <th>dnce</th>\n",
              "      <th>dB</th>\n",
              "      <th>live</th>\n",
              "      <th>val</th>\n",
              "      <th>dur</th>\n",
              "      <th>acous</th>\n",
              "      <th>spch</th>\n",
              "      <th>pop</th>\n",
              "    </tr>\n",
              "  </thead>\n",
              "  <tbody>\n",
              "    <tr>\n",
              "      <th>0</th>\n",
              "      <td>13</td>\n",
              "      <td>If I Give My Heart to You (with The Mellomen) ...</td>\n",
              "      <td>Doris Day</td>\n",
              "      <td>adult standards</td>\n",
              "      <td>1945</td>\n",
              "      <td>77</td>\n",
              "      <td>6.0</td>\n",
              "      <td>50</td>\n",
              "      <td>-16</td>\n",
              "      <td>10</td>\n",
              "      <td>33</td>\n",
              "      <td>169</td>\n",
              "      <td>97</td>\n",
              "      <td>5</td>\n",
              "      <td>52</td>\n",
              "    </tr>\n",
              "    <tr>\n",
              "      <th>1</th>\n",
              "      <td>2</td>\n",
              "      <td>Whatever Will Be Will Be (Que Sera Sera) (with...</td>\n",
              "      <td>Doris Day</td>\n",
              "      <td>adult standards</td>\n",
              "      <td>1948</td>\n",
              "      <td>177</td>\n",
              "      <td>34.0</td>\n",
              "      <td>42</td>\n",
              "      <td>-11</td>\n",
              "      <td>72</td>\n",
              "      <td>78</td>\n",
              "      <td>123</td>\n",
              "      <td>86</td>\n",
              "      <td>4</td>\n",
              "      <td>62</td>\n",
              "    </tr>\n",
              "  </tbody>\n",
              "</table>\n",
              "</div>"
            ],
            "text/plain": [
              "   Number                                              title     artist  \\\n",
              "0      13  If I Give My Heart to You (with The Mellomen) ...  Doris Day   \n",
              "1       2  Whatever Will Be Will Be (Que Sera Sera) (with...  Doris Day   \n",
              "\n",
              "         top genre  year  bpm  nrgy  dnce  dB  live  val  dur  acous  spch  \\\n",
              "0  adult standards  1945   77   6.0    50 -16    10   33  169     97     5   \n",
              "1  adult standards  1948  177  34.0    42 -11    72   78  123     86     4   \n",
              "\n",
              "   pop  \n",
              "0   52  \n",
              "1   62  "
            ]
          },
          "execution_count": 22,
          "metadata": {},
          "output_type": "execute_result"
        }
      ],
      "source": [
        "df.head(2)"
      ]
    },
    {
      "cell_type": "code",
      "execution_count": null,
      "metadata": {
        "pycharm": {
          "name": "#%%\n"
        },
        "id": "vwYlobVQ0Tun",
        "outputId": "06c6c700-4ed9-4097-e633-042a629811f8"
      },
      "outputs": [
        {
          "data": {
            "text/plain": [
              "array(['Doris Day', 'Rusty Draper', 'The Platters', 'Billy Eckstine',\n",
              "       'Frank Sinatra', 'Dion & The Belmonts'], dtype=object)"
            ]
          },
          "execution_count": 23,
          "metadata": {},
          "output_type": "execute_result"
        }
      ],
      "source": [
        "df['artist'].unique()[:6]"
      ]
    },
    {
      "cell_type": "code",
      "execution_count": null,
      "metadata": {
        "pycharm": {
          "name": "#%%\n"
        },
        "id": "wc2AsxuU0Tuo",
        "outputId": "3e4cfc5b-14a2-4c5f-e83e-acc8725bd1c7"
      },
      "outputs": [
        {
          "data": {
            "text/html": [
              "<div>\n",
              "<style scoped>\n",
              "    .dataframe tbody tr th:only-of-type {\n",
              "        vertical-align: middle;\n",
              "    }\n",
              "\n",
              "    .dataframe tbody tr th {\n",
              "        vertical-align: top;\n",
              "    }\n",
              "\n",
              "    .dataframe thead th {\n",
              "        text-align: right;\n",
              "    }\n",
              "</style>\n",
              "<table border=\"1\" class=\"dataframe\">\n",
              "  <thead>\n",
              "    <tr style=\"text-align: right;\">\n",
              "      <th></th>\n",
              "      <th>artist</th>\n",
              "    </tr>\n",
              "  </thead>\n",
              "  <tbody>\n",
              "    <tr>\n",
              "      <th>Elton John</th>\n",
              "      <td>12</td>\n",
              "    </tr>\n",
              "    <tr>\n",
              "      <th>Queen</th>\n",
              "      <td>11</td>\n",
              "    </tr>\n",
              "    <tr>\n",
              "      <th>ABBA</th>\n",
              "      <td>9</td>\n",
              "    </tr>\n",
              "    <tr>\n",
              "      <th>The Beatles</th>\n",
              "      <td>7</td>\n",
              "    </tr>\n",
              "    <tr>\n",
              "      <th>Barbra Streisand</th>\n",
              "      <td>6</td>\n",
              "    </tr>\n",
              "    <tr>\n",
              "      <th>Rihanna</th>\n",
              "      <td>6</td>\n",
              "    </tr>\n",
              "    <tr>\n",
              "      <th>Whitney Houston</th>\n",
              "      <td>6</td>\n",
              "    </tr>\n",
              "    <tr>\n",
              "      <th>Mariah Carey</th>\n",
              "      <td>5</td>\n",
              "    </tr>\n",
              "    <tr>\n",
              "      <th>Taylor Swift</th>\n",
              "      <td>5</td>\n",
              "    </tr>\n",
              "    <tr>\n",
              "      <th>Post Malone</th>\n",
              "      <td>5</td>\n",
              "    </tr>\n",
              "  </tbody>\n",
              "</table>\n",
              "</div>"
            ],
            "text/plain": [
              "                  artist\n",
              "Elton John            12\n",
              "Queen                 11\n",
              "ABBA                   9\n",
              "The Beatles            7\n",
              "Barbra Streisand       6\n",
              "Rihanna                6\n",
              "Whitney Houston        6\n",
              "Mariah Carey           5\n",
              "Taylor Swift           5\n",
              "Post Malone            5"
            ]
          },
          "execution_count": 24,
          "metadata": {},
          "output_type": "execute_result"
        }
      ],
      "source": [
        "serie = df['artist'].value_counts()\n",
        "pd.DataFrame(serie).head(10)"
      ]
    },
    {
      "cell_type": "code",
      "execution_count": null,
      "metadata": {
        "pycharm": {
          "name": "#%%\n"
        },
        "id": "UGlkREqm0Tuo",
        "outputId": "7881f7ce-80c7-4f9f-ae83-2e944d42a8e1"
      },
      "outputs": [
        {
          "data": {
            "text/html": [
              "<div>\n",
              "<style scoped>\n",
              "    .dataframe tbody tr th:only-of-type {\n",
              "        vertical-align: middle;\n",
              "    }\n",
              "\n",
              "    .dataframe tbody tr th {\n",
              "        vertical-align: top;\n",
              "    }\n",
              "\n",
              "    .dataframe thead th {\n",
              "        text-align: right;\n",
              "    }\n",
              "</style>\n",
              "<table border=\"1\" class=\"dataframe\">\n",
              "  <thead>\n",
              "    <tr style=\"text-align: right;\">\n",
              "      <th></th>\n",
              "      <th>top genre</th>\n",
              "    </tr>\n",
              "  </thead>\n",
              "  <tbody>\n",
              "    <tr>\n",
              "      <th>dance pop</th>\n",
              "      <td>114</td>\n",
              "    </tr>\n",
              "    <tr>\n",
              "      <th>adult standards</th>\n",
              "      <td>93</td>\n",
              "    </tr>\n",
              "    <tr>\n",
              "      <th>album rock</th>\n",
              "      <td>77</td>\n",
              "    </tr>\n",
              "    <tr>\n",
              "      <th>glam rock</th>\n",
              "      <td>23</td>\n",
              "    </tr>\n",
              "    <tr>\n",
              "      <th>brill building pop</th>\n",
              "      <td>20</td>\n",
              "    </tr>\n",
              "    <tr>\n",
              "      <th>europop</th>\n",
              "      <td>17</td>\n",
              "    </tr>\n",
              "    <tr>\n",
              "      <th>undefined</th>\n",
              "      <td>16</td>\n",
              "    </tr>\n",
              "    <tr>\n",
              "      <th>boy band</th>\n",
              "      <td>15</td>\n",
              "    </tr>\n",
              "    <tr>\n",
              "      <th>dance rock</th>\n",
              "      <td>15</td>\n",
              "    </tr>\n",
              "    <tr>\n",
              "      <th>big room</th>\n",
              "      <td>13</td>\n",
              "    </tr>\n",
              "  </tbody>\n",
              "</table>\n",
              "</div>"
            ],
            "text/plain": [
              "                    top genre\n",
              "dance pop                 114\n",
              "adult standards            93\n",
              "album rock                 77\n",
              "glam rock                  23\n",
              "brill building pop         20\n",
              "europop                    17\n",
              "undefined                  16\n",
              "boy band                   15\n",
              "dance rock                 15\n",
              "big room                   13"
            ]
          },
          "execution_count": 25,
          "metadata": {},
          "output_type": "execute_result"
        }
      ],
      "source": [
        "serie = df['top genre'].value_counts()\n",
        "pd.DataFrame(serie).head(10)"
      ]
    },
    {
      "cell_type": "markdown",
      "metadata": {
        "pycharm": {
          "name": "#%% md\n"
        },
        "id": "xsbCoAFa0Tup"
      },
      "source": [
        "## Mostrar la canción más popular y la que menos"
      ]
    },
    {
      "cell_type": "code",
      "execution_count": null,
      "metadata": {
        "pycharm": {
          "name": "#%%\n"
        },
        "id": "ok6ggVGC0Tup",
        "outputId": "cf013190-3593-4571-db25-e81fef69eb49"
      },
      "outputs": [
        {
          "data": {
            "text/html": [
              "<div>\n",
              "<style scoped>\n",
              "    .dataframe tbody tr th:only-of-type {\n",
              "        vertical-align: middle;\n",
              "    }\n",
              "\n",
              "    .dataframe tbody tr th {\n",
              "        vertical-align: top;\n",
              "    }\n",
              "\n",
              "    .dataframe thead th {\n",
              "        text-align: right;\n",
              "    }\n",
              "</style>\n",
              "<table border=\"1\" class=\"dataframe\">\n",
              "  <thead>\n",
              "    <tr style=\"text-align: right;\">\n",
              "      <th></th>\n",
              "      <th>Number</th>\n",
              "      <th>title</th>\n",
              "      <th>artist</th>\n",
              "      <th>top genre</th>\n",
              "      <th>year</th>\n",
              "      <th>bpm</th>\n",
              "      <th>nrgy</th>\n",
              "      <th>dnce</th>\n",
              "      <th>dB</th>\n",
              "      <th>live</th>\n",
              "      <th>val</th>\n",
              "      <th>dur</th>\n",
              "      <th>acous</th>\n",
              "      <th>spch</th>\n",
              "      <th>pop</th>\n",
              "    </tr>\n",
              "  </thead>\n",
              "  <tbody>\n",
              "    <tr>\n",
              "      <th>0</th>\n",
              "      <td>13</td>\n",
              "      <td>If I Give My Heart to You (with The Mellomen) ...</td>\n",
              "      <td>Doris Day</td>\n",
              "      <td>adult standards</td>\n",
              "      <td>1945</td>\n",
              "      <td>77</td>\n",
              "      <td>6.0</td>\n",
              "      <td>50</td>\n",
              "      <td>-16</td>\n",
              "      <td>10</td>\n",
              "      <td>33</td>\n",
              "      <td>169</td>\n",
              "      <td>97</td>\n",
              "      <td>5</td>\n",
              "      <td>52</td>\n",
              "    </tr>\n",
              "  </tbody>\n",
              "</table>\n",
              "</div>"
            ],
            "text/plain": [
              "   Number                                              title     artist  \\\n",
              "0      13  If I Give My Heart to You (with The Mellomen) ...  Doris Day   \n",
              "\n",
              "         top genre  year  bpm  nrgy  dnce  dB  live  val  dur  acous  spch  \\\n",
              "0  adult standards  1945   77   6.0    50 -16    10   33  169     97     5   \n",
              "\n",
              "   pop  \n",
              "0   52  "
            ]
          },
          "execution_count": 26,
          "metadata": {},
          "output_type": "execute_result"
        }
      ],
      "source": [
        "df.head(1)"
      ]
    },
    {
      "cell_type": "code",
      "execution_count": null,
      "metadata": {
        "pycharm": {
          "name": "#%%\n"
        },
        "id": "xR8k1To10Tup",
        "outputId": "a6b20351-7d31-4284-c5f7-cee447475c37"
      },
      "outputs": [
        {
          "data": {
            "text/plain": [
              "94"
            ]
          },
          "execution_count": 27,
          "metadata": {},
          "output_type": "execute_result"
        }
      ],
      "source": [
        "df['pop'].max()"
      ]
    },
    {
      "cell_type": "code",
      "execution_count": null,
      "metadata": {
        "pycharm": {
          "name": "#%%\n"
        },
        "id": "oFX62FmX0Tuq",
        "outputId": "ad9bbe5b-b8d0-441a-e5c7-426bbc3c5536"
      },
      "outputs": [
        {
          "name": "stdout",
          "output_type": "stream",
          "text": [
            "Índice de la canción màs popular 666\n"
          ]
        }
      ],
      "source": [
        "index = df['pop'].idxmax()\n",
        "print(\"Índice de la canción màs popular\", index)"
      ]
    },
    {
      "cell_type": "code",
      "execution_count": null,
      "metadata": {
        "pycharm": {
          "name": "#%%\n"
        },
        "id": "ga_uiZ7f0Tuq",
        "outputId": "fc916095-d97e-4503-c316-aec270e760c2"
      },
      "outputs": [
        {
          "data": {
            "text/html": [
              "<div>\n",
              "<style scoped>\n",
              "    .dataframe tbody tr th:only-of-type {\n",
              "        vertical-align: middle;\n",
              "    }\n",
              "\n",
              "    .dataframe tbody tr th {\n",
              "        vertical-align: top;\n",
              "    }\n",
              "\n",
              "    .dataframe thead th {\n",
              "        text-align: right;\n",
              "    }\n",
              "</style>\n",
              "<table border=\"1\" class=\"dataframe\">\n",
              "  <thead>\n",
              "    <tr style=\"text-align: right;\">\n",
              "      <th></th>\n",
              "      <th>666</th>\n",
              "    </tr>\n",
              "  </thead>\n",
              "  <tbody>\n",
              "    <tr>\n",
              "      <th>Number</th>\n",
              "      <td>1</td>\n",
              "    </tr>\n",
              "    <tr>\n",
              "      <th>title</th>\n",
              "      <td>bad guy</td>\n",
              "    </tr>\n",
              "    <tr>\n",
              "      <th>artist</th>\n",
              "      <td>Billie Eilish</td>\n",
              "    </tr>\n",
              "    <tr>\n",
              "      <th>top genre</th>\n",
              "      <td>electropop</td>\n",
              "    </tr>\n",
              "    <tr>\n",
              "      <th>year</th>\n",
              "      <td>2019</td>\n",
              "    </tr>\n",
              "    <tr>\n",
              "      <th>bpm</th>\n",
              "      <td>135</td>\n",
              "    </tr>\n",
              "    <tr>\n",
              "      <th>nrgy</th>\n",
              "      <td>43.0</td>\n",
              "    </tr>\n",
              "    <tr>\n",
              "      <th>dnce</th>\n",
              "      <td>70</td>\n",
              "    </tr>\n",
              "    <tr>\n",
              "      <th>dB</th>\n",
              "      <td>-11</td>\n",
              "    </tr>\n",
              "    <tr>\n",
              "      <th>live</th>\n",
              "      <td>10</td>\n",
              "    </tr>\n",
              "    <tr>\n",
              "      <th>val</th>\n",
              "      <td>56</td>\n",
              "    </tr>\n",
              "    <tr>\n",
              "      <th>dur</th>\n",
              "      <td>194</td>\n",
              "    </tr>\n",
              "    <tr>\n",
              "      <th>acous</th>\n",
              "      <td>33</td>\n",
              "    </tr>\n",
              "    <tr>\n",
              "      <th>spch</th>\n",
              "      <td>38</td>\n",
              "    </tr>\n",
              "    <tr>\n",
              "      <th>pop</th>\n",
              "      <td>94</td>\n",
              "    </tr>\n",
              "  </tbody>\n",
              "</table>\n",
              "</div>"
            ],
            "text/plain": [
              "                     666\n",
              "Number                 1\n",
              "title            bad guy\n",
              "artist     Billie Eilish\n",
              "top genre     electropop\n",
              "year                2019\n",
              "bpm                  135\n",
              "nrgy                43.0\n",
              "dnce                  70\n",
              "dB                   -11\n",
              "live                  10\n",
              "val                   56\n",
              "dur                  194\n",
              "acous                 33\n",
              "spch                  38\n",
              "pop                   94"
            ]
          },
          "execution_count": 29,
          "metadata": {},
          "output_type": "execute_result"
        }
      ],
      "source": [
        "serie = df.loc[index]\n",
        "pd.DataFrame(serie)"
      ]
    },
    {
      "cell_type": "code",
      "execution_count": null,
      "metadata": {
        "pycharm": {
          "name": "#%%\n"
        },
        "id": "cpOSjAuw0Tur",
        "outputId": "342ea8f5-5965-424e-afeb-d70b4ae8ff30"
      },
      "outputs": [
        {
          "data": {
            "text/html": [
              "<div>\n",
              "<style scoped>\n",
              "    .dataframe tbody tr th:only-of-type {\n",
              "        vertical-align: middle;\n",
              "    }\n",
              "\n",
              "    .dataframe tbody tr th {\n",
              "        vertical-align: top;\n",
              "    }\n",
              "\n",
              "    .dataframe thead th {\n",
              "        text-align: right;\n",
              "    }\n",
              "</style>\n",
              "<table border=\"1\" class=\"dataframe\">\n",
              "  <thead>\n",
              "    <tr style=\"text-align: right;\">\n",
              "      <th></th>\n",
              "      <th>2</th>\n",
              "    </tr>\n",
              "  </thead>\n",
              "  <tbody>\n",
              "    <tr>\n",
              "      <th>Number</th>\n",
              "      <td>73</td>\n",
              "    </tr>\n",
              "    <tr>\n",
              "      <th>title</th>\n",
              "      <td>Held for Questioning</td>\n",
              "    </tr>\n",
              "    <tr>\n",
              "      <th>artist</th>\n",
              "      <td>Rusty Draper</td>\n",
              "    </tr>\n",
              "    <tr>\n",
              "      <th>top genre</th>\n",
              "      <td>deep adult standards</td>\n",
              "    </tr>\n",
              "    <tr>\n",
              "      <th>year</th>\n",
              "      <td>1953</td>\n",
              "    </tr>\n",
              "    <tr>\n",
              "      <th>bpm</th>\n",
              "      <td>109</td>\n",
              "    </tr>\n",
              "    <tr>\n",
              "      <th>nrgy</th>\n",
              "      <td>65.0</td>\n",
              "    </tr>\n",
              "    <tr>\n",
              "      <th>dnce</th>\n",
              "      <td>70</td>\n",
              "    </tr>\n",
              "    <tr>\n",
              "      <th>dB</th>\n",
              "      <td>-2</td>\n",
              "    </tr>\n",
              "    <tr>\n",
              "      <th>live</th>\n",
              "      <td>14</td>\n",
              "    </tr>\n",
              "    <tr>\n",
              "      <th>val</th>\n",
              "      <td>85</td>\n",
              "    </tr>\n",
              "    <tr>\n",
              "      <th>dur</th>\n",
              "      <td>146</td>\n",
              "    </tr>\n",
              "    <tr>\n",
              "      <th>acous</th>\n",
              "      <td>79</td>\n",
              "    </tr>\n",
              "    <tr>\n",
              "      <th>spch</th>\n",
              "      <td>3</td>\n",
              "    </tr>\n",
              "    <tr>\n",
              "      <th>pop</th>\n",
              "      <td>26</td>\n",
              "    </tr>\n",
              "  </tbody>\n",
              "</table>\n",
              "</div>"
            ],
            "text/plain": [
              "                              2\n",
              "Number                       73\n",
              "title      Held for Questioning\n",
              "artist             Rusty Draper\n",
              "top genre  deep adult standards\n",
              "year                       1953\n",
              "bpm                         109\n",
              "nrgy                       65.0\n",
              "dnce                         70\n",
              "dB                           -2\n",
              "live                         14\n",
              "val                          85\n",
              "dur                         146\n",
              "acous                        79\n",
              "spch                          3\n",
              "pop                          26"
            ]
          },
          "execution_count": 30,
          "metadata": {},
          "output_type": "execute_result"
        }
      ],
      "source": [
        "pd.DataFrame(df.loc[df['pop'].idxmin()])"
      ]
    },
    {
      "cell_type": "markdown",
      "metadata": {
        "pycharm": {
          "name": "#%% md\n"
        },
        "id": "nl5nZBBa0Tur"
      },
      "source": [
        "## Obtener la canción más popular por año"
      ]
    },
    {
      "cell_type": "code",
      "execution_count": null,
      "metadata": {
        "pycharm": {
          "name": "#%%\n"
        },
        "id": "Q51Bdmpq0Tur",
        "outputId": "027e9c18-889e-471f-c415-29103074ade1"
      },
      "outputs": [
        {
          "data": {
            "text/html": [
              "<div>\n",
              "<style scoped>\n",
              "    .dataframe tbody tr th:only-of-type {\n",
              "        vertical-align: middle;\n",
              "    }\n",
              "\n",
              "    .dataframe tbody tr th {\n",
              "        vertical-align: top;\n",
              "    }\n",
              "\n",
              "    .dataframe thead th {\n",
              "        text-align: right;\n",
              "    }\n",
              "</style>\n",
              "<table border=\"1\" class=\"dataframe\">\n",
              "  <thead>\n",
              "    <tr style=\"text-align: right;\">\n",
              "      <th></th>\n",
              "      <th>Number</th>\n",
              "      <th>title</th>\n",
              "      <th>artist</th>\n",
              "      <th>top genre</th>\n",
              "      <th>year</th>\n",
              "      <th>bpm</th>\n",
              "      <th>nrgy</th>\n",
              "      <th>dnce</th>\n",
              "      <th>dB</th>\n",
              "      <th>live</th>\n",
              "      <th>val</th>\n",
              "      <th>dur</th>\n",
              "      <th>acous</th>\n",
              "      <th>spch</th>\n",
              "      <th>pop</th>\n",
              "    </tr>\n",
              "  </thead>\n",
              "  <tbody>\n",
              "    <tr>\n",
              "      <th>0</th>\n",
              "      <td>13</td>\n",
              "      <td>If I Give My Heart to You (with The Mellomen) ...</td>\n",
              "      <td>Doris Day</td>\n",
              "      <td>adult standards</td>\n",
              "      <td>1945</td>\n",
              "      <td>77</td>\n",
              "      <td>6.0</td>\n",
              "      <td>50</td>\n",
              "      <td>-16</td>\n",
              "      <td>10</td>\n",
              "      <td>33</td>\n",
              "      <td>169</td>\n",
              "      <td>97</td>\n",
              "      <td>5</td>\n",
              "      <td>52</td>\n",
              "    </tr>\n",
              "  </tbody>\n",
              "</table>\n",
              "</div>"
            ],
            "text/plain": [
              "   Number                                              title     artist  \\\n",
              "0      13  If I Give My Heart to You (with The Mellomen) ...  Doris Day   \n",
              "\n",
              "         top genre  year  bpm  nrgy  dnce  dB  live  val  dur  acous  spch  \\\n",
              "0  adult standards  1945   77   6.0    50 -16    10   33  169     97     5   \n",
              "\n",
              "   pop  \n",
              "0   52  "
            ]
          },
          "execution_count": 31,
          "metadata": {},
          "output_type": "execute_result"
        }
      ],
      "source": [
        "df.head(1)"
      ]
    },
    {
      "cell_type": "code",
      "execution_count": null,
      "metadata": {
        "pycharm": {
          "name": "#%%\n"
        },
        "id": "zTHYnLbA0Tu9",
        "outputId": "6bf3de06-93c8-4f3d-af40-a5e129dca7db"
      },
      "outputs": [
        {
          "data": {
            "text/html": [
              "<div>\n",
              "<style scoped>\n",
              "    .dataframe tbody tr th:only-of-type {\n",
              "        vertical-align: middle;\n",
              "    }\n",
              "\n",
              "    .dataframe tbody tr th {\n",
              "        vertical-align: top;\n",
              "    }\n",
              "\n",
              "    .dataframe thead th {\n",
              "        text-align: right;\n",
              "    }\n",
              "</style>\n",
              "<table border=\"1\" class=\"dataframe\">\n",
              "  <thead>\n",
              "    <tr style=\"text-align: right;\">\n",
              "      <th></th>\n",
              "      <th>Number</th>\n",
              "      <th>title</th>\n",
              "      <th>artist</th>\n",
              "      <th>top genre</th>\n",
              "      <th>year</th>\n",
              "      <th>bpm</th>\n",
              "      <th>nrgy</th>\n",
              "      <th>dnce</th>\n",
              "      <th>dB</th>\n",
              "      <th>live</th>\n",
              "      <th>val</th>\n",
              "      <th>dur</th>\n",
              "      <th>acous</th>\n",
              "      <th>spch</th>\n",
              "      <th>pop</th>\n",
              "    </tr>\n",
              "  </thead>\n",
              "  <tbody>\n",
              "    <tr>\n",
              "      <th>0</th>\n",
              "      <td>13</td>\n",
              "      <td>If I Give My Heart to You (with The Mellomen) ...</td>\n",
              "      <td>Doris Day</td>\n",
              "      <td>adult standards</td>\n",
              "      <td>1945</td>\n",
              "      <td>77</td>\n",
              "      <td>6.00000</td>\n",
              "      <td>50</td>\n",
              "      <td>-16</td>\n",
              "      <td>10</td>\n",
              "      <td>33</td>\n",
              "      <td>169</td>\n",
              "      <td>97</td>\n",
              "      <td>5</td>\n",
              "      <td>52</td>\n",
              "    </tr>\n",
              "    <tr>\n",
              "      <th>1</th>\n",
              "      <td>2</td>\n",
              "      <td>Whatever Will Be Will Be (Que Sera Sera) (with...</td>\n",
              "      <td>Doris Day</td>\n",
              "      <td>adult standards</td>\n",
              "      <td>1948</td>\n",
              "      <td>177</td>\n",
              "      <td>34.00000</td>\n",
              "      <td>42</td>\n",
              "      <td>-11</td>\n",
              "      <td>72</td>\n",
              "      <td>78</td>\n",
              "      <td>123</td>\n",
              "      <td>86</td>\n",
              "      <td>4</td>\n",
              "      <td>62</td>\n",
              "    </tr>\n",
              "    <tr>\n",
              "      <th>2</th>\n",
              "      <td>73</td>\n",
              "      <td>Held for Questioning</td>\n",
              "      <td>Rusty Draper</td>\n",
              "      <td>deep adult standards</td>\n",
              "      <td>1953</td>\n",
              "      <td>109</td>\n",
              "      <td>65.00000</td>\n",
              "      <td>70</td>\n",
              "      <td>-2</td>\n",
              "      <td>14</td>\n",
              "      <td>85</td>\n",
              "      <td>146</td>\n",
              "      <td>79</td>\n",
              "      <td>3</td>\n",
              "      <td>26</td>\n",
              "    </tr>\n",
              "    <tr>\n",
              "      <th>3</th>\n",
              "      <td>25</td>\n",
              "      <td>Only Because</td>\n",
              "      <td>The Platters</td>\n",
              "      <td>adult standards</td>\n",
              "      <td>1957</td>\n",
              "      <td>73</td>\n",
              "      <td>61.52187</td>\n",
              "      <td>55</td>\n",
              "      <td>-10</td>\n",
              "      <td>9</td>\n",
              "      <td>47</td>\n",
              "      <td>174</td>\n",
              "      <td>85</td>\n",
              "      <td>3</td>\n",
              "      <td>44</td>\n",
              "    </tr>\n",
              "    <tr>\n",
              "      <th>5</th>\n",
              "      <td>22</td>\n",
              "      <td>Chicago - Remastered</td>\n",
              "      <td>Frank Sinatra</td>\n",
              "      <td>adult standards</td>\n",
              "      <td>1958</td>\n",
              "      <td>148</td>\n",
              "      <td>46.00000</td>\n",
              "      <td>51</td>\n",
              "      <td>-10</td>\n",
              "      <td>40</td>\n",
              "      <td>79</td>\n",
              "      <td>134</td>\n",
              "      <td>61</td>\n",
              "      <td>7</td>\n",
              "      <td>47</td>\n",
              "    </tr>\n",
              "    <tr>\n",
              "      <th>...</th>\n",
              "      <td>...</td>\n",
              "      <td>...</td>\n",
              "      <td>...</td>\n",
              "      <td>...</td>\n",
              "      <td>...</td>\n",
              "      <td>...</td>\n",
              "      <td>...</td>\n",
              "      <td>...</td>\n",
              "      <td>...</td>\n",
              "      <td>...</td>\n",
              "      <td>...</td>\n",
              "      <td>...</td>\n",
              "      <td>...</td>\n",
              "      <td>...</td>\n",
              "      <td>...</td>\n",
              "    </tr>\n",
              "    <tr>\n",
              "      <th>560</th>\n",
              "      <td>18</td>\n",
              "      <td>The Hills</td>\n",
              "      <td>The Weeknd</td>\n",
              "      <td>canadian contemporary r&amp;b</td>\n",
              "      <td>2015</td>\n",
              "      <td>113</td>\n",
              "      <td>56.00000</td>\n",
              "      <td>58</td>\n",
              "      <td>-7</td>\n",
              "      <td>14</td>\n",
              "      <td>14</td>\n",
              "      <td>242</td>\n",
              "      <td>7</td>\n",
              "      <td>5</td>\n",
              "      <td>83</td>\n",
              "    </tr>\n",
              "    <tr>\n",
              "      <th>590</th>\n",
              "      <td>11</td>\n",
              "      <td>I Fall Apart</td>\n",
              "      <td>Post Malone</td>\n",
              "      <td>dfw rap</td>\n",
              "      <td>2016</td>\n",
              "      <td>144</td>\n",
              "      <td>54.00000</td>\n",
              "      <td>56</td>\n",
              "      <td>-5</td>\n",
              "      <td>20</td>\n",
              "      <td>29</td>\n",
              "      <td>223</td>\n",
              "      <td>7</td>\n",
              "      <td>4</td>\n",
              "      <td>84</td>\n",
              "    </tr>\n",
              "    <tr>\n",
              "      <th>594</th>\n",
              "      <td>10</td>\n",
              "      <td>Thunder</td>\n",
              "      <td>Imagine Dragons</td>\n",
              "      <td>modern rock</td>\n",
              "      <td>2017</td>\n",
              "      <td>168</td>\n",
              "      <td>82.00000</td>\n",
              "      <td>61</td>\n",
              "      <td>-5</td>\n",
              "      <td>15</td>\n",
              "      <td>29</td>\n",
              "      <td>187</td>\n",
              "      <td>1</td>\n",
              "      <td>4</td>\n",
              "      <td>85</td>\n",
              "    </tr>\n",
              "    <tr>\n",
              "      <th>637</th>\n",
              "      <td>5</td>\n",
              "      <td>rockstar (feat. 21 Savage)</td>\n",
              "      <td>Post Malone</td>\n",
              "      <td>dfw rap</td>\n",
              "      <td>2018</td>\n",
              "      <td>160</td>\n",
              "      <td>52.00000</td>\n",
              "      <td>59</td>\n",
              "      <td>-6</td>\n",
              "      <td>13</td>\n",
              "      <td>13</td>\n",
              "      <td>218</td>\n",
              "      <td>12</td>\n",
              "      <td>7</td>\n",
              "      <td>88</td>\n",
              "    </tr>\n",
              "    <tr>\n",
              "      <th>666</th>\n",
              "      <td>1</td>\n",
              "      <td>bad guy</td>\n",
              "      <td>Billie Eilish</td>\n",
              "      <td>electropop</td>\n",
              "      <td>2019</td>\n",
              "      <td>135</td>\n",
              "      <td>43.00000</td>\n",
              "      <td>70</td>\n",
              "      <td>-11</td>\n",
              "      <td>10</td>\n",
              "      <td>56</td>\n",
              "      <td>194</td>\n",
              "      <td>33</td>\n",
              "      <td>38</td>\n",
              "      <td>94</td>\n",
              "    </tr>\n",
              "  </tbody>\n",
              "</table>\n",
              "<p>66 rows × 15 columns</p>\n",
              "</div>"
            ],
            "text/plain": [
              "     Number                                              title  \\\n",
              "0        13  If I Give My Heart to You (with The Mellomen) ...   \n",
              "1         2  Whatever Will Be Will Be (Que Sera Sera) (with...   \n",
              "2        73                               Held for Questioning   \n",
              "3        25                                       Only Because   \n",
              "5        22                               Chicago - Remastered   \n",
              "..      ...                                                ...   \n",
              "560      18                                          The Hills   \n",
              "590      11                                       I Fall Apart   \n",
              "594      10                                            Thunder   \n",
              "637       5                         rockstar (feat. 21 Savage)   \n",
              "666       1                                            bad guy   \n",
              "\n",
              "              artist                  top genre  year  bpm      nrgy  dnce  \\\n",
              "0          Doris Day            adult standards  1945   77   6.00000    50   \n",
              "1          Doris Day            adult standards  1948  177  34.00000    42   \n",
              "2       Rusty Draper       deep adult standards  1953  109  65.00000    70   \n",
              "3       The Platters            adult standards  1957   73  61.52187    55   \n",
              "5      Frank Sinatra            adult standards  1958  148  46.00000    51   \n",
              "..               ...                        ...   ...  ...       ...   ...   \n",
              "560       The Weeknd  canadian contemporary r&b  2015  113  56.00000    58   \n",
              "590      Post Malone                    dfw rap  2016  144  54.00000    56   \n",
              "594  Imagine Dragons                modern rock  2017  168  82.00000    61   \n",
              "637      Post Malone                    dfw rap  2018  160  52.00000    59   \n",
              "666    Billie Eilish                 electropop  2019  135  43.00000    70   \n",
              "\n",
              "     dB  live  val  dur  acous  spch  pop  \n",
              "0   -16    10   33  169     97     5   52  \n",
              "1   -11    72   78  123     86     4   62  \n",
              "2    -2    14   85  146     79     3   26  \n",
              "3   -10     9   47  174     85     3   44  \n",
              "5   -10    40   79  134     61     7   47  \n",
              "..   ..   ...  ...  ...    ...   ...  ...  \n",
              "560  -7    14   14  242      7     5   83  \n",
              "590  -5    20   29  223      7     4   84  \n",
              "594  -5    15   29  187      1     4   85  \n",
              "637  -6    13   13  218     12     7   88  \n",
              "666 -11    10   56  194     33    38   94  \n",
              "\n",
              "[66 rows x 15 columns]"
            ]
          },
          "execution_count": 32,
          "metadata": {},
          "output_type": "execute_result"
        }
      ],
      "source": [
        "index = df.groupby('year')['pop'].idxmax()\n",
        "df.loc[index]"
      ]
    },
    {
      "cell_type": "markdown",
      "metadata": {
        "pycharm": {
          "name": "#%% md\n"
        },
        "id": "x_3fDEbt0Tu-"
      },
      "source": [
        "## Obtener la canción más popular por década"
      ]
    },
    {
      "cell_type": "code",
      "execution_count": null,
      "metadata": {
        "pycharm": {
          "name": "#%%\n"
        },
        "id": "cxmhMjaZ0Tu-",
        "outputId": "5bd5fe64-4c2a-4a16-afb0-7c4e77ad5ee5"
      },
      "outputs": [
        {
          "data": {
            "text/plain": [
              "0      194.5\n",
              "1      194.8\n",
              "2      195.3\n",
              "3      195.7\n",
              "4      195.8\n",
              "       ...  \n",
              "662    201.9\n",
              "663    201.9\n",
              "664    201.9\n",
              "665    201.9\n",
              "666    201.9\n",
              "Name: year, Length: 667, dtype: float64"
            ]
          },
          "execution_count": 33,
          "metadata": {},
          "output_type": "execute_result"
        }
      ],
      "source": [
        "df['year'] / 10"
      ]
    },
    {
      "cell_type": "code",
      "execution_count": null,
      "metadata": {
        "pycharm": {
          "name": "#%%\n"
        },
        "id": "96pZ7Dcw0Tu-",
        "outputId": "bb20d818-c589-423a-d554-640b9e09ff6b"
      },
      "outputs": [
        {
          "data": {
            "text/plain": [
              "0      194\n",
              "1      194\n",
              "2      195\n",
              "3      195\n",
              "4      195\n",
              "      ... \n",
              "662    201\n",
              "663    201\n",
              "664    201\n",
              "665    201\n",
              "666    201\n",
              "Name: year, Length: 667, dtype: int64"
            ]
          },
          "execution_count": 34,
          "metadata": {},
          "output_type": "execute_result"
        }
      ],
      "source": [
        "df['year'] // 10"
      ]
    },
    {
      "cell_type": "code",
      "execution_count": null,
      "metadata": {
        "pycharm": {
          "name": "#%%\n"
        },
        "id": "-lDz3qxE0Tu_",
        "outputId": "6442feed-02b9-40ee-e92f-8e0213a40ceb"
      },
      "outputs": [
        {
          "data": {
            "text/plain": [
              "0      1940\n",
              "1      1940\n",
              "2      1950\n",
              "3      1950\n",
              "4      1950\n",
              "       ... \n",
              "662    2010\n",
              "663    2010\n",
              "664    2010\n",
              "665    2010\n",
              "666    2010\n",
              "Name: year, Length: 667, dtype: int64"
            ]
          },
          "execution_count": 35,
          "metadata": {},
          "output_type": "execute_result"
        }
      ],
      "source": [
        "(df['year'] // 10) * 10"
      ]
    },
    {
      "cell_type": "code",
      "execution_count": null,
      "metadata": {
        "pycharm": {
          "name": "#%%\n"
        },
        "id": "YOYuqtXh0TvA",
        "outputId": "4329c35d-1f87-4da5-c815-280b26d90405"
      },
      "outputs": [
        {
          "data": {
            "text/html": [
              "<div>\n",
              "<style scoped>\n",
              "    .dataframe tbody tr th:only-of-type {\n",
              "        vertical-align: middle;\n",
              "    }\n",
              "\n",
              "    .dataframe tbody tr th {\n",
              "        vertical-align: top;\n",
              "    }\n",
              "\n",
              "    .dataframe thead th {\n",
              "        text-align: right;\n",
              "    }\n",
              "</style>\n",
              "<table border=\"1\" class=\"dataframe\">\n",
              "  <thead>\n",
              "    <tr style=\"text-align: right;\">\n",
              "      <th></th>\n",
              "      <th>Number</th>\n",
              "      <th>title</th>\n",
              "      <th>artist</th>\n",
              "      <th>top genre</th>\n",
              "      <th>year</th>\n",
              "      <th>bpm</th>\n",
              "      <th>nrgy</th>\n",
              "      <th>dnce</th>\n",
              "      <th>dB</th>\n",
              "      <th>live</th>\n",
              "      <th>val</th>\n",
              "      <th>dur</th>\n",
              "      <th>acous</th>\n",
              "      <th>spch</th>\n",
              "      <th>pop</th>\n",
              "      <th>decade</th>\n",
              "    </tr>\n",
              "  </thead>\n",
              "  <tbody>\n",
              "    <tr>\n",
              "      <th>0</th>\n",
              "      <td>13</td>\n",
              "      <td>If I Give My Heart to You (with The Mellomen) ...</td>\n",
              "      <td>Doris Day</td>\n",
              "      <td>adult standards</td>\n",
              "      <td>1945</td>\n",
              "      <td>77</td>\n",
              "      <td>6.00000</td>\n",
              "      <td>50</td>\n",
              "      <td>-16</td>\n",
              "      <td>10</td>\n",
              "      <td>33</td>\n",
              "      <td>169</td>\n",
              "      <td>97</td>\n",
              "      <td>5</td>\n",
              "      <td>52</td>\n",
              "      <td>1940</td>\n",
              "    </tr>\n",
              "    <tr>\n",
              "      <th>1</th>\n",
              "      <td>2</td>\n",
              "      <td>Whatever Will Be Will Be (Que Sera Sera) (with...</td>\n",
              "      <td>Doris Day</td>\n",
              "      <td>adult standards</td>\n",
              "      <td>1948</td>\n",
              "      <td>177</td>\n",
              "      <td>34.00000</td>\n",
              "      <td>42</td>\n",
              "      <td>-11</td>\n",
              "      <td>72</td>\n",
              "      <td>78</td>\n",
              "      <td>123</td>\n",
              "      <td>86</td>\n",
              "      <td>4</td>\n",
              "      <td>62</td>\n",
              "      <td>1940</td>\n",
              "    </tr>\n",
              "    <tr>\n",
              "      <th>2</th>\n",
              "      <td>73</td>\n",
              "      <td>Held for Questioning</td>\n",
              "      <td>Rusty Draper</td>\n",
              "      <td>deep adult standards</td>\n",
              "      <td>1953</td>\n",
              "      <td>109</td>\n",
              "      <td>65.00000</td>\n",
              "      <td>70</td>\n",
              "      <td>-2</td>\n",
              "      <td>14</td>\n",
              "      <td>85</td>\n",
              "      <td>146</td>\n",
              "      <td>79</td>\n",
              "      <td>3</td>\n",
              "      <td>26</td>\n",
              "      <td>1950</td>\n",
              "    </tr>\n",
              "    <tr>\n",
              "      <th>3</th>\n",
              "      <td>25</td>\n",
              "      <td>Only Because</td>\n",
              "      <td>The Platters</td>\n",
              "      <td>adult standards</td>\n",
              "      <td>1957</td>\n",
              "      <td>73</td>\n",
              "      <td>61.52187</td>\n",
              "      <td>55</td>\n",
              "      <td>-10</td>\n",
              "      <td>9</td>\n",
              "      <td>47</td>\n",
              "      <td>174</td>\n",
              "      <td>85</td>\n",
              "      <td>3</td>\n",
              "      <td>44</td>\n",
              "      <td>1950</td>\n",
              "    </tr>\n",
              "    <tr>\n",
              "      <th>4</th>\n",
              "      <td>48</td>\n",
              "      <td>Gigi</td>\n",
              "      <td>Billy Eckstine</td>\n",
              "      <td>adult standards</td>\n",
              "      <td>1958</td>\n",
              "      <td>81</td>\n",
              "      <td>12.00000</td>\n",
              "      <td>21</td>\n",
              "      <td>-17</td>\n",
              "      <td>12</td>\n",
              "      <td>19</td>\n",
              "      <td>155</td>\n",
              "      <td>93</td>\n",
              "      <td>3</td>\n",
              "      <td>35</td>\n",
              "      <td>1950</td>\n",
              "    </tr>\n",
              "  </tbody>\n",
              "</table>\n",
              "</div>"
            ],
            "text/plain": [
              "   Number                                              title          artist  \\\n",
              "0      13  If I Give My Heart to You (with The Mellomen) ...       Doris Day   \n",
              "1       2  Whatever Will Be Will Be (Que Sera Sera) (with...       Doris Day   \n",
              "2      73                               Held for Questioning    Rusty Draper   \n",
              "3      25                                       Only Because    The Platters   \n",
              "4      48                                               Gigi  Billy Eckstine   \n",
              "\n",
              "              top genre  year  bpm      nrgy  dnce  dB  live  val  dur  acous  \\\n",
              "0       adult standards  1945   77   6.00000    50 -16    10   33  169     97   \n",
              "1       adult standards  1948  177  34.00000    42 -11    72   78  123     86   \n",
              "2  deep adult standards  1953  109  65.00000    70  -2    14   85  146     79   \n",
              "3       adult standards  1957   73  61.52187    55 -10     9   47  174     85   \n",
              "4       adult standards  1958   81  12.00000    21 -17    12   19  155     93   \n",
              "\n",
              "   spch  pop  decade  \n",
              "0     5   52    1940  \n",
              "1     4   62    1940  \n",
              "2     3   26    1950  \n",
              "3     3   44    1950  \n",
              "4     3   35    1950  "
            ]
          },
          "execution_count": 36,
          "metadata": {},
          "output_type": "execute_result"
        }
      ],
      "source": [
        "df['decade'] = (df['year'] // 10) * 10\n",
        "df.head()"
      ]
    },
    {
      "cell_type": "code",
      "execution_count": null,
      "metadata": {
        "pycharm": {
          "name": "#%%\n"
        },
        "id": "sW5rxZb_0TvA"
      },
      "outputs": [],
      "source": [
        "decade = df.pop(\"decade\")"
      ]
    },
    {
      "cell_type": "code",
      "execution_count": null,
      "metadata": {
        "pycharm": {
          "name": "#%%\n"
        },
        "id": "FMcFUWmc0TvB",
        "outputId": "81976779-0e8c-40aa-e54c-8572045b7d2c"
      },
      "outputs": [
        {
          "data": {
            "text/plain": [
              "5"
            ]
          },
          "execution_count": 38,
          "metadata": {},
          "output_type": "execute_result"
        }
      ],
      "source": [
        "position = df.columns.get_loc('year') + 1\n",
        "position"
      ]
    },
    {
      "cell_type": "code",
      "execution_count": null,
      "metadata": {
        "pycharm": {
          "name": "#%%\n"
        },
        "id": "JtQjugqN0TvB",
        "outputId": "fa418736-12ad-44f7-a115-3a91620fa54b"
      },
      "outputs": [
        {
          "data": {
            "text/html": [
              "<div>\n",
              "<style scoped>\n",
              "    .dataframe tbody tr th:only-of-type {\n",
              "        vertical-align: middle;\n",
              "    }\n",
              "\n",
              "    .dataframe tbody tr th {\n",
              "        vertical-align: top;\n",
              "    }\n",
              "\n",
              "    .dataframe thead th {\n",
              "        text-align: right;\n",
              "    }\n",
              "</style>\n",
              "<table border=\"1\" class=\"dataframe\">\n",
              "  <thead>\n",
              "    <tr style=\"text-align: right;\">\n",
              "      <th></th>\n",
              "      <th>Number</th>\n",
              "      <th>title</th>\n",
              "      <th>artist</th>\n",
              "      <th>top genre</th>\n",
              "      <th>year</th>\n",
              "      <th>decade</th>\n",
              "      <th>bpm</th>\n",
              "      <th>nrgy</th>\n",
              "      <th>dnce</th>\n",
              "      <th>dB</th>\n",
              "      <th>live</th>\n",
              "      <th>val</th>\n",
              "      <th>dur</th>\n",
              "      <th>acous</th>\n",
              "      <th>spch</th>\n",
              "      <th>pop</th>\n",
              "    </tr>\n",
              "  </thead>\n",
              "  <tbody>\n",
              "    <tr>\n",
              "      <th>0</th>\n",
              "      <td>13</td>\n",
              "      <td>If I Give My Heart to You (with The Mellomen) ...</td>\n",
              "      <td>Doris Day</td>\n",
              "      <td>adult standards</td>\n",
              "      <td>1945</td>\n",
              "      <td>1940</td>\n",
              "      <td>77</td>\n",
              "      <td>6.00000</td>\n",
              "      <td>50</td>\n",
              "      <td>-16</td>\n",
              "      <td>10</td>\n",
              "      <td>33</td>\n",
              "      <td>169</td>\n",
              "      <td>97</td>\n",
              "      <td>5</td>\n",
              "      <td>52</td>\n",
              "    </tr>\n",
              "    <tr>\n",
              "      <th>1</th>\n",
              "      <td>2</td>\n",
              "      <td>Whatever Will Be Will Be (Que Sera Sera) (with...</td>\n",
              "      <td>Doris Day</td>\n",
              "      <td>adult standards</td>\n",
              "      <td>1948</td>\n",
              "      <td>1940</td>\n",
              "      <td>177</td>\n",
              "      <td>34.00000</td>\n",
              "      <td>42</td>\n",
              "      <td>-11</td>\n",
              "      <td>72</td>\n",
              "      <td>78</td>\n",
              "      <td>123</td>\n",
              "      <td>86</td>\n",
              "      <td>4</td>\n",
              "      <td>62</td>\n",
              "    </tr>\n",
              "    <tr>\n",
              "      <th>2</th>\n",
              "      <td>73</td>\n",
              "      <td>Held for Questioning</td>\n",
              "      <td>Rusty Draper</td>\n",
              "      <td>deep adult standards</td>\n",
              "      <td>1953</td>\n",
              "      <td>1950</td>\n",
              "      <td>109</td>\n",
              "      <td>65.00000</td>\n",
              "      <td>70</td>\n",
              "      <td>-2</td>\n",
              "      <td>14</td>\n",
              "      <td>85</td>\n",
              "      <td>146</td>\n",
              "      <td>79</td>\n",
              "      <td>3</td>\n",
              "      <td>26</td>\n",
              "    </tr>\n",
              "    <tr>\n",
              "      <th>3</th>\n",
              "      <td>25</td>\n",
              "      <td>Only Because</td>\n",
              "      <td>The Platters</td>\n",
              "      <td>adult standards</td>\n",
              "      <td>1957</td>\n",
              "      <td>1950</td>\n",
              "      <td>73</td>\n",
              "      <td>61.52187</td>\n",
              "      <td>55</td>\n",
              "      <td>-10</td>\n",
              "      <td>9</td>\n",
              "      <td>47</td>\n",
              "      <td>174</td>\n",
              "      <td>85</td>\n",
              "      <td>3</td>\n",
              "      <td>44</td>\n",
              "    </tr>\n",
              "    <tr>\n",
              "      <th>4</th>\n",
              "      <td>48</td>\n",
              "      <td>Gigi</td>\n",
              "      <td>Billy Eckstine</td>\n",
              "      <td>adult standards</td>\n",
              "      <td>1958</td>\n",
              "      <td>1950</td>\n",
              "      <td>81</td>\n",
              "      <td>12.00000</td>\n",
              "      <td>21</td>\n",
              "      <td>-17</td>\n",
              "      <td>12</td>\n",
              "      <td>19</td>\n",
              "      <td>155</td>\n",
              "      <td>93</td>\n",
              "      <td>3</td>\n",
              "      <td>35</td>\n",
              "    </tr>\n",
              "  </tbody>\n",
              "</table>\n",
              "</div>"
            ],
            "text/plain": [
              "   Number                                              title          artist  \\\n",
              "0      13  If I Give My Heart to You (with The Mellomen) ...       Doris Day   \n",
              "1       2  Whatever Will Be Will Be (Que Sera Sera) (with...       Doris Day   \n",
              "2      73                               Held for Questioning    Rusty Draper   \n",
              "3      25                                       Only Because    The Platters   \n",
              "4      48                                               Gigi  Billy Eckstine   \n",
              "\n",
              "              top genre  year  decade  bpm      nrgy  dnce  dB  live  val  \\\n",
              "0       adult standards  1945    1940   77   6.00000    50 -16    10   33   \n",
              "1       adult standards  1948    1940  177  34.00000    42 -11    72   78   \n",
              "2  deep adult standards  1953    1950  109  65.00000    70  -2    14   85   \n",
              "3       adult standards  1957    1950   73  61.52187    55 -10     9   47   \n",
              "4       adult standards  1958    1950   81  12.00000    21 -17    12   19   \n",
              "\n",
              "   dur  acous  spch  pop  \n",
              "0  169     97     5   52  \n",
              "1  123     86     4   62  \n",
              "2  146     79     3   26  \n",
              "3  174     85     3   44  \n",
              "4  155     93     3   35  "
            ]
          },
          "execution_count": 39,
          "metadata": {},
          "output_type": "execute_result"
        }
      ],
      "source": [
        "df.insert(position, 'decade', decade)\n",
        "df.head()"
      ]
    },
    {
      "cell_type": "code",
      "execution_count": null,
      "metadata": {
        "pycharm": {
          "name": "#%%\n"
        },
        "id": "mIfWJenZ0TvC",
        "outputId": "458f4af9-0577-4971-e5e4-62540b94e7e6"
      },
      "outputs": [
        {
          "data": {
            "text/html": [
              "<div>\n",
              "<style scoped>\n",
              "    .dataframe tbody tr th:only-of-type {\n",
              "        vertical-align: middle;\n",
              "    }\n",
              "\n",
              "    .dataframe tbody tr th {\n",
              "        vertical-align: top;\n",
              "    }\n",
              "\n",
              "    .dataframe thead th {\n",
              "        text-align: right;\n",
              "    }\n",
              "</style>\n",
              "<table border=\"1\" class=\"dataframe\">\n",
              "  <thead>\n",
              "    <tr style=\"text-align: right;\">\n",
              "      <th></th>\n",
              "      <th>Number</th>\n",
              "      <th>title</th>\n",
              "      <th>artist</th>\n",
              "      <th>top genre</th>\n",
              "      <th>year</th>\n",
              "      <th>decade</th>\n",
              "      <th>bpm</th>\n",
              "      <th>nrgy</th>\n",
              "      <th>dnce</th>\n",
              "      <th>dB</th>\n",
              "      <th>live</th>\n",
              "      <th>val</th>\n",
              "      <th>dur</th>\n",
              "      <th>acous</th>\n",
              "      <th>spch</th>\n",
              "      <th>pop</th>\n",
              "    </tr>\n",
              "  </thead>\n",
              "  <tbody>\n",
              "    <tr>\n",
              "      <th>1</th>\n",
              "      <td>2</td>\n",
              "      <td>Whatever Will Be Will Be (Que Sera Sera) (with...</td>\n",
              "      <td>Doris Day</td>\n",
              "      <td>adult standards</td>\n",
              "      <td>1948</td>\n",
              "      <td>1940</td>\n",
              "      <td>177</td>\n",
              "      <td>34.0</td>\n",
              "      <td>42</td>\n",
              "      <td>-11</td>\n",
              "      <td>72</td>\n",
              "      <td>78</td>\n",
              "      <td>123</td>\n",
              "      <td>86</td>\n",
              "      <td>4</td>\n",
              "      <td>62</td>\n",
              "    </tr>\n",
              "    <tr>\n",
              "      <th>6</th>\n",
              "      <td>5</td>\n",
              "      <td>A Teenager In Love</td>\n",
              "      <td>Dion &amp; The Belmonts</td>\n",
              "      <td>adult standards</td>\n",
              "      <td>1959</td>\n",
              "      <td>1950</td>\n",
              "      <td>79</td>\n",
              "      <td>38.0</td>\n",
              "      <td>56</td>\n",
              "      <td>-9</td>\n",
              "      <td>13</td>\n",
              "      <td>62</td>\n",
              "      <td>158</td>\n",
              "      <td>67</td>\n",
              "      <td>3</td>\n",
              "      <td>60</td>\n",
              "    </tr>\n",
              "    <tr>\n",
              "      <th>65</th>\n",
              "      <td>1</td>\n",
              "      <td>Here Comes The Sun - Remastered 2009</td>\n",
              "      <td>The Beatles</td>\n",
              "      <td>british invasion</td>\n",
              "      <td>1969</td>\n",
              "      <td>1960</td>\n",
              "      <td>129</td>\n",
              "      <td>54.0</td>\n",
              "      <td>56</td>\n",
              "      <td>-10</td>\n",
              "      <td>18</td>\n",
              "      <td>39</td>\n",
              "      <td>186</td>\n",
              "      <td>3</td>\n",
              "      <td>3</td>\n",
              "      <td>82</td>\n",
              "    </tr>\n",
              "    <tr>\n",
              "      <th>121</th>\n",
              "      <td>1</td>\n",
              "      <td>Bohemian Rhapsody - 2011 Mix</td>\n",
              "      <td>Queen</td>\n",
              "      <td>glam rock</td>\n",
              "      <td>1975</td>\n",
              "      <td>1970</td>\n",
              "      <td>71</td>\n",
              "      <td>40.0</td>\n",
              "      <td>41</td>\n",
              "      <td>-10</td>\n",
              "      <td>30</td>\n",
              "      <td>22</td>\n",
              "      <td>354</td>\n",
              "      <td>27</td>\n",
              "      <td>5</td>\n",
              "      <td>84</td>\n",
              "    </tr>\n",
              "    <tr>\n",
              "      <th>183</th>\n",
              "      <td>2</td>\n",
              "      <td>Africa</td>\n",
              "      <td>TOTO</td>\n",
              "      <td>album rock</td>\n",
              "      <td>1982</td>\n",
              "      <td>1980</td>\n",
              "      <td>93</td>\n",
              "      <td>37.0</td>\n",
              "      <td>67</td>\n",
              "      <td>-18</td>\n",
              "      <td>5</td>\n",
              "      <td>73</td>\n",
              "      <td>296</td>\n",
              "      <td>26</td>\n",
              "      <td>3</td>\n",
              "      <td>83</td>\n",
              "    </tr>\n",
              "    <tr>\n",
              "      <th>341</th>\n",
              "      <td>1</td>\n",
              "      <td>No Scrubs</td>\n",
              "      <td>TLC</td>\n",
              "      <td>atl hip hop</td>\n",
              "      <td>1999</td>\n",
              "      <td>1990</td>\n",
              "      <td>93</td>\n",
              "      <td>68.0</td>\n",
              "      <td>74</td>\n",
              "      <td>-4</td>\n",
              "      <td>7</td>\n",
              "      <td>59</td>\n",
              "      <td>214</td>\n",
              "      <td>3</td>\n",
              "      <td>10</td>\n",
              "      <td>79</td>\n",
              "    </tr>\n",
              "    <tr>\n",
              "      <th>351</th>\n",
              "      <td>1</td>\n",
              "      <td>In the End</td>\n",
              "      <td>Linkin Park</td>\n",
              "      <td>alternative metal</td>\n",
              "      <td>2000</td>\n",
              "      <td>2000</td>\n",
              "      <td>105</td>\n",
              "      <td>86.0</td>\n",
              "      <td>56</td>\n",
              "      <td>-6</td>\n",
              "      <td>21</td>\n",
              "      <td>40</td>\n",
              "      <td>217</td>\n",
              "      <td>1</td>\n",
              "      <td>6</td>\n",
              "      <td>83</td>\n",
              "    </tr>\n",
              "    <tr>\n",
              "      <th>666</th>\n",
              "      <td>1</td>\n",
              "      <td>bad guy</td>\n",
              "      <td>Billie Eilish</td>\n",
              "      <td>electropop</td>\n",
              "      <td>2019</td>\n",
              "      <td>2010</td>\n",
              "      <td>135</td>\n",
              "      <td>43.0</td>\n",
              "      <td>70</td>\n",
              "      <td>-11</td>\n",
              "      <td>10</td>\n",
              "      <td>56</td>\n",
              "      <td>194</td>\n",
              "      <td>33</td>\n",
              "      <td>38</td>\n",
              "      <td>94</td>\n",
              "    </tr>\n",
              "  </tbody>\n",
              "</table>\n",
              "</div>"
            ],
            "text/plain": [
              "     Number                                              title  \\\n",
              "1         2  Whatever Will Be Will Be (Que Sera Sera) (with...   \n",
              "6         5                                 A Teenager In Love   \n",
              "65        1               Here Comes The Sun - Remastered 2009   \n",
              "121       1                       Bohemian Rhapsody - 2011 Mix   \n",
              "183       2                                             Africa   \n",
              "341       1                                          No Scrubs   \n",
              "351       1                                         In the End   \n",
              "666       1                                            bad guy   \n",
              "\n",
              "                  artist          top genre  year  decade  bpm  nrgy  dnce  \\\n",
              "1              Doris Day    adult standards  1948    1940  177  34.0    42   \n",
              "6    Dion & The Belmonts    adult standards  1959    1950   79  38.0    56   \n",
              "65           The Beatles   british invasion  1969    1960  129  54.0    56   \n",
              "121                Queen          glam rock  1975    1970   71  40.0    41   \n",
              "183                 TOTO         album rock  1982    1980   93  37.0    67   \n",
              "341                  TLC        atl hip hop  1999    1990   93  68.0    74   \n",
              "351          Linkin Park  alternative metal  2000    2000  105  86.0    56   \n",
              "666        Billie Eilish         electropop  2019    2010  135  43.0    70   \n",
              "\n",
              "     dB  live  val  dur  acous  spch  pop  \n",
              "1   -11    72   78  123     86     4   62  \n",
              "6    -9    13   62  158     67     3   60  \n",
              "65  -10    18   39  186      3     3   82  \n",
              "121 -10    30   22  354     27     5   84  \n",
              "183 -18     5   73  296     26     3   83  \n",
              "341  -4     7   59  214      3    10   79  \n",
              "351  -6    21   40  217      1     6   83  \n",
              "666 -11    10   56  194     33    38   94  "
            ]
          },
          "execution_count": 40,
          "metadata": {},
          "output_type": "execute_result"
        }
      ],
      "source": [
        "index = df.groupby('decade')['pop'].idxmax()\n",
        "df.loc[index]"
      ]
    },
    {
      "cell_type": "markdown",
      "metadata": {
        "pycharm": {
          "name": "#%% md\n"
        },
        "id": "doKQ_IIZ0TvC"
      },
      "source": [
        "## Duración media de las canciones por año"
      ]
    },
    {
      "cell_type": "code",
      "execution_count": null,
      "metadata": {
        "pycharm": {
          "name": "#%%\n"
        },
        "id": "j5qJFlXx0TvD",
        "outputId": "bdc8a5e2-19e7-40f9-e32f-a0c1da81414e"
      },
      "outputs": [
        {
          "data": {
            "text/plain": [
              "<AxesSubplot:xlabel='year'>"
            ]
          },
          "execution_count": 41,
          "metadata": {},
          "output_type": "execute_result"
        },
        {
          "data": {
            "image/png": "[encoded data removed]",
            "text/plain": [
              "<Figure size 432x288 with 1 Axes>"
            ]
          },
          "metadata": {
            "needs_background": "light"
          },
          "output_type": "display_data"
        }
      ],
      "source": [
        "serie = df.groupby('year')['dur'].mean().round(decimals=2)\n",
        "df_mean_dur = pd.DataFrame(serie)\n",
        "df_mean_dur.plot()"
      ]
    }
  ],
  "metadata": {
    "kernelspec": {
      "display_name": "Python 3",
      "language": "python",
      "name": "python3"
    },
    "language_info": {
      "codemirror_mode": {
        "name": "ipython",
        "version": 3
      },
      "file_extension": ".py",
      "mimetype": "text/x-python",
      "name": "python",
      "nbconvert_exporter": "python",
      "pygments_lexer": "ipython3",
      "version": "3.8.8"
    },
    "colab": {
      "provenance": [],
      "include_colab_link": true
    }
  },
  "nbformat": 4,
  "nbformat_minor": 0
}