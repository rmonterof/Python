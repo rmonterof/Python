{
  "cells": [
    {
      "cell_type": "markdown",
      "metadata": {
        "id": "view-in-github",
        "colab_type": "text"
      },
      "source": [
        "<a href=\"https://colab.research.google.com/github/rmonterof/Python/blob/main/1_2_Pandas.ipynb\" target=\"_parent\"><img src=\"https://colab.research.google.com/assets/colab-badge.svg\" alt=\"Open In Colab\"/></a>"
      ]
    },
    {
      "cell_type": "markdown",
      "metadata": {
        "id": "l8IqW4Fi49or"
      },
      "source": [
        "# Índice\n",
        "\n",
        "1. Series:\n",
        "    * pd.Series()\n",
        "    * value, index, sum()\n",
        "2. DataFrames\n",
        "    * 2.1 Atributos: index, columns, values, sum()\n",
        "    * 2.2 Crea Dataframes:\n",
        "        * listas\n",
        "        * diccionarios\n",
        "        * csv\n",
        "        * Excel\n",
        "        * json\n",
        "    * 2.3 Renombrado de columnas e índices\n",
        "        * rename()\n",
        "        * set_index()\n",
        "        * reset_index()\n",
        "    * 2.4 Tipos de datos\n",
        "    * 2.5 Tipo Category\n",
        "    * 2.6 Indexación y selección de datos\n",
        "        * keys(), items()\n",
        "        * loc\n",
        "        * iloc\n",
        "        * Métodos para la selección de columnas: filter()\n",
        "    * 2.7 Operaciones: se pueden aplicar las operaciones comentadas en Numpy\n",
        "3. Limpieza de datos nulos\n",
        "    * 3.1 Detección de nulos en base al tipo\n",
        "    * 3.2 dropna()\n",
        "    * 3.3 fillna()\n",
        "    * 3.4 Contar el número de nulos en un DataFrame\n",
        "4. Combinación de DataFrames\n",
        "    * 4.1 Concatenación\n",
        "    * 4.2 Joins: merge() keyword how\n",
        "5. Agregaciones\n",
        "    * 5.1 GroupBy: groupby()\n",
        "    * 5.2 apply()\n",
        "    \n",
        "\n",
        "    \n",
        "    \n",
        "        \n",
        "    \n"
      ]
    },
    {
      "cell_type": "markdown",
      "metadata": {
        "toc-hr-collapsed": true,
        "id": "fVVfELKt49oy"
      },
      "source": [
        "# Versiones instaladas"
      ]
    },
    {
      "cell_type": "code",
      "execution_count": null,
      "metadata": {
        "id": "gtqeOhpZ49oz"
      },
      "outputs": [],
      "source": [
        "import numpy as np\n",
        "import pandas as pd"
      ]
    },
    {
      "cell_type": "code",
      "execution_count": null,
      "metadata": {
        "id": "I5Gi5Auc49o1",
        "outputId": "9faded28-33e0-4bae-f570-c0f526d85a7e"
      },
      "outputs": [
        {
          "name": "stdout",
          "output_type": "stream",
          "text": [
            "Version NumPy: 1.18.5\n",
            "Versión Pandas:  1.2.1\n"
          ]
        }
      ],
      "source": [
        "print (\"Version NumPy:\", np.__version__)\n",
        "print (\"Versión Pandas: \", pd.__version__)"
      ]
    },
    {
      "cell_type": "code",
      "execution_count": null,
      "metadata": {
        "id": "MWVDX8wX49o2"
      },
      "outputs": [],
      "source": [
        "import inspect\n",
        "from IPython.display import display, HTML"
      ]
    },
    {
      "cell_type": "code",
      "execution_count": null,
      "metadata": {
        "id": "-KjKJykU49o3"
      },
      "outputs": [],
      "source": [
        "def show_dfs(*dfs, caption=\"\"):\n",
        "    '''\n",
        "    Funcion de ayuda para mostrar varios dataframes en la\n",
        "    misma fila.\n",
        "\n",
        "    dfs: varios DataFrames\n",
        "    '''\n",
        "    res = \"\"\"<table border=\"4\" class=\"dataframe\">\n",
        "             <caption style=\"font-size:1.2em;\">\n",
        "                 <strong>{0}</strong>\n",
        "             </caption>\"\"\".format(caption)\n",
        "    res += '<tr>'\n",
        "    for t in dfs:\n",
        "        res += '<td style=\"border: 1px solid black; vertical-align:top;\">'+t.to_html()+'</td>'\n",
        "    res += '</tr></table>'\n",
        "    display(HTML(res))"
      ]
    },
    {
      "cell_type": "markdown",
      "metadata": {
        "toc-hr-collapsed": true,
        "id": "6WREXBm-49o4"
      },
      "source": [
        "# Series"
      ]
    },
    {
      "cell_type": "code",
      "execution_count": null,
      "metadata": {
        "id": "FrjFtqEH49o5",
        "outputId": "8288feb5-6f86-4b4d-9c3c-36bb99866ba5"
      },
      "outputs": [
        {
          "data": {
            "text/plain": [
              "0    10\n",
              "1    20\n",
              "2    30\n",
              "dtype: int64"
            ]
          },
          "execution_count": 5,
          "metadata": {},
          "output_type": "execute_result"
        }
      ],
      "source": [
        "serie = pd.Series([10,20,30])\n",
        "serie"
      ]
    },
    {
      "cell_type": "code",
      "execution_count": null,
      "metadata": {
        "id": "kG4NFjWG49o7",
        "outputId": "490285b1-237d-4439-a1d7-d28ca30a2160"
      },
      "outputs": [
        {
          "data": {
            "text/plain": [
              "array([10, 20, 30])"
            ]
          },
          "execution_count": 6,
          "metadata": {},
          "output_type": "execute_result"
        }
      ],
      "source": [
        "serie.values"
      ]
    },
    {
      "cell_type": "code",
      "execution_count": null,
      "metadata": {
        "id": "vqTFqcwq49o_",
        "outputId": "cfb20848-9d3e-4bb4-a815-b10649fb5076"
      },
      "outputs": [
        {
          "data": {
            "text/plain": [
              "RangeIndex(start=0, stop=3, step=1)"
            ]
          },
          "execution_count": 7,
          "metadata": {},
          "output_type": "execute_result"
        }
      ],
      "source": [
        "serie.index"
      ]
    },
    {
      "cell_type": "markdown",
      "metadata": {
        "id": "dBishicL49pA"
      },
      "source": [
        "Las series funcionan como los arrays de NumPy"
      ]
    },
    {
      "cell_type": "code",
      "execution_count": null,
      "metadata": {
        "id": "943kT12z49pB",
        "outputId": "5128c303-b1ea-4bf1-a0fd-a329917eb4d6"
      },
      "outputs": [
        {
          "data": {
            "text/plain": [
              "20"
            ]
          },
          "execution_count": 8,
          "metadata": {},
          "output_type": "execute_result"
        }
      ],
      "source": [
        "serie[1]"
      ]
    },
    {
      "cell_type": "code",
      "execution_count": null,
      "metadata": {
        "id": "wslKt8r649pC",
        "outputId": "2d66b132-d6fa-4887-f9b4-1f5061c0b94c"
      },
      "outputs": [
        {
          "data": {
            "text/plain": [
              "0    10\n",
              "1    20\n",
              "dtype: int64"
            ]
          },
          "execution_count": 9,
          "metadata": {},
          "output_type": "execute_result"
        }
      ],
      "source": [
        "serie[:2]"
      ]
    },
    {
      "cell_type": "code",
      "execution_count": null,
      "metadata": {
        "id": "hbmmshCY49pD",
        "outputId": "f92dc1e1-561d-4d9a-8bb5-2f852c91e2a3"
      },
      "outputs": [
        {
          "data": {
            "text/plain": [
              "60"
            ]
          },
          "execution_count": 10,
          "metadata": {},
          "output_type": "execute_result"
        }
      ],
      "source": [
        "serie.sum()"
      ]
    },
    {
      "cell_type": "markdown",
      "metadata": {
        "id": "DGN61lvX49pE"
      },
      "source": [
        "Se puede indicar de forma explícita el índice a utilizar"
      ]
    },
    {
      "cell_type": "code",
      "execution_count": null,
      "metadata": {
        "id": "rJEzXaHy49pE",
        "outputId": "aa16ca86-7f74-43bf-9c99-63701e414b8c"
      },
      "outputs": [
        {
          "data": {
            "text/plain": [
              "100    5\n",
              "200    3\n",
              "300    2\n",
              "dtype: int64"
            ]
          },
          "execution_count": 11,
          "metadata": {},
          "output_type": "execute_result"
        }
      ],
      "source": [
        "pd.Series ([5,3,2],index=[100,200,300])"
      ]
    },
    {
      "cell_type": "markdown",
      "metadata": {
        "id": "CwSkU_z649pF"
      },
      "source": [
        "Incluso en forma de diccionario de indice y valor"
      ]
    },
    {
      "cell_type": "code",
      "execution_count": null,
      "metadata": {
        "id": "QfbU9PV049pG",
        "outputId": "89280283-7a82-4399-f43b-c830489e5cbf"
      },
      "outputs": [
        {
          "data": {
            "text/plain": [
              "100    a\n",
              "200    b\n",
              "300    c\n",
              "dtype: object"
            ]
          },
          "execution_count": 12,
          "metadata": {},
          "output_type": "execute_result"
        }
      ],
      "source": [
        "pd.Series ({100:'a', 200:'b', 300:'c'})"
      ]
    },
    {
      "cell_type": "markdown",
      "metadata": {
        "id": "9C6PCkVa49pG"
      },
      "source": [
        "Pero siempre prevalece el parámetro index, en el siguiente caso se crea la Serie sólo con los elementos contenidos en el parámetro index"
      ]
    },
    {
      "cell_type": "code",
      "execution_count": null,
      "metadata": {
        "id": "Du9eH5bz49pH",
        "outputId": "2c8e1a83-4634-4f6a-cde2-97c7721f2033"
      },
      "outputs": [
        {
          "data": {
            "text/plain": [
              "100    a\n",
              "300    c\n",
              "dtype: object"
            ]
          },
          "execution_count": 13,
          "metadata": {},
          "output_type": "execute_result"
        }
      ],
      "source": [
        "pd.Series ({100:'a', 200:'b', 300:'c'}, index=[100,300])"
      ]
    },
    {
      "cell_type": "markdown",
      "metadata": {
        "toc-hr-collapsed": true,
        "id": "3ZQsKsMP49pI"
      },
      "source": [
        "# DataFrames"
      ]
    },
    {
      "cell_type": "code",
      "execution_count": null,
      "metadata": {
        "id": "qxHLGmLp49pI",
        "outputId": "160f1e99-2428-4ae5-8c08-8a9c14e749c4"
      },
      "outputs": [
        {
          "data": {
            "text/html": [
              "<div>\n",
              "<style scoped>\n",
              "    .dataframe tbody tr th:only-of-type {\n",
              "        vertical-align: middle;\n",
              "    }\n",
              "\n",
              "    .dataframe tbody tr th {\n",
              "        vertical-align: top;\n",
              "    }\n",
              "\n",
              "    .dataframe thead th {\n",
              "        text-align: right;\n",
              "    }\n",
              "</style>\n",
              "<table border=\"1\" class=\"dataframe\">\n",
              "  <thead>\n",
              "    <tr style=\"text-align: right;\">\n",
              "      <th></th>\n",
              "      <th>area</th>\n",
              "      <th>poblacion</th>\n",
              "    </tr>\n",
              "  </thead>\n",
              "  <tbody>\n",
              "    <tr>\n",
              "      <th>California</th>\n",
              "      <td>423967</td>\n",
              "      <td>38332521</td>\n",
              "    </tr>\n",
              "    <tr>\n",
              "      <th>Texas</th>\n",
              "      <td>695662</td>\n",
              "      <td>26448193</td>\n",
              "    </tr>\n",
              "    <tr>\n",
              "      <th>New York</th>\n",
              "      <td>141297</td>\n",
              "      <td>19651127</td>\n",
              "    </tr>\n",
              "    <tr>\n",
              "      <th>Florida</th>\n",
              "      <td>170312</td>\n",
              "      <td>19552860</td>\n",
              "    </tr>\n",
              "    <tr>\n",
              "      <th>Illinois</th>\n",
              "      <td>149995</td>\n",
              "      <td>12882135</td>\n",
              "    </tr>\n",
              "  </tbody>\n",
              "</table>\n",
              "</div>"
            ],
            "text/plain": [
              "              area  poblacion\n",
              "California  423967   38332521\n",
              "Texas       695662   26448193\n",
              "New York    141297   19651127\n",
              "Florida     170312   19552860\n",
              "Illinois    149995   12882135"
            ]
          },
          "execution_count": 14,
          "metadata": {},
          "output_type": "execute_result"
        }
      ],
      "source": [
        "population_dict = {'California': 38332521,\n",
        "                   'Texas': 26448193,\n",
        "                   'New York': 19651127,\n",
        "                   'Florida': 19552860,\n",
        "                   'Illinois': 12882135}\n",
        "population = pd.Series(population_dict)\n",
        "area_dict = {'California': 423967,\n",
        "             'Texas': 695662,\n",
        "             'New York': 141297,\n",
        "             'Florida': 170312,\n",
        "             'Illinois': 149995}\n",
        "area = pd.Series(area_dict)\n",
        "estados = pd.DataFrame({'area':area, 'poblacion':population})\n",
        "estados"
      ]
    },
    {
      "cell_type": "markdown",
      "metadata": {
        "id": "-cUOgbGM49pJ"
      },
      "source": [
        "Como en la clase `Series` tenemos acceso a los índices"
      ]
    },
    {
      "cell_type": "code",
      "execution_count": null,
      "metadata": {
        "id": "FNKblGZb49pJ",
        "outputId": "871bf6e3-609e-49d5-869d-9e1f356a8b6c"
      },
      "outputs": [
        {
          "data": {
            "text/plain": [
              "Index(['California', 'Texas', 'New York', 'Florida', 'Illinois'], dtype='object')"
            ]
          },
          "execution_count": 15,
          "metadata": {},
          "output_type": "execute_result"
        }
      ],
      "source": [
        "estados.index"
      ]
    },
    {
      "cell_type": "markdown",
      "metadata": {
        "id": "W5f-9LZ349pL"
      },
      "source": [
        "A los nombres de las columnas"
      ]
    },
    {
      "cell_type": "code",
      "execution_count": null,
      "metadata": {
        "id": "cTqyBAS549pM",
        "outputId": "7cb48c9f-e909-46df-afb2-d377aa06c6e2"
      },
      "outputs": [
        {
          "data": {
            "text/plain": [
              "Index(['area', 'poblacion'], dtype='object')"
            ]
          },
          "execution_count": 16,
          "metadata": {},
          "output_type": "execute_result"
        }
      ],
      "source": [
        "estados.columns"
      ]
    },
    {
      "cell_type": "markdown",
      "metadata": {
        "id": "H0ib3xLy49pN"
      },
      "source": [
        "Y a los valores"
      ]
    },
    {
      "cell_type": "code",
      "execution_count": null,
      "metadata": {
        "id": "MUKJGGrM49pO",
        "outputId": "85880e21-202d-4d83-e848-1d5bf8204eff"
      },
      "outputs": [
        {
          "data": {
            "text/plain": [
              "array([[  423967, 38332521],\n",
              "       [  695662, 26448193],\n",
              "       [  141297, 19651127],\n",
              "       [  170312, 19552860],\n",
              "       [  149995, 12882135]])"
            ]
          },
          "execution_count": 17,
          "metadata": {},
          "output_type": "execute_result"
        }
      ],
      "source": [
        "estados.values"
      ]
    },
    {
      "cell_type": "code",
      "execution_count": null,
      "metadata": {
        "id": "LH-lqMpx49pP",
        "outputId": "7218cba1-1d90-44fe-f105-1aa7e5b2a664"
      },
      "outputs": [
        {
          "data": {
            "text/plain": [
              "area           1581233\n",
              "poblacion    116866836\n",
              "dtype: int64"
            ]
          },
          "execution_count": 18,
          "metadata": {},
          "output_type": "execute_result"
        }
      ],
      "source": [
        "estados.sum() #Suma los valores de cada columna"
      ]
    },
    {
      "cell_type": "markdown",
      "metadata": {
        "toc-hr-collapsed": true,
        "id": "EVNIKFyg49pQ"
      },
      "source": [
        "## Creando DataFrames"
      ]
    },
    {
      "cell_type": "markdown",
      "metadata": {
        "id": "-SfgBcxV49pR"
      },
      "source": [
        "### Desde colecciones en memoria"
      ]
    },
    {
      "cell_type": "code",
      "execution_count": null,
      "metadata": {
        "id": "Km2OUZ7V49pR",
        "outputId": "423b60cb-46bc-4d69-d1f3-d0da0f22a399"
      },
      "outputs": [
        {
          "data": {
            "text/html": [
              "<div>\n",
              "<style scoped>\n",
              "    .dataframe tbody tr th:only-of-type {\n",
              "        vertical-align: middle;\n",
              "    }\n",
              "\n",
              "    .dataframe tbody tr th {\n",
              "        vertical-align: top;\n",
              "    }\n",
              "\n",
              "    .dataframe thead th {\n",
              "        text-align: right;\n",
              "    }\n",
              "</style>\n",
              "<table border=\"1\" class=\"dataframe\">\n",
              "  <thead>\n",
              "    <tr style=\"text-align: right;\">\n",
              "      <th></th>\n",
              "      <th>Name</th>\n",
              "      <th>Age</th>\n",
              "    </tr>\n",
              "  </thead>\n",
              "  <tbody>\n",
              "    <tr>\n",
              "      <th>0</th>\n",
              "      <td>Tom</td>\n",
              "      <td>10</td>\n",
              "    </tr>\n",
              "    <tr>\n",
              "      <th>1</th>\n",
              "      <td>Nick</td>\n",
              "      <td>15</td>\n",
              "    </tr>\n",
              "    <tr>\n",
              "      <th>2</th>\n",
              "      <td>Juli</td>\n",
              "      <td>14</td>\n",
              "    </tr>\n",
              "  </tbody>\n",
              "</table>\n",
              "</div>"
            ],
            "text/plain": [
              "   Name  Age\n",
              "0   Tom   10\n",
              "1  Nick   15\n",
              "2  Juli   14"
            ]
          },
          "execution_count": 19,
          "metadata": {},
          "output_type": "execute_result"
        }
      ],
      "source": [
        "data = [['Tom', 10], ['Nick', 15], ['Juli', 14]]\n",
        "cols = ['Name', 'Age']\n",
        "index = ['fila primera', 'fila segunda', 'fila tercera']\n",
        "df = pd.DataFrame(data, columns=cols)\n",
        "df"
      ]
    },
    {
      "cell_type": "code",
      "execution_count": null,
      "metadata": {
        "id": "j9A9qtzW49pS",
        "outputId": "c6442724-4037-41b0-c576-3dc69a4cd889"
      },
      "outputs": [
        {
          "data": {
            "text/html": [
              "<div>\n",
              "<style scoped>\n",
              "    .dataframe tbody tr th:only-of-type {\n",
              "        vertical-align: middle;\n",
              "    }\n",
              "\n",
              "    .dataframe tbody tr th {\n",
              "        vertical-align: top;\n",
              "    }\n",
              "\n",
              "    .dataframe thead th {\n",
              "        text-align: right;\n",
              "    }\n",
              "</style>\n",
              "<table border=\"1\" class=\"dataframe\">\n",
              "  <thead>\n",
              "    <tr style=\"text-align: right;\">\n",
              "      <th></th>\n",
              "      <th>0</th>\n",
              "      <th>1</th>\n",
              "    </tr>\n",
              "  </thead>\n",
              "  <tbody>\n",
              "    <tr>\n",
              "      <th>f1</th>\n",
              "      <td>Tom</td>\n",
              "      <td>10</td>\n",
              "    </tr>\n",
              "    <tr>\n",
              "      <th>f2</th>\n",
              "      <td>Nick</td>\n",
              "      <td>15</td>\n",
              "    </tr>\n",
              "    <tr>\n",
              "      <th>f3</th>\n",
              "      <td>Juli</td>\n",
              "      <td>14</td>\n",
              "    </tr>\n",
              "  </tbody>\n",
              "</table>\n",
              "</div>"
            ],
            "text/plain": [
              "       0   1\n",
              "f1   Tom  10\n",
              "f2  Nick  15\n",
              "f3  Juli  14"
            ]
          },
          "execution_count": 20,
          "metadata": {},
          "output_type": "execute_result"
        }
      ],
      "source": [
        "df = pd.DataFrame(data,index=['f1','f2','f3'])\n",
        "df"
      ]
    },
    {
      "cell_type": "code",
      "execution_count": null,
      "metadata": {
        "id": "1ng5003749pS",
        "outputId": "615d66c2-3abf-4ba6-c951-c4fbdec2987f"
      },
      "outputs": [
        {
          "data": {
            "text/html": [
              "<div>\n",
              "<style scoped>\n",
              "    .dataframe tbody tr th:only-of-type {\n",
              "        vertical-align: middle;\n",
              "    }\n",
              "\n",
              "    .dataframe tbody tr th {\n",
              "        vertical-align: top;\n",
              "    }\n",
              "\n",
              "    .dataframe thead th {\n",
              "        text-align: right;\n",
              "    }\n",
              "</style>\n",
              "<table border=\"1\" class=\"dataframe\">\n",
              "  <thead>\n",
              "    <tr style=\"text-align: right;\">\n",
              "      <th></th>\n",
              "      <th>0</th>\n",
              "      <th>1</th>\n",
              "    </tr>\n",
              "  </thead>\n",
              "  <tbody>\n",
              "    <tr>\n",
              "      <th>0</th>\n",
              "      <td>Tom</td>\n",
              "      <td>10</td>\n",
              "    </tr>\n",
              "    <tr>\n",
              "      <th>1</th>\n",
              "      <td>Nick</td>\n",
              "      <td>15</td>\n",
              "    </tr>\n",
              "    <tr>\n",
              "      <th>2</th>\n",
              "      <td>Juli</td>\n",
              "      <td>14</td>\n",
              "    </tr>\n",
              "  </tbody>\n",
              "</table>\n",
              "</div>"
            ],
            "text/plain": [
              "      0   1\n",
              "0   Tom  10\n",
              "1  Nick  15\n",
              "2  Juli  14"
            ]
          },
          "execution_count": 21,
          "metadata": {},
          "output_type": "execute_result"
        }
      ],
      "source": [
        "data_cols = {'Name':['Tom', 'nick', 'krish', 'jack'],\n",
        "             'Age':[20, 21, 19, 18]}\n",
        "df = pd.DataFrame(data)\n",
        "df"
      ]
    },
    {
      "cell_type": "markdown",
      "metadata": {
        "id": "d1PdtU3p49pT"
      },
      "source": [
        "Con **alineación de índices**. La primera fila no tiene valores para la columna 'a'"
      ]
    },
    {
      "cell_type": "code",
      "execution_count": null,
      "metadata": {
        "id": "T8BFfmy349pU",
        "outputId": "0e47fcfc-e9b0-4869-ffc9-fd2551bd6cdc"
      },
      "outputs": [
        {
          "data": {
            "text/html": [
              "<div>\n",
              "<style scoped>\n",
              "    .dataframe tbody tr th:only-of-type {\n",
              "        vertical-align: middle;\n",
              "    }\n",
              "\n",
              "    .dataframe tbody tr th {\n",
              "        vertical-align: top;\n",
              "    }\n",
              "\n",
              "    .dataframe thead th {\n",
              "        text-align: right;\n",
              "    }\n",
              "</style>\n",
              "<table border=\"1\" class=\"dataframe\">\n",
              "  <thead>\n",
              "    <tr style=\"text-align: right;\">\n",
              "      <th></th>\n",
              "      <th>b</th>\n",
              "      <th>c</th>\n",
              "      <th>a</th>\n",
              "    </tr>\n",
              "  </thead>\n",
              "  <tbody>\n",
              "    <tr>\n",
              "      <th>0</th>\n",
              "      <td>2</td>\n",
              "      <td>3</td>\n",
              "      <td>NaN</td>\n",
              "    </tr>\n",
              "    <tr>\n",
              "      <th>1</th>\n",
              "      <td>20</td>\n",
              "      <td>30</td>\n",
              "      <td>10.0</td>\n",
              "    </tr>\n",
              "  </tbody>\n",
              "</table>\n",
              "</div>"
            ],
            "text/plain": [
              "    b   c     a\n",
              "0   2   3   NaN\n",
              "1  20  30  10.0"
            ]
          },
          "execution_count": 22,
          "metadata": {},
          "output_type": "execute_result"
        }
      ],
      "source": [
        "data = [{'b': 2,  'c':3},\n",
        "        {'a': 10, 'b': 20, 'c': 30}]\n",
        "df = pd.DataFrame(data)\n",
        "df"
      ]
    },
    {
      "cell_type": "markdown",
      "metadata": {
        "id": "VrwO3ZnO49pU"
      },
      "source": [
        "Incluso podemos elegir que nombres de índices se utilizan"
      ]
    },
    {
      "cell_type": "code",
      "execution_count": null,
      "metadata": {
        "id": "qwnXoV1V49pV",
        "outputId": "c06f0ef4-93f7-4df4-9384-21d599d26fff"
      },
      "outputs": [
        {
          "data": {
            "text/html": [
              "<div>\n",
              "<style scoped>\n",
              "    .dataframe tbody tr th:only-of-type {\n",
              "        vertical-align: middle;\n",
              "    }\n",
              "\n",
              "    .dataframe tbody tr th {\n",
              "        vertical-align: top;\n",
              "    }\n",
              "\n",
              "    .dataframe thead th {\n",
              "        text-align: right;\n",
              "    }\n",
              "</style>\n",
              "<table border=\"1\" class=\"dataframe\">\n",
              "  <thead>\n",
              "    <tr style=\"text-align: right;\">\n",
              "      <th></th>\n",
              "      <th>b</th>\n",
              "      <th>c</th>\n",
              "      <th>a</th>\n",
              "    </tr>\n",
              "  </thead>\n",
              "  <tbody>\n",
              "    <tr>\n",
              "      <th>first</th>\n",
              "      <td>2</td>\n",
              "      <td>3</td>\n",
              "      <td>NaN</td>\n",
              "    </tr>\n",
              "    <tr>\n",
              "      <th>second</th>\n",
              "      <td>20</td>\n",
              "      <td>30</td>\n",
              "      <td>10.0</td>\n",
              "    </tr>\n",
              "  </tbody>\n",
              "</table>\n",
              "</div>"
            ],
            "text/plain": [
              "         b   c     a\n",
              "first    2   3   NaN\n",
              "second  20  30  10.0"
            ]
          },
          "execution_count": 23,
          "metadata": {},
          "output_type": "execute_result"
        }
      ],
      "source": [
        "data = [{'b': 2, 'c':3}, {'a': 10, 'b': 20, 'c': 30}]\n",
        "df = pd.DataFrame(data, index =['first', 'second'])\n",
        "df"
      ]
    },
    {
      "cell_type": "markdown",
      "metadata": {
        "id": "DLtHeIoc49pW"
      },
      "source": [
        "### Desde ficheros"
      ]
    },
    {
      "cell_type": "markdown",
      "metadata": {
        "id": "cYoFKx8T49pY"
      },
      "source": [
        "Podemos crear el DataFrame a partir de un fichero csv, los tipos de las columnas son inferidos automáticamente"
      ]
    },
    {
      "cell_type": "code",
      "execution_count": null,
      "metadata": {
        "id": "D8pb8Esr49pZ",
        "outputId": "fe846341-dbea-4cdd-fc4a-4c02671bc3b0"
      },
      "outputs": [
        {
          "data": {
            "text/html": [
              "<div>\n",
              "<style scoped>\n",
              "    .dataframe tbody tr th:only-of-type {\n",
              "        vertical-align: middle;\n",
              "    }\n",
              "\n",
              "    .dataframe tbody tr th {\n",
              "        vertical-align: top;\n",
              "    }\n",
              "\n",
              "    .dataframe thead th {\n",
              "        text-align: right;\n",
              "    }\n",
              "</style>\n",
              "<table border=\"1\" class=\"dataframe\">\n",
              "  <thead>\n",
              "    <tr style=\"text-align: right;\">\n",
              "      <th></th>\n",
              "      <th>Company</th>\n",
              "      <th>Person</th>\n",
              "      <th>Sales</th>\n",
              "    </tr>\n",
              "  </thead>\n",
              "  <tbody>\n",
              "    <tr>\n",
              "      <th>0</th>\n",
              "      <td>GOOG</td>\n",
              "      <td>Sam</td>\n",
              "      <td>200</td>\n",
              "    </tr>\n",
              "    <tr>\n",
              "      <th>1</th>\n",
              "      <td>GOOG</td>\n",
              "      <td>Charlie</td>\n",
              "      <td>120</td>\n",
              "    </tr>\n",
              "  </tbody>\n",
              "</table>\n",
              "</div>"
            ],
            "text/plain": [
              "  Company   Person  Sales\n",
              "0    GOOG      Sam    200\n",
              "1    GOOG  Charlie    120"
            ]
          },
          "execution_count": 24,
          "metadata": {},
          "output_type": "execute_result"
        }
      ],
      "source": [
        "df=pd.read_csv (\"./data/sales_info.csv\")\n",
        "df.head(2)"
      ]
    },
    {
      "cell_type": "code",
      "execution_count": null,
      "metadata": {
        "id": "_G7URILV49pa",
        "outputId": "4001d62e-ca45-4b99-fe7a-a5e76da3ac26"
      },
      "outputs": [
        {
          "data": {
            "text/plain": [
              "Company    object\n",
              "Person     object\n",
              "Sales       int64\n",
              "dtype: object"
            ]
          },
          "execution_count": 25,
          "metadata": {},
          "output_type": "execute_result"
        }
      ],
      "source": [
        "df.dtypes"
      ]
    },
    {
      "cell_type": "markdown",
      "metadata": {
        "id": "0QX7bP6d49pb"
      },
      "source": [
        "Podemos especificar el tipo que queremos para las columnas del fichero, sin necesidad de explicitar todas."
      ]
    },
    {
      "cell_type": "code",
      "execution_count": null,
      "metadata": {
        "id": "2pIOeJjp49pc",
        "outputId": "00c38870-a4f7-4733-81ab-c366395ee494"
      },
      "outputs": [
        {
          "data": {
            "text/plain": [
              "Company     object\n",
              "Person      object\n",
              "Sales      float64\n",
              "dtype: object"
            ]
          },
          "execution_count": 26,
          "metadata": {},
          "output_type": "execute_result"
        }
      ],
      "source": [
        "dfcsv=pd.read_csv (\"./data/sales_info.csv\", dtype={'Sales': 'float'})\n",
        "dfcsv.dtypes"
      ]
    },
    {
      "cell_type": "code",
      "execution_count": null,
      "metadata": {
        "id": "X5fI265149pd",
        "outputId": "06c632a0-d5c5-4663-b653-5074e614ad84"
      },
      "outputs": [
        {
          "data": {
            "text/html": [
              "<div>\n",
              "<style scoped>\n",
              "    .dataframe tbody tr th:only-of-type {\n",
              "        vertical-align: middle;\n",
              "    }\n",
              "\n",
              "    .dataframe tbody tr th {\n",
              "        vertical-align: top;\n",
              "    }\n",
              "\n",
              "    .dataframe thead th {\n",
              "        text-align: right;\n",
              "    }\n",
              "</style>\n",
              "<table border=\"1\" class=\"dataframe\">\n",
              "  <thead>\n",
              "    <tr style=\"text-align: right;\">\n",
              "      <th></th>\n",
              "      <th>first_name</th>\n",
              "      <th>last_name</th>\n",
              "      <th>company_name</th>\n",
              "      <th>address</th>\n",
              "      <th>city</th>\n",
              "      <th>county</th>\n",
              "      <th>postal</th>\n",
              "      <th>phone</th>\n",
              "      <th>email</th>\n",
              "      <th>web</th>\n",
              "    </tr>\n",
              "  </thead>\n",
              "  <tbody>\n",
              "    <tr>\n",
              "      <th>0</th>\n",
              "      <td>Aleshia</td>\n",
              "      <td>Tomkiewicz</td>\n",
              "      <td>Alan D Rosenburg Cpa Pc</td>\n",
              "      <td>14 Taylor St</td>\n",
              "      <td>St. Stephens Ward</td>\n",
              "      <td>Kent</td>\n",
              "      <td>CT2 7PP</td>\n",
              "      <td>01944-369967</td>\n",
              "      <td>atomkiewicz@hotmail.com</td>\n",
              "      <td>http://www.alandrosenburgcpapc.co.uk</td>\n",
              "    </tr>\n",
              "    <tr>\n",
              "      <th>1</th>\n",
              "      <td>Evan</td>\n",
              "      <td>Zigomalas</td>\n",
              "      <td>Cap Gemini America</td>\n",
              "      <td>5 Binney St</td>\n",
              "      <td>Abbey Ward</td>\n",
              "      <td>Buckinghamshire</td>\n",
              "      <td>HP11 2AX</td>\n",
              "      <td>01714-737668</td>\n",
              "      <td>evan.zigomalas@gmail.com</td>\n",
              "      <td>http://www.capgeminiamerica.co.uk</td>\n",
              "    </tr>\n",
              "  </tbody>\n",
              "</table>\n",
              "</div>"
            ],
            "text/plain": [
              "  first_name   last_name             company_name       address  \\\n",
              "0    Aleshia  Tomkiewicz  Alan D Rosenburg Cpa Pc  14 Taylor St   \n",
              "1       Evan   Zigomalas       Cap Gemini America   5 Binney St   \n",
              "\n",
              "                city           county    postal         phone  \\\n",
              "0  St. Stephens Ward             Kent   CT2 7PP  01944-369967   \n",
              "1         Abbey Ward  Buckinghamshire  HP11 2AX  01714-737668   \n",
              "\n",
              "                      email                                   web  \n",
              "0   atomkiewicz@hotmail.com  http://www.alandrosenburgcpapc.co.uk  \n",
              "1  evan.zigomalas@gmail.com     http://www.capgeminiamerica.co.uk  "
            ]
          },
          "execution_count": 27,
          "metadata": {},
          "output_type": "execute_result"
        }
      ],
      "source": [
        "dfexcel=pd.read_excel(\"data/Employee.xlsx\", nrows=2)\n",
        "dfexcel"
      ]
    },
    {
      "cell_type": "markdown",
      "metadata": {
        "id": "kSEaFPef49pf"
      },
      "source": [
        "Desde un fichero json"
      ]
    },
    {
      "cell_type": "code",
      "execution_count": null,
      "metadata": {
        "id": "aA2n46Wf49pf",
        "outputId": "5ab638c4-3712-4c63-d569-dd0390abf84c"
      },
      "outputs": [
        {
          "name": "stdout",
          "output_type": "stream",
          "text": [
            "[\n",
            "{\"value\": \"New\", \"onclick\": \"CreateNewDoc()\"},\n",
            "{\"value\": \"Open\", \"onclick\": \"OpenDoc()\"},\n",
            "{\"value\": \"Close\", \"onclick\": \"CloseDoc()\"}\n",
            "]\n",
            "\n"
          ]
        }
      ],
      "source": [
        "with open ('./data/demo.json') as file:\n",
        "    print (file.read())"
      ]
    },
    {
      "cell_type": "code",
      "execution_count": null,
      "metadata": {
        "id": "5flHuwHR49pg",
        "outputId": "58d5fd18-40fd-4575-8bf6-ea86ebd46e0b"
      },
      "outputs": [
        {
          "data": {
            "text/html": [
              "<div>\n",
              "<style scoped>\n",
              "    .dataframe tbody tr th:only-of-type {\n",
              "        vertical-align: middle;\n",
              "    }\n",
              "\n",
              "    .dataframe tbody tr th {\n",
              "        vertical-align: top;\n",
              "    }\n",
              "\n",
              "    .dataframe thead th {\n",
              "        text-align: right;\n",
              "    }\n",
              "</style>\n",
              "<table border=\"1\" class=\"dataframe\">\n",
              "  <thead>\n",
              "    <tr style=\"text-align: right;\">\n",
              "      <th></th>\n",
              "      <th>value</th>\n",
              "      <th>onclick</th>\n",
              "    </tr>\n",
              "  </thead>\n",
              "  <tbody>\n",
              "    <tr>\n",
              "      <th>0</th>\n",
              "      <td>New</td>\n",
              "      <td>CreateNewDoc()</td>\n",
              "    </tr>\n",
              "    <tr>\n",
              "      <th>1</th>\n",
              "      <td>Open</td>\n",
              "      <td>OpenDoc()</td>\n",
              "    </tr>\n",
              "    <tr>\n",
              "      <th>2</th>\n",
              "      <td>Close</td>\n",
              "      <td>CloseDoc()</td>\n",
              "    </tr>\n",
              "  </tbody>\n",
              "</table>\n",
              "</div>"
            ],
            "text/plain": [
              "   value         onclick\n",
              "0    New  CreateNewDoc()\n",
              "1   Open       OpenDoc()\n",
              "2  Close      CloseDoc()"
            ]
          },
          "execution_count": 126,
          "metadata": {},
          "output_type": "execute_result"
        }
      ],
      "source": [
        "dfjson = pd.read_json (\"./data/demo.json\")\n",
        "dfjson"
      ]
    },
    {
      "cell_type": "markdown",
      "metadata": {
        "id": "Cgb18dNS49ph"
      },
      "source": [
        "## Renombrando columnas e índices"
      ]
    },
    {
      "cell_type": "markdown",
      "metadata": {
        "id": "HwsK9qh049ph"
      },
      "source": [
        "Una vez creado el dataframe podemos modificar sus columnas modificando directamente la propiedad `columns` del dataframe"
      ]
    },
    {
      "cell_type": "code",
      "execution_count": null,
      "metadata": {
        "id": "PKpv57c949pi",
        "outputId": "80e6784f-cc08-44a6-e971-96ea0d006e68"
      },
      "outputs": [
        {
          "data": {
            "text/html": [
              "<div>\n",
              "<style scoped>\n",
              "    .dataframe tbody tr th:only-of-type {\n",
              "        vertical-align: middle;\n",
              "    }\n",
              "\n",
              "    .dataframe tbody tr th {\n",
              "        vertical-align: top;\n",
              "    }\n",
              "\n",
              "    .dataframe thead th {\n",
              "        text-align: right;\n",
              "    }\n",
              "</style>\n",
              "<table border=\"1\" class=\"dataframe\">\n",
              "  <thead>\n",
              "    <tr style=\"text-align: right;\">\n",
              "      <th></th>\n",
              "      <th>Función</th>\n",
              "      <th>evento</th>\n",
              "    </tr>\n",
              "  </thead>\n",
              "  <tbody>\n",
              "    <tr>\n",
              "      <th>0</th>\n",
              "      <td>New</td>\n",
              "      <td>CreateNewDoc()</td>\n",
              "    </tr>\n",
              "    <tr>\n",
              "      <th>1</th>\n",
              "      <td>Open</td>\n",
              "      <td>OpenDoc()</td>\n",
              "    </tr>\n",
              "    <tr>\n",
              "      <th>2</th>\n",
              "      <td>Close</td>\n",
              "      <td>CloseDoc()</td>\n",
              "    </tr>\n",
              "  </tbody>\n",
              "</table>\n",
              "</div>"
            ],
            "text/plain": [
              "  Función          evento\n",
              "0     New  CreateNewDoc()\n",
              "1    Open       OpenDoc()\n",
              "2   Close      CloseDoc()"
            ]
          },
          "execution_count": 127,
          "metadata": {},
          "output_type": "execute_result"
        }
      ],
      "source": [
        "dfjson.columns = ['Función', 'evento']\n",
        "dfjson"
      ]
    },
    {
      "cell_type": "markdown",
      "metadata": {
        "id": "FWky8sai49pj"
      },
      "source": [
        "Hay que tener en cuenta que la modificación de la propiedad `columns` se hace sobre el propio dataframe, no genera un nuevo dataframe.  \n",
        "\n",
        "También podemos cambiar los nombres de forma más selectiva a través del método `rename`. En este caso se genera un nuevo dataframe, no se modifica sobre el exsistente."
      ]
    },
    {
      "cell_type": "code",
      "execution_count": null,
      "metadata": {
        "id": "mnjbdgf349pj",
        "outputId": "304eb8fd-fc8c-4a83-c80e-c0db8f322270"
      },
      "outputs": [
        {
          "data": {
            "text/html": [
              "<div>\n",
              "<style scoped>\n",
              "    .dataframe tbody tr th:only-of-type {\n",
              "        vertical-align: middle;\n",
              "    }\n",
              "\n",
              "    .dataframe tbody tr th {\n",
              "        vertical-align: top;\n",
              "    }\n",
              "\n",
              "    .dataframe thead th {\n",
              "        text-align: right;\n",
              "    }\n",
              "</style>\n",
              "<table border=\"1\" class=\"dataframe\">\n",
              "  <thead>\n",
              "    <tr style=\"text-align: right;\">\n",
              "      <th></th>\n",
              "      <th>Función</th>\n",
              "      <th>evento_onclick</th>\n",
              "    </tr>\n",
              "  </thead>\n",
              "  <tbody>\n",
              "    <tr>\n",
              "      <th>0</th>\n",
              "      <td>New</td>\n",
              "      <td>CreateNewDoc()</td>\n",
              "    </tr>\n",
              "    <tr>\n",
              "      <th>1</th>\n",
              "      <td>Open</td>\n",
              "      <td>OpenDoc()</td>\n",
              "    </tr>\n",
              "    <tr>\n",
              "      <th>2</th>\n",
              "      <td>Close</td>\n",
              "      <td>CloseDoc()</td>\n",
              "    </tr>\n",
              "  </tbody>\n",
              "</table>\n",
              "</div>"
            ],
            "text/plain": [
              "  Función  evento_onclick\n",
              "0     New  CreateNewDoc()\n",
              "1    Open       OpenDoc()\n",
              "2   Close      CloseDoc()"
            ]
          },
          "execution_count": 128,
          "metadata": {},
          "output_type": "execute_result"
        }
      ],
      "source": [
        "dfjson.rename(columns={\"evento\":\"evento_onclick\"})"
      ]
    },
    {
      "cell_type": "markdown",
      "metadata": {
        "id": "vBx3TB7I49pk"
      },
      "source": [
        "Para modificar los índices de un dataframe podemos utilizar la asignación directa a la propiedad `index` del dataframe de un vector con los nuevos valores."
      ]
    },
    {
      "cell_type": "code",
      "execution_count": null,
      "metadata": {
        "id": "xHgytwN649pl",
        "outputId": "8527118d-ddf4-4c8c-c1f6-d96459f04489"
      },
      "outputs": [
        {
          "data": {
            "text/html": [
              "<div>\n",
              "<style scoped>\n",
              "    .dataframe tbody tr th:only-of-type {\n",
              "        vertical-align: middle;\n",
              "    }\n",
              "\n",
              "    .dataframe tbody tr th {\n",
              "        vertical-align: top;\n",
              "    }\n",
              "\n",
              "    .dataframe thead th {\n",
              "        text-align: right;\n",
              "    }\n",
              "</style>\n",
              "<table border=\"1\" class=\"dataframe\">\n",
              "  <thead>\n",
              "    <tr style=\"text-align: right;\">\n",
              "      <th></th>\n",
              "      <th>Función</th>\n",
              "      <th>evento</th>\n",
              "    </tr>\n",
              "  </thead>\n",
              "  <tbody>\n",
              "    <tr>\n",
              "      <th>4</th>\n",
              "      <td>New</td>\n",
              "      <td>CreateNewDoc()</td>\n",
              "    </tr>\n",
              "    <tr>\n",
              "      <th>5</th>\n",
              "      <td>Open</td>\n",
              "      <td>OpenDoc()</td>\n",
              "    </tr>\n",
              "    <tr>\n",
              "      <th>6</th>\n",
              "      <td>Close</td>\n",
              "      <td>CloseDoc()</td>\n",
              "    </tr>\n",
              "  </tbody>\n",
              "</table>\n",
              "</div>"
            ],
            "text/plain": [
              "  Función          evento\n",
              "4     New  CreateNewDoc()\n",
              "5    Open       OpenDoc()\n",
              "6   Close      CloseDoc()"
            ]
          },
          "execution_count": 132,
          "metadata": {},
          "output_type": "execute_result"
        }
      ],
      "source": [
        "dfjson.index=range(4,7)\n",
        "dfjson"
      ]
    },
    {
      "cell_type": "markdown",
      "metadata": {
        "id": "a6pvf3Lo49pm"
      },
      "source": [
        "También podemos utilizar los métodos `set_index` y `reset_index` para convertir columnas en índices o convertir índices en columnas"
      ]
    },
    {
      "cell_type": "code",
      "execution_count": null,
      "metadata": {
        "id": "HHVozuhd49pm",
        "outputId": "8f0373f6-5e5a-4b76-b219-9d63c0135c44"
      },
      "outputs": [
        {
          "data": {
            "text/html": [
              "<table border=\"4\" class=\"dataframe\">\n",
              "             <caption style=\"font-size:1.2em;\">\n",
              "                 <strong></strong>\n",
              "             </caption><tr><td style=\"border: 1px solid black; vertical-align:top;\"><table border=\"1\" class=\"dataframe\">\n",
              "  <thead>\n",
              "    <tr style=\"text-align: right;\">\n",
              "      <th></th>\n",
              "      <th>Función</th>\n",
              "      <th>evento</th>\n",
              "    </tr>\n",
              "  </thead>\n",
              "  <tbody>\n",
              "    <tr>\n",
              "      <th>4</th>\n",
              "      <td>New</td>\n",
              "      <td>CreateNewDoc()</td>\n",
              "    </tr>\n",
              "    <tr>\n",
              "      <th>5</th>\n",
              "      <td>Open</td>\n",
              "      <td>OpenDoc()</td>\n",
              "    </tr>\n",
              "    <tr>\n",
              "      <th>6</th>\n",
              "      <td>Close</td>\n",
              "      <td>CloseDoc()</td>\n",
              "    </tr>\n",
              "  </tbody>\n",
              "</table></td><td style=\"border: 1px solid black; vertical-align:top;\"><table border=\"1\" class=\"dataframe\">\n",
              "  <thead>\n",
              "    <tr style=\"text-align: right;\">\n",
              "      <th></th>\n",
              "      <th>evento</th>\n",
              "    </tr>\n",
              "    <tr>\n",
              "      <th>Función</th>\n",
              "      <th></th>\n",
              "    </tr>\n",
              "  </thead>\n",
              "  <tbody>\n",
              "    <tr>\n",
              "      <th>New</th>\n",
              "      <td>CreateNewDoc()</td>\n",
              "    </tr>\n",
              "    <tr>\n",
              "      <th>Open</th>\n",
              "      <td>OpenDoc()</td>\n",
              "    </tr>\n",
              "    <tr>\n",
              "      <th>Close</th>\n",
              "      <td>CloseDoc()</td>\n",
              "    </tr>\n",
              "  </tbody>\n",
              "</table></td><td style=\"border: 1px solid black; vertical-align:top;\"><table border=\"1\" class=\"dataframe\">\n",
              "  <thead>\n",
              "    <tr style=\"text-align: right;\">\n",
              "      <th></th>\n",
              "      <th>Función</th>\n",
              "      <th>evento</th>\n",
              "    </tr>\n",
              "  </thead>\n",
              "  <tbody>\n",
              "    <tr>\n",
              "      <th>0</th>\n",
              "      <td>New</td>\n",
              "      <td>CreateNewDoc()</td>\n",
              "    </tr>\n",
              "    <tr>\n",
              "      <th>1</th>\n",
              "      <td>Open</td>\n",
              "      <td>OpenDoc()</td>\n",
              "    </tr>\n",
              "    <tr>\n",
              "      <th>2</th>\n",
              "      <td>Close</td>\n",
              "      <td>CloseDoc()</td>\n",
              "    </tr>\n",
              "  </tbody>\n",
              "</table></td></tr></table>"
            ],
            "text/plain": [
              "<IPython.core.display.HTML object>"
            ]
          },
          "metadata": {},
          "output_type": "display_data"
        }
      ],
      "source": [
        "dfjson2 = dfjson.set_index('Función')\n",
        "dfjson3 = dfjson2.reset_index()\n",
        "show_dfs (dfjson, dfjson2, dfjson3)"
      ]
    },
    {
      "cell_type": "markdown",
      "metadata": {
        "toc-hr-collapsed": true,
        "id": "msTOBcwx49pn"
      },
      "source": [
        "# Tipos"
      ]
    },
    {
      "cell_type": "markdown",
      "metadata": {
        "id": "RmgS9iBH49pn"
      },
      "source": [
        "A continuación creamos un dataframe cuyas columnas tienen algunos tipos utilizados habitualmente, hay que tener en cuenta que `int*, Int* y float*` pueden tener muchos tipos dependiendo de la precisión.\n",
        "También es conveniente fijarse en que los tipos `int` no permiten nulos, si los necesitamos tenemos que recurrir a los equivalentes `Int` (*empiezan por mayúscula*)."
      ]
    },
    {
      "cell_type": "code",
      "execution_count": null,
      "metadata": {
        "id": "e5Ypm0pm49po",
        "outputId": "90fbbb5f-c0a8-4a99-c9bb-f051bd29162d"
      },
      "outputs": [
        {
          "name": "stdout",
          "output_type": "stream",
          "text": [
            "<class 'pandas.core.frame.DataFrame'>\n",
            "RangeIndex: 3 entries, 0 to 2\n",
            "Data columns (total 8 columns):\n",
            " #   Column        Non-Null Count  Dtype         \n",
            "---  ------        --------------  -----         \n",
            " 0   c_int64       3 non-null      int64         \n",
            " 1   c_Int64       3 non-null      Int64         \n",
            " 2   c_str         3 non-null      object        \n",
            " 3   c_cat         3 non-null      category      \n",
            " 4   c_boolean     2 non-null      boolean       \n",
            " 5   c_bool        2 non-null      object        \n",
            " 6   c_float       3 non-null      float64       \n",
            " 7   c_datetime64  3 non-null      datetime64[ns]\n",
            "dtypes: Int64(1), boolean(1), category(1), datetime64[ns](1), float64(1), int64(1), object(2)\n",
            "memory usage: 416.0+ bytes\n"
          ]
        }
      ],
      "source": [
        "nums=range(1,4)\n",
        "alf=list('abc')\n",
        "logic = [True,False]\n",
        "df = pd.DataFrame({\n",
        "    'c_int64'     : pd.Series(nums, dtype=\"int64\"),\n",
        "    'c_Int64'     : pd.Series(nums, dtype=\"Int64\"),\n",
        "    'c_str'       : pd.Series(alf, dtype='str_'),\n",
        "    'c_cat'       : pd.Series(alf, dtype='category'),\n",
        "    'c_boolean'   : pd.Series(logic, dtype='boolean'),\n",
        "    'c_bool'      : pd.Series(logic, dtype='bool'),\n",
        "    'c_float'     : pd.Series(nums, dtype='float'),\n",
        "    'c_datetime64': pd.Series(nums, dtype=\"datetime64[ns]\"),\n",
        "})\n",
        "\n",
        "df.info()"
      ]
    },
    {
      "cell_type": "code",
      "execution_count": null,
      "metadata": {
        "id": "dnzpqy8449pq",
        "outputId": "87e7325a-5bb5-4499-cfbf-60eaa25d4422"
      },
      "outputs": [
        {
          "data": {
            "text/html": [
              "<div>\n",
              "<style scoped>\n",
              "    .dataframe tbody tr th:only-of-type {\n",
              "        vertical-align: middle;\n",
              "    }\n",
              "\n",
              "    .dataframe tbody tr th {\n",
              "        vertical-align: top;\n",
              "    }\n",
              "\n",
              "    .dataframe thead th {\n",
              "        text-align: right;\n",
              "    }\n",
              "</style>\n",
              "<table border=\"1\" class=\"dataframe\">\n",
              "  <thead>\n",
              "    <tr style=\"text-align: right;\">\n",
              "      <th></th>\n",
              "      <th>c_int64</th>\n",
              "      <th>c_Int64</th>\n",
              "      <th>c_str</th>\n",
              "      <th>c_cat</th>\n",
              "      <th>c_boolean</th>\n",
              "      <th>c_bool</th>\n",
              "      <th>c_float</th>\n",
              "      <th>c_datetime64</th>\n",
              "    </tr>\n",
              "  </thead>\n",
              "  <tbody>\n",
              "    <tr>\n",
              "      <th>0</th>\n",
              "      <td>1</td>\n",
              "      <td>1</td>\n",
              "      <td>a</td>\n",
              "      <td>a</td>\n",
              "      <td>True</td>\n",
              "      <td>True</td>\n",
              "      <td>1.0</td>\n",
              "      <td>1970-01-01 00:00:00.000000001</td>\n",
              "    </tr>\n",
              "    <tr>\n",
              "      <th>1</th>\n",
              "      <td>2</td>\n",
              "      <td>2</td>\n",
              "      <td>b</td>\n",
              "      <td>b</td>\n",
              "      <td>False</td>\n",
              "      <td>False</td>\n",
              "      <td>2.0</td>\n",
              "      <td>1970-01-01 00:00:00.000000002</td>\n",
              "    </tr>\n",
              "    <tr>\n",
              "      <th>2</th>\n",
              "      <td>3</td>\n",
              "      <td>3</td>\n",
              "      <td>c</td>\n",
              "      <td>c</td>\n",
              "      <td>&lt;NA&gt;</td>\n",
              "      <td>NaN</td>\n",
              "      <td>3.0</td>\n",
              "      <td>1970-01-01 00:00:00.000000003</td>\n",
              "    </tr>\n",
              "  </tbody>\n",
              "</table>\n",
              "</div>"
            ],
            "text/plain": [
              "   c_int64  c_Int64 c_str c_cat  c_boolean c_bool  c_float  \\\n",
              "0        1        1     a     a       True   True      1.0   \n",
              "1        2        2     b     b      False  False      2.0   \n",
              "2        3        3     c     c       <NA>    NaN      3.0   \n",
              "\n",
              "                   c_datetime64  \n",
              "0 1970-01-01 00:00:00.000000001  \n",
              "1 1970-01-01 00:00:00.000000002  \n",
              "2 1970-01-01 00:00:00.000000003  "
            ]
          },
          "execution_count": 31,
          "metadata": {},
          "output_type": "execute_result"
        }
      ],
      "source": [
        "df"
      ]
    },
    {
      "cell_type": "markdown",
      "metadata": {
        "id": "Hrfoy_Hm49pq"
      },
      "source": [
        "## Tipo: Category"
      ]
    },
    {
      "cell_type": "markdown",
      "metadata": {
        "id": "Sau_SYUD49pr"
      },
      "source": [
        "\n",
        "[Differences to R’s factor](https://pandas.pydata.org/pandas-docs/stable/user_guide/categorical.html#differences-to-r-s-factor)\n",
        "\n",
        "The following differences to R’s factor functions can be observed:\n",
        "\n",
        "* R’s `levels` are named `categories`.\n",
        "* R’s `levels` are always of type string, while `categories` in pandas can be of any dtype.\n",
        "* It’s not possible to specify `labels` at creation time. Use `s.cat.rename_categories(new_labels)` afterwards.\n",
        "* In contrast to R’s `factor` function, using categorical data as the sole input to create a new categorical series will not remove unused categories but create a new categorical series which is equal to the passed in one!\n",
        "* R allows for missing values to be included in its `levels` (pandas’ `categories`). pandas does not allow `NaN` categories, but missing values can still be in the `values`."
      ]
    },
    {
      "cell_type": "markdown",
      "metadata": {
        "id": "od4-OLfX49pt"
      },
      "source": [
        "Es un tipo de dato para almacenar datos categóricos, tiene las propiedades `categories` y `ordered`.  \n",
        "Para acceder a estas propiedades en un DataFrame se hace a través del método `cat` de la clase `pandas.Series`"
      ]
    },
    {
      "cell_type": "code",
      "execution_count": null,
      "metadata": {
        "id": "9K4etwwE49pu",
        "outputId": "c7476b59-c467-43d5-fcf0-bc9b76c67200"
      },
      "outputs": [
        {
          "name": "stdout",
          "output_type": "stream",
          "text": [
            "Tipo columna:  <class 'pandas.core.series.Series'>\n",
            "Tipo cat:  <class 'pandas.core.arrays.categorical.CategoricalAccessor'>\n",
            "Categorías:  Index(['a', 'b', 'c'], dtype='object')\n",
            "Índice a la categoría [0 1 2]\n",
            "Ordered:  False\n"
          ]
        },
        {
          "data": {
            "text/plain": [
              "0    a\n",
              "1    b\n",
              "2    c\n",
              "Name: c_cat, dtype: category\n",
              "Categories (3, object): ['a', 'b', 'c']"
            ]
          },
          "execution_count": 32,
          "metadata": {},
          "output_type": "execute_result"
        }
      ],
      "source": [
        "print ('Tipo columna: ', type(df.c_cat))\n",
        "print ('Tipo cat: ', type(df.c_cat.cat))\n",
        "print ('Categorías: ', df.c_cat.cat.categories)\n",
        "print ('Índice a la categoría', df.c_cat.values.codes)\n",
        "print ('Ordered: ', df.c_cat.cat.ordered)\n",
        "df.c_cat"
      ]
    },
    {
      "cell_type": "code",
      "execution_count": null,
      "metadata": {
        "id": "sZRt7A-E49px",
        "outputId": "bc821beb-3c6b-447c-b2ca-3eb4788a2d12"
      },
      "outputs": [
        {
          "data": {
            "text/plain": [
              "a    1\n",
              "b    1\n",
              "c    1\n",
              "Name: c_cat, dtype: int64"
            ]
          },
          "execution_count": 33,
          "metadata": {},
          "output_type": "execute_result"
        }
      ],
      "source": [
        "df.c_cat.value_counts()"
      ]
    },
    {
      "cell_type": "markdown",
      "metadata": {
        "id": "IZBOkMoJ49py"
      },
      "source": [
        "### Podemos renombrar las categorías"
      ]
    },
    {
      "cell_type": "code",
      "execution_count": null,
      "metadata": {
        "id": "sokowGpM49pz",
        "outputId": "5f714418-74d4-43ad-c29c-dd8f8fa151eb"
      },
      "outputs": [
        {
          "data": {
            "text/plain": [
              "0    Grupo a\n",
              "1    Grupo b\n",
              "2    Grupo c\n",
              "Name: c_cat, dtype: category\n",
              "Categories (3, object): ['Grupo a', 'Grupo b', 'Grupo c']"
            ]
          },
          "execution_count": 34,
          "metadata": {},
          "output_type": "execute_result"
        }
      ],
      "source": [
        "df.c_cat.cat.categories = ['Grupo a', 'Grupo b', 'Grupo c']\n",
        "df.c_cat"
      ]
    },
    {
      "cell_type": "markdown",
      "metadata": {
        "id": "2h3FZaxj49p0"
      },
      "source": [
        "La mayoría de los métodos de la clase generan un nuevo objeto, pero **renombrar** las categorias **se hace sobre el propio objeto (in place)**  \n",
        "\n",
        "Cuando renombramos las categorías las nuevas categorías sustituyen a las antiguas según el orden en el que aparecen en el array *Categories*."
      ]
    },
    {
      "cell_type": "code",
      "execution_count": null,
      "metadata": {
        "id": "XCUDMv_X49p1",
        "outputId": "288265a4-5e60-43ad-f2ef-3648634174a4"
      },
      "outputs": [
        {
          "data": {
            "text/plain": [
              "['d', 'c', 'b', 'a']\n",
              "Categories (4, object): ['a', 'b', 'c', 'd']"
            ]
          },
          "execution_count": 35,
          "metadata": {},
          "output_type": "execute_result"
        }
      ],
      "source": [
        "c = pd.Categorical (list('dcba'),ordered=False)\n",
        "c"
      ]
    },
    {
      "cell_type": "code",
      "execution_count": null,
      "metadata": {
        "id": "X_q4qLOo49p1",
        "outputId": "d9becadf-cd08-486e-876e-862dd50d27d4"
      },
      "outputs": [
        {
          "data": {
            "text/plain": [
              "['4', '3', '2', '1']\n",
              "Categories (4, object): ['1', '2', '3', '4']"
            ]
          },
          "execution_count": 36,
          "metadata": {},
          "output_type": "execute_result"
        }
      ],
      "source": [
        "c.categories=list('1234')\n",
        "c"
      ]
    },
    {
      "cell_type": "code",
      "execution_count": null,
      "metadata": {
        "id": "LOG4kU6V49p2",
        "outputId": "b9861321-983c-454a-a3c2-c613529a1cf2"
      },
      "outputs": [
        {
          "data": {
            "text/plain": [
              "[3, 3, 4, 5, 2, 1, 6, 6]\n",
              "Categories (6, int64): [1 < 2 < 3 < 4 < 5 < 6]"
            ]
          },
          "execution_count": 115,
          "metadata": {},
          "output_type": "execute_result"
        }
      ],
      "source": [
        "v_cat = pd.Categorical ([3,3,4,5,2,1,6,6], ordered=True)\n",
        "v_cat"
      ]
    },
    {
      "cell_type": "code",
      "execution_count": null,
      "metadata": {
        "id": "gPMnXT6F49p3",
        "outputId": "e906343f-cb6a-46b0-aec8-5bd9580cffb2"
      },
      "outputs": [
        {
          "data": {
            "text/plain": [
              "['C3', 'C3', 'C4', 'C5', 'C2', 'C1', 'C6', 'C6']\n",
              "Categories (6, object): ['C1' < 'C2' < 'C3' < 'C4' < 'C5' < 'C6']"
            ]
          },
          "execution_count": 117,
          "metadata": {},
          "output_type": "execute_result"
        }
      ],
      "source": [
        "v_cat.categories = [f'C{i}' for i in range (1,7)]\n",
        "v_cat"
      ]
    },
    {
      "cell_type": "markdown",
      "metadata": {
        "id": "PhNG5-ge49p4"
      },
      "source": [
        "### Categorías: Añadir, eliminar, ordenar, ..."
      ]
    },
    {
      "cell_type": "markdown",
      "metadata": {
        "id": "lDA2FNBm49p4"
      },
      "source": [
        "Cuando añadimos o eliminamos categorías se genera un nuevo objeto"
      ]
    },
    {
      "cell_type": "code",
      "execution_count": null,
      "metadata": {
        "id": "lm5YTJM749p5",
        "outputId": "4b5b9d34-010b-48e9-ad72-10261cf3456d"
      },
      "outputs": [
        {
          "data": {
            "text/plain": [
              "['C3', 'C3', 'C4', 'C5', 'C2', 'C1', 'C6', 'C6']\n",
              "Categories (7, object): ['C1' < 'C2' < 'C3' < 'C4' < 'C5' < 'C6' < 'Cara 7']"
            ]
          },
          "execution_count": 118,
          "metadata": {},
          "output_type": "execute_result"
        }
      ],
      "source": [
        "v_cat.add_categories(['Cara 7'])"
      ]
    },
    {
      "cell_type": "code",
      "execution_count": null,
      "metadata": {
        "id": "O8rPaUmb49p6",
        "outputId": "d48fd0a5-8e17-460e-8701-cba7ddd41ce2"
      },
      "outputs": [
        {
          "data": {
            "text/plain": [
              "C1        1\n",
              "C2        1\n",
              "C3        2\n",
              "C4        1\n",
              "C5        1\n",
              "C6        2\n",
              "Cara 7    0\n",
              "dtype: int64"
            ]
          },
          "execution_count": 119,
          "metadata": {},
          "output_type": "execute_result"
        }
      ],
      "source": [
        "v_cat.add_categories(['Cara 7']).value_counts()  #Cuenta los que no tienen valores, como 'Cara 7'"
      ]
    },
    {
      "cell_type": "code",
      "execution_count": null,
      "metadata": {
        "id": "Eg83nyoI49p7",
        "outputId": "e82c1e16-2a3c-438f-dd8f-0bcc172c8821"
      },
      "outputs": [
        {
          "data": {
            "text/plain": [
              "['Cara 3', 'Cara 3', 'Cara 4', 'Cara 5', 'Cara 5', 'Cara 2', NaN, NaN, 'Cara 6', 'Cara 6']\n",
              "Categories (5, object): ['Cara 2' < 'Cara 3' < 'Cara 4' < 'Cara 5' < 'Cara 6']"
            ]
          },
          "execution_count": 41,
          "metadata": {},
          "output_type": "execute_result"
        }
      ],
      "source": [
        "v_cat.remove_categories(['Cara 1'])"
      ]
    },
    {
      "cell_type": "code",
      "execution_count": null,
      "metadata": {
        "id": "RnBT6or649p7",
        "outputId": "5e2e7540-86d1-4bf6-c782-05b5409fc0e7"
      },
      "outputs": [
        {
          "data": {
            "text/plain": [
              "['a', 'a', 'a', 'b', 'b']\n",
              "Categories (3, object): ['a', 'b', 'c']"
            ]
          },
          "execution_count": 42,
          "metadata": {},
          "output_type": "execute_result"
        }
      ],
      "source": [
        "letras = pd.Categorical(list('aaabb'),categories=list('abc'))\n",
        "letras"
      ]
    },
    {
      "cell_type": "code",
      "execution_count": null,
      "metadata": {
        "id": "jWlnBOfU49p9",
        "outputId": "9936a8ef-4747-42e3-afb5-d00c8beba3c7"
      },
      "outputs": [
        {
          "data": {
            "text/plain": [
              "['a', 'a', 'a', 'b', 'b']\n",
              "Categories (2, object): ['a', 'b']"
            ]
          },
          "execution_count": 43,
          "metadata": {},
          "output_type": "execute_result"
        }
      ],
      "source": [
        "letras.remove_unused_categories() #elimina 'c'"
      ]
    },
    {
      "cell_type": "markdown",
      "metadata": {
        "id": "LZYfWcBu49qA"
      },
      "source": [
        "Si el objeto de tipo `category` está ordenado tienen sentido los métodos `.min()/.max()`"
      ]
    },
    {
      "cell_type": "code",
      "execution_count": null,
      "metadata": {
        "id": "K-iWaj5649qC",
        "outputId": "0f8957cb-fbe4-4928-b208-d830691d3c0f"
      },
      "outputs": [
        {
          "data": {
            "text/plain": [
              "[9, 3, 4, 8, 6, 5, 10, 7, 2, 1]\n",
              "Categories (10, int64): [1 < 2 < 3 < 4 ... 7 < 8 < 9 < 10]"
            ]
          },
          "execution_count": 44,
          "metadata": {},
          "output_type": "execute_result"
        }
      ],
      "source": [
        "nums = pd.Categorical(np.random.choice(range(1,11),10,replace=False),\n",
        "                      categories=range(1,11),\n",
        "                      ordered=True)\n",
        "nums"
      ]
    },
    {
      "cell_type": "code",
      "execution_count": null,
      "metadata": {
        "id": "AyWiGlph49qH",
        "outputId": "71769b2b-c33b-4153-aecd-80f18179deb2"
      },
      "outputs": [
        {
          "name": "stdout",
          "output_type": "stream",
          "text": [
            "El valor máximo:  10\n",
            "Está en la posición:  (array([6]),)\n"
          ]
        }
      ],
      "source": [
        "print ('El valor máximo: ', nums.max())\n",
        "print ('Está en la posición: ', np.where (nums==nums.max()))"
      ]
    },
    {
      "cell_type": "markdown",
      "metadata": {
        "id": "HqyVFWYD49qJ"
      },
      "source": [
        "Se puede convertir una `category` en `ordered`.  \n",
        "Hay que tener en cuenta que por defecto las categorías las ordena de menor a mayor, y al convertirla en un `category` ordenado se mantiene ese orden porque el `.as_ordered()` convierte a categoría ordenada, pero manteniendo el orden previo que tenían las categorías"
      ]
    },
    {
      "cell_type": "code",
      "execution_count": null,
      "metadata": {
        "id": "GC2luGkb49qL",
        "outputId": "97e508bf-0bfd-4728-baf4-afc55d39ba2d"
      },
      "outputs": [
        {
          "data": {
            "text/plain": [
              "[5, 4, 2, 1, 3]\n",
              "Categories (5, int64): [1, 2, 3, 4, 5]"
            ]
          },
          "execution_count": 46,
          "metadata": {},
          "output_type": "execute_result"
        }
      ],
      "source": [
        "nums = pd.Categorical(np.random.choice(range(1,6),5,replace=False))\n",
        "nums"
      ]
    },
    {
      "cell_type": "code",
      "execution_count": null,
      "metadata": {
        "id": "7lKY5v2x49qM",
        "outputId": "c97c46e2-71f9-438b-b3e2-a5c28d912aa1"
      },
      "outputs": [
        {
          "data": {
            "text/plain": [
              "[5, 4, 2, 1, 3]\n",
              "Categories (5, int64): [1 < 2 < 3 < 4 < 5]"
            ]
          },
          "execution_count": 47,
          "metadata": {},
          "output_type": "execute_result"
        }
      ],
      "source": [
        "nums.as_ordered()"
      ]
    },
    {
      "cell_type": "code",
      "execution_count": null,
      "metadata": {
        "id": "LXppIfPb49qN",
        "outputId": "9c8f8164-8097-42b2-bcd6-434fb67a65a2"
      },
      "outputs": [
        {
          "data": {
            "text/plain": [
              "[4, 1, 2, 5, 3]\n",
              "Categories (5, int64): [5 < 4 < 3 < 2 < 1]"
            ]
          },
          "execution_count": 48,
          "metadata": {},
          "output_type": "execute_result"
        }
      ],
      "source": [
        "nums = pd.Categorical(np.random.choice(range(1,6),5,replace=False),\n",
        "                     categories=[5,4,3,2,1])\n",
        "nums.as_ordered()"
      ]
    },
    {
      "cell_type": "code",
      "execution_count": null,
      "metadata": {
        "id": "e3v9Kaw449qP",
        "outputId": "29b9f97e-2c47-4e3b-b9ec-0fa431e8ee5c"
      },
      "outputs": [
        {
          "data": {
            "text/plain": [
              "[4, 1, 2, 5, 3]\n",
              "Categories (5, int64): [5 < 4 < 3 < 2 < 1]"
            ]
          },
          "execution_count": 49,
          "metadata": {},
          "output_type": "execute_result"
        }
      ],
      "source": [
        "nums.as_ordered()"
      ]
    },
    {
      "cell_type": "markdown",
      "metadata": {
        "id": "vmvgHoiX49qT"
      },
      "source": [
        "Las variables categóricas no están soportadas por la clase `numpy.ndarray`"
      ]
    },
    {
      "cell_type": "code",
      "execution_count": null,
      "metadata": {
        "id": "0XR2iF2Q49qV",
        "outputId": "73155bdd-2f9e-4d30-daa4-e1eb11a932c6"
      },
      "outputs": [
        {
          "name": "stdout",
          "output_type": "stream",
          "text": [
            "Error:  'Categorical' does not implement reduction 'sum'\n"
          ]
        }
      ],
      "source": [
        "nums = pd.Series(range(1,5),dtype=\"category\")\n",
        "try:\n",
        "    np.sum(nums)\n",
        "except TypeError as e:\n",
        "    print (\"Error: \", str(e))"
      ]
    },
    {
      "cell_type": "code",
      "execution_count": null,
      "metadata": {
        "id": "8T1XHzv149qW",
        "outputId": "af994ced-f211-4288-9095-998d04dbb15c"
      },
      "outputs": [
        {
          "data": {
            "text/plain": [
              "10"
            ]
          },
          "execution_count": 51,
          "metadata": {},
          "output_type": "execute_result"
        }
      ],
      "source": [
        "np.sum(nums.astype('int'))"
      ]
    },
    {
      "cell_type": "markdown",
      "metadata": {
        "id": "Nla654jK49qX"
      },
      "source": [
        "Ocupan menos memoria que las variables habituales, siempre que el número de categorías no sea tan alto como el número de elementos"
      ]
    },
    {
      "cell_type": "code",
      "execution_count": null,
      "metadata": {
        "id": "dBUrytxs49qY",
        "outputId": "672a65e3-2df5-4fc9-d09d-99f124c05447"
      },
      "outputs": [
        {
          "name": "stdout",
          "output_type": "stream",
          "text": [
            "Habitual:  16000 bytes\n",
            "Categórica:  2016 bytes\n"
          ]
        }
      ],
      "source": [
        "s = pd.Series([\"Categoría 1\", \"Categoría 2\"] * 1000)\n",
        "print ('Habitual: ', s.nbytes, 'bytes')\n",
        "print ('Categórica: ', s.astype('category').nbytes, 'bytes')"
      ]
    },
    {
      "cell_type": "markdown",
      "metadata": {
        "toc-hr-collapsed": true,
        "id": "8MbB2fOQ49qZ"
      },
      "source": [
        "# Indexación y Selección de datos"
      ]
    },
    {
      "cell_type": "code",
      "execution_count": null,
      "metadata": {
        "id": "yDM_5I6949qa",
        "outputId": "6520793e-8533-45b9-ea5e-f25640b48f94"
      },
      "outputs": [
        {
          "data": {
            "text/html": [
              "<div>\n",
              "<style scoped>\n",
              "    .dataframe tbody tr th:only-of-type {\n",
              "        vertical-align: middle;\n",
              "    }\n",
              "\n",
              "    .dataframe tbody tr th {\n",
              "        vertical-align: top;\n",
              "    }\n",
              "\n",
              "    .dataframe thead th {\n",
              "        text-align: right;\n",
              "    }\n",
              "</style>\n",
              "<table border=\"1\" class=\"dataframe\">\n",
              "  <thead>\n",
              "    <tr style=\"text-align: right;\">\n",
              "      <th></th>\n",
              "      <th>Poblacion</th>\n",
              "      <th>Area</th>\n",
              "      <th>Estado</th>\n",
              "    </tr>\n",
              "  </thead>\n",
              "  <tbody>\n",
              "    <tr>\n",
              "      <th>Los Ángeles</th>\n",
              "      <td>38332521</td>\n",
              "      <td>423967</td>\n",
              "      <td>CA</td>\n",
              "    </tr>\n",
              "    <tr>\n",
              "      <th>Houston</th>\n",
              "      <td>26448193</td>\n",
              "      <td>695662</td>\n",
              "      <td>TX</td>\n",
              "    </tr>\n",
              "    <tr>\n",
              "      <th>New York</th>\n",
              "      <td>19651127</td>\n",
              "      <td>141297</td>\n",
              "      <td>NY</td>\n",
              "    </tr>\n",
              "    <tr>\n",
              "      <th>Miami</th>\n",
              "      <td>19552860</td>\n",
              "      <td>170312</td>\n",
              "      <td>FL</td>\n",
              "    </tr>\n",
              "    <tr>\n",
              "      <th>Chicago</th>\n",
              "      <td>12882135</td>\n",
              "      <td>149995</td>\n",
              "      <td>IL</td>\n",
              "    </tr>\n",
              "  </tbody>\n",
              "</table>\n",
              "</div>"
            ],
            "text/plain": [
              "             Poblacion    Area Estado\n",
              "Los Ángeles   38332521  423967     CA\n",
              "Houston       26448193  695662     TX\n",
              "New York      19651127  141297     NY\n",
              "Miami         19552860  170312     FL\n",
              "Chicago       12882135  149995     IL"
            ]
          },
          "execution_count": 53,
          "metadata": {},
          "output_type": "execute_result"
        }
      ],
      "source": [
        "pop = [38332521,26448193,19651127,19552860, 12882135]\n",
        "area = [423967, 695662, 141297, 170312, 149995]\n",
        "state = ['CA', 'TX', 'NY', 'FL', 'IL']\n",
        "cols = ['Poblacion', 'Area', 'Estado']\n",
        "cities = ['Los Ángeles', 'Houston', 'New York','Miami', 'Chicago']\n",
        "ciudades = pd.DataFrame({'Poblacion':pop,'Area':area,'Estado':state},\n",
        "                        index=cities)\n",
        "ciudades"
      ]
    },
    {
      "cell_type": "markdown",
      "metadata": {
        "id": "vWiHGkdc49qb"
      },
      "source": [
        "Como el DataFrame está formados por columnas de la clase `Series` y esta clase se indexa como la clase `numpy.ndarray` podemos acceder a los valores de una serie por el nombre del índice. Se muestra el acceso al valor de *Texas* de la columna *area*"
      ]
    },
    {
      "cell_type": "code",
      "execution_count": null,
      "metadata": {
        "id": "LIhmsa9G49qc",
        "outputId": "6375c12c-a3bf-48b0-adb9-123d9f0a208b"
      },
      "outputs": [
        {
          "data": {
            "text/plain": [
              "695662"
            ]
          },
          "execution_count": 54,
          "metadata": {},
          "output_type": "execute_result"
        }
      ],
      "source": [
        "ciudades['Area']['Houston']"
      ]
    },
    {
      "cell_type": "markdown",
      "metadata": {
        "id": "mxrxm2-X49qc"
      },
      "source": [
        "Podemos verificar si un valor está en el índice del DataFrame"
      ]
    },
    {
      "cell_type": "code",
      "execution_count": null,
      "metadata": {
        "id": "ViocBULl49qd",
        "outputId": "6636602f-caab-4e19-8898-0d146361cc1c"
      },
      "outputs": [
        {
          "data": {
            "text/plain": [
              "True"
            ]
          },
          "execution_count": 55,
          "metadata": {},
          "output_type": "execute_result"
        }
      ],
      "source": [
        "'Miami' in ciudades['Area'] # igual que 'Miami' in ciudades.index"
      ]
    },
    {
      "cell_type": "markdown",
      "metadata": {
        "id": "Vqst0-ir49qf"
      },
      "source": [
        "## Accediendo a las columnas(`Series`) - 1 dimensión"
      ]
    },
    {
      "cell_type": "markdown",
      "metadata": {
        "id": "yLcBhWkF49qg"
      },
      "source": [
        "Podemos utilizar las funciones de diccionario para acceder a los elementos de una columna"
      ]
    },
    {
      "cell_type": "code",
      "execution_count": null,
      "metadata": {
        "id": "SP7BLXJU49qh",
        "outputId": "f9a158ac-dd14-4161-adce-628cb8d484a4"
      },
      "outputs": [
        {
          "data": {
            "text/plain": [
              "Index(['Los Ángeles', 'Houston', 'New York', 'Miami', 'Chicago'], dtype='object')"
            ]
          },
          "execution_count": 56,
          "metadata": {},
          "output_type": "execute_result"
        }
      ],
      "source": [
        "ciudades['Area'].keys()"
      ]
    },
    {
      "cell_type": "code",
      "execution_count": null,
      "metadata": {
        "id": "WIln8QWm49qi",
        "outputId": "611f490d-c439-476d-dd92-3f3aa7209876"
      },
      "outputs": [
        {
          "data": {
            "text/plain": [
              "[('Los Ángeles', 423967),\n",
              " ('Houston', 695662),\n",
              " ('New York', 141297),\n",
              " ('Miami', 170312),\n",
              " ('Chicago', 149995)]"
            ]
          },
          "execution_count": 57,
          "metadata": {},
          "output_type": "execute_result"
        }
      ],
      "source": [
        "list(ciudades['Area'].items())"
      ]
    },
    {
      "cell_type": "markdown",
      "metadata": {
        "id": "OEKsuxVR49qj"
      },
      "source": [
        "**Mediante posición**"
      ]
    },
    {
      "cell_type": "code",
      "execution_count": null,
      "metadata": {
        "id": "LxWyM09u49qk",
        "outputId": "70039abf-550d-460e-d5ad-b804d2d383fe"
      },
      "outputs": [
        {
          "data": {
            "text/plain": [
              "423967"
            ]
          },
          "execution_count": 58,
          "metadata": {},
          "output_type": "execute_result"
        }
      ],
      "source": [
        "ciudades.Area[0]"
      ]
    },
    {
      "cell_type": "markdown",
      "metadata": {
        "id": "B3H4iSHM49ql"
      },
      "source": [
        "**Mediante slicing**, rangos de índices"
      ]
    },
    {
      "cell_type": "code",
      "execution_count": null,
      "metadata": {
        "id": "SofGHCil49qm",
        "outputId": "16f8e84c-4620-43c3-bfd7-a0e87e7d9cc9"
      },
      "outputs": [
        {
          "data": {
            "text/plain": [
              "Houston     695662\n",
              "New York    141297\n",
              "Miami       170312\n",
              "Name: Area, dtype: int64"
            ]
          },
          "execution_count": 59,
          "metadata": {},
          "output_type": "execute_result"
        }
      ],
      "source": [
        "ciudades['Area']['Houston':'Miami']"
      ]
    },
    {
      "cell_type": "code",
      "execution_count": null,
      "metadata": {
        "id": "hvxhhSDf49qn",
        "outputId": "b20e4ffc-471e-457b-d1d9-0125447d44d9"
      },
      "outputs": [
        {
          "data": {
            "text/plain": [
              "Houston     695662\n",
              "New York    141297\n",
              "Miami       170312\n",
              "Name: Area, dtype: int64"
            ]
          },
          "execution_count": 60,
          "metadata": {},
          "output_type": "execute_result"
        }
      ],
      "source": [
        "a= 'Area'\n",
        "ciudades[a][1:4]"
      ]
    },
    {
      "cell_type": "markdown",
      "metadata": {
        "id": "_X9v1-uz49qq"
      },
      "source": [
        "**Masking**, array de booleanos"
      ]
    },
    {
      "cell_type": "code",
      "execution_count": null,
      "metadata": {
        "id": "U29HYTEX49qr",
        "outputId": "73af8ff8-8798-4723-b682-305ef51617ec"
      },
      "outputs": [
        {
          "data": {
            "text/plain": [
              "Los Ángeles     True\n",
              "Houston        False\n",
              "New York       False\n",
              "Miami           True\n",
              "Chicago        False\n",
              "Name: Area, dtype: bool"
            ]
          },
          "execution_count": 61,
          "metadata": {},
          "output_type": "execute_result"
        }
      ],
      "source": [
        "masking=(ciudades[a]>150_000) & (ciudades[a]<500_000)\n",
        "masking"
      ]
    },
    {
      "cell_type": "code",
      "execution_count": null,
      "metadata": {
        "id": "qPkr9My_49qs",
        "outputId": "14d22b19-7698-42e7-b640-7fc2fd357966"
      },
      "outputs": [
        {
          "data": {
            "text/plain": [
              "Los Ángeles    423967\n",
              "Miami          170312\n",
              "Name: Area, dtype: int64"
            ]
          },
          "execution_count": 62,
          "metadata": {},
          "output_type": "execute_result"
        }
      ],
      "source": [
        "ciudades.Area[masking]"
      ]
    },
    {
      "cell_type": "markdown",
      "metadata": {
        "id": "ES4OJ8Fz49qw"
      },
      "source": [
        "**Fancy**, array con los índices a recuperar"
      ]
    },
    {
      "cell_type": "code",
      "execution_count": null,
      "metadata": {
        "id": "xI8LmXIv49qy",
        "outputId": "39b30ae1-cbf0-4e2c-a5ba-66c8bcaad21b"
      },
      "outputs": [
        {
          "data": {
            "text/plain": [
              "Miami       170312\n",
              "New York    141297\n",
              "Name: Area, dtype: int64"
            ]
          },
          "execution_count": 63,
          "metadata": {},
          "output_type": "execute_result"
        }
      ],
      "source": [
        "ciudades.Area[['Miami','New York']]"
      ]
    },
    {
      "cell_type": "markdown",
      "metadata": {
        "id": "s126sZwR49q0"
      },
      "source": [
        "## Accediendo al DataFrame - 2 dimensiones"
      ]
    },
    {
      "cell_type": "markdown",
      "metadata": {
        "id": "qp2rpLqe49q1"
      },
      "source": [
        "Un DataFrame en un array de 2 dimensiones *vitaminado*"
      ]
    },
    {
      "cell_type": "code",
      "execution_count": null,
      "metadata": {
        "id": "m1pDvEt549q2",
        "outputId": "57282afb-100d-407f-deb8-71430e8a74a6"
      },
      "outputs": [
        {
          "data": {
            "text/plain": [
              "array([[38332521, 423967, 'CA'],\n",
              "       [26448193, 695662, 'TX'],\n",
              "       [19651127, 141297, 'NY'],\n",
              "       [19552860, 170312, 'FL'],\n",
              "       [12882135, 149995, 'IL']], dtype=object)"
            ]
          },
          "execution_count": 64,
          "metadata": {},
          "output_type": "execute_result"
        }
      ],
      "source": [
        "ciudades.values"
      ]
    },
    {
      "cell_type": "markdown",
      "metadata": {
        "id": "VgydzDje49q3"
      },
      "source": [
        "Al ser un array de 2 dimensiones, podemos, por ejemplo, calcula el *transpuesto*"
      ]
    },
    {
      "cell_type": "code",
      "execution_count": null,
      "metadata": {
        "id": "AvUpXADo49q4",
        "outputId": "30c81761-4510-4774-cdd2-509fa89f2c0e"
      },
      "outputs": [
        {
          "data": {
            "text/html": [
              "<div>\n",
              "<style scoped>\n",
              "    .dataframe tbody tr th:only-of-type {\n",
              "        vertical-align: middle;\n",
              "    }\n",
              "\n",
              "    .dataframe tbody tr th {\n",
              "        vertical-align: top;\n",
              "    }\n",
              "\n",
              "    .dataframe thead th {\n",
              "        text-align: right;\n",
              "    }\n",
              "</style>\n",
              "<table border=\"1\" class=\"dataframe\">\n",
              "  <thead>\n",
              "    <tr style=\"text-align: right;\">\n",
              "      <th></th>\n",
              "      <th>Los Ángeles</th>\n",
              "      <th>Houston</th>\n",
              "      <th>New York</th>\n",
              "      <th>Miami</th>\n",
              "      <th>Chicago</th>\n",
              "    </tr>\n",
              "  </thead>\n",
              "  <tbody>\n",
              "    <tr>\n",
              "      <th>Poblacion</th>\n",
              "      <td>38332521</td>\n",
              "      <td>26448193</td>\n",
              "      <td>19651127</td>\n",
              "      <td>19552860</td>\n",
              "      <td>12882135</td>\n",
              "    </tr>\n",
              "    <tr>\n",
              "      <th>Area</th>\n",
              "      <td>423967</td>\n",
              "      <td>695662</td>\n",
              "      <td>141297</td>\n",
              "      <td>170312</td>\n",
              "      <td>149995</td>\n",
              "    </tr>\n",
              "    <tr>\n",
              "      <th>Estado</th>\n",
              "      <td>CA</td>\n",
              "      <td>TX</td>\n",
              "      <td>NY</td>\n",
              "      <td>FL</td>\n",
              "      <td>IL</td>\n",
              "    </tr>\n",
              "  </tbody>\n",
              "</table>\n",
              "</div>"
            ],
            "text/plain": [
              "          Los Ángeles   Houston  New York     Miami   Chicago\n",
              "Poblacion    38332521  26448193  19651127  19552860  12882135\n",
              "Area           423967    695662    141297    170312    149995\n",
              "Estado             CA        TX        NY        FL        IL"
            ]
          },
          "execution_count": 65,
          "metadata": {},
          "output_type": "execute_result"
        }
      ],
      "source": [
        "ciudades.T"
      ]
    },
    {
      "cell_type": "markdown",
      "metadata": {
        "id": "RnNgInRY49q5"
      },
      "source": [
        "Para el acceso a una *porción* de DataFrame utilizaremos los comando `loc` e `iloc`  \n",
        "* `loc`: Acceso mediante los nombres de índices de filas y columnas\n",
        "* `iloc`: Acceso mediante la posiciones de filas y columnas\n",
        "\n",
        "Cuando accedemos a los datos de un DataFrame tenemos que indicar el subconjunto de datos para cada dimensión. En la siguiente instrucciones obtenemos el subconjunto formado por la intersección de la fila con índice *Miami* y la columna de nombre *Area*.  \n",
        "Los subconjuntos pueden involucrar a varias filas y/o columnas"
      ]
    },
    {
      "cell_type": "code",
      "execution_count": null,
      "metadata": {
        "id": "RNCktsBX49q6",
        "outputId": "d57ee254-21bb-4011-abd6-93a273a518ed"
      },
      "outputs": [
        {
          "data": {
            "text/plain": [
              "170312"
            ]
          },
          "execution_count": 66,
          "metadata": {},
          "output_type": "execute_result"
        }
      ],
      "source": [
        "ciudades.loc['Miami','Area']"
      ]
    },
    {
      "cell_type": "code",
      "execution_count": null,
      "metadata": {
        "id": "iAhQ4YSF49q7",
        "outputId": "4df28f02-6984-4629-c5f7-f52d16589f36"
      },
      "outputs": [
        {
          "data": {
            "text/plain": [
              "170312"
            ]
          },
          "execution_count": 67,
          "metadata": {},
          "output_type": "execute_result"
        }
      ],
      "source": [
        "ciudades.iloc[3,1]"
      ]
    },
    {
      "cell_type": "markdown",
      "metadata": {
        "id": "_yGD8jOG49q8"
      },
      "source": [
        "Como veíamos en el acceso a las columnas, aquí también podemos utilizar los modos de acceso posicionales, slicing, masking y fancy, tanto a la dimensión de las filas (*axis o*), como a la dimensión de las columnas (*axis 1*)"
      ]
    },
    {
      "cell_type": "code",
      "execution_count": null,
      "metadata": {
        "id": "iYwwlG9c49q9",
        "outputId": "fa4af789-606e-43b7-d953-f21f73e21031"
      },
      "outputs": [
        {
          "data": {
            "text/plain": [
              "Poblacion    26448193\n",
              "Area           695662\n",
              "Estado             TX\n",
              "Name: Houston, dtype: object"
            ]
          },
          "execution_count": 68,
          "metadata": {},
          "output_type": "execute_result"
        }
      ],
      "source": [
        "ciudades.iloc [1,:]"
      ]
    },
    {
      "cell_type": "code",
      "execution_count": null,
      "metadata": {
        "id": "lChfl4IF49q-",
        "outputId": "f7a178df-9b37-494b-af25-73c83103d422"
      },
      "outputs": [
        {
          "data": {
            "text/plain": [
              "Poblacion    26448193\n",
              "Area           695662\n",
              "Estado             TX\n",
              "Name: Houston, dtype: object"
            ]
          },
          "execution_count": 69,
          "metadata": {},
          "output_type": "execute_result"
        }
      ],
      "source": [
        "ciudades.loc ['Houston',:]"
      ]
    },
    {
      "cell_type": "code",
      "execution_count": null,
      "metadata": {
        "id": "n46v6j6i49rB",
        "outputId": "981173ef-0439-4150-ea0c-dd78969e560e"
      },
      "outputs": [
        {
          "data": {
            "text/plain": [
              "Los Ángeles    423967\n",
              "Houston        695662\n",
              "Name: Area, dtype: int64"
            ]
          },
          "execution_count": 70,
          "metadata": {},
          "output_type": "execute_result"
        }
      ],
      "source": [
        "ciudades.iloc[:2,1]"
      ]
    },
    {
      "cell_type": "code",
      "execution_count": null,
      "metadata": {
        "id": "UAYSP3iJ49rF",
        "outputId": "18381dcc-7d58-4bc2-d3e4-e38b0346b76e"
      },
      "outputs": [
        {
          "data": {
            "text/plain": [
              "Los Ángeles    423967\n",
              "Houston        695662\n",
              "Name: Area, dtype: int64"
            ]
          },
          "execution_count": 71,
          "metadata": {},
          "output_type": "execute_result"
        }
      ],
      "source": [
        "ciudades.loc[:'Houston','Area']"
      ]
    },
    {
      "cell_type": "markdown",
      "metadata": {
        "id": "R_jDlqKh49rH"
      },
      "source": [
        "Recordemos que cualquier array de booleanos se interpreta como una máscara, de forma que solo se seleccionan las filas (o columnas si se aplica en esa dimensión), cuya posición coincide con valores `True`.  \n",
        "Por eso cualquier condición booleana genera un filtro de las filas que la cumplen"
      ]
    },
    {
      "cell_type": "code",
      "execution_count": null,
      "metadata": {
        "id": "O_YgjnZq49rJ",
        "outputId": "932f1090-28d7-4220-ff1b-d5693a806109"
      },
      "outputs": [
        {
          "data": {
            "text/plain": [
              "Los Ángeles    CA\n",
              "New York       NY\n",
              "Chicago        IL\n",
              "Name: Estado, dtype: object"
            ]
          },
          "execution_count": 72,
          "metadata": {},
          "output_type": "execute_result"
        }
      ],
      "source": [
        "mask=[True,False,True,False,True]\n",
        "ciudades.loc[mask,'Estado']"
      ]
    },
    {
      "cell_type": "code",
      "execution_count": null,
      "metadata": {
        "id": "BVpkMqal49rL",
        "outputId": "4fc3adb8-9120-494b-fbdf-b6abe60293f8"
      },
      "outputs": [
        {
          "data": {
            "text/plain": [
              "Los Ángeles    CA\n",
              "New York       NY\n",
              "Chicago        IL\n",
              "Name: Estado, dtype: object"
            ]
          },
          "execution_count": 73,
          "metadata": {},
          "output_type": "execute_result"
        }
      ],
      "source": [
        "ciudades.iloc[mask,2]"
      ]
    },
    {
      "cell_type": "code",
      "execution_count": null,
      "metadata": {
        "id": "QkR7l5KZ49rM",
        "outputId": "86fcfc24-b063-4b3b-8bb4-71d32661c296"
      },
      "outputs": [
        {
          "data": {
            "text/plain": [
              "Los Ángeles    CA\n",
              "New York       NY\n",
              "Chicago        IL\n",
              "Name: Estado, dtype: object"
            ]
          },
          "execution_count": 74,
          "metadata": {},
          "output_type": "execute_result"
        }
      ],
      "source": [
        "ciudades.iloc[[0,2,4],2]"
      ]
    },
    {
      "cell_type": "markdown",
      "metadata": {
        "id": "TAuGj3xo49rN"
      },
      "source": [
        "Las mismas funciones que se utilizan para acceder a los elementos nos van a permitir modificar los valores de los elementos seleccionados"
      ]
    },
    {
      "cell_type": "code",
      "execution_count": null,
      "metadata": {
        "id": "Wo7UqEDD49rO",
        "outputId": "850dd1db-bb63-4e67-fbbf-07563813cf96"
      },
      "outputs": [
        {
          "data": {
            "text/html": [
              "<div>\n",
              "<style scoped>\n",
              "    .dataframe tbody tr th:only-of-type {\n",
              "        vertical-align: middle;\n",
              "    }\n",
              "\n",
              "    .dataframe tbody tr th {\n",
              "        vertical-align: top;\n",
              "    }\n",
              "\n",
              "    .dataframe thead th {\n",
              "        text-align: right;\n",
              "    }\n",
              "</style>\n",
              "<table border=\"1\" class=\"dataframe\">\n",
              "  <thead>\n",
              "    <tr style=\"text-align: right;\">\n",
              "      <th></th>\n",
              "      <th>Poblacion</th>\n",
              "      <th>Area</th>\n",
              "      <th>Estado</th>\n",
              "      <th>colTest</th>\n",
              "    </tr>\n",
              "  </thead>\n",
              "  <tbody>\n",
              "    <tr>\n",
              "      <th>Los Ángeles</th>\n",
              "      <td>38332521</td>\n",
              "      <td>423967</td>\n",
              "      <td>CA</td>\n",
              "      <td>1</td>\n",
              "    </tr>\n",
              "    <tr>\n",
              "      <th>Houston</th>\n",
              "      <td>26448193</td>\n",
              "      <td>695662</td>\n",
              "      <td>TX</td>\n",
              "      <td>1</td>\n",
              "    </tr>\n",
              "    <tr>\n",
              "      <th>New York</th>\n",
              "      <td>19651127</td>\n",
              "      <td>141297</td>\n",
              "      <td>NY</td>\n",
              "      <td>1</td>\n",
              "    </tr>\n",
              "    <tr>\n",
              "      <th>Miami</th>\n",
              "      <td>19552860</td>\n",
              "      <td>170312</td>\n",
              "      <td>FL</td>\n",
              "      <td>1</td>\n",
              "    </tr>\n",
              "    <tr>\n",
              "      <th>Chicago</th>\n",
              "      <td>12882135</td>\n",
              "      <td>149995</td>\n",
              "      <td>IL</td>\n",
              "      <td>1</td>\n",
              "    </tr>\n",
              "  </tbody>\n",
              "</table>\n",
              "</div>"
            ],
            "text/plain": [
              "             Poblacion    Area Estado  colTest\n",
              "Los Ángeles   38332521  423967     CA        1\n",
              "Houston       26448193  695662     TX        1\n",
              "New York      19651127  141297     NY        1\n",
              "Miami         19552860  170312     FL        1\n",
              "Chicago       12882135  149995     IL        1"
            ]
          },
          "execution_count": 75,
          "metadata": {},
          "output_type": "execute_result"
        }
      ],
      "source": [
        "ciudades['colTest'] = 1\n",
        "ciudades"
      ]
    },
    {
      "cell_type": "code",
      "execution_count": null,
      "metadata": {
        "id": "gcAmehv749rP",
        "outputId": "4d0071f4-619a-46dc-842a-830ea31d186a"
      },
      "outputs": [
        {
          "data": {
            "text/html": [
              "<div>\n",
              "<style scoped>\n",
              "    .dataframe tbody tr th:only-of-type {\n",
              "        vertical-align: middle;\n",
              "    }\n",
              "\n",
              "    .dataframe tbody tr th {\n",
              "        vertical-align: top;\n",
              "    }\n",
              "\n",
              "    .dataframe thead th {\n",
              "        text-align: right;\n",
              "    }\n",
              "</style>\n",
              "<table border=\"1\" class=\"dataframe\">\n",
              "  <thead>\n",
              "    <tr style=\"text-align: right;\">\n",
              "      <th></th>\n",
              "      <th>Poblacion</th>\n",
              "      <th>Area</th>\n",
              "      <th>Estado</th>\n",
              "      <th>colTest</th>\n",
              "    </tr>\n",
              "  </thead>\n",
              "  <tbody>\n",
              "    <tr>\n",
              "      <th>Los Ángeles</th>\n",
              "      <td>38332521</td>\n",
              "      <td>423967</td>\n",
              "      <td>CA</td>\n",
              "      <td>1</td>\n",
              "    </tr>\n",
              "    <tr>\n",
              "      <th>Houston</th>\n",
              "      <td>26448193</td>\n",
              "      <td>695662</td>\n",
              "      <td>TX</td>\n",
              "      <td>1</td>\n",
              "    </tr>\n",
              "    <tr>\n",
              "      <th>New York</th>\n",
              "      <td>19651127</td>\n",
              "      <td>141297</td>\n",
              "      <td>NY</td>\n",
              "      <td>3</td>\n",
              "    </tr>\n",
              "    <tr>\n",
              "      <th>Miami</th>\n",
              "      <td>19552860</td>\n",
              "      <td>170312</td>\n",
              "      <td>FL</td>\n",
              "      <td>3</td>\n",
              "    </tr>\n",
              "    <tr>\n",
              "      <th>Chicago</th>\n",
              "      <td>12882135</td>\n",
              "      <td>149995</td>\n",
              "      <td>IL</td>\n",
              "      <td>1</td>\n",
              "    </tr>\n",
              "  </tbody>\n",
              "</table>\n",
              "</div>"
            ],
            "text/plain": [
              "             Poblacion    Area Estado  colTest\n",
              "Los Ángeles   38332521  423967     CA        1\n",
              "Houston       26448193  695662     TX        1\n",
              "New York      19651127  141297     NY        3\n",
              "Miami         19552860  170312     FL        3\n",
              "Chicago       12882135  149995     IL        1"
            ]
          },
          "execution_count": 76,
          "metadata": {},
          "output_type": "execute_result"
        }
      ],
      "source": [
        "ciudades.loc[['Miami','New York'],'colTest'] += 2\n",
        "ciudades"
      ]
    },
    {
      "cell_type": "markdown",
      "metadata": {
        "id": "p5As6kOk49rR"
      },
      "source": [
        "En general en python se pueden utilizar la sintaxis de posición negativa de los índices para acceder a los últimos elementos, también es válido para la función `iloc` de los DataFrames"
      ]
    },
    {
      "cell_type": "code",
      "execution_count": null,
      "metadata": {
        "id": "XsHariqK49rV",
        "outputId": "57b5c893-e379-48d6-eeeb-eb2f6a8831e8"
      },
      "outputs": [
        {
          "data": {
            "text/plain": [
              "True"
            ]
          },
          "execution_count": 77,
          "metadata": {},
          "output_type": "execute_result"
        }
      ],
      "source": [
        "ciudades.iloc[-2,3]==ciudades.loc['Miami','colTest']"
      ]
    },
    {
      "cell_type": "markdown",
      "metadata": {
        "id": "vsIIV82949rX"
      },
      "source": [
        "##"
      ]
    },
    {
      "cell_type": "markdown",
      "metadata": {
        "id": "MeT1FWez49rY"
      },
      "source": [
        "## Métodos para selección de columnas"
      ]
    },
    {
      "cell_type": "code",
      "execution_count": null,
      "metadata": {
        "id": "GllUc1yY49rY",
        "outputId": "5d91f177-0f3b-4001-97f3-fc863531de4a"
      },
      "outputs": [
        {
          "name": "stdout",
          "output_type": "stream",
          "text": [
            "Dimensiones (30, 28)\n"
          ]
        },
        {
          "data": {
            "text/plain": [
              "float64    13\n",
              "object     12\n",
              "int64       3\n",
              "dtype: int64"
            ]
          },
          "execution_count": 78,
          "metadata": {},
          "output_type": "execute_result"
        }
      ],
      "source": [
        "movies=pd.read_csv(\"data/movie.csv\",nrows=30)\n",
        "print (\"Dimensiones\", movies.shape)\n",
        "movies.dtypes.value_counts()"
      ]
    },
    {
      "cell_type": "markdown",
      "metadata": {
        "id": "fkDHD5OJ49rZ"
      },
      "source": [
        "Podemos seleccionar todas las columnas numéricas de un DataFrame"
      ]
    },
    {
      "cell_type": "code",
      "execution_count": null,
      "metadata": {
        "id": "AGaxfrzA49ra",
        "outputId": "c61fc578-d130-4c8f-fb84-3f82b7b6f19a"
      },
      "outputs": [
        {
          "data": {
            "text/plain": [
              "(30, 16)"
            ]
          },
          "execution_count": 79,
          "metadata": {},
          "output_type": "execute_result"
        }
      ],
      "source": [
        "movies.select_dtypes(include=\"number\").shape"
      ]
    },
    {
      "cell_type": "markdown",
      "metadata": {
        "id": "LgaIhvf249rb"
      },
      "source": [
        "O seleccionar todas las columnas excepto las de uno o varios tipos"
      ]
    },
    {
      "cell_type": "code",
      "execution_count": null,
      "metadata": {
        "id": "tA-ebGi549rc",
        "outputId": "8ff6a5a7-de7c-4caf-bd7e-fca9016272b8"
      },
      "outputs": [
        {
          "data": {
            "text/plain": [
              "(30, 12)"
            ]
          },
          "execution_count": 80,
          "metadata": {},
          "output_type": "execute_result"
        }
      ],
      "source": [
        "movies.select_dtypes(exclude=[\"int64\",\"float64\"]).shape"
      ]
    },
    {
      "cell_type": "code",
      "execution_count": null,
      "metadata": {
        "id": "OSl429Jz49rd",
        "outputId": "152dcd0a-c102-4eb3-cd6f-792562af9d05"
      },
      "outputs": [
        {
          "data": {
            "text/plain": [
              "Index(['color', 'director_name', 'num_critic_for_reviews', 'duration',\n",
              "       'director_facebook_likes', 'actor_3_facebook_likes', 'actor_2_name',\n",
              "       'actor_1_facebook_likes', 'gross', 'genres', 'actor_1_name',\n",
              "       'movie_title', 'num_voted_users', 'cast_total_facebook_likes',\n",
              "       'actor_3_name', 'facenumber_in_poster', 'plot_keywords',\n",
              "       'movie_imdb_link', 'num_user_for_reviews', 'language', 'country',\n",
              "       'content_rating', 'budget', 'title_year', 'actor_2_facebook_likes',\n",
              "       'imdb_score', 'aspect_ratio', 'movie_facebook_likes'],\n",
              "      dtype='object')"
            ]
          },
          "execution_count": 81,
          "metadata": {},
          "output_type": "execute_result"
        }
      ],
      "source": [
        "movies.columns"
      ]
    },
    {
      "cell_type": "code",
      "execution_count": null,
      "metadata": {
        "id": "ZHSEKta_49re",
        "outputId": "895b46f1-1e73-447f-b69e-86cfd7f072d5"
      },
      "outputs": [
        {
          "data": {
            "text/plain": [
              "Index(['actor_1_facebook_likes', 'actor_1_name'], dtype='object')"
            ]
          },
          "execution_count": 82,
          "metadata": {},
          "output_type": "execute_result"
        }
      ],
      "source": [
        "movies.filter(like=\"actor_1\").columns"
      ]
    },
    {
      "cell_type": "markdown",
      "metadata": {
        "id": "fAFCf64249rf"
      },
      "source": [
        "# Operaciones sobre DataFrames"
      ]
    },
    {
      "cell_type": "markdown",
      "metadata": {
        "id": "V9qS4lih49rg"
      },
      "source": [
        "Los DataFrame heredan todas las propiedades de los `numpy.ndarrays` (excepto para la clase `category`), por lo tanto modemos aplicar sobre ellos todas las funciones que se han visto para *NumPy*.  \n",
        "En el caso de los DataFrame tenemos dos comportamientos añadidos:\n",
        "* El resultado de una operación unaria conserva los índices y el nombre de la columna\n",
        "* Cuando se realiza una operación binaria pandas previsamente realiza una alineación de índices"
      ]
    },
    {
      "cell_type": "code",
      "execution_count": null,
      "metadata": {
        "id": "7ru47jY049rh",
        "outputId": "44cdeae2-6c50-484b-89fe-65589b0e0e74"
      },
      "outputs": [
        {
          "data": {
            "text/html": [
              "<div>\n",
              "<style scoped>\n",
              "    .dataframe tbody tr th:only-of-type {\n",
              "        vertical-align: middle;\n",
              "    }\n",
              "\n",
              "    .dataframe tbody tr th {\n",
              "        vertical-align: top;\n",
              "    }\n",
              "\n",
              "    .dataframe thead th {\n",
              "        text-align: right;\n",
              "    }\n",
              "</style>\n",
              "<table border=\"1\" class=\"dataframe\">\n",
              "  <thead>\n",
              "    <tr style=\"text-align: right;\">\n",
              "      <th></th>\n",
              "      <th>col1</th>\n",
              "      <th>col2</th>\n",
              "    </tr>\n",
              "  </thead>\n",
              "  <tbody>\n",
              "    <tr>\n",
              "      <th>0</th>\n",
              "      <td>1</td>\n",
              "      <td>11</td>\n",
              "    </tr>\n",
              "    <tr>\n",
              "      <th>1</th>\n",
              "      <td>2</td>\n",
              "      <td>12</td>\n",
              "    </tr>\n",
              "    <tr>\n",
              "      <th>2</th>\n",
              "      <td>3</td>\n",
              "      <td>13</td>\n",
              "    </tr>\n",
              "  </tbody>\n",
              "</table>\n",
              "</div>"
            ],
            "text/plain": [
              "   col1  col2\n",
              "0     1    11\n",
              "1     2    12\n",
              "2     3    13"
            ]
          },
          "execution_count": 83,
          "metadata": {},
          "output_type": "execute_result"
        }
      ],
      "source": [
        "df = pd.DataFrame({'col1':range(1,4),'col2':range(11,14)})\n",
        "df"
      ]
    },
    {
      "cell_type": "code",
      "execution_count": null,
      "metadata": {
        "id": "bm9KuBnX49rj",
        "outputId": "4d21e434-8c79-45cc-d38c-b4e134bd642b"
      },
      "outputs": [
        {
          "data": {
            "text/html": [
              "<div>\n",
              "<style scoped>\n",
              "    .dataframe tbody tr th:only-of-type {\n",
              "        vertical-align: middle;\n",
              "    }\n",
              "\n",
              "    .dataframe tbody tr th {\n",
              "        vertical-align: top;\n",
              "    }\n",
              "\n",
              "    .dataframe thead th {\n",
              "        text-align: right;\n",
              "    }\n",
              "</style>\n",
              "<table border=\"1\" class=\"dataframe\">\n",
              "  <thead>\n",
              "    <tr style=\"text-align: right;\">\n",
              "      <th></th>\n",
              "      <th>col1</th>\n",
              "      <th>col2</th>\n",
              "    </tr>\n",
              "  </thead>\n",
              "  <tbody>\n",
              "    <tr>\n",
              "      <th>0</th>\n",
              "      <td>2.718282</td>\n",
              "      <td>59874.141715</td>\n",
              "    </tr>\n",
              "    <tr>\n",
              "      <th>1</th>\n",
              "      <td>7.389056</td>\n",
              "      <td>162754.791419</td>\n",
              "    </tr>\n",
              "    <tr>\n",
              "      <th>2</th>\n",
              "      <td>20.085537</td>\n",
              "      <td>442413.392009</td>\n",
              "    </tr>\n",
              "  </tbody>\n",
              "</table>\n",
              "</div>"
            ],
            "text/plain": [
              "        col1           col2\n",
              "0   2.718282   59874.141715\n",
              "1   7.389056  162754.791419\n",
              "2  20.085537  442413.392009"
            ]
          },
          "execution_count": 84,
          "metadata": {},
          "output_type": "execute_result"
        }
      ],
      "source": [
        "np.exp(df) #conserva índices y columnas"
      ]
    },
    {
      "cell_type": "code",
      "execution_count": null,
      "metadata": {
        "id": "nOqI2QQW49rk",
        "outputId": "38bfe966-08ef-40d5-92e4-0a818c41bde3"
      },
      "outputs": [
        {
          "data": {
            "text/plain": [
              "a    11.0\n",
              "b     NaN\n",
              "c    33.0\n",
              "dtype: float64"
            ]
          },
          "execution_count": 85,
          "metadata": {},
          "output_type": "execute_result"
        }
      ],
      "source": [
        "s1 = pd.Series ({'a':1, 'c':3},name='serie1')\n",
        "s2 = pd.Series ({'b':20, 'a':10, 'c':30},name='serie2') #No están en el mismo orden\n",
        "s1+s2"
      ]
    },
    {
      "cell_type": "code",
      "execution_count": null,
      "metadata": {
        "id": "_Vv1gfhH49rl"
      },
      "outputs": [],
      "source": [
        "rnd = np.random.RandomState(1)"
      ]
    },
    {
      "cell_type": "code",
      "execution_count": null,
      "metadata": {
        "id": "LyUqnfzO49rm",
        "outputId": "62b173ff-b8bf-47e9-a376-36d9d0c1ef67"
      },
      "outputs": [
        {
          "data": {
            "text/html": [
              "<div>\n",
              "<style scoped>\n",
              "    .dataframe tbody tr th:only-of-type {\n",
              "        vertical-align: middle;\n",
              "    }\n",
              "\n",
              "    .dataframe tbody tr th {\n",
              "        vertical-align: top;\n",
              "    }\n",
              "\n",
              "    .dataframe thead th {\n",
              "        text-align: right;\n",
              "    }\n",
              "</style>\n",
              "<table border=\"1\" class=\"dataframe\">\n",
              "  <thead>\n",
              "    <tr style=\"text-align: right;\">\n",
              "      <th></th>\n",
              "      <th>a</th>\n",
              "      <th>b</th>\n",
              "    </tr>\n",
              "  </thead>\n",
              "  <tbody>\n",
              "    <tr>\n",
              "      <th>0</th>\n",
              "      <td>6</td>\n",
              "      <td>9</td>\n",
              "    </tr>\n",
              "    <tr>\n",
              "      <th>1</th>\n",
              "      <td>6</td>\n",
              "      <td>1</td>\n",
              "    </tr>\n",
              "  </tbody>\n",
              "</table>\n",
              "</div>"
            ],
            "text/plain": [
              "   a  b\n",
              "0  6  9\n",
              "1  6  1"
            ]
          },
          "execution_count": 87,
          "metadata": {},
          "output_type": "execute_result"
        }
      ],
      "source": [
        "A = pd.DataFrame (rnd.randint(1,10,(2,2)), columns=list('ab'))\n",
        "A"
      ]
    },
    {
      "cell_type": "code",
      "execution_count": null,
      "metadata": {
        "id": "cHXm-0uo49ro",
        "outputId": "2f755394-e8b0-4fc4-b3ef-299baeec35ea"
      },
      "outputs": [
        {
          "data": {
            "text/html": [
              "<div>\n",
              "<style scoped>\n",
              "    .dataframe tbody tr th:only-of-type {\n",
              "        vertical-align: middle;\n",
              "    }\n",
              "\n",
              "    .dataframe tbody tr th {\n",
              "        vertical-align: top;\n",
              "    }\n",
              "\n",
              "    .dataframe thead th {\n",
              "        text-align: right;\n",
              "    }\n",
              "</style>\n",
              "<table border=\"1\" class=\"dataframe\">\n",
              "  <thead>\n",
              "    <tr style=\"text-align: right;\">\n",
              "      <th></th>\n",
              "      <th>c</th>\n",
              "      <th>b</th>\n",
              "      <th>a</th>\n",
              "    </tr>\n",
              "  </thead>\n",
              "  <tbody>\n",
              "    <tr>\n",
              "      <th>0</th>\n",
              "      <td>1</td>\n",
              "      <td>2</td>\n",
              "      <td>8</td>\n",
              "    </tr>\n",
              "    <tr>\n",
              "      <th>1</th>\n",
              "      <td>7</td>\n",
              "      <td>3</td>\n",
              "      <td>5</td>\n",
              "    </tr>\n",
              "    <tr>\n",
              "      <th>2</th>\n",
              "      <td>6</td>\n",
              "      <td>3</td>\n",
              "      <td>5</td>\n",
              "    </tr>\n",
              "  </tbody>\n",
              "</table>\n",
              "</div>"
            ],
            "text/plain": [
              "   c  b  a\n",
              "0  1  2  8\n",
              "1  7  3  5\n",
              "2  6  3  5"
            ]
          },
          "execution_count": 88,
          "metadata": {},
          "output_type": "execute_result"
        }
      ],
      "source": [
        "B = pd.DataFrame(rnd.randint(1,10,(3,3)), columns= list('cba'))\n",
        "B"
      ]
    },
    {
      "cell_type": "code",
      "execution_count": null,
      "metadata": {
        "id": "mSDur00949rp",
        "outputId": "1c9565dd-a6fd-4e1f-d66f-cf5d4f473820"
      },
      "outputs": [
        {
          "data": {
            "text/html": [
              "<div>\n",
              "<style scoped>\n",
              "    .dataframe tbody tr th:only-of-type {\n",
              "        vertical-align: middle;\n",
              "    }\n",
              "\n",
              "    .dataframe tbody tr th {\n",
              "        vertical-align: top;\n",
              "    }\n",
              "\n",
              "    .dataframe thead th {\n",
              "        text-align: right;\n",
              "    }\n",
              "</style>\n",
              "<table border=\"1\" class=\"dataframe\">\n",
              "  <thead>\n",
              "    <tr style=\"text-align: right;\">\n",
              "      <th></th>\n",
              "      <th>a</th>\n",
              "      <th>b</th>\n",
              "      <th>c</th>\n",
              "    </tr>\n",
              "  </thead>\n",
              "  <tbody>\n",
              "    <tr>\n",
              "      <th>0</th>\n",
              "      <td>14.0</td>\n",
              "      <td>11.0</td>\n",
              "      <td>NaN</td>\n",
              "    </tr>\n",
              "    <tr>\n",
              "      <th>1</th>\n",
              "      <td>11.0</td>\n",
              "      <td>4.0</td>\n",
              "      <td>NaN</td>\n",
              "    </tr>\n",
              "    <tr>\n",
              "      <th>2</th>\n",
              "      <td>NaN</td>\n",
              "      <td>NaN</td>\n",
              "      <td>NaN</td>\n",
              "    </tr>\n",
              "  </tbody>\n",
              "</table>\n",
              "</div>"
            ],
            "text/plain": [
              "      a     b   c\n",
              "0  14.0  11.0 NaN\n",
              "1  11.0   4.0 NaN\n",
              "2   NaN   NaN NaN"
            ]
          },
          "execution_count": 89,
          "metadata": {},
          "output_type": "execute_result"
        }
      ],
      "source": [
        "A+B"
      ]
    },
    {
      "cell_type": "markdown",
      "metadata": {
        "id": "-D4M53k549rq"
      },
      "source": [
        "También tenemos operadores sustitutivos de las operaciones básicas de python  \n",
        "\n",
        "|Operador python|Método Pandas|  \n",
        "|:--------------|:---------------|  \n",
        "|+|add()|\n",
        "|-|sub(), subtract()|\n",
        "|\\*|mul(), multiply()|\n",
        "|/|div(), divide()|\n",
        "|//|floordiv()|\n",
        "|%|mod()|\n",
        "|\\*\\*|pow()|\n",
        "\n"
      ]
    },
    {
      "cell_type": "code",
      "execution_count": null,
      "metadata": {
        "id": "tDFxCcZz49rs",
        "outputId": "cba104c1-85bd-454b-9d90-f951592abc76"
      },
      "outputs": [
        {
          "data": {
            "text/plain": [
              "5.5"
            ]
          },
          "execution_count": 90,
          "metadata": {},
          "output_type": "execute_result"
        }
      ],
      "source": [
        "to_fill = A.stack().mean()\n",
        "to_fill"
      ]
    },
    {
      "cell_type": "code",
      "execution_count": null,
      "metadata": {
        "id": "Un7h41uh49rt",
        "outputId": "75ad8c7f-5185-4e61-adb6-ed56fc7e10d4"
      },
      "outputs": [
        {
          "data": {
            "text/html": [
              "<div>\n",
              "<style scoped>\n",
              "    .dataframe tbody tr th:only-of-type {\n",
              "        vertical-align: middle;\n",
              "    }\n",
              "\n",
              "    .dataframe tbody tr th {\n",
              "        vertical-align: top;\n",
              "    }\n",
              "\n",
              "    .dataframe thead th {\n",
              "        text-align: right;\n",
              "    }\n",
              "</style>\n",
              "<table border=\"1\" class=\"dataframe\">\n",
              "  <thead>\n",
              "    <tr style=\"text-align: right;\">\n",
              "      <th></th>\n",
              "      <th>a</th>\n",
              "      <th>b</th>\n",
              "      <th>c</th>\n",
              "    </tr>\n",
              "  </thead>\n",
              "  <tbody>\n",
              "    <tr>\n",
              "      <th>0</th>\n",
              "      <td>14.0</td>\n",
              "      <td>11.0</td>\n",
              "      <td>6.5</td>\n",
              "    </tr>\n",
              "    <tr>\n",
              "      <th>1</th>\n",
              "      <td>11.0</td>\n",
              "      <td>4.0</td>\n",
              "      <td>12.5</td>\n",
              "    </tr>\n",
              "    <tr>\n",
              "      <th>2</th>\n",
              "      <td>10.5</td>\n",
              "      <td>8.5</td>\n",
              "      <td>11.5</td>\n",
              "    </tr>\n",
              "  </tbody>\n",
              "</table>\n",
              "</div>"
            ],
            "text/plain": [
              "      a     b     c\n",
              "0  14.0  11.0   6.5\n",
              "1  11.0   4.0  12.5\n",
              "2  10.5   8.5  11.5"
            ]
          },
          "execution_count": 91,
          "metadata": {},
          "output_type": "execute_result"
        }
      ],
      "source": [
        "A.add(B,fill_value=to_fill)"
      ]
    },
    {
      "cell_type": "code",
      "execution_count": null,
      "metadata": {
        "id": "cbV3ScmI49ru",
        "outputId": "51b5afd0-8a97-4735-b8e9-e53c4840dca3"
      },
      "outputs": [
        {
          "data": {
            "text/html": [
              "<div>\n",
              "<style scoped>\n",
              "    .dataframe tbody tr th:only-of-type {\n",
              "        vertical-align: middle;\n",
              "    }\n",
              "\n",
              "    .dataframe tbody tr th {\n",
              "        vertical-align: top;\n",
              "    }\n",
              "\n",
              "    .dataframe thead th {\n",
              "        text-align: right;\n",
              "    }\n",
              "</style>\n",
              "<table border=\"1\" class=\"dataframe\">\n",
              "  <thead>\n",
              "    <tr style=\"text-align: right;\">\n",
              "      <th></th>\n",
              "      <th>a</th>\n",
              "      <th>b</th>\n",
              "    </tr>\n",
              "  </thead>\n",
              "  <tbody>\n",
              "    <tr>\n",
              "      <th>0</th>\n",
              "      <td>6</td>\n",
              "      <td>9</td>\n",
              "    </tr>\n",
              "    <tr>\n",
              "      <th>1</th>\n",
              "      <td>6</td>\n",
              "      <td>1</td>\n",
              "    </tr>\n",
              "  </tbody>\n",
              "</table>\n",
              "</div>"
            ],
            "text/plain": [
              "   a  b\n",
              "0  6  9\n",
              "1  6  1"
            ]
          },
          "execution_count": 92,
          "metadata": {},
          "output_type": "execute_result"
        }
      ],
      "source": [
        "A"
      ]
    },
    {
      "cell_type": "code",
      "execution_count": null,
      "metadata": {
        "id": "7-MsNSgm49rv",
        "outputId": "2b29906e-743b-4bbd-e18b-67192fcc7d3a"
      },
      "outputs": [
        {
          "data": {
            "text/html": [
              "<div>\n",
              "<style scoped>\n",
              "    .dataframe tbody tr th:only-of-type {\n",
              "        vertical-align: middle;\n",
              "    }\n",
              "\n",
              "    .dataframe tbody tr th {\n",
              "        vertical-align: top;\n",
              "    }\n",
              "\n",
              "    .dataframe thead th {\n",
              "        text-align: right;\n",
              "    }\n",
              "</style>\n",
              "<table border=\"1\" class=\"dataframe\">\n",
              "  <thead>\n",
              "    <tr style=\"text-align: right;\">\n",
              "      <th></th>\n",
              "      <th>a</th>\n",
              "      <th>b</th>\n",
              "    </tr>\n",
              "  </thead>\n",
              "  <tbody>\n",
              "    <tr>\n",
              "      <th>0</th>\n",
              "      <td>0</td>\n",
              "      <td>0</td>\n",
              "    </tr>\n",
              "    <tr>\n",
              "      <th>1</th>\n",
              "      <td>0</td>\n",
              "      <td>-8</td>\n",
              "    </tr>\n",
              "  </tbody>\n",
              "</table>\n",
              "</div>"
            ],
            "text/plain": [
              "   a  b\n",
              "0  0  0\n",
              "1  0 -8"
            ]
          },
          "execution_count": 93,
          "metadata": {},
          "output_type": "execute_result"
        }
      ],
      "source": [
        "A.sub(A.iloc[0])"
      ]
    },
    {
      "cell_type": "code",
      "execution_count": null,
      "metadata": {
        "id": "Dz-BIcqP49rw",
        "outputId": "8098702e-4729-437a-d263-ba28bd72f845"
      },
      "outputs": [
        {
          "data": {
            "text/html": [
              "<div>\n",
              "<style scoped>\n",
              "    .dataframe tbody tr th:only-of-type {\n",
              "        vertical-align: middle;\n",
              "    }\n",
              "\n",
              "    .dataframe tbody tr th {\n",
              "        vertical-align: top;\n",
              "    }\n",
              "\n",
              "    .dataframe thead th {\n",
              "        text-align: right;\n",
              "    }\n",
              "</style>\n",
              "<table border=\"1\" class=\"dataframe\">\n",
              "  <thead>\n",
              "    <tr style=\"text-align: right;\">\n",
              "      <th></th>\n",
              "      <th>a</th>\n",
              "      <th>b</th>\n",
              "    </tr>\n",
              "  </thead>\n",
              "  <tbody>\n",
              "    <tr>\n",
              "      <th>0</th>\n",
              "      <td>0</td>\n",
              "      <td>3</td>\n",
              "    </tr>\n",
              "    <tr>\n",
              "      <th>1</th>\n",
              "      <td>0</td>\n",
              "      <td>-5</td>\n",
              "    </tr>\n",
              "  </tbody>\n",
              "</table>\n",
              "</div>"
            ],
            "text/plain": [
              "   a  b\n",
              "0  0  3\n",
              "1  0 -5"
            ]
          },
          "execution_count": 94,
          "metadata": {},
          "output_type": "execute_result"
        }
      ],
      "source": [
        "A.sub(A.a,axis=0) #axis=0, resta por coincidencia de índice"
      ]
    },
    {
      "cell_type": "markdown",
      "metadata": {
        "toc-hr-collapsed": true,
        "id": "u-V6YeoR49rx"
      },
      "source": [
        "# Trabajando con datos nulos"
      ]
    },
    {
      "cell_type": "markdown",
      "metadata": {
        "id": "enU6C-QN49ry"
      },
      "source": [
        "En pandas nos encontramos dos tipos de nulos, el propio de python(`None`) y el derivado de numpy (`numpy.NaN`)\n",
        "\n",
        "El uso de `None` (es un objeto) requiere que la columna sea de tipo `object`, y los cálculos se ven penalizados"
      ]
    },
    {
      "cell_type": "code",
      "execution_count": null,
      "metadata": {
        "id": "D-bQSzQ949r0",
        "outputId": "98196db2-2fbe-43d0-caff-14ff6ee06515"
      },
      "outputs": [
        {
          "name": "stdout",
          "output_type": "stream",
          "text": [
            "30.1 µs ± 733 ns per loop (mean ± std. dev. of 7 runs, 10000 loops each)\n",
            "3.72 µs ± 41.5 ns per loop (mean ± std. dev. of 7 runs, 100000 loops each)\n"
          ]
        }
      ],
      "source": [
        "%timeit np.arange(1000, dtype='object').sum()\n",
        "%timeit np.arange(1000, dtype='int').sum()"
      ]
    },
    {
      "cell_type": "markdown",
      "metadata": {
        "id": "1LGEqDT149r3"
      },
      "source": [
        "Además, en las operaciones generar errores"
      ]
    },
    {
      "cell_type": "code",
      "execution_count": null,
      "metadata": {
        "id": "OryQTb7z49r5",
        "outputId": "7981e331-d03e-4cbc-f06f-6d5b97930327"
      },
      "outputs": [
        {
          "name": "stdout",
          "output_type": "stream",
          "text": [
            "Error:  unsupported operand type(s) for +: 'int' and 'NoneType'\n"
          ]
        }
      ],
      "source": [
        "try:\n",
        "    1+None\n",
        "except TypeError as e:\n",
        "    print (\"Error: \", str(e))"
      ]
    },
    {
      "cell_type": "code",
      "execution_count": null,
      "metadata": {
        "id": "DsyEKsnl49r6",
        "outputId": "4164173d-b893-4bb0-c5be-e9c3193be6b7"
      },
      "outputs": [
        {
          "data": {
            "text/plain": [
              "nan"
            ]
          },
          "execution_count": 97,
          "metadata": {},
          "output_type": "execute_result"
        }
      ],
      "source": [
        "1+np.nan"
      ]
    },
    {
      "cell_type": "code",
      "execution_count": null,
      "metadata": {
        "id": "C7UoDwUm49r7",
        "outputId": "b77b828f-7232-4956-e280-74857d2a89e9"
      },
      "outputs": [
        {
          "data": {
            "text/html": [
              "<div>\n",
              "<style scoped>\n",
              "    .dataframe tbody tr th:only-of-type {\n",
              "        vertical-align: middle;\n",
              "    }\n",
              "\n",
              "    .dataframe tbody tr th {\n",
              "        vertical-align: top;\n",
              "    }\n",
              "\n",
              "    .dataframe thead th {\n",
              "        text-align: right;\n",
              "    }\n",
              "</style>\n",
              "<table border=\"1\" class=\"dataframe\">\n",
              "  <thead>\n",
              "    <tr style=\"text-align: right;\">\n",
              "      <th></th>\n",
              "      <th>c_int64</th>\n",
              "      <th>c_Int64</th>\n",
              "      <th>c_str</th>\n",
              "      <th>c_cat</th>\n",
              "      <th>c_boolean</th>\n",
              "      <th>c_bool</th>\n",
              "      <th>c_float</th>\n",
              "      <th>c_datetime64</th>\n",
              "    </tr>\n",
              "  </thead>\n",
              "  <tbody>\n",
              "    <tr>\n",
              "      <th>0</th>\n",
              "      <td>1</td>\n",
              "      <td>1</td>\n",
              "      <td>a</td>\n",
              "      <td>a</td>\n",
              "      <td>True</td>\n",
              "      <td>True</td>\n",
              "      <td>1.0</td>\n",
              "      <td>1970-01-01 00:00:00.000000001</td>\n",
              "    </tr>\n",
              "    <tr>\n",
              "      <th>1</th>\n",
              "      <td>2</td>\n",
              "      <td>&lt;NA&gt;</td>\n",
              "      <td>None</td>\n",
              "      <td>NaN</td>\n",
              "      <td>&lt;NA&gt;</td>\n",
              "      <td>False</td>\n",
              "      <td>NaN</td>\n",
              "      <td>NaT</td>\n",
              "    </tr>\n",
              "    <tr>\n",
              "      <th>2</th>\n",
              "      <td>3</td>\n",
              "      <td>3</td>\n",
              "      <td>c</td>\n",
              "      <td>c</td>\n",
              "      <td>False</td>\n",
              "      <td>False</td>\n",
              "      <td>3.0</td>\n",
              "      <td>1970-01-01 00:00:00.000000003</td>\n",
              "    </tr>\n",
              "    <tr>\n",
              "      <th>3</th>\n",
              "      <td>4</td>\n",
              "      <td>&lt;NA&gt;</td>\n",
              "      <td>NaN</td>\n",
              "      <td>NaN</td>\n",
              "      <td>&lt;NA&gt;</td>\n",
              "      <td>True</td>\n",
              "      <td>NaN</td>\n",
              "      <td>NaT</td>\n",
              "    </tr>\n",
              "  </tbody>\n",
              "</table>\n",
              "</div>"
            ],
            "text/plain": [
              "   c_int64  c_Int64 c_str c_cat  c_boolean  c_bool  c_float  \\\n",
              "0        1        1     a     a       True    True      1.0   \n",
              "1        2     <NA>  None   NaN       <NA>   False      NaN   \n",
              "2        3        3     c     c      False   False      3.0   \n",
              "3        4     <NA>   NaN   NaN       <NA>    True      NaN   \n",
              "\n",
              "                   c_datetime64  \n",
              "0 1970-01-01 00:00:00.000000001  \n",
              "1                           NaT  \n",
              "2 1970-01-01 00:00:00.000000003  \n",
              "3                           NaT  "
            ]
          },
          "execution_count": 98,
          "metadata": {},
          "output_type": "execute_result"
        }
      ],
      "source": [
        "df = pd.DataFrame({\n",
        "    'c_int64'     : pd.Series([1,    2,    3,     4],      dtype=\"int64\"),  #No permite nulos\n",
        "    'c_Int64'     : pd.Series([1,    None, 3,     np.nan], dtype=\"Int64\"),\n",
        "    'c_str'       : pd.Series(['a',  None, 'c',   np.nan], dtype='str_'),\n",
        "    'c_cat'       : pd.Series(['a',  None, 'c',   np.nan], dtype='category'),\n",
        "    'c_boolean'   : pd.Series([True, None, False, np.nan], dtype='boolean'),\n",
        "    'c_bool'      : pd.Series([True, None, False, np.nan], dtype='bool'),\n",
        "    'c_float'     : pd.Series([1,    None, 3,     np.nan], dtype='float'),\n",
        "    'c_datetime64': pd.Series([1,    None, 3,     np.nan], dtype=\"datetime64[ns]\"),\n",
        "})\n",
        "df"
      ]
    },
    {
      "cell_type": "markdown",
      "metadata": {
        "id": "-BX0DgP949r9"
      },
      "source": [
        "Nos devuelve una matriz booleana con True en las posiciones de los nulos"
      ]
    },
    {
      "cell_type": "code",
      "execution_count": null,
      "metadata": {
        "id": "1iDamfP949r9",
        "outputId": "881df584-7277-4641-be27-7a8de8c367c3"
      },
      "outputs": [
        {
          "data": {
            "text/html": [
              "<div>\n",
              "<style scoped>\n",
              "    .dataframe tbody tr th:only-of-type {\n",
              "        vertical-align: middle;\n",
              "    }\n",
              "\n",
              "    .dataframe tbody tr th {\n",
              "        vertical-align: top;\n",
              "    }\n",
              "\n",
              "    .dataframe thead th {\n",
              "        text-align: right;\n",
              "    }\n",
              "</style>\n",
              "<table border=\"1\" class=\"dataframe\">\n",
              "  <thead>\n",
              "    <tr style=\"text-align: right;\">\n",
              "      <th></th>\n",
              "      <th>c_int64</th>\n",
              "      <th>c_Int64</th>\n",
              "      <th>c_str</th>\n",
              "      <th>c_cat</th>\n",
              "      <th>c_boolean</th>\n",
              "      <th>c_bool</th>\n",
              "      <th>c_float</th>\n",
              "      <th>c_datetime64</th>\n",
              "    </tr>\n",
              "  </thead>\n",
              "  <tbody>\n",
              "    <tr>\n",
              "      <th>0</th>\n",
              "      <td>False</td>\n",
              "      <td>False</td>\n",
              "      <td>False</td>\n",
              "      <td>False</td>\n",
              "      <td>False</td>\n",
              "      <td>False</td>\n",
              "      <td>False</td>\n",
              "      <td>False</td>\n",
              "    </tr>\n",
              "    <tr>\n",
              "      <th>1</th>\n",
              "      <td>False</td>\n",
              "      <td>True</td>\n",
              "      <td>True</td>\n",
              "      <td>True</td>\n",
              "      <td>True</td>\n",
              "      <td>False</td>\n",
              "      <td>True</td>\n",
              "      <td>True</td>\n",
              "    </tr>\n",
              "    <tr>\n",
              "      <th>2</th>\n",
              "      <td>False</td>\n",
              "      <td>False</td>\n",
              "      <td>False</td>\n",
              "      <td>False</td>\n",
              "      <td>False</td>\n",
              "      <td>False</td>\n",
              "      <td>False</td>\n",
              "      <td>False</td>\n",
              "    </tr>\n",
              "    <tr>\n",
              "      <th>3</th>\n",
              "      <td>False</td>\n",
              "      <td>True</td>\n",
              "      <td>True</td>\n",
              "      <td>True</td>\n",
              "      <td>True</td>\n",
              "      <td>False</td>\n",
              "      <td>True</td>\n",
              "      <td>True</td>\n",
              "    </tr>\n",
              "  </tbody>\n",
              "</table>\n",
              "</div>"
            ],
            "text/plain": [
              "   c_int64  c_Int64  c_str  c_cat  c_boolean  c_bool  c_float  c_datetime64\n",
              "0    False    False  False  False      False   False    False         False\n",
              "1    False     True   True   True       True   False     True          True\n",
              "2    False    False  False  False      False   False    False         False\n",
              "3    False     True   True   True       True   False     True          True"
            ]
          },
          "execution_count": 99,
          "metadata": {},
          "output_type": "execute_result"
        }
      ],
      "source": [
        "df.isnull() # igual que df.isna()"
      ]
    },
    {
      "cell_type": "markdown",
      "metadata": {
        "id": "iqCyq9Qe49r-"
      },
      "source": [
        "La operación contraria, `True` cuando **no** es nulo"
      ]
    },
    {
      "cell_type": "code",
      "execution_count": null,
      "metadata": {
        "id": "L1AOsVg249r_",
        "outputId": "d6c15d95-fbef-4595-fb88-9ece584f793c"
      },
      "outputs": [
        {
          "data": {
            "text/html": [
              "<div>\n",
              "<style scoped>\n",
              "    .dataframe tbody tr th:only-of-type {\n",
              "        vertical-align: middle;\n",
              "    }\n",
              "\n",
              "    .dataframe tbody tr th {\n",
              "        vertical-align: top;\n",
              "    }\n",
              "\n",
              "    .dataframe thead th {\n",
              "        text-align: right;\n",
              "    }\n",
              "</style>\n",
              "<table border=\"1\" class=\"dataframe\">\n",
              "  <thead>\n",
              "    <tr style=\"text-align: right;\">\n",
              "      <th></th>\n",
              "      <th>c_int64</th>\n",
              "      <th>c_Int64</th>\n",
              "      <th>c_str</th>\n",
              "      <th>c_cat</th>\n",
              "      <th>c_boolean</th>\n",
              "      <th>c_bool</th>\n",
              "      <th>c_float</th>\n",
              "      <th>c_datetime64</th>\n",
              "    </tr>\n",
              "  </thead>\n",
              "  <tbody>\n",
              "    <tr>\n",
              "      <th>0</th>\n",
              "      <td>True</td>\n",
              "      <td>True</td>\n",
              "      <td>True</td>\n",
              "      <td>True</td>\n",
              "      <td>True</td>\n",
              "      <td>True</td>\n",
              "      <td>True</td>\n",
              "      <td>True</td>\n",
              "    </tr>\n",
              "    <tr>\n",
              "      <th>1</th>\n",
              "      <td>True</td>\n",
              "      <td>False</td>\n",
              "      <td>False</td>\n",
              "      <td>False</td>\n",
              "      <td>False</td>\n",
              "      <td>True</td>\n",
              "      <td>False</td>\n",
              "      <td>False</td>\n",
              "    </tr>\n",
              "    <tr>\n",
              "      <th>2</th>\n",
              "      <td>True</td>\n",
              "      <td>True</td>\n",
              "      <td>True</td>\n",
              "      <td>True</td>\n",
              "      <td>True</td>\n",
              "      <td>True</td>\n",
              "      <td>True</td>\n",
              "      <td>True</td>\n",
              "    </tr>\n",
              "    <tr>\n",
              "      <th>3</th>\n",
              "      <td>True</td>\n",
              "      <td>False</td>\n",
              "      <td>False</td>\n",
              "      <td>False</td>\n",
              "      <td>False</td>\n",
              "      <td>True</td>\n",
              "      <td>False</td>\n",
              "      <td>False</td>\n",
              "    </tr>\n",
              "  </tbody>\n",
              "</table>\n",
              "</div>"
            ],
            "text/plain": [
              "   c_int64  c_Int64  c_str  c_cat  c_boolean  c_bool  c_float  c_datetime64\n",
              "0     True     True   True   True       True    True     True          True\n",
              "1     True    False  False  False      False    True    False         False\n",
              "2     True     True   True   True       True    True     True          True\n",
              "3     True    False  False  False      False    True    False         False"
            ]
          },
          "execution_count": 100,
          "metadata": {},
          "output_type": "execute_result"
        }
      ],
      "source": [
        "df.notnull()"
      ]
    },
    {
      "cell_type": "code",
      "execution_count": null,
      "metadata": {
        "id": "rMoMjGd049sA",
        "outputId": "0db4e750-05a2-49b1-d775-252f503b5aab"
      },
      "outputs": [
        {
          "data": {
            "text/html": [
              "<div>\n",
              "<style scoped>\n",
              "    .dataframe tbody tr th:only-of-type {\n",
              "        vertical-align: middle;\n",
              "    }\n",
              "\n",
              "    .dataframe tbody tr th {\n",
              "        vertical-align: top;\n",
              "    }\n",
              "\n",
              "    .dataframe thead th {\n",
              "        text-align: right;\n",
              "    }\n",
              "</style>\n",
              "<table border=\"1\" class=\"dataframe\">\n",
              "  <thead>\n",
              "    <tr style=\"text-align: right;\">\n",
              "      <th></th>\n",
              "      <th>c_int64</th>\n",
              "      <th>c_Int64</th>\n",
              "      <th>c_str</th>\n",
              "      <th>c_cat</th>\n",
              "      <th>c_boolean</th>\n",
              "      <th>c_bool</th>\n",
              "      <th>c_float</th>\n",
              "      <th>c_datetime64</th>\n",
              "    </tr>\n",
              "  </thead>\n",
              "  <tbody>\n",
              "    <tr>\n",
              "      <th>0</th>\n",
              "      <td>1</td>\n",
              "      <td>1</td>\n",
              "      <td>a</td>\n",
              "      <td>a</td>\n",
              "      <td>True</td>\n",
              "      <td>True</td>\n",
              "      <td>1.0</td>\n",
              "      <td>1970-01-01 00:00:00.000000001</td>\n",
              "    </tr>\n",
              "    <tr>\n",
              "      <th>2</th>\n",
              "      <td>3</td>\n",
              "      <td>3</td>\n",
              "      <td>c</td>\n",
              "      <td>c</td>\n",
              "      <td>False</td>\n",
              "      <td>False</td>\n",
              "      <td>3.0</td>\n",
              "      <td>1970-01-01 00:00:00.000000003</td>\n",
              "    </tr>\n",
              "  </tbody>\n",
              "</table>\n",
              "</div>"
            ],
            "text/plain": [
              "   c_int64  c_Int64 c_str c_cat  c_boolean  c_bool  c_float  \\\n",
              "0        1        1     a     a       True    True      1.0   \n",
              "2        3        3     c     c      False   False      3.0   \n",
              "\n",
              "                   c_datetime64  \n",
              "0 1970-01-01 00:00:00.000000001  \n",
              "2 1970-01-01 00:00:00.000000003  "
            ]
          },
          "execution_count": 101,
          "metadata": {},
          "output_type": "execute_result"
        }
      ],
      "source": [
        "df.dropna() #elimina filas que tienen nulos"
      ]
    },
    {
      "cell_type": "code",
      "execution_count": null,
      "metadata": {
        "id": "vpuiPL8U49sB",
        "outputId": "8975865d-e0d7-4b36-8327-96f282972a9f"
      },
      "outputs": [
        {
          "data": {
            "text/html": [
              "<div>\n",
              "<style scoped>\n",
              "    .dataframe tbody tr th:only-of-type {\n",
              "        vertical-align: middle;\n",
              "    }\n",
              "\n",
              "    .dataframe tbody tr th {\n",
              "        vertical-align: top;\n",
              "    }\n",
              "\n",
              "    .dataframe thead th {\n",
              "        text-align: right;\n",
              "    }\n",
              "</style>\n",
              "<table border=\"1\" class=\"dataframe\">\n",
              "  <thead>\n",
              "    <tr style=\"text-align: right;\">\n",
              "      <th></th>\n",
              "      <th>c_int64</th>\n",
              "      <th>c_bool</th>\n",
              "    </tr>\n",
              "  </thead>\n",
              "  <tbody>\n",
              "    <tr>\n",
              "      <th>0</th>\n",
              "      <td>1</td>\n",
              "      <td>True</td>\n",
              "    </tr>\n",
              "    <tr>\n",
              "      <th>1</th>\n",
              "      <td>2</td>\n",
              "      <td>False</td>\n",
              "    </tr>\n",
              "    <tr>\n",
              "      <th>2</th>\n",
              "      <td>3</td>\n",
              "      <td>False</td>\n",
              "    </tr>\n",
              "    <tr>\n",
              "      <th>3</th>\n",
              "      <td>4</td>\n",
              "      <td>True</td>\n",
              "    </tr>\n",
              "  </tbody>\n",
              "</table>\n",
              "</div>"
            ],
            "text/plain": [
              "   c_int64  c_bool\n",
              "0        1    True\n",
              "1        2   False\n",
              "2        3   False\n",
              "3        4    True"
            ]
          },
          "execution_count": 102,
          "metadata": {},
          "output_type": "execute_result"
        }
      ],
      "source": [
        "df.dropna(axis=1) # para eliminar columnas"
      ]
    },
    {
      "cell_type": "markdown",
      "metadata": {
        "id": "-kCIkqDX49sZ"
      },
      "source": [
        "En el caso del `.dropna()` podemos tener más control eliminando una fila o columan cuando tiene todos los elementos nulos o controlando cuantos elementos no nulos deben tener las filas/columnas que no se borran."
      ]
    },
    {
      "cell_type": "code",
      "execution_count": null,
      "metadata": {
        "id": "wS2sy0iX49sa",
        "outputId": "f942ba08-2d3f-4447-afae-7f4cfaa3db2b"
      },
      "outputs": [
        {
          "data": {
            "text/html": [
              "<div>\n",
              "<style scoped>\n",
              "    .dataframe tbody tr th:only-of-type {\n",
              "        vertical-align: middle;\n",
              "    }\n",
              "\n",
              "    .dataframe tbody tr th {\n",
              "        vertical-align: top;\n",
              "    }\n",
              "\n",
              "    .dataframe thead th {\n",
              "        text-align: right;\n",
              "    }\n",
              "</style>\n",
              "<table border=\"1\" class=\"dataframe\">\n",
              "  <thead>\n",
              "    <tr style=\"text-align: right;\">\n",
              "      <th></th>\n",
              "      <th>a</th>\n",
              "      <th>b</th>\n",
              "      <th>c</th>\n",
              "      <th>d</th>\n",
              "    </tr>\n",
              "  </thead>\n",
              "  <tbody>\n",
              "    <tr>\n",
              "      <th>0</th>\n",
              "      <td>NaN</td>\n",
              "      <td>NaN</td>\n",
              "      <td>6.0</td>\n",
              "      <td>3.0</td>\n",
              "    </tr>\n",
              "    <tr>\n",
              "      <th>1</th>\n",
              "      <td>NaN</td>\n",
              "      <td>NaN</td>\n",
              "      <td>NaN</td>\n",
              "      <td>NaN</td>\n",
              "    </tr>\n",
              "    <tr>\n",
              "      <th>2</th>\n",
              "      <td>NaN</td>\n",
              "      <td>8.0</td>\n",
              "      <td>7.0</td>\n",
              "      <td>9.0</td>\n",
              "    </tr>\n",
              "    <tr>\n",
              "      <th>3</th>\n",
              "      <td>10.0</td>\n",
              "      <td>1.0</td>\n",
              "      <td>9.0</td>\n",
              "      <td>4.0</td>\n",
              "    </tr>\n",
              "    <tr>\n",
              "      <th>4</th>\n",
              "      <td>7.0</td>\n",
              "      <td>7.0</td>\n",
              "      <td>5.0</td>\n",
              "      <td>4.0</td>\n",
              "    </tr>\n",
              "  </tbody>\n",
              "</table>\n",
              "</div>"
            ],
            "text/plain": [
              "      a    b    c    d\n",
              "0   NaN  NaN  6.0  3.0\n",
              "1   NaN  NaN  NaN  NaN\n",
              "2   NaN  8.0  7.0  9.0\n",
              "3  10.0  1.0  9.0  4.0\n",
              "4   7.0  7.0  5.0  4.0"
            ]
          },
          "execution_count": 103,
          "metadata": {},
          "output_type": "execute_result"
        }
      ],
      "source": [
        "A = pd.DataFrame(np.random.randint(1,11,(5,4)),columns=list('abcd'))\n",
        "A.iloc[0,:2]=np.nan\n",
        "A.iloc[1,:]=np.nan\n",
        "A.iloc[2,0]=np.nan\n",
        "A"
      ]
    },
    {
      "cell_type": "markdown",
      "metadata": {
        "id": "hmTNONEl49sb"
      },
      "source": [
        "Para eliminar una fila cuando todos los elementos son nulos"
      ]
    },
    {
      "cell_type": "code",
      "execution_count": null,
      "metadata": {
        "id": "dXPjRJ1C49sc",
        "outputId": "8cba402e-f1fb-4498-fd8d-ed858e91a6c0"
      },
      "outputs": [
        {
          "data": {
            "text/html": [
              "<div>\n",
              "<style scoped>\n",
              "    .dataframe tbody tr th:only-of-type {\n",
              "        vertical-align: middle;\n",
              "    }\n",
              "\n",
              "    .dataframe tbody tr th {\n",
              "        vertical-align: top;\n",
              "    }\n",
              "\n",
              "    .dataframe thead th {\n",
              "        text-align: right;\n",
              "    }\n",
              "</style>\n",
              "<table border=\"1\" class=\"dataframe\">\n",
              "  <thead>\n",
              "    <tr style=\"text-align: right;\">\n",
              "      <th></th>\n",
              "      <th>a</th>\n",
              "      <th>b</th>\n",
              "      <th>c</th>\n",
              "      <th>d</th>\n",
              "    </tr>\n",
              "  </thead>\n",
              "  <tbody>\n",
              "    <tr>\n",
              "      <th>0</th>\n",
              "      <td>NaN</td>\n",
              "      <td>NaN</td>\n",
              "      <td>6.0</td>\n",
              "      <td>3.0</td>\n",
              "    </tr>\n",
              "    <tr>\n",
              "      <th>2</th>\n",
              "      <td>NaN</td>\n",
              "      <td>8.0</td>\n",
              "      <td>7.0</td>\n",
              "      <td>9.0</td>\n",
              "    </tr>\n",
              "    <tr>\n",
              "      <th>3</th>\n",
              "      <td>10.0</td>\n",
              "      <td>1.0</td>\n",
              "      <td>9.0</td>\n",
              "      <td>4.0</td>\n",
              "    </tr>\n",
              "    <tr>\n",
              "      <th>4</th>\n",
              "      <td>7.0</td>\n",
              "      <td>7.0</td>\n",
              "      <td>5.0</td>\n",
              "      <td>4.0</td>\n",
              "    </tr>\n",
              "  </tbody>\n",
              "</table>\n",
              "</div>"
            ],
            "text/plain": [
              "      a    b    c    d\n",
              "0   NaN  NaN  6.0  3.0\n",
              "2   NaN  8.0  7.0  9.0\n",
              "3  10.0  1.0  9.0  4.0\n",
              "4   7.0  7.0  5.0  4.0"
            ]
          },
          "execution_count": 104,
          "metadata": {},
          "output_type": "execute_result"
        }
      ],
      "source": [
        "A.dropna(axis='index',how=\"all\") #igual que axis=0"
      ]
    },
    {
      "cell_type": "code",
      "execution_count": null,
      "metadata": {
        "id": "DBJd-Nk349sd",
        "outputId": "66a2b85a-1110-433b-9872-96bc495631d8"
      },
      "outputs": [
        {
          "data": {
            "text/html": [
              "<div>\n",
              "<style scoped>\n",
              "    .dataframe tbody tr th:only-of-type {\n",
              "        vertical-align: middle;\n",
              "    }\n",
              "\n",
              "    .dataframe tbody tr th {\n",
              "        vertical-align: top;\n",
              "    }\n",
              "\n",
              "    .dataframe thead th {\n",
              "        text-align: right;\n",
              "    }\n",
              "</style>\n",
              "<table border=\"1\" class=\"dataframe\">\n",
              "  <thead>\n",
              "    <tr style=\"text-align: right;\">\n",
              "      <th></th>\n",
              "      <th>b</th>\n",
              "      <th>c</th>\n",
              "      <th>d</th>\n",
              "    </tr>\n",
              "  </thead>\n",
              "  <tbody>\n",
              "    <tr>\n",
              "      <th>0</th>\n",
              "      <td>NaN</td>\n",
              "      <td>6.0</td>\n",
              "      <td>3.0</td>\n",
              "    </tr>\n",
              "    <tr>\n",
              "      <th>1</th>\n",
              "      <td>NaN</td>\n",
              "      <td>NaN</td>\n",
              "      <td>NaN</td>\n",
              "    </tr>\n",
              "    <tr>\n",
              "      <th>2</th>\n",
              "      <td>8.0</td>\n",
              "      <td>7.0</td>\n",
              "      <td>9.0</td>\n",
              "    </tr>\n",
              "    <tr>\n",
              "      <th>3</th>\n",
              "      <td>1.0</td>\n",
              "      <td>9.0</td>\n",
              "      <td>4.0</td>\n",
              "    </tr>\n",
              "    <tr>\n",
              "      <th>4</th>\n",
              "      <td>7.0</td>\n",
              "      <td>5.0</td>\n",
              "      <td>4.0</td>\n",
              "    </tr>\n",
              "  </tbody>\n",
              "</table>\n",
              "</div>"
            ],
            "text/plain": [
              "     b    c    d\n",
              "0  NaN  6.0  3.0\n",
              "1  NaN  NaN  NaN\n",
              "2  8.0  7.0  9.0\n",
              "3  1.0  9.0  4.0\n",
              "4  7.0  5.0  4.0"
            ]
          },
          "execution_count": 105,
          "metadata": {},
          "output_type": "execute_result"
        }
      ],
      "source": [
        "A.dropna(axis=1, thresh=3) #Al menos 3 elementos no NaN"
      ]
    },
    {
      "cell_type": "markdown",
      "metadata": {
        "id": "8yHwNI_w49se"
      },
      "source": [
        "Tambien podemos sustituir el valor nulo por otro valor, en este caso se pueden elegir tres opciones:  \n",
        "* Por un valor fijo, pero todas las columnas deben tener tipos compatibles con el valor\n",
        "* Por el valor no nulo previo que encuentre\n",
        "* Por el valor siguiente no nulo que encuentre\n",
        "\n",
        "Toda la fila 1 contiene nulos, en el primer caso se reemplazan por 99, en el segundo se reemplazan solo para la columna 2 y 3, que son los que tienen valores previos, y en el tercer caso se reemplazan para todas las columnas con los valores posteriores."
      ]
    },
    {
      "cell_type": "code",
      "execution_count": null,
      "metadata": {
        "id": "kwhDoZcj49sf",
        "outputId": "9cf71419-1f8f-45f1-e124-9fb2a357d1af"
      },
      "outputs": [
        {
          "data": {
            "text/html": [
              "<div>\n",
              "<style scoped>\n",
              "    .dataframe tbody tr th:only-of-type {\n",
              "        vertical-align: middle;\n",
              "    }\n",
              "\n",
              "    .dataframe tbody tr th {\n",
              "        vertical-align: top;\n",
              "    }\n",
              "\n",
              "    .dataframe thead th {\n",
              "        text-align: right;\n",
              "    }\n",
              "</style>\n",
              "<table border=\"1\" class=\"dataframe\">\n",
              "  <thead>\n",
              "    <tr style=\"text-align: right;\">\n",
              "      <th></th>\n",
              "      <th>a</th>\n",
              "      <th>b</th>\n",
              "      <th>c</th>\n",
              "      <th>d</th>\n",
              "    </tr>\n",
              "  </thead>\n",
              "  <tbody>\n",
              "    <tr>\n",
              "      <th>0</th>\n",
              "      <td>99.0</td>\n",
              "      <td>99.0</td>\n",
              "      <td>6.0</td>\n",
              "      <td>3.0</td>\n",
              "    </tr>\n",
              "    <tr>\n",
              "      <th>1</th>\n",
              "      <td>99.0</td>\n",
              "      <td>99.0</td>\n",
              "      <td>99.0</td>\n",
              "      <td>99.0</td>\n",
              "    </tr>\n",
              "    <tr>\n",
              "      <th>2</th>\n",
              "      <td>99.0</td>\n",
              "      <td>8.0</td>\n",
              "      <td>7.0</td>\n",
              "      <td>9.0</td>\n",
              "    </tr>\n",
              "    <tr>\n",
              "      <th>3</th>\n",
              "      <td>10.0</td>\n",
              "      <td>1.0</td>\n",
              "      <td>9.0</td>\n",
              "      <td>4.0</td>\n",
              "    </tr>\n",
              "    <tr>\n",
              "      <th>4</th>\n",
              "      <td>7.0</td>\n",
              "      <td>7.0</td>\n",
              "      <td>5.0</td>\n",
              "      <td>4.0</td>\n",
              "    </tr>\n",
              "  </tbody>\n",
              "</table>\n",
              "</div>"
            ],
            "text/plain": [
              "      a     b     c     d\n",
              "0  99.0  99.0   6.0   3.0\n",
              "1  99.0  99.0  99.0  99.0\n",
              "2  99.0   8.0   7.0   9.0\n",
              "3  10.0   1.0   9.0   4.0\n",
              "4   7.0   7.0   5.0   4.0"
            ]
          },
          "execution_count": 106,
          "metadata": {},
          "output_type": "execute_result"
        }
      ],
      "source": [
        "A.fillna(99)"
      ]
    },
    {
      "cell_type": "code",
      "execution_count": null,
      "metadata": {
        "id": "1LslqN2049sf",
        "outputId": "59d78d95-9695-46a6-b257-bca1dd18be74"
      },
      "outputs": [
        {
          "data": {
            "text/html": [
              "<div>\n",
              "<style scoped>\n",
              "    .dataframe tbody tr th:only-of-type {\n",
              "        vertical-align: middle;\n",
              "    }\n",
              "\n",
              "    .dataframe tbody tr th {\n",
              "        vertical-align: top;\n",
              "    }\n",
              "\n",
              "    .dataframe thead th {\n",
              "        text-align: right;\n",
              "    }\n",
              "</style>\n",
              "<table border=\"1\" class=\"dataframe\">\n",
              "  <thead>\n",
              "    <tr style=\"text-align: right;\">\n",
              "      <th></th>\n",
              "      <th>a</th>\n",
              "      <th>b</th>\n",
              "      <th>c</th>\n",
              "      <th>d</th>\n",
              "    </tr>\n",
              "  </thead>\n",
              "  <tbody>\n",
              "    <tr>\n",
              "      <th>0</th>\n",
              "      <td>NaN</td>\n",
              "      <td>NaN</td>\n",
              "      <td>6.0</td>\n",
              "      <td>3.0</td>\n",
              "    </tr>\n",
              "    <tr>\n",
              "      <th>1</th>\n",
              "      <td>NaN</td>\n",
              "      <td>NaN</td>\n",
              "      <td>6.0</td>\n",
              "      <td>3.0</td>\n",
              "    </tr>\n",
              "    <tr>\n",
              "      <th>2</th>\n",
              "      <td>NaN</td>\n",
              "      <td>8.0</td>\n",
              "      <td>7.0</td>\n",
              "      <td>9.0</td>\n",
              "    </tr>\n",
              "    <tr>\n",
              "      <th>3</th>\n",
              "      <td>10.0</td>\n",
              "      <td>1.0</td>\n",
              "      <td>9.0</td>\n",
              "      <td>4.0</td>\n",
              "    </tr>\n",
              "    <tr>\n",
              "      <th>4</th>\n",
              "      <td>7.0</td>\n",
              "      <td>7.0</td>\n",
              "      <td>5.0</td>\n",
              "      <td>4.0</td>\n",
              "    </tr>\n",
              "  </tbody>\n",
              "</table>\n",
              "</div>"
            ],
            "text/plain": [
              "      a    b    c    d\n",
              "0   NaN  NaN  6.0  3.0\n",
              "1   NaN  NaN  6.0  3.0\n",
              "2   NaN  8.0  7.0  9.0\n",
              "3  10.0  1.0  9.0  4.0\n",
              "4   7.0  7.0  5.0  4.0"
            ]
          },
          "execution_count": 107,
          "metadata": {},
          "output_type": "execute_result"
        }
      ],
      "source": [
        "A.fillna(method='ffill')"
      ]
    },
    {
      "cell_type": "code",
      "execution_count": null,
      "metadata": {
        "id": "GEOqwVTT49sg",
        "outputId": "9bd1cccc-c974-495b-ffcb-d9975700fefc"
      },
      "outputs": [
        {
          "data": {
            "text/html": [
              "<div>\n",
              "<style scoped>\n",
              "    .dataframe tbody tr th:only-of-type {\n",
              "        vertical-align: middle;\n",
              "    }\n",
              "\n",
              "    .dataframe tbody tr th {\n",
              "        vertical-align: top;\n",
              "    }\n",
              "\n",
              "    .dataframe thead th {\n",
              "        text-align: right;\n",
              "    }\n",
              "</style>\n",
              "<table border=\"1\" class=\"dataframe\">\n",
              "  <thead>\n",
              "    <tr style=\"text-align: right;\">\n",
              "      <th></th>\n",
              "      <th>a</th>\n",
              "      <th>b</th>\n",
              "      <th>c</th>\n",
              "      <th>d</th>\n",
              "    </tr>\n",
              "  </thead>\n",
              "  <tbody>\n",
              "    <tr>\n",
              "      <th>0</th>\n",
              "      <td>10.0</td>\n",
              "      <td>8.0</td>\n",
              "      <td>6.0</td>\n",
              "      <td>3.0</td>\n",
              "    </tr>\n",
              "    <tr>\n",
              "      <th>1</th>\n",
              "      <td>10.0</td>\n",
              "      <td>8.0</td>\n",
              "      <td>7.0</td>\n",
              "      <td>9.0</td>\n",
              "    </tr>\n",
              "    <tr>\n",
              "      <th>2</th>\n",
              "      <td>10.0</td>\n",
              "      <td>8.0</td>\n",
              "      <td>7.0</td>\n",
              "      <td>9.0</td>\n",
              "    </tr>\n",
              "    <tr>\n",
              "      <th>3</th>\n",
              "      <td>10.0</td>\n",
              "      <td>1.0</td>\n",
              "      <td>9.0</td>\n",
              "      <td>4.0</td>\n",
              "    </tr>\n",
              "    <tr>\n",
              "      <th>4</th>\n",
              "      <td>7.0</td>\n",
              "      <td>7.0</td>\n",
              "      <td>5.0</td>\n",
              "      <td>4.0</td>\n",
              "    </tr>\n",
              "  </tbody>\n",
              "</table>\n",
              "</div>"
            ],
            "text/plain": [
              "      a    b    c    d\n",
              "0  10.0  8.0  6.0  3.0\n",
              "1  10.0  8.0  7.0  9.0\n",
              "2  10.0  8.0  7.0  9.0\n",
              "3  10.0  1.0  9.0  4.0\n",
              "4   7.0  7.0  5.0  4.0"
            ]
          },
          "execution_count": 108,
          "metadata": {},
          "output_type": "execute_result"
        }
      ],
      "source": [
        "A.fillna(method='bfill')"
      ]
    },
    {
      "cell_type": "markdown",
      "metadata": {
        "id": "eWNeznWi49sh"
      },
      "source": [
        "## ¿Cuántos nulos hay en el DataFrame?"
      ]
    },
    {
      "cell_type": "markdown",
      "metadata": {
        "id": "KpZqJoFT49sh"
      },
      "source": [
        "Esta función presenta información sobre los nulos que hay en un dataset por columnas.  \n",
        "> La ejecución de la siguiente celda genera un error controlado, ya que dentro de la función se comprueba que no se aplique a DataFrames de más de 10 elementos en una de sus dimensiones"
      ]
    },
    {
      "cell_type": "code",
      "execution_count": null,
      "metadata": {
        "id": "aeddUd_H49si",
        "outputId": "7387101a-350e-4426-c6ad-7b79ebc672bf"
      },
      "outputs": [
        {
          "name": "stdout",
          "output_type": "stream",
          "text": [
            "Error:  El tamaño del DataFrame (5, 11) es muy grande. Longitud máxima en cualquier dimensión 10\n"
          ]
        }
      ],
      "source": [
        "# Se podría utilizar ValueError como excepción\n",
        "# Se prefiere definir excepción propia y así\n",
        "# se tiene un ejemplo de como hacerlo\n",
        "class ShapeError (Exception):\n",
        "    pass\n",
        "\n",
        "def informacion_nulos(df, axis=1):\n",
        "    if (max(df.shape)>10):\n",
        "        raise ShapeError(f'El tamaño del DataFrame {df.shape} es muy grande. Longitud máxima en cualquier dimensión 10')\n",
        "    if axis==0:\n",
        "        df = df.T\n",
        "    nulos = pd.DataFrame ({'datos': list(df.T.values),\n",
        "                           'cant':df.isnull().sum(),\n",
        "                           'alguno':df.isnull().any(),\n",
        "                           'todos':df.isnull().all(),\n",
        "                          })\n",
        "    return nulos\n",
        "\n",
        "#Para prueba de DataFrame grandes\n",
        "try:\n",
        "    informacion_nulos(pd.DataFrame(np.ones((5,11))))\n",
        "except ShapeError as e:\n",
        "    print (\"Error: \",e)"
      ]
    },
    {
      "cell_type": "code",
      "execution_count": null,
      "metadata": {
        "id": "8R0WIIKd49sk",
        "outputId": "2c8b4b93-f745-4f7a-8cc2-921ef671ec63"
      },
      "outputs": [
        {
          "data": {
            "text/html": [
              "<div>\n",
              "<style scoped>\n",
              "    .dataframe tbody tr th:only-of-type {\n",
              "        vertical-align: middle;\n",
              "    }\n",
              "\n",
              "    .dataframe tbody tr th {\n",
              "        vertical-align: top;\n",
              "    }\n",
              "\n",
              "    .dataframe thead th {\n",
              "        text-align: right;\n",
              "    }\n",
              "</style>\n",
              "<table border=\"1\" class=\"dataframe\">\n",
              "  <thead>\n",
              "    <tr style=\"text-align: right;\">\n",
              "      <th></th>\n",
              "      <th>datos</th>\n",
              "      <th>cant</th>\n",
              "      <th>alguno</th>\n",
              "      <th>todos</th>\n",
              "    </tr>\n",
              "  </thead>\n",
              "  <tbody>\n",
              "    <tr>\n",
              "      <th>a</th>\n",
              "      <td>[nan, nan, nan, 10.0, 7.0]</td>\n",
              "      <td>3</td>\n",
              "      <td>True</td>\n",
              "      <td>False</td>\n",
              "    </tr>\n",
              "    <tr>\n",
              "      <th>b</th>\n",
              "      <td>[nan, nan, 8.0, 1.0, 7.0]</td>\n",
              "      <td>2</td>\n",
              "      <td>True</td>\n",
              "      <td>False</td>\n",
              "    </tr>\n",
              "    <tr>\n",
              "      <th>c</th>\n",
              "      <td>[6.0, nan, 7.0, 9.0, 5.0]</td>\n",
              "      <td>1</td>\n",
              "      <td>True</td>\n",
              "      <td>False</td>\n",
              "    </tr>\n",
              "    <tr>\n",
              "      <th>d</th>\n",
              "      <td>[3.0, nan, 9.0, 4.0, 4.0]</td>\n",
              "      <td>1</td>\n",
              "      <td>True</td>\n",
              "      <td>False</td>\n",
              "    </tr>\n",
              "  </tbody>\n",
              "</table>\n",
              "</div>"
            ],
            "text/plain": [
              "                        datos  cant  alguno  todos\n",
              "a  [nan, nan, nan, 10.0, 7.0]     3    True  False\n",
              "b   [nan, nan, 8.0, 1.0, 7.0]     2    True  False\n",
              "c   [6.0, nan, 7.0, 9.0, 5.0]     1    True  False\n",
              "d   [3.0, nan, 9.0, 4.0, 4.0]     1    True  False"
            ]
          },
          "execution_count": 110,
          "metadata": {},
          "output_type": "execute_result"
        }
      ],
      "source": [
        "informacion_nulos(A)   #por columnas"
      ]
    },
    {
      "cell_type": "code",
      "execution_count": null,
      "metadata": {
        "id": "CwBCB83q49sl",
        "outputId": "9032e8a9-7c00-46dd-c653-092dd9590a9b"
      },
      "outputs": [
        {
          "data": {
            "text/html": [
              "<div>\n",
              "<style scoped>\n",
              "    .dataframe tbody tr th:only-of-type {\n",
              "        vertical-align: middle;\n",
              "    }\n",
              "\n",
              "    .dataframe tbody tr th {\n",
              "        vertical-align: top;\n",
              "    }\n",
              "\n",
              "    .dataframe thead th {\n",
              "        text-align: right;\n",
              "    }\n",
              "</style>\n",
              "<table border=\"1\" class=\"dataframe\">\n",
              "  <thead>\n",
              "    <tr style=\"text-align: right;\">\n",
              "      <th></th>\n",
              "      <th>datos</th>\n",
              "      <th>cant</th>\n",
              "      <th>alguno</th>\n",
              "      <th>todos</th>\n",
              "    </tr>\n",
              "  </thead>\n",
              "  <tbody>\n",
              "    <tr>\n",
              "      <th>0</th>\n",
              "      <td>[nan, nan, 6.0, 3.0]</td>\n",
              "      <td>2</td>\n",
              "      <td>True</td>\n",
              "      <td>False</td>\n",
              "    </tr>\n",
              "    <tr>\n",
              "      <th>1</th>\n",
              "      <td>[nan, nan, nan, nan]</td>\n",
              "      <td>4</td>\n",
              "      <td>True</td>\n",
              "      <td>True</td>\n",
              "    </tr>\n",
              "    <tr>\n",
              "      <th>2</th>\n",
              "      <td>[nan, 8.0, 7.0, 9.0]</td>\n",
              "      <td>1</td>\n",
              "      <td>True</td>\n",
              "      <td>False</td>\n",
              "    </tr>\n",
              "    <tr>\n",
              "      <th>3</th>\n",
              "      <td>[10.0, 1.0, 9.0, 4.0]</td>\n",
              "      <td>0</td>\n",
              "      <td>False</td>\n",
              "      <td>False</td>\n",
              "    </tr>\n",
              "    <tr>\n",
              "      <th>4</th>\n",
              "      <td>[7.0, 7.0, 5.0, 4.0]</td>\n",
              "      <td>0</td>\n",
              "      <td>False</td>\n",
              "      <td>False</td>\n",
              "    </tr>\n",
              "  </tbody>\n",
              "</table>\n",
              "</div>"
            ],
            "text/plain": [
              "                   datos  cant  alguno  todos\n",
              "0   [nan, nan, 6.0, 3.0]     2    True  False\n",
              "1   [nan, nan, nan, nan]     4    True   True\n",
              "2   [nan, 8.0, 7.0, 9.0]     1    True  False\n",
              "3  [10.0, 1.0, 9.0, 4.0]     0   False  False\n",
              "4   [7.0, 7.0, 5.0, 4.0]     0   False  False"
            ]
          },
          "execution_count": 111,
          "metadata": {},
          "output_type": "execute_result"
        }
      ],
      "source": [
        "informacion_nulos(A.T) #por filas"
      ]
    },
    {
      "cell_type": "code",
      "execution_count": null,
      "metadata": {
        "id": "lBC6JhNi49sm",
        "outputId": "420b3e50-7266-4b79-a11d-de7ef472d1e0"
      },
      "outputs": [
        {
          "name": "stdout",
          "output_type": "stream",
          "text": [
            "Cantidad nulos en el DataFrame:  7\n",
            "Algún nulo en el DataFrame:  True\n"
          ]
        }
      ],
      "source": [
        "print (\"Cantidad nulos en el DataFrame: \", A.isnull().sum().sum())\n",
        "print (\"Algún nulo en el DataFrame: \", A.isnull().any().any())"
      ]
    }
  ],
  "metadata": {
    "kernelspec": {
      "display_name": "Python 3",
      "language": "python",
      "name": "python3"
    },
    "language_info": {
      "codemirror_mode": {
        "name": "ipython",
        "version": 3
      },
      "file_extension": ".py",
      "mimetype": "text/x-python",
      "name": "python",
      "nbconvert_exporter": "python",
      "pygments_lexer": "ipython3",
      "version": "3.8.8"
    },
    "colab": {
      "provenance": [],
      "include_colab_link": true
    }
  },
  "nbformat": 4,
  "nbformat_minor": 0
}